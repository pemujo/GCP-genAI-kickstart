{
  "cells": [
    {
      "cell_type": "code",
      "execution_count": null,
      "metadata": {
        "id": "iyi0u1inBcr1"
      },
      "outputs": [],
      "source": [
        "# Copyright 2024 Google LLC\n",
        "#\n",
        "# Licensed under the Apache License, Version 2.0 (the \"License\");\n",
        "# you may not use this file except in compliance with the License.\n",
        "# You may obtain a copy of the License at\n",
        "#\n",
        "#     https://www.apache.org/licenses/LICENSE-2.0\n",
        "#\n",
        "# Unless required by applicable law or agreed to in writing, software\n",
        "# distributed under the License is distributed on an \"AS IS\" BASIS,\n",
        "# WITHOUT WARRANTIES OR CONDITIONS OF ANY KIND, either express or implied.\n",
        "# See the License for the specific language governing permissions and\n",
        "# limitations under the License."
      ]
    },
    {
      "cell_type": "markdown",
      "metadata": {
        "id": "BLIlkXRfCNyQ"
      },
      "source": [
        "# Retrieval Augmented Generation(RAG) with AlloyDB\n"
      ]
    },
    {
      "cell_type": "markdown",
      "metadata": {
        "id": "WZPabwVQCh1y"
      },
      "source": [
        "## Overview\n",
        "\n",
        "- **PostgreSQL:** [PostgreSQL](https://www.postgresql.org/docs/current/) is an open-source, highly-extensible object-relational database management system known for its reliability and feature richness.\n",
        "\n",
        "- **AlloyDB:** [AlloyDB](https://cloud.google.com/alloydb/docs/overview) is Google Cloud's fully-managed, PostgreSQL-compatible database service optimized for demanding enterprise workloads and transactional/analytical hybrid processing.\n",
        "\n",
        "- **Gemini:** [Gemini](https://ai.google.dev/models/gemini) is a family of generative AI models that lets developers generate content and solve problems. These models are designed and trained to handle both text and images as input.\n",
        "  - **Gemini 1.0 Pro model (`gemini-1.0-pro`):** Designed to handle natural language tasks, multi-turn text and code chat, and code generation.\n",
        "\n",
        "- **Vertex AI Embeddings for Text:** With [textembedding-gecko](https://cloud.google.com/vertex-ai/generative-ai/docs/model-reference/text-embeddings) models we can easily create a text embedding with LLM. `textembedding-gecko@003` is the newest stable embedding model.\n",
        "\n",
        "This notebook demonstrates Retrieval Augmented Generation (RAG) with AlloyDB backend. After installing the pre-requisites, we create an AlloyDB instance and use it to store embeddings. Finally we demonstrate how to fetch similar documents from AlloyDB and answer questions based on the documents fetched using `gemini-1.0-pro`.\n",
        "  \n",
        "Text embeddings are created for publicly available abstracts from patents data and use them in our LLM search. Google Patents Research Data contains the output of much of the data analysis work used in Google Patents (patents.google.com).\n",
        "  \n",
        "**Dataset**: `patents-public-data.google_patents_research.publications`\n"
      ]
    },
    {
      "cell_type": "markdown",
      "source": [
        "# Settings required outside this notebook\n"
      ],
      "metadata": {
        "id": "n6xEVT7-o2Yg"
      }
    },
    {
      "cell_type": "markdown",
      "source": [
        "1. Enable APIs\n",
        "  - 1.1 Vertex AI API\n",
        "  - AlloyDB API\n",
        "2. Enable Private Service Access (PSA) in the project\n",
        "3. Provision the required IAM permissions\n",
        "- Grant role aiplatform.user to the AlloyDB service agent account format: service-{PROJECT_NUM}@gcp-sa-alloydb.iam.gserviceaccount.com\n",
        "- Make sure your own user account has aiplatform.user role"
      ],
      "metadata": {
        "id": "hKQFohw2pA9r"
      }
    },
    {
      "cell_type": "markdown",
      "metadata": {
        "id": "fdU7KNcCCkOA"
      },
      "source": [
        "## Getting Started"
      ]
    },
    {
      "cell_type": "markdown",
      "metadata": {
        "id": "6XczCHZYCmi1"
      },
      "source": [
        "### Install required packages\n"
      ]
    },
    {
      "cell_type": "code",
      "execution_count": null,
      "metadata": {
        "id": "4yzI1lAq9lPf",
        "colab": {
          "base_uri": "https://localhost:8080/"
        },
        "executionInfo": {
          "status": "ok",
          "timestamp": 1717454381030,
          "user_tz": 420,
          "elapsed": 18220,
          "user": {
            "displayName": "",
            "userId": ""
          }
        },
        "outputId": "79980980-dc10-4a2a-d7aa-696d077acdf8"
      },
      "outputs": [
        {
          "output_type": "stream",
          "name": "stdout",
          "text": [
            "\u001b[2K     \u001b[90m━━━━━━━━━━━━━━━━━━━━━━━━━━━━━━━━━━━━━━━━\u001b[0m \u001b[32m54.5/54.5 kB\u001b[0m \u001b[31m909.2 kB/s\u001b[0m eta \u001b[36m0:00:00\u001b[0m\n",
            "\u001b[2K     \u001b[90m━━━━━━━━━━━━━━━━━━━━━━━━━━━━━━━━━━━━━━━━\u001b[0m \u001b[32m105.0/105.0 kB\u001b[0m \u001b[31m2.4 MB/s\u001b[0m eta \u001b[36m0:00:00\u001b[0m\n",
            "\u001b[?25h"
          ]
        }
      ],
      "source": [
        "!pip install pg8000 \\\n",
        "SQLAlchemy \\\n",
        "google-cloud-aiplatform \\\n",
        "google-cloud-alloydb-connector --upgrade --quiet"
      ]
    },
    {
      "cell_type": "markdown",
      "metadata": {
        "id": "ooauhzOWPvC1"
      },
      "source": [
        "### Import Libraries\n",
        "\n",
        "Imports and prepares libraries for interacting with AlloyDB, Vertex AI resources for models, and data manipulation.\n",
        "\n",
        "* `pg8000:` PostgreSQL database driver.\n",
        "* `vertexai:` Google Cloud Vertex AI for managing generative models.\n",
        "* `sqlalchemy:`  ORM for interfacing with databases in Python.\n",
        "* `subprocess:`  Spawns external processes.\n",
        "* `pandas:`  Powerful library for data analysis and manipulation.\n",
        "* `google.cloud.alloydb.connector:`  Connector for Google Cloud AlloyDB (managed PostgreSQL)."
      ]
    },
    {
      "cell_type": "code",
      "execution_count": null,
      "metadata": {
        "id": "Hj6K6SFIEnRk"
      },
      "outputs": [],
      "source": [
        "import subprocess\n",
        "from typing import Tuple\n",
        "import google.auth\n",
        "import sys\n",
        "\n",
        "import pandas as pd\n",
        "import pg8000\n",
        "import sqlalchemy\n",
        "import vertexai\n",
        "from google.cloud.alloydb.connector import Connector\n",
        "from sqlalchemy.engine import Engine\n",
        "from sqlalchemy.exc import DatabaseError\n",
        "from vertexai.generative_models import GenerationConfig, GenerativeModel"
      ]
    },
    {
      "cell_type": "markdown",
      "metadata": {
        "id": "nPtpzZd7zU_e"
      },
      "source": [
        "### Set Google Cloud project information and initialize Vertex AI SDK\n",
        "\n",
        "- To get started using Vertex AI, you must have an existing Google Cloud project and [enable the Vertex AI API](https://console.cloud.google.com/flows/enableapi?apiid=aiplatform.googleapis.com).\n",
        "\n",
        "- Learn more about [setting up a project and a development environment](https://cloud.google.com/vertex-ai/docs/start/cloud-environment)."
      ]
    },
    {
      "cell_type": "code",
      "execution_count": null,
      "metadata": {
        "id": "5OwGCuGVvxFQ"
      },
      "outputs": [],
      "source": [
        "PROJECT_ID = \"project-id\"  # @param {type:\"string\"}\n",
        "LOCATION = \"us-central1\"  # @param {type:\"string\"}"
      ]
    },
    {
      "cell_type": "markdown",
      "metadata": {
        "id": "B-mPnZJdiwkg"
      },
      "source": [
        "### Authenticating your notebook environment\n",
        "If you are using Vertex AI Colab Enterprise, you do not require additional authentication.\n",
        "\n",
        "For more information, you can check out the setup instructions [here](https://github.com/GoogleCloudPlatform/generative-ai/tree/main/setup-env).\n",
        "\n",
        "To authenticate on Jupter lab running on local Mac run:\n",
        "```\n",
        "!gcloud auth application-default login\n",
        "```"
      ]
    },
    {
      "cell_type": "code",
      "source": [
        "# # Run this to authenticte from Mac\n",
        "# # Authenticate (This should trigger oAuth to authenticate with end user's credentials)\n",
        "# !gcloud auth application-default login"
      ],
      "metadata": {
        "id": "UJDmXhttquPL"
      },
      "execution_count": null,
      "outputs": []
    },
    {
      "cell_type": "markdown",
      "metadata": {
        "id": "0C2kQjTmzYL9"
      },
      "source": [
        "Configurations to create a new AlloyDB cluster and primary instance\n",
        "\n",
        "* To get started using AlloyDB, you must have an existing Google Cloud project and [enable the AlloyDB AI API](https://console.cloud.google.com/flows/enableapi?apiid=alloydb.googleapis.com).\n",
        "* To generate embeddings with AlloyDB, the cluster created must reside in the region `us-central1`.\n",
        "* Please follow the naming convention listed below for `CLUSTER` and `INSTANCE` name\n",
        "  - Must begin with a lowercase letter.\n",
        "  - Can optionally contain a combination of lowercase letters, numbers, and hyphens (up to 61 characters).\n",
        "  - Must end with a lowercase letter or digit."
      ]
    },
    {
      "cell_type": "code",
      "execution_count": null,
      "metadata": {
        "id": "mv3ho2AwDkID",
        "colab": {
          "base_uri": "https://localhost:8080/"
        },
        "executionInfo": {
          "status": "ok",
          "timestamp": 1717455783697,
          "user_tz": 420,
          "elapsed": 4678,
          "user": {
            "displayName": "",
            "userId": ""
          }
        },
        "outputId": "53e85c64-6740-4014-c0b2-1ccde0382758"
      },
      "outputs": [
        {
          "output_type": "stream",
          "name": "stdout",
          "text": [
            "Project Number: 1054251275628\n",
            "AlloyDB Service Agent: serviceAccount:service-1054251275628@gcp-sa-alloydb.iam.gserviceaccount.com\n"
          ]
        }
      ],
      "source": [
        "REGION = \"us-central1\"  # @param {type:\"string\"}\n",
        "CLUSTER = \"alloydb-rag-cluster\"  # @param {type:\"string\"}\n",
        "INSTANCE = \"primary-instance\"  # @param {type:\"string\"}\n",
        "CPU_COUNT = 2  # @param {type:\"integer\"}\n",
        "\n",
        "PROJECT_NUM = (\n",
        "    subprocess.check_output(\n",
        "        [\n",
        "            \"gcloud\",\n",
        "            \"projects\",\n",
        "            \"describe\",\n",
        "            PROJECT_ID,\n",
        "            \"--format\",\n",
        "            \"value(projectNumber)\",\n",
        "        ]\n",
        "    )\n",
        "    .decode(\"utf-8\")\n",
        "    .strip()\n",
        ")\n",
        "print(f\"Project Number: {PROJECT_NUM}\")\n",
        "\n",
        "SERVICE_ACCOUNT = (\n",
        "    f\"serviceAccount:service-{PROJECT_NUM}@gcp-sa-alloydb.iam.gserviceaccount.com\"\n",
        ")\n",
        "print(f\"AlloyDB Service Agent: {SERVICE_ACCOUNT}\")"
      ]
    },
    {
      "cell_type": "markdown",
      "metadata": {
        "id": "hV7-Maoczm9W"
      },
      "source": [
        "Configurations for embedding and generative model\n",
        "\n",
        "\n",
        "*   `textembedding-gecko` outputs 768-dimensional vector embeddings.\n"
      ]
    },
    {
      "cell_type": "code",
      "execution_count": null,
      "metadata": {
        "id": "nLjwxgWvxJ0q"
      },
      "outputs": [],
      "source": [
        "EMBEDDING_MODEL = \"textembedding-gecko@003\"  # @param {type:\"string\"}\n",
        "DIMENSIONS = 768  # @param {type:\"integer\"}\n",
        "GENERATIVE_MODEL = \"gemini-1.0-pro\"  # @param {type:\"string\"}"
      ]
    },
    {
      "cell_type": "markdown",
      "metadata": {
        "id": "8rxwu-TaSdmn"
      },
      "source": [
        "## Fetch Dataset from Bigquery\n",
        "\n",
        "- [Google Patents Research Data](https://console.cloud.google.com/marketplace/product/google_patents_public_datasets/google-patents-research-data) contains the output of much of the data analysis work used in [Google Patents](https://patents.google.com), including machine translations of titles and abstracts from Google Translate, embedding vectors, extracted top terms, similar documents, and forward references.\n",
        "- We will use the public dataset table `google_patents_research.publications` for this demo by selecting the text columns below:\n",
        "    - `publication_number:` Patent publication number (DOCDB compatible), eg: 'US-7650331-B1'.\n",
        "    - `title:` The English title.\n",
        "    - `abstract:` The English abstract.\n",
        "    - `url:` URL to the patents.google.com page for this patent.\n",
        "    - `country:` Country name.\n",
        "    - `publication_description:` Description of the publication type.\n",
        "- The text columns `title` and `abstract` will later be converted into text embeddings to perform similarity search. The other columns would be used as supplemental information to the user's question."
      ]
    },
    {
      "cell_type": "code",
      "execution_count": null,
      "metadata": {
        "id": "rhfMamgG6kZf",
        "colab": {
          "base_uri": "https://localhost:8080/",
          "height": 345
        },
        "executionInfo": {
          "status": "ok",
          "timestamp": 1717455818571,
          "user_tz": 420,
          "elapsed": 15389,
          "user": {
            "displayName": "",
            "userId": ""
          }
        },
        "outputId": "68e11fb8-d8be-4a7d-87e1-0a59bf1d69dd"
      },
      "outputs": [
        {
          "output_type": "execute_result",
          "data": {
            "text/plain": [
              "  publication_number                                              title  \\\n",
              "0      AP-0102072-A0  Process for the preparation of a non-crystalli...   \n",
              "1      AP-0102197-A0  Electrolytic apparatus, methods for purificati...   \n",
              "2      AP-0102255-A0  Aphron-containing aqueous well drilling and se...   \n",
              "3      AP-0102286-A0                              Compound and its use.   \n",
              "4      AP-0102296-A0                          Hygromycin A derivatives.   \n",
              "\n",
              "                                            abstract  \\\n",
              "0  Paroxetine hydrochloride propan-2-ol solvate i...   \n",
              "1  Electropurification of contaminated aqueous me...   \n",
              "2  The invention provides a method and fluid for ...   \n",
              "3  A method of testing the purity or stability to...   \n",
              "4  This invention relates to compounds of the for...   \n",
              "\n",
              "                                             url country  \\\n",
              "0  https://patents.google.com/patent/AP0102072A0   ARIPO   \n",
              "1  https://patents.google.com/patent/AP0102197A0   ARIPO   \n",
              "2  https://patents.google.com/patent/AP0102255A0   ARIPO   \n",
              "3  https://patents.google.com/patent/AP0102286A0   ARIPO   \n",
              "4  https://patents.google.com/patent/AP0102296A0   ARIPO   \n",
              "\n",
              "                             publication_description  \n",
              "0  Application filed, as announced in the Gazette...  \n",
              "1  Application filed, as announced in the Gazette...  \n",
              "2  Application filed, as announced in the Gazette...  \n",
              "3  Application filed, as announced in the Gazette...  \n",
              "4  Application filed, as announced in the Gazette...  "
            ],
            "text/html": [
              "\n",
              "  <div id=\"df-c536eede-3466-4b5c-a422-354b70b5f1d4\" class=\"colab-df-container\">\n",
              "    <div>\n",
              "<style scoped>\n",
              "    .dataframe tbody tr th:only-of-type {\n",
              "        vertical-align: middle;\n",
              "    }\n",
              "\n",
              "    .dataframe tbody tr th {\n",
              "        vertical-align: top;\n",
              "    }\n",
              "\n",
              "    .dataframe thead th {\n",
              "        text-align: right;\n",
              "    }\n",
              "</style>\n",
              "<table border=\"1\" class=\"dataframe\">\n",
              "  <thead>\n",
              "    <tr style=\"text-align: right;\">\n",
              "      <th></th>\n",
              "      <th>publication_number</th>\n",
              "      <th>title</th>\n",
              "      <th>abstract</th>\n",
              "      <th>url</th>\n",
              "      <th>country</th>\n",
              "      <th>publication_description</th>\n",
              "    </tr>\n",
              "  </thead>\n",
              "  <tbody>\n",
              "    <tr>\n",
              "      <th>0</th>\n",
              "      <td>AP-0102072-A0</td>\n",
              "      <td>Process for the preparation of a non-crystalli...</td>\n",
              "      <td>Paroxetine hydrochloride propan-2-ol solvate i...</td>\n",
              "      <td>https://patents.google.com/patent/AP0102072A0</td>\n",
              "      <td>ARIPO</td>\n",
              "      <td>Application filed, as announced in the Gazette...</td>\n",
              "    </tr>\n",
              "    <tr>\n",
              "      <th>1</th>\n",
              "      <td>AP-0102197-A0</td>\n",
              "      <td>Electrolytic apparatus, methods for purificati...</td>\n",
              "      <td>Electropurification of contaminated aqueous me...</td>\n",
              "      <td>https://patents.google.com/patent/AP0102197A0</td>\n",
              "      <td>ARIPO</td>\n",
              "      <td>Application filed, as announced in the Gazette...</td>\n",
              "    </tr>\n",
              "    <tr>\n",
              "      <th>2</th>\n",
              "      <td>AP-0102255-A0</td>\n",
              "      <td>Aphron-containing aqueous well drilling and se...</td>\n",
              "      <td>The invention provides a method and fluid for ...</td>\n",
              "      <td>https://patents.google.com/patent/AP0102255A0</td>\n",
              "      <td>ARIPO</td>\n",
              "      <td>Application filed, as announced in the Gazette...</td>\n",
              "    </tr>\n",
              "    <tr>\n",
              "      <th>3</th>\n",
              "      <td>AP-0102286-A0</td>\n",
              "      <td>Compound and its use.</td>\n",
              "      <td>A method of testing the purity or stability to...</td>\n",
              "      <td>https://patents.google.com/patent/AP0102286A0</td>\n",
              "      <td>ARIPO</td>\n",
              "      <td>Application filed, as announced in the Gazette...</td>\n",
              "    </tr>\n",
              "    <tr>\n",
              "      <th>4</th>\n",
              "      <td>AP-0102296-A0</td>\n",
              "      <td>Hygromycin A derivatives.</td>\n",
              "      <td>This invention relates to compounds of the for...</td>\n",
              "      <td>https://patents.google.com/patent/AP0102296A0</td>\n",
              "      <td>ARIPO</td>\n",
              "      <td>Application filed, as announced in the Gazette...</td>\n",
              "    </tr>\n",
              "  </tbody>\n",
              "</table>\n",
              "</div>\n",
              "    <div class=\"colab-df-buttons\">\n",
              "\n",
              "  <div class=\"colab-df-container\">\n",
              "    <button class=\"colab-df-convert\" onclick=\"convertToInteractive('df-c536eede-3466-4b5c-a422-354b70b5f1d4')\"\n",
              "            title=\"Convert this dataframe to an interactive table.\"\n",
              "            style=\"display:none;\">\n",
              "\n",
              "  <svg xmlns=\"http://www.w3.org/2000/svg\" height=\"24px\" viewBox=\"0 -960 960 960\">\n",
              "    <path d=\"M120-120v-720h720v720H120Zm60-500h600v-160H180v160Zm220 220h160v-160H400v160Zm0 220h160v-160H400v160ZM180-400h160v-160H180v160Zm440 0h160v-160H620v160ZM180-180h160v-160H180v160Zm440 0h160v-160H620v160Z\"/>\n",
              "  </svg>\n",
              "    </button>\n",
              "\n",
              "  <style>\n",
              "    .colab-df-container {\n",
              "      display:flex;\n",
              "      gap: 12px;\n",
              "    }\n",
              "\n",
              "    .colab-df-convert {\n",
              "      background-color: #E8F0FE;\n",
              "      border: none;\n",
              "      border-radius: 50%;\n",
              "      cursor: pointer;\n",
              "      display: none;\n",
              "      fill: #1967D2;\n",
              "      height: 32px;\n",
              "      padding: 0 0 0 0;\n",
              "      width: 32px;\n",
              "    }\n",
              "\n",
              "    .colab-df-convert:hover {\n",
              "      background-color: #E2EBFA;\n",
              "      box-shadow: 0px 1px 2px rgba(60, 64, 67, 0.3), 0px 1px 3px 1px rgba(60, 64, 67, 0.15);\n",
              "      fill: #174EA6;\n",
              "    }\n",
              "\n",
              "    .colab-df-buttons div {\n",
              "      margin-bottom: 4px;\n",
              "    }\n",
              "\n",
              "    [theme=dark] .colab-df-convert {\n",
              "      background-color: #3B4455;\n",
              "      fill: #D2E3FC;\n",
              "    }\n",
              "\n",
              "    [theme=dark] .colab-df-convert:hover {\n",
              "      background-color: #434B5C;\n",
              "      box-shadow: 0px 1px 3px 1px rgba(0, 0, 0, 0.15);\n",
              "      filter: drop-shadow(0px 1px 2px rgba(0, 0, 0, 0.3));\n",
              "      fill: #FFFFFF;\n",
              "    }\n",
              "  </style>\n",
              "\n",
              "    <script>\n",
              "      const buttonEl =\n",
              "        document.querySelector('#df-c536eede-3466-4b5c-a422-354b70b5f1d4 button.colab-df-convert');\n",
              "      buttonEl.style.display =\n",
              "        google.colab.kernel.accessAllowed ? 'block' : 'none';\n",
              "\n",
              "      async function convertToInteractive(key) {\n",
              "        const element = document.querySelector('#df-c536eede-3466-4b5c-a422-354b70b5f1d4');\n",
              "        const dataTable =\n",
              "          await google.colab.kernel.invokeFunction('convertToInteractive',\n",
              "                                                    [key], {});\n",
              "        if (!dataTable) return;\n",
              "\n",
              "        const docLinkHtml = 'Like what you see? Visit the ' +\n",
              "          '<a target=\"_blank\" href=https://colab.research.google.com/notebooks/data_table.ipynb>data table notebook</a>'\n",
              "          + ' to learn more about interactive tables.';\n",
              "        element.innerHTML = '';\n",
              "        dataTable['output_type'] = 'display_data';\n",
              "        await google.colab.output.renderOutput(dataTable, element);\n",
              "        const docLink = document.createElement('div');\n",
              "        docLink.innerHTML = docLinkHtml;\n",
              "        element.appendChild(docLink);\n",
              "      }\n",
              "    </script>\n",
              "  </div>\n",
              "\n",
              "\n",
              "<div id=\"df-c1945c3d-8dee-41e7-8f54-fa6516a92c87\">\n",
              "  <button class=\"colab-df-quickchart\" onclick=\"quickchart('df-c1945c3d-8dee-41e7-8f54-fa6516a92c87')\"\n",
              "            title=\"Suggest charts\"\n",
              "            style=\"display:none;\">\n",
              "\n",
              "<svg xmlns=\"http://www.w3.org/2000/svg\" height=\"24px\"viewBox=\"0 0 24 24\"\n",
              "     width=\"24px\">\n",
              "    <g>\n",
              "        <path d=\"M19 3H5c-1.1 0-2 .9-2 2v14c0 1.1.9 2 2 2h14c1.1 0 2-.9 2-2V5c0-1.1-.9-2-2-2zM9 17H7v-7h2v7zm4 0h-2V7h2v10zm4 0h-2v-4h2v4z\"/>\n",
              "    </g>\n",
              "</svg>\n",
              "  </button>\n",
              "\n",
              "<style>\n",
              "  .colab-df-quickchart {\n",
              "      --bg-color: #E8F0FE;\n",
              "      --fill-color: #1967D2;\n",
              "      --hover-bg-color: #E2EBFA;\n",
              "      --hover-fill-color: #174EA6;\n",
              "      --disabled-fill-color: #AAA;\n",
              "      --disabled-bg-color: #DDD;\n",
              "  }\n",
              "\n",
              "  [theme=dark] .colab-df-quickchart {\n",
              "      --bg-color: #3B4455;\n",
              "      --fill-color: #D2E3FC;\n",
              "      --hover-bg-color: #434B5C;\n",
              "      --hover-fill-color: #FFFFFF;\n",
              "      --disabled-bg-color: #3B4455;\n",
              "      --disabled-fill-color: #666;\n",
              "  }\n",
              "\n",
              "  .colab-df-quickchart {\n",
              "    background-color: var(--bg-color);\n",
              "    border: none;\n",
              "    border-radius: 50%;\n",
              "    cursor: pointer;\n",
              "    display: none;\n",
              "    fill: var(--fill-color);\n",
              "    height: 32px;\n",
              "    padding: 0;\n",
              "    width: 32px;\n",
              "  }\n",
              "\n",
              "  .colab-df-quickchart:hover {\n",
              "    background-color: var(--hover-bg-color);\n",
              "    box-shadow: 0 1px 2px rgba(60, 64, 67, 0.3), 0 1px 3px 1px rgba(60, 64, 67, 0.15);\n",
              "    fill: var(--button-hover-fill-color);\n",
              "  }\n",
              "\n",
              "  .colab-df-quickchart-complete:disabled,\n",
              "  .colab-df-quickchart-complete:disabled:hover {\n",
              "    background-color: var(--disabled-bg-color);\n",
              "    fill: var(--disabled-fill-color);\n",
              "    box-shadow: none;\n",
              "  }\n",
              "\n",
              "  .colab-df-spinner {\n",
              "    border: 2px solid var(--fill-color);\n",
              "    border-color: transparent;\n",
              "    border-bottom-color: var(--fill-color);\n",
              "    animation:\n",
              "      spin 1s steps(1) infinite;\n",
              "  }\n",
              "\n",
              "  @keyframes spin {\n",
              "    0% {\n",
              "      border-color: transparent;\n",
              "      border-bottom-color: var(--fill-color);\n",
              "      border-left-color: var(--fill-color);\n",
              "    }\n",
              "    20% {\n",
              "      border-color: transparent;\n",
              "      border-left-color: var(--fill-color);\n",
              "      border-top-color: var(--fill-color);\n",
              "    }\n",
              "    30% {\n",
              "      border-color: transparent;\n",
              "      border-left-color: var(--fill-color);\n",
              "      border-top-color: var(--fill-color);\n",
              "      border-right-color: var(--fill-color);\n",
              "    }\n",
              "    40% {\n",
              "      border-color: transparent;\n",
              "      border-right-color: var(--fill-color);\n",
              "      border-top-color: var(--fill-color);\n",
              "    }\n",
              "    60% {\n",
              "      border-color: transparent;\n",
              "      border-right-color: var(--fill-color);\n",
              "    }\n",
              "    80% {\n",
              "      border-color: transparent;\n",
              "      border-right-color: var(--fill-color);\n",
              "      border-bottom-color: var(--fill-color);\n",
              "    }\n",
              "    90% {\n",
              "      border-color: transparent;\n",
              "      border-bottom-color: var(--fill-color);\n",
              "    }\n",
              "  }\n",
              "</style>\n",
              "\n",
              "  <script>\n",
              "    async function quickchart(key) {\n",
              "      const quickchartButtonEl =\n",
              "        document.querySelector('#' + key + ' button');\n",
              "      quickchartButtonEl.disabled = true;  // To prevent multiple clicks.\n",
              "      quickchartButtonEl.classList.add('colab-df-spinner');\n",
              "      try {\n",
              "        const charts = await google.colab.kernel.invokeFunction(\n",
              "            'suggestCharts', [key], {});\n",
              "      } catch (error) {\n",
              "        console.error('Error during call to suggestCharts:', error);\n",
              "      }\n",
              "      quickchartButtonEl.classList.remove('colab-df-spinner');\n",
              "      quickchartButtonEl.classList.add('colab-df-quickchart-complete');\n",
              "    }\n",
              "    (() => {\n",
              "      let quickchartButtonEl =\n",
              "        document.querySelector('#df-c1945c3d-8dee-41e7-8f54-fa6516a92c87 button');\n",
              "      quickchartButtonEl.style.display =\n",
              "        google.colab.kernel.accessAllowed ? 'block' : 'none';\n",
              "    })();\n",
              "  </script>\n",
              "</div>\n",
              "    </div>\n",
              "  </div>\n"
            ]
          },
          "metadata": {},
          "execution_count": 6
        }
      ],
      "source": [
        "query = \"\"\"\n",
        "SELECT publication_number,\ttitle,\tabstract, url,\tcountry,\tpublication_description\n",
        "FROM `patents-public-data.google_patents_research.publications`\n",
        "WHERE\n",
        "  length(title)>1\n",
        "    AND\n",
        "  length(abstract)>1\n",
        "ORDER BY \tpublication_number\n",
        "LIMIT 1000\n",
        "\"\"\"\n",
        "# Read the table and display first 5 rows\n",
        "df = pd.read_gbq(query, project_id=PROJECT_ID)\n",
        "df.head(5)"
      ]
    },
    {
      "cell_type": "markdown",
      "metadata": {
        "id": "zTCmZN_H7fHx"
      },
      "source": [
        "## AlloyDB as RAG backend"
      ]
    },
    {
      "cell_type": "markdown",
      "metadata": {
        "id": "3hqFn7KPVAtX"
      },
      "source": [
        "### Set Up\n",
        "\n",
        "Set up cluster, instance and update them to allow public IP.\n",
        "  - First we must create and connect the database on AlloyDB for\n",
        "PostgreSQL. For more details check [create a cluster](https://cloud.google.com/alloydb/docs/cluster-create) and [create a primary instance](https://cloud.google.com/alloydb/docs/instance-primary-create).\n",
        "  - To generate embeddings with AlloyDB, the created cluster must reside in the region `us-central1`. This is required because the Vertex AI model that AlloyDB can use for embeddings, `textembedding-gecko`, is located in that region.\n",
        "More details about embedding generation can be found [here](https://codelabs.developers.google.com/codelabs/alloydb-ai-embedding)."
      ]
    },
    {
      "cell_type": "code",
      "execution_count": null,
      "metadata": {
        "id": "Y7CfxBOZLQ2A",
        "colab": {
          "base_uri": "https://localhost:8080/"
        },
        "executionInfo": {
          "status": "ok",
          "timestamp": 1717456224772,
          "user_tz": 420,
          "elapsed": 390243,
          "user": {
            "displayName": "",
            "userId": ""
          }
        },
        "outputId": "e41d4dad-bf99-4d87-aac4-740b2d78e556"
      },
      "outputs": [
        {
          "output_type": "stream",
          "name": "stdout",
          "text": [
            "Enter a password for the cluster: ··········\n",
            "Updated property [core/project].\n",
            "Operation ID: operation-1717455841258-61a045955eb5e-83abc5aa-c6af9781\n",
            "Operation ID: operation-1717455850746-61a0459e6b317-b1dbb3f4-eab5d78e\n"
          ]
        }
      ],
      "source": [
        "# password = input(\"Enter a password for the cluster: \")\n",
        "from getpass import getpass\n",
        "password = getpass(\"Enter a password for the cluster: \")\n",
        "\n",
        "# Set the active Google Cloud Project\n",
        "!gcloud config set project {PROJECT_ID}\n",
        "\n",
        "# Create cluster\n",
        "!gcloud alloydb clusters create {CLUSTER} --password={password} --region={REGION}\n",
        "\n",
        "# Create the primary instance\n",
        "!gcloud alloydb instances create {INSTANCE} --instance-type=PRIMARY --cpu-count={CPU_COUNT} --region={REGION} --cluster={CLUSTER} --assign-inbound-public-ip=NO_PUBLIC_IP\n",
        "\n",
        "# # Update the instance to allow public IP\n",
        "# !gcloud beta alloydb instances update {INSTANCE} --region={REGION} --cluster={CLUSTER} --assign-inbound-public-ip=ASSIGN_IPV4"
      ]
    },
    {
      "cell_type": "markdown",
      "metadata": {
        "id": "L8iee-ydck4K"
      },
      "source": [
        "### Helper Functions\n",
        "\n",
        "\n",
        "*   `create_sqlalchemy_engine`: Creates connection pool for AlloyDB instance\n",
        "*   `check_table_exists`: Checks if table exists in an instance\n"
      ]
    },
    {
      "cell_type": "code",
      "execution_count": null,
      "metadata": {
        "id": "0scMfoar7d4B"
      },
      "outputs": [],
      "source": [
        "def create_sqlalchemy_engine(\n",
        "    inst_uri: str, user: str, password: str, db: str\n",
        ") -> Tuple[sqlalchemy.engine.Engine, Connector]:\n",
        "    \"\"\"Creates a connection pool for an AlloyDB instance and returns the pool\n",
        "    and the connector. Callers are responsible for closing the pool and the\n",
        "    connector.\n",
        "\n",
        "\n",
        "    Args:\n",
        "        inst_uri (str):\n",
        "            The instance URI specifies the instance relative to the project,\n",
        "            region, and cluster. For example:\n",
        "            \"projects/my-project/locations/us-central1/clusters/my-cluster/instances/my-instance\"\n",
        "        user (str):\n",
        "            The database user name, e.g., postgres\n",
        "        password (str):\n",
        "            The database user's password, e.g., secret-password\n",
        "        db (str):\n",
        "            The name of the database, e.g., mydb\n",
        "\n",
        "     Returns:\n",
        "        Tuple[sqlalchemy.engine.Engine, Connector]:\n",
        "            * A SQLAlchemy engine object for managing database interactions.\n",
        "            * A Connector object for underlying database connections (can be used for closing).\n",
        "    \"\"\"\n",
        "    connector = Connector()\n",
        "\n",
        "    def getconn() -> pg8000.dbapi.Connection:\n",
        "        \"\"\"\n",
        "        Establishes a connection to a Google Cloud AlloyDB instance (PostgreSQL database) using the pg8000 driver.\n",
        "\n",
        "        Returns:\n",
        "            pg8000.dbapi.Connection: An active database connection object.\n",
        "        \"\"\"\n",
        "        conn: pg8000.dbapi.Connection = connector.connect(\n",
        "            instance_uri=inst_uri,\n",
        "            driver=\"pg8000\",\n",
        "            user=user,\n",
        "            password=password,\n",
        "            db=db,\n",
        "            # ip_type=\"PUBLIC\",  # use ip_type to specify Public IP\n",
        "        )\n",
        "        return conn\n",
        "\n",
        "    # create SQLAlchemy connection pool\n",
        "    engine = sqlalchemy.create_engine(\n",
        "        \"postgresql+pg8000://\", creator=getconn, isolation_level=\"AUTOCOMMIT\"\n",
        "    )\n",
        "    engine.dialect.description_encoding = None\n",
        "    return engine, connector\n",
        "\n",
        "def check_table_exists(engine: Engine, connector: Connector, table_name: str) -> bool:\n",
        "    \"\"\"Checks if a table exists in the database.\n",
        "\n",
        "    Args:\n",
        "        engine (sqlalchemy.engine.Engine): SQLAlchemy engine object.\n",
        "        connector (Connector): AlloyDB Connector object.\n",
        "        table_name (str): Name of the table to check.\n",
        "\n",
        "    Returns:\n",
        "        bool: True if the table exists, False otherwise.\n",
        "    \"\"\"\n",
        "\n",
        "    try:\n",
        "        with engine.connect() as conn:\n",
        "            check_cmd = sqlalchemy.text(f\"SELECT 1 FROM {table_name} LIMIT 1\")\n",
        "            conn.execute(check_cmd)\n",
        "        connector.close()\n",
        "        return True\n",
        "\n",
        "    except DatabaseError:\n",
        "        return False"
      ]
    },
    {
      "cell_type": "markdown",
      "metadata": {
        "id": "1hAafWeecyeG"
      },
      "source": [
        "### Create the connection to AlloyDB"
      ]
    },
    {
      "cell_type": "code",
      "execution_count": null,
      "metadata": {
        "id": "F3DnzTH3LRz5"
      },
      "outputs": [],
      "source": [
        "INSTANCE_URI = (\n",
        "    f\"projects/{PROJECT_ID}/locations/{REGION}/clusters/{CLUSTER}/instances/{INSTANCE}\"\n",
        ")\n",
        "USER = \"postgres\"\n",
        "DB = \"postgres\"\n",
        "TABLE_NAME = \"google_patents_research\""
      ]
    },
    {
      "cell_type": "markdown",
      "metadata": {
        "id": "TcfvIbVbkamU"
      },
      "source": [
        "### Create a table on AlloyDB\n",
        "The table is created with the columns from the `google_patents_research.publications` dataset.\n",
        "\n",
        "> **Note:** If you come across the error below, it is because the AlloyDB instance has not finished updating its public IP address. Please wait for a few minutes before trying to assign it again under the **Set Up** section.\n",
        "```\n",
        "IPTypeNotFoundError: AlloyDB instance does not have an IP addresses matching type: 'PUBLIC'\n",
        "```"
      ]
    },
    {
      "cell_type": "code",
      "execution_count": null,
      "metadata": {
        "id": "VUaDKZnWDDo2"
      },
      "outputs": [],
      "source": [
        "engine, connector = create_sqlalchemy_engine(\n",
        "    inst_uri=INSTANCE_URI,\n",
        "    user=USER,\n",
        "    password=password,\n",
        "    db=DB,\n",
        ")"
      ]
    },
    {
      "cell_type": "code",
      "execution_count": null,
      "metadata": {
        "id": "Xq8qgcewevsY",
        "colab": {
          "base_uri": "https://localhost:8080/"
        },
        "executionInfo": {
          "status": "ok",
          "timestamp": 1717456439534,
          "user_tz": 420,
          "elapsed": 7004,
          "user": {
            "displayName": "",
            "userId": ""
          }
        },
        "outputId": "2caf67cd-79d7-4af2-95b0-6eceed198b84"
      },
      "outputs": [
        {
          "output_type": "stream",
          "name": "stdout",
          "text": [
            "Creating table...\n",
            "Inserting values...\n",
            "Commiting...\n",
            "Done\n"
          ]
        }
      ],
      "source": [
        "if check_table_exists(engine, connector, TABLE_NAME):\n",
        "    print(f\"Table {TABLE_NAME} already exists!\")\n",
        "\n",
        "else:\n",
        "    # Create table\n",
        "    create_table_cmd = sqlalchemy.text(\n",
        "        f\"CREATE TABLE {TABLE_NAME} ( \\\n",
        "      publication_number VARCHAR, \\\n",
        "      title TEXT, \\\n",
        "      abstract TEXT, \\\n",
        "      url VARCHAR, \\\n",
        "      country TEXT, \\\n",
        "      publication_description TEXT \\\n",
        "      )\",\n",
        "    )\n",
        "\n",
        "    # Insert data\n",
        "    insert_data_cmd = sqlalchemy.text(\n",
        "        f\"\"\"\n",
        "      INSERT INTO {TABLE_NAME} VALUES (:publication_number, :title,\t:abstract, :url,\t:country,\t:publication_description)\n",
        "      \"\"\"\n",
        "    )\n",
        "\n",
        "    parameter_map = [\n",
        "        {\n",
        "            \"publication_number\": row[\"publication_number\"],\n",
        "            \"title\": row[\"title\"],\n",
        "            \"abstract\": row[\"abstract\"],\n",
        "            \"url\": row[\"url\"],\n",
        "            \"country\": row[\"country\"],\n",
        "            \"publication_description\": row[\"publication_description\"],\n",
        "        }\n",
        "        for index, row in df.iterrows()\n",
        "    ]\n",
        "\n",
        "    # Execute the queries\n",
        "    with engine.connect() as conn:\n",
        "        print(\"Creating table...\")\n",
        "        conn.execute(create_table_cmd)\n",
        "        print(\"Inserting values...\")\n",
        "        conn.execute(\n",
        "            insert_data_cmd,\n",
        "            parameter_map,\n",
        "        )\n",
        "        print(\"Commiting...\")\n",
        "        conn.commit()\n",
        "        print(\"Done\")\n",
        "    connector.close()"
      ]
    },
    {
      "cell_type": "markdown",
      "metadata": {
        "id": "l_vCJCV_c5ym"
      },
      "source": [
        "### Add AlloyDB extensions\n",
        "\n",
        "Enable an extension by connecting to a database in an AlloyDB cluster's primary instance, then running a `CREATE EXTENSION` command. More details can be found [here](https://cloud.google.com/alloydb/docs/reference/extensions#enable).\n",
        "- `google_ml_integration` integrates AlloyDB with Vertex AI\n",
        "- `vector` allows us to use `pgvector` functions and operators with optimizations specific to AlloyDB"
      ]
    },
    {
      "cell_type": "code",
      "execution_count": null,
      "metadata": {
        "id": "lXeVfDinBxMj"
      },
      "outputs": [],
      "source": [
        "# Add extensions\n",
        "google_ml_integration_cmd = sqlalchemy.text(\n",
        "    \"CREATE EXTENSION IF NOT EXISTS google_ml_integration CASCADE\"\n",
        ")\n",
        "vector_cmd = sqlalchemy.text(\"CREATE EXTENSION IF NOT EXISTS vector\")\n",
        "\n",
        "# Execute the queries\n",
        "with engine.connect() as conn:\n",
        "    conn.execute(google_ml_integration_cmd)\n",
        "    conn.execute(vector_cmd)\n",
        "    conn.commit()\n",
        "connector.close()"
      ]
    },
    {
      "cell_type": "markdown",
      "metadata": {
        "id": "2gmhxd4Nkgpv"
      },
      "source": [
        "### Create a column that stores text embeddings and and an Index using AlloyDB\n",
        "\n",
        "\n",
        "\n",
        "*   The Vertex AI text-embeddings API lets you create a text embedding using Generative AI on Vertex AI. Text embeddings are numerical representations of text that capture relationships between words and phrases.\n",
        "*   IVFFlat is a type of vector index for approximate nearest neighbor search. It is a frequently used index type that can improve performance when querying highly-dimensional vectors, like those representing embeddings.\n",
        "\n",
        "Visit the [pgvector documentation](https://github.com/pgvector/pgvector?tab=readme-ov-file#pgvector) for more information on supported index types and their distance functions\n"
      ]
    },
    {
      "cell_type": "code",
      "execution_count": null,
      "metadata": {
        "id": "nQ2Xw15HgQ7L"
      },
      "outputs": [],
      "source": [
        "embedding_column = \"embedding\"\n",
        "distance_function = \"vector_cosine_ops\"\n",
        "\n",
        "# Add column to store embeddings\n",
        "add_column_cmd = sqlalchemy.text(\n",
        "    f\"ALTER TABLE {TABLE_NAME} ADD COLUMN {embedding_column} vector({DIMENSIONS});\"\n",
        ")\n",
        "\n",
        "# Generate embeddings for `title` and `abstract` columns of the dataset\n",
        "embedding_cmd = sqlalchemy.text(\n",
        "    f\"UPDATE {TABLE_NAME} SET {embedding_column} = embedding('{EMBEDDING_MODEL}', title || ' ' || abstract);\"\n",
        ")\n",
        "\n",
        "# Create an ivfflat index on the table with embedding column and cosine distance\n",
        "index_cmd = sqlalchemy.text(\n",
        "    f\"CREATE INDEX ON {TABLE_NAME} USING ivfflat ({embedding_column} {distance_function})\"\n",
        ")"
      ]
    },
    {
      "cell_type": "code",
      "execution_count": null,
      "metadata": {
        "id": "jfBtZUI8mQJU",
        "colab": {
          "base_uri": "https://localhost:8080/"
        },
        "executionInfo": {
          "status": "ok",
          "timestamp": 1717456700573,
          "user_tz": 420,
          "elapsed": 59225,
          "user": {
            "displayName": "",
            "userId": ""
          }
        },
        "outputId": "bf1ebfcd-bd44-428d-ac9a-18a00d0c2779"
      },
      "outputs": [
        {
          "output_type": "stream",
          "name": "stdout",
          "text": [
            "Creating Embeddings...\n",
            "Creating Index...\n",
            "Commiting...\n",
            "Done\n"
          ]
        }
      ],
      "source": [
        "# Execute the queries\n",
        "with engine.connect() as conn:\n",
        "    try:\n",
        "        conn.execute(add_column_cmd)\n",
        "    except:\n",
        "        print(f\"Column {embedding_column} already exists\")\n",
        "    print(\"Creating Embeddings...\")\n",
        "    conn.execute(embedding_cmd)\n",
        "    print(\"Creating Index...\")\n",
        "    conn.execute(index_cmd)\n",
        "    print(\"Commiting...\")\n",
        "    conn.commit()\n",
        "    print(\"Done\")\n",
        "connector.close()"
      ]
    },
    {
      "cell_type": "markdown",
      "metadata": {
        "id": "PwYsLCD9c_MJ"
      },
      "source": [
        "## Retrieve data\n",
        "\n",
        "Retrieve top 5 rows based on similarity search"
      ]
    },
    {
      "cell_type": "code",
      "execution_count": null,
      "metadata": {
        "id": "5pSbkfBbwDL1"
      },
      "outputs": [],
      "source": [
        "def retrieve_information(\n",
        "    query: str,\n",
        "    engine: Engine,\n",
        "    table_name: str,\n",
        "    embedding_model: str,\n",
        "    row_count: int = 5,\n",
        ") -> str:\n",
        "    \"\"\"\n",
        "    Queries a database table using a semantic similarity search and returns formatted results.\n",
        "\n",
        "    Args:\n",
        "        query (str): The search query to embed and compare against the database.\n",
        "        engine (sqlalchemy.engine.Engine): SQLAlchemy engine object.\n",
        "        table_name (str): The name of the table to query.\n",
        "        embedding_model (str): The name of the embedding model to use.\n",
        "        row_count (int, optional): The maximum number of results to return. Defaults to 5.\n",
        "\n",
        "    Assumptions:\n",
        "        The table has columns named 'publication_number', 'title', 'abstract', 'url', and an embedding column named 'embedding_column'.\n",
        "\n",
        "    Returns:\n",
        "        str: A formatted string containing the top results, including their publication number, title, abstract, and URL.\n",
        "    \"\"\"\n",
        "\n",
        "    # Perform semantic search\n",
        "    search_cmd = sqlalchemy.text(\n",
        "        f\"\"\"\n",
        "    SELECT publication_number, title,\tabstract, url FROM {table_name}\n",
        "      ORDER BY  {embedding_column}\n",
        "      <-> embedding('{embedding_model}', '{query}')::vector\n",
        "      LIMIT {row_count}\n",
        "    \"\"\"\n",
        "    )\n",
        "\n",
        "    # Execute the query\n",
        "    with engine.connect() as conn:\n",
        "        result = conn.execute(search_cmd)\n",
        "        context = [row._asdict() for row in result]\n",
        "    connector.close()\n",
        "\n",
        "    # String format the retrieved information\n",
        "    retrieved_information = \"\\n\".join(\n",
        "        [\n",
        "            f\"{index+1}. \"\n",
        "            + \"\\n\".join([f\"{key}: {value}\" for key, value in element.items()])\n",
        "            for index, element in enumerate(context)\n",
        "        ]\n",
        "    )\n",
        "\n",
        "    return retrieved_information"
      ]
    },
    {
      "cell_type": "markdown",
      "metadata": {
        "id": "E7cjd66wHaUx"
      },
      "source": [
        "**Sample Questions**\n",
        "\n",
        "\n",
        "1.   Propose some project ideas for medical devices.\n",
        "2.   List patents around solar energy and how can they be used.\n",
        "3.   What methods exist to improve combustion?\n"
      ]
    },
    {
      "cell_type": "code",
      "execution_count": null,
      "metadata": {
        "id": "vrDZ8hB6FjkX",
        "colab": {
          "base_uri": "https://localhost:8080/"
        },
        "executionInfo": {
          "status": "ok",
          "timestamp": 1717457117887,
          "user_tz": 420,
          "elapsed": 225,
          "user": {
            "displayName": "",
            "userId": ""
          }
        },
        "outputId": "149a256f-1444-4a2a-ffa3-eb89b75e1170"
      },
      "outputs": [
        {
          "output_type": "stream",
          "name": "stdout",
          "text": [
            "1. publication_number: AP-1651-A\n",
            "title: Solar water heater and pasteurizer.\n",
            "abstract: In accordance with the present invention, there are provided solar water heaters that are portable, efficient, inexpensive and easy to use. In its simplest form, the solar healer includes a transparent container such as a bag or envelope that contains at least one energy converting structure and has sufficient insulation to enable heating water to a temperature of at least 60 °C for a time sufficient to achieve pasteurization (typically a period of about one hour at this temperature), and preferably to a temperature of at least 70 °C (at which temperature, a period of only about 6 minutes is required for pasteurization). Invention solar heaters are particularly useful for pasteurizing water. In additional embodiments, invention solar heaters include additional features, such as, for example, a water pasteurization indicator. In accordance with another embodiment of the invention, there are provided method for pasteurizing water employing solar heaters described herein, as well as kits suitable to convert any transparent water tight container into a solar water heater.\n",
            "url: https://patents.google.com/patent/AP1651A\n",
            "2. publication_number: AP-1378-A\n",
            "title: Solar lamp for open-air use.\n",
            "abstract: The invention relates to a solar lamp (1) for use in the open air, in particular to a garden lamp, pathway lamp, street lamp or similar. Said lamp consits of at least one solar module, in addition to housing (2) with an accumulator element for eletric energy which is eletrically connected to the solar module and at least one illuminating body (8). A circuit is provided between the accumulator and the illuminating body which reacts to signals of one of the light sensors (9) which is located on the solar lamp, forming or breaking the eletrical connection between accumulator and the illuminating body, depending on the degree of brightness/darkness. The housing has at least two walls which are aligned differently and do not run parallel to one another. At least one solar module is positioned on each respective wall, or the walls are formed by solar modules.\n",
            "url: https://patents.google.com/patent/AP1378A\n",
            "3. publication_number: AP-1803-A\n",
            "title: Fuel saving combustion engine insulation method and system.\n",
            "abstract: A method and apparatus for reducing fuel consumption in an internal combustion engine including gasoline, petrol and diesel engines used in trucks, cars and for pumps including the steps of providing a thermal insulation shield that includes reflective fabric over the exhaust manifold, around the intake plenum for intake air and intake air box, covering the turbo charger compressor with a heat insulating material that includes a reflective fabric layer and the turbo charger drive turbine housing except for the bearing area to greatly reduce heat build up in the engine compartment thereby reducing intake air temperature for increased engine efficiency. The invention has been found to increase fuel efficiency in large trucks by ten to fifteen percent. The materials are light weight and do not significantly increase engine weight or truck loan weight.\n",
            "url: https://patents.google.com/patent/AP1803A\n",
            "4. publication_number: AP-160-A\n",
            "title: Therapeutic acyclic nucleosides.\n",
            "abstract: The present invention relates to certain amino acid esters of the purine nucleoside acyclovir, pharmaceutically acceptable salts thereof and their use in the treatment and prophylaxis of herpes virus infections. The invention also includes pharmaceutical formulations and processes for the preparation of such compounds.\n",
            "url: https://patents.google.com/patent/AP160A\n",
            "5. publication_number: AP-141-A\n",
            "title: Novel steroid doils.\n",
            "abstract: Novel steroid diols, pharmaceutical compositions containing them and process for preparing same.\n",
            "url: https://patents.google.com/patent/AP141A\n"
          ]
        }
      ],
      "source": [
        "query = \"List patents around solar energy and how can they be used.\"  # @param {type:\"string\"}\n",
        "\n",
        "result = retrieve_information(\n",
        "    query=query, engine=engine, table_name=TABLE_NAME, embedding_model=EMBEDDING_MODEL\n",
        ")\n",
        "print(result)"
      ]
    },
    {
      "cell_type": "markdown",
      "metadata": {
        "id": "8img1AVdqdtB"
      },
      "source": [
        "## Generate Response"
      ]
    },
    {
      "cell_type": "markdown",
      "metadata": {
        "id": "ubQzJ-gYKdLr"
      },
      "source": [
        "Define a prompt template to answer questions according to the use-case."
      ]
    },
    {
      "cell_type": "code",
      "execution_count": null,
      "metadata": {
        "id": "txb2LUMaxSCm"
      },
      "outputs": [],
      "source": [
        "prompt = \"\"\"You are a friendly advisor helping to answer questions about patents. Based on the search request we have loaded a list of patents closely related to the search.\n",
        "\n",
        "The user asked:\n",
        "<question>\n",
        "{question}\n",
        "</question>\n",
        "\n",
        "Here is the list of matching patents:\n",
        "<roles>\n",
        "{result}\n",
        "</roles>\n",
        "\n",
        "You should answer the question using the matching patents, reply with supplemental information and patent url.\n",
        "Answer:\n",
        "\"\"\""
      ]
    },
    {
      "cell_type": "markdown",
      "metadata": {
        "id": "gcgf_RruKrJC"
      },
      "source": [
        "The `generate_text` function performs two tasks\n",
        "- Formats the prompt template with `result` and `question`.\n",
        "- Invokes the generative model, in this case `gemini-1.0-pro`."
      ]
    },
    {
      "cell_type": "code",
      "source": [
        "# Initialize Vertexai client\n",
        "creds, _ = google.auth.default(quota_project_id=PROJECT_ID)\n",
        "vertexai.init(project=PROJECT_ID, location=LOCATION, credentials=creds)"
      ],
      "metadata": {
        "id": "NsnBvtxvtHut"
      },
      "execution_count": null,
      "outputs": []
    },
    {
      "cell_type": "code",
      "execution_count": null,
      "metadata": {
        "id": "5Elqguzq-SHY"
      },
      "outputs": [],
      "source": [
        "def generate_text(\n",
        "    prompt: str,\n",
        "    result: str,\n",
        "    question: str,\n",
        "    generative_model: GenerativeModel,\n",
        "    generation_config: GenerationConfig,\n",
        ") -> str:\n",
        "    \"\"\"\n",
        "    Generates text response using a specified generative language model on Vertex AI.\n",
        "\n",
        "    Args:\n",
        "        prompt (str): The text prompt template for the generative model.\n",
        "        result (str): The list of matching patents.\n",
        "        question (str): The user's question.\n",
        "        generative_model (vertexai.generative_models.GenerativeModel): The name or identifier of the generative model on Vertex AI.\n",
        "        generation_config (vertexai.generative_models.GenerationConfig): Configuration object for the text generation process.\n",
        "\n",
        "    Returns:\n",
        "        str: The generated text response from the model.\n",
        "    \"\"\"\n",
        "    input_prompt = prompt.format(result=result, question=question)\n",
        "\n",
        "    # Query the model\n",
        "    response = generative_model.generate_content(\n",
        "        contents=input_prompt, generation_config=generation_config\n",
        "    )\n",
        "\n",
        "    return response.text"
      ]
    },
    {
      "cell_type": "markdown",
      "metadata": {
        "id": "MublwjbdKV7I"
      },
      "source": [
        "Generate a response based on the top 5 rows fetched via similarity search."
      ]
    },
    {
      "cell_type": "code",
      "execution_count": null,
      "metadata": {
        "id": "xCanM1asBSXc",
        "colab": {
          "base_uri": "https://localhost:8080/"
        },
        "executionInfo": {
          "status": "ok",
          "timestamp": 1717457130820,
          "user_tz": 420,
          "elapsed": 6121,
          "user": {
            "displayName": "",
            "userId": ""
          }
        },
        "outputId": "78133c26-72c0-42a6-b302-f1f65bca0322"
      },
      "outputs": [
        {
          "output_type": "stream",
          "name": "stdout",
          "text": [
            "Response: ## Solar Energy Patents and Their Applications\n",
            "\n",
            "Based on your query about solar energy patents and their applications, I have reviewed the provided list of patents and identified the following relevant inventions:\n",
            "\n",
            "**1. Solar Water Heater and Pasteurizer (AP-1651-A):**\n",
            "\n",
            "This patent describes a portable, efficient, and inexpensive solar water heater that can reach temperatures sufficient for pasteurization. This invention is particularly useful for providing safe drinking water in areas with limited access to electricity or clean water sources.\n",
            "\n",
            "**Applications:**\n",
            "\n",
            "* Providing safe drinking water in developing countries or disaster zones.\n",
            "* Camping and outdoor activities.\n",
            "* Emergency preparedness kits.\n",
            "\n",
            "**2. Solar Lamp for Open-Air Use (AP-1378-A):**\n",
            "\n",
            "This patent describes a solar lamp designed for outdoor use, such as garden lighting, pathway illumination, or street lamps. The lamp features an automatic on/off function based on ambient light levels, maximizing energy efficiency.\n",
            "\n",
            "**Applications:**\n",
            "\n",
            "* Outdoor lighting for homes, gardens, and public spaces.\n",
            "* Street lighting in areas with limited grid access.\n",
            "* Security lighting for pathways and entrances.\n",
            "\n",
            "**3. Fuel Saving Combustion Engine Insulation Method and System (AP-1803-A):**\n",
            "\n",
            "While this patent focuses on improving fuel efficiency in combustion engines, it indirectly relates to solar energy by reducing the need for fossil fuels. The invention utilizes thermal insulation to minimize heat loss in the engine, leading to increased efficiency and reduced emissions.\n",
            "\n",
            "**Applications:**\n",
            "\n",
            "* Improving fuel efficiency in vehicles and other combustion engines.\n",
            "* Reducing greenhouse gas emissions from transportation.\n",
            "* Promoting sustainable transportation solutions.\n",
            "\n",
            "**Limitations:**\n",
            "\n",
            "* This invention does not directly utilize solar energy.\n",
            "* Its primary application is in the automotive industry.\n",
            "\n",
            "**Additional Resources:**\n",
            "\n",
            "* [National Renewable Energy Laboratory (NREL)](https://www.nrel.gov/): Provides extensive information on solar energy technologies and applications.\n",
            "* [World Intellectual Property Organization (WIPO)](https://www.wipo.int/patents/en/): Offers a global patent database and resources for patent searching and analysis.\n",
            "\n",
            "**Please note:** This response is based on the limited information provided. For a more comprehensive understanding of these patents and their applications, further research and analysis are recommended.\n"
          ]
        }
      ],
      "source": [
        "response = generate_text(\n",
        "    prompt=prompt,\n",
        "    result=result,\n",
        "    question=query,\n",
        "    generative_model=GenerativeModel(GENERATIVE_MODEL),\n",
        "    generation_config=GenerationConfig(temperature=0.6, max_output_tokens=1024),\n",
        ")\n",
        "print(f\"Response: {response}\")\n"
      ]
    },
    {
      "cell_type": "markdown",
      "metadata": {
        "id": "QXvQ_mThNxZZ"
      },
      "source": [
        "## Summary\n",
        "\n",
        "The provided code demonstrates a comprehensive approach to leveraging AlloyDB as a backend for a retrieval-augmented generative (RAG) application. The code is relevant to the task of building a RAG application using Vertex AI.\n",
        "\n",
        "AlloyDB delivers up to 100X faster analytical queries than standard PostgreSQL, and AlloyDB AI runs vector queries up to 10x faster compared to standard PostgreSQL when using the IVFFlat index.\n",
        "\n",
        "**Steps to improve generated responses:**\n",
        "\n",
        "1. Prompt Engineering: The prompt template used for text generation could be further refined to improve the relevance and quality of the responses based on the use-case.\n",
        "2. Contextual Information: Incorporate additional context from the retrieved infromation to provide more comprehensive and nuanced responses.\n",
        "3. Model Parameters: Explore and tune the parameters (`GenerationConfig`) of the model to enhance the quality and relevance of the generated responses."
      ]
    },
    {
      "cell_type": "markdown",
      "metadata": {
        "id": "Th-slu0VCdDf"
      },
      "source": [
        "## Cleaning Up"
      ]
    },
    {
      "cell_type": "markdown",
      "metadata": {
        "id": "ncKTgQdu2OPg"
      },
      "source": [
        "Clean up the created resources by deleting the primary instance, and the cluster."
      ]
    },
    {
      "cell_type": "code",
      "execution_count": null,
      "metadata": {
        "id": "7LcIq5UevulE"
      },
      "outputs": [],
      "source": [
        "# Delete the instance\n",
        "!gcloud alloydb instances delete {INSTANCE} --cluster={CLUSTER} --region={REGION}\n",
        "\n",
        "# Delete the cluster\n",
        "!gcloud alloydb clusters delete {CLUSTER} --region={REGION}"
      ]
    }
  ],
  "metadata": {
    "colab": {
      "name": "Apple-RAG-demo-3-embeddings_and_index_with_alloydb.ipynb",
      "provenance": []
    },
    "kernelspec": {
      "display_name": "Python 3",
      "name": "python3"
    }
  },
  "nbformat": 4,
  "nbformat_minor": 0
}
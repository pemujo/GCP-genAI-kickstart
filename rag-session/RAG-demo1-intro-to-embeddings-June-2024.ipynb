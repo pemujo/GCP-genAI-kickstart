{
  "cells": [
    {
      "cell_type": "code",
      "execution_count": 49,
      "metadata": {
        "id": "c3_K0GGSTrhd",
        "executionInfo": {
          "status": "ok",
          "timestamp": 1717459020763,
          "user_tz": 420,
          "elapsed": 183,
          "user": {
            "displayName": "",
            "userId": ""
          }
        }
      },
      "outputs": [],
      "source": [
        "# Copyright 2024 Google LLC\n",
        "#\n",
        "# Licensed under the Apache License, Version 2.0 (the \"License\");\n",
        "# you may not use this file except in compliance with the License.\n",
        "# You may obtain a copy of the License at\n",
        "#\n",
        "#     https://www.apache.org/licenses/LICENSE-2.0\n",
        "#\n",
        "# Unless required by applicable law or agreed to in writing, software\n",
        "# distributed under the License is distributed on an \"AS IS\" BASIS,\n",
        "# WITHOUT WARRANTIES OR CONDITIONS OF ANY KIND, either express or implied.\n",
        "# See the License for the specific language governing permissions and\n",
        "# limitations under the License."
      ]
    },
    {
      "cell_type": "markdown",
      "metadata": {
        "id": "7VQkf8sFTeDo"
      },
      "source": [
        "# Getting Started with Text Embeddings + Vertex AI Vector Search\n",
        "\n"
      ]
    },
    {
      "cell_type": "markdown",
      "metadata": {
        "id": "y2xCS3menNv7"
      },
      "source": [
        "## Introduction\n",
        "\n",
        "In this tutorial, you learn how to use Google Cloud AI tools to quickly bring the power of Large Language Models to enterprise systems.  \n",
        "\n",
        "This tutorial covers the following -\n",
        "\n",
        "*   What are embeddings - what business challenges do they help solve ?\n",
        "*   Understanding Text with Vertex AI Text Embeddings\n",
        "*   Find Embeddings fast with Vertex AI Vector Search\n",
        "*   Grounding LLM outputs with Vector Search\n",
        "\n",
        "This tutorial is based on [the blog post](https://cloud.google.com/blog/products/ai-machine-learning/how-to-use-grounding-for-your-llms-with-text-embeddings), combined with sample code.\n",
        "\n",
        "\n",
        "### Prerequisites\n",
        "\n",
        "This tutorial is designed for developers who has basic knowledge and experience with Python programming and machine learning.\n",
        "\n",
        "If you are not reading this tutorial in Qwiklab, then you need to have a Google Cloud project that is linked to a billing account to run this. Please go through [this document](https://cloud.google.com/vertex-ai/docs/start/cloud-environment) to create a project and setup a billing account for it.\n",
        "\n",
        "\n"
      ]
    },
    {
      "cell_type": "markdown",
      "source": [
        "# Settings required outside this notebook\n"
      ],
      "metadata": {
        "id": "n6xEVT7-o2Yg"
      }
    },
    {
      "cell_type": "markdown",
      "source": [
        "1. Enable APIs\n",
        "  - Vertex AI API\n",
        "  - BigQuery API\n",
        "2. Enable Private Service Access (PSA) in the project\n",
        "3. Provision the required IAM permissions to the Default Compute Enginer service agent account format: \"{project-number}-compute@developer.gserviceaccount.com\"\n",
        "\n",
        "  Roles required:\n",
        "    - roles/aiplatform.user\n",
        "    - roles/bigquery.user\n",
        "    - roles/storage.admin\n"
      ],
      "metadata": {
        "id": "hKQFohw2pA9r"
      }
    },
    {
      "cell_type": "markdown",
      "metadata": {
        "id": "H1MAIOkCw35V"
      },
      "source": [
        "# What is Embeddings?\n",
        "\n",
        "With the rise of LLMs, why is it becoming important for IT engineers and ITDMs to understand how they work?\n",
        "\n",
        "In traditional IT systems, most data is organized as structured or tabular data, using simple keywords, labels, and categories in databases and search engines.\n",
        "\n",
        "![](https://storage.googleapis.com/github-repo/img/embeddings/textemb-vs-notebook/1.png)\n",
        "\n",
        "In contrast, AI-powered services arrange data into a simple data structure known as \"embeddings.\"\n",
        "\n",
        "![](https://storage.googleapis.com/github-repo/img/embeddings/textemb-vs-notebook/2.png)"
      ]
    },
    {
      "cell_type": "markdown",
      "metadata": {
        "id": "hJqjBmQsxz2Z"
      },
      "source": [
        "Once trained with specific content like text, images, or any content, AI creates a space called \"embedding space\", which is essentially a map of the content's meaning.\n",
        "\n",
        "![](https://storage.googleapis.com/github-repo/img/embeddings/textemb-vs-notebook/3.png)\n",
        "\n",
        "AI can identify the location of each content on the map, that's what embedding is.\n",
        "\n",
        "![](https://storage.googleapis.com/github-repo/img/embeddings/textemb-vs-notebook/4.png)\n",
        "\n",
        "Let's take an example where a text discusses movies, music, and actors, with a distribution of 10%, 2%, and 30%, respectively. In this case, the AI can create an embedding with three values: 0.1, 0.02, and 0.3, in 3 dimensional space.\n",
        "\n",
        "![](https://storage.googleapis.com/github-repo/img/embeddings/textemb-vs-notebook/5.png)\n",
        "\n",
        "AI can put content with similar meanings closely together in the space."
      ]
    },
    {
      "cell_type": "markdown",
      "metadata": {
        "id": "A5z7vyTyzk_4"
      },
      "source": [
        "This is how Google organizes data across various services like Google Search, YouTube, Play, and many others, to provide search results and recommendations with relevant content.\n",
        "\n",
        "Embeddings can also be used to represent different types of things in businesses, such as products, users, user activities, conversations, music & videos, signals from IoT sensors, and so on."
      ]
    },
    {
      "cell_type": "markdown",
      "metadata": {
        "id": "tpKVmyEe0ab9"
      },
      "source": [
        "AI and Embeddings are now playing a crucial role in creating a new way of human-computer interaction.\n",
        "\n",
        "![](https://storage.googleapis.com/github-repo/img/embeddings/textemb-vs-notebook/6.png)\n",
        "\n",
        "AI organizes data into embeddings, which represent what the user is looking for, the meaning of contents, or many other things you have in your business. This creates a new level of user experience that is becoming the new standard.\n",
        "\n",
        "To learn more about embeddings, [Foundational courses: Embeddings on Google Machine Learning Crush Course](https://developers.google.com/machine-learning/crash-course/embeddings/video-lecture) and [Meet AI’s multitool: Vector embeddings by Dale Markowitz](https://cloud.google.com/blog/topics/developers-practitioners/meet-ais-multitool-vector-embeddings) are great materials.\n",
        "\n"
      ]
    },
    {
      "cell_type": "markdown",
      "metadata": {
        "id": "ovQpiL2GUEXa"
      },
      "source": [
        "# Vertex AI Embeddings for Text\n",
        "\n",
        "With the [Vertex AI Embeddings for Text](https://cloud.google.com/vertex-ai/docs/generative-ai/embeddings/get-text-embeddings), you can easily create a text embedding with LLM. The product is also available on [Vertex AI Model Garden](https://cloud.google.com/model-garden)\n",
        "\n",
        "![](https://storage.googleapis.com/github-repo/img/embeddings/textemb-vs-notebook/7.png)\n",
        "\n",
        "This API is designed to extract embeddings from texts. It can take text input up to 3,072 input tokens, and outputs 768 dimensional text embeddings."
      ]
    },
    {
      "cell_type": "markdown",
      "metadata": {
        "id": "nwJHDPG7lU52"
      },
      "source": [
        "## LLM text embedding business use cases\n",
        "\n",
        "With the embedding API, you can apply the innovation of embeddings, combined with the LLM capability, to various text processing tasks, such as:\n",
        "\n",
        "**LLM-enabled Semantic Search**: text embeddings can be used to represent both the meaning and intent of a user's query and documents in the embedding space. Documents that have similar meaning to the user's query intent will be found fast with vector search technology. The model is capable of generating text embeddings that capture the subtle nuances of each sentence and paragraphs in the document.\n",
        "\n",
        "**LLM-enabled Text Classification**: LLM text embeddings can be used for text classification with a deep understanding of different contexts without any training or fine-tuning (so-called zero-shot learning). This wasn't possible with the past language models without task-specific training.\n",
        "\n",
        "**LLM-enabled Recommendation**: The text embedding can be used for recommendation systems as a strong feature for training recommendation models such as Two-Tower model. The model learns the relationship between the query and candidate embeddings, resulting in next-gen user experience with semantic product recommendation.\n",
        "\n",
        "LLM-enabled Clustering, Anomaly Detection, Sentiment Analysis, and more, can be also handled with the LLM-level deep semantics understanding.\n",
        "\n",
        "\n"
      ]
    },
    {
      "cell_type": "markdown",
      "metadata": {
        "id": "-iOWOKnIvYxf"
      },
      "source": [
        "# Text Embeddings in Action\n",
        "\n",
        "Lets try using Text Embeddings in action with actual sample code."
      ]
    },
    {
      "cell_type": "markdown",
      "metadata": {
        "id": "AtXnXhF8U-8R"
      },
      "source": [
        "## Setup\n",
        "\n",
        "Before get started with the Vertex AI services, we need to setup the following.\n",
        "\n",
        "* Install Python SDK\n",
        "* Environment variables\n",
        "* Authentication (Colab only)\n",
        "* Enable APIs\n",
        "* Set IAM permissions"
      ]
    },
    {
      "cell_type": "markdown",
      "metadata": {
        "id": "UjnvWl6FLUlF"
      },
      "source": [
        "### Install Python SDK\n",
        "\n",
        "Vertex AI, Cloud Storage and BigQuery APIs can be accessed with multiple ways including REST API and Python SDK. In this tutorial we will use the SDK."
      ]
    },
    {
      "cell_type": "code",
      "execution_count": 1,
      "metadata": {
        "id": "FZgLGALt_al7",
        "executionInfo": {
          "status": "ok",
          "timestamp": 1717451229899,
          "user_tz": 420,
          "elapsed": 207,
          "user": {
            "displayName": "",
            "userId": ""
          }
        }
      },
      "outputs": [],
      "source": [
        "# %pip install --upgrade google-cloud-aiplatform google-cloud-storage google-cloud-bigquery"
      ]
    },
    {
      "cell_type": "markdown",
      "metadata": {
        "id": "R5Xep4W9lq-Z"
      },
      "source": [
        "### Restart current runtime\n",
        "\n",
        "To use the newly installed packages in this Jupyter runtime, you must restart the runtime. You can do this by running the cell below, which will restart the current kernel."
      ]
    },
    {
      "cell_type": "code",
      "execution_count": null,
      "metadata": {
        "id": "XRvKdaPDTznN"
      },
      "outputs": [],
      "source": [
        "# Restart kernel after installs so that your environment can access the new packages\n",
        "import IPython\n",
        "\n",
        "app = IPython.Application.instance()\n",
        "app.kernel.do_shutdown(True)"
      ]
    },
    {
      "cell_type": "markdown",
      "metadata": {
        "id": "SbmM4z7FOBpM"
      },
      "source": [
        "<div class=\"alert alert-block alert-warning\">\n",
        "<b>⚠️ The kernel is going to restart. Please wait until it is finished before continuing to the next step. ⚠️</b>\n",
        "</div>\n",
        "\n"
      ]
    },
    {
      "cell_type": "markdown",
      "metadata": {
        "id": "nCoTvkOJoh76"
      },
      "source": [
        "### Environment variables\n",
        "\n",
        "Sets environment variables. If asked, please replace the following `[your-project-id]` with your project ID and run it."
      ]
    },
    {
      "cell_type": "code",
      "execution_count": 3,
      "metadata": {
        "id": "69XJ95rNoYG9",
        "executionInfo": {
          "status": "ok",
          "timestamp": 1717451963888,
          "user_tz": 420,
          "elapsed": 2,
          "user": {
            "displayName": "",
            "userId": ""
          }
        }
      },
      "outputs": [],
      "source": [
        "# define project information\n",
        "\n",
        "PROJECT_ID = \"multi-tenancy-dataproc\"  # @param {type:\"string\"}\n",
        "LOCATION = \"us-central1\"\n",
        "# generate an unique id for this session\n",
        "from datetime import datetime\n",
        "\n",
        "UID = datetime.now().strftime(\"%m%d%H%M\")"
      ]
    },
    {
      "cell_type": "markdown",
      "metadata": {
        "id": "ph7mDSMRVTIZ"
      },
      "source": [
        "### Authentication (Colab only)\n",
        "\n",
        "If you are running this notebook on Colab, you will need to run the following cell authentication. This step is not required if you are using Vertex AI Workbench as it is pre-authenticated."
      ]
    },
    {
      "cell_type": "code",
      "execution_count": null,
      "metadata": {
        "id": "5jQkFtlimNXR"
      },
      "outputs": [],
      "source": [
        "import sys\n",
        "\n",
        "# if it's Colab runtime, authenticate the user with Google Cloud\n",
        "if \"google.colab\" in sys.modules:\n",
        "    from google.colab import auth\n",
        "\n",
        "    auth.authenticate_user()"
      ]
    },
    {
      "cell_type": "markdown",
      "metadata": {
        "id": "8cF8rkN3Lnhq"
      },
      "source": [
        "### Set IAM permissions\n",
        "\n",
        "Also, we need to add access permissions to the default service account for using those services.\n",
        "\n",
        "- Go to [the IAM page](https://console.cloud.google.com/iam-admin/) in the Console\n",
        "- Look for the principal for default compute service account. It should look like: `<project-number>-compute@developer.gserviceaccount.com`\n",
        "- Click the edit button at right and click `ADD ANOTHER ROLE` to add `Vertex AI User`, `BigQuery User` and `Storage Admin` to the account.\n",
        "\n",
        "This will look like this:\n",
        "\n",
        "![](https://storage.googleapis.com/github-repo/img/embeddings/vs-quickstart/iam-setting.png)"
      ]
    },
    {
      "cell_type": "markdown",
      "metadata": {
        "id": "mahCxLXHMIls"
      },
      "source": [
        "## Getting Started with Vertex AI Embeddings for Text\n",
        "\n",
        "Now it's ready to get started with embeddings!"
      ]
    },
    {
      "cell_type": "markdown",
      "metadata": {
        "id": "rq07_-o0VoZD"
      },
      "source": [
        "### Data Preparation\n",
        "\n",
        "We will be using [the Stack Overflow public dataset](https://console.cloud.google.com/marketplace/product/stack-exchange/stack-overflow) hosted on BigQuery table `bigquery-public-data.stackoverflow.posts_questions`. This is a very big dataset with 23 million rows that doesn't fit into the memory. We are going to limit it to 1000 rows for this tutorial."
      ]
    },
    {
      "cell_type": "code",
      "execution_count": 4,
      "metadata": {
        "id": "snrzPsEQDH4S",
        "colab": {
          "base_uri": "https://localhost:8080/",
          "height": 206
        },
        "executionInfo": {
          "status": "ok",
          "timestamp": 1717451976582,
          "user_tz": 420,
          "elapsed": 4778,
          "user": {
            "displayName": "",
            "userId": ""
          }
        },
        "outputId": "bc08db8e-db01-48d5-bd86-1a9b11d59a11"
      },
      "outputs": [
        {
          "output_type": "execute_result",
          "data": {
            "text/plain": [
              "         id                                              title\n",
              "0  64281455  How to load external script on click (after pa...\n",
              "1  64421191  Best practice when sharing data/models between...\n",
              "2  64547443  Tcl:Is there a way to show which line in tcl t...\n",
              "3  64345717  Loop by array and union looped result in BigQuery\n",
              "4  64463938  How to Deserialize Avro message coming from Ev..."
            ],
            "text/html": [
              "\n",
              "  <div id=\"df-92b04a24-4212-4eb4-abaa-f6b6e2c7e22b\" class=\"colab-df-container\">\n",
              "    <div>\n",
              "<style scoped>\n",
              "    .dataframe tbody tr th:only-of-type {\n",
              "        vertical-align: middle;\n",
              "    }\n",
              "\n",
              "    .dataframe tbody tr th {\n",
              "        vertical-align: top;\n",
              "    }\n",
              "\n",
              "    .dataframe thead th {\n",
              "        text-align: right;\n",
              "    }\n",
              "</style>\n",
              "<table border=\"1\" class=\"dataframe\">\n",
              "  <thead>\n",
              "    <tr style=\"text-align: right;\">\n",
              "      <th></th>\n",
              "      <th>id</th>\n",
              "      <th>title</th>\n",
              "    </tr>\n",
              "  </thead>\n",
              "  <tbody>\n",
              "    <tr>\n",
              "      <th>0</th>\n",
              "      <td>64281455</td>\n",
              "      <td>How to load external script on click (after pa...</td>\n",
              "    </tr>\n",
              "    <tr>\n",
              "      <th>1</th>\n",
              "      <td>64421191</td>\n",
              "      <td>Best practice when sharing data/models between...</td>\n",
              "    </tr>\n",
              "    <tr>\n",
              "      <th>2</th>\n",
              "      <td>64547443</td>\n",
              "      <td>Tcl:Is there a way to show which line in tcl t...</td>\n",
              "    </tr>\n",
              "    <tr>\n",
              "      <th>3</th>\n",
              "      <td>64345717</td>\n",
              "      <td>Loop by array and union looped result in BigQuery</td>\n",
              "    </tr>\n",
              "    <tr>\n",
              "      <th>4</th>\n",
              "      <td>64463938</td>\n",
              "      <td>How to Deserialize Avro message coming from Ev...</td>\n",
              "    </tr>\n",
              "  </tbody>\n",
              "</table>\n",
              "</div>\n",
              "    <div class=\"colab-df-buttons\">\n",
              "\n",
              "  <div class=\"colab-df-container\">\n",
              "    <button class=\"colab-df-convert\" onclick=\"convertToInteractive('df-92b04a24-4212-4eb4-abaa-f6b6e2c7e22b')\"\n",
              "            title=\"Convert this dataframe to an interactive table.\"\n",
              "            style=\"display:none;\">\n",
              "\n",
              "  <svg xmlns=\"http://www.w3.org/2000/svg\" height=\"24px\" viewBox=\"0 -960 960 960\">\n",
              "    <path d=\"M120-120v-720h720v720H120Zm60-500h600v-160H180v160Zm220 220h160v-160H400v160Zm0 220h160v-160H400v160ZM180-400h160v-160H180v160Zm440 0h160v-160H620v160ZM180-180h160v-160H180v160Zm440 0h160v-160H620v160Z\"/>\n",
              "  </svg>\n",
              "    </button>\n",
              "\n",
              "  <style>\n",
              "    .colab-df-container {\n",
              "      display:flex;\n",
              "      gap: 12px;\n",
              "    }\n",
              "\n",
              "    .colab-df-convert {\n",
              "      background-color: #E8F0FE;\n",
              "      border: none;\n",
              "      border-radius: 50%;\n",
              "      cursor: pointer;\n",
              "      display: none;\n",
              "      fill: #1967D2;\n",
              "      height: 32px;\n",
              "      padding: 0 0 0 0;\n",
              "      width: 32px;\n",
              "    }\n",
              "\n",
              "    .colab-df-convert:hover {\n",
              "      background-color: #E2EBFA;\n",
              "      box-shadow: 0px 1px 2px rgba(60, 64, 67, 0.3), 0px 1px 3px 1px rgba(60, 64, 67, 0.15);\n",
              "      fill: #174EA6;\n",
              "    }\n",
              "\n",
              "    .colab-df-buttons div {\n",
              "      margin-bottom: 4px;\n",
              "    }\n",
              "\n",
              "    [theme=dark] .colab-df-convert {\n",
              "      background-color: #3B4455;\n",
              "      fill: #D2E3FC;\n",
              "    }\n",
              "\n",
              "    [theme=dark] .colab-df-convert:hover {\n",
              "      background-color: #434B5C;\n",
              "      box-shadow: 0px 1px 3px 1px rgba(0, 0, 0, 0.15);\n",
              "      filter: drop-shadow(0px 1px 2px rgba(0, 0, 0, 0.3));\n",
              "      fill: #FFFFFF;\n",
              "    }\n",
              "  </style>\n",
              "\n",
              "    <script>\n",
              "      const buttonEl =\n",
              "        document.querySelector('#df-92b04a24-4212-4eb4-abaa-f6b6e2c7e22b button.colab-df-convert');\n",
              "      buttonEl.style.display =\n",
              "        google.colab.kernel.accessAllowed ? 'block' : 'none';\n",
              "\n",
              "      async function convertToInteractive(key) {\n",
              "        const element = document.querySelector('#df-92b04a24-4212-4eb4-abaa-f6b6e2c7e22b');\n",
              "        const dataTable =\n",
              "          await google.colab.kernel.invokeFunction('convertToInteractive',\n",
              "                                                    [key], {});\n",
              "        if (!dataTable) return;\n",
              "\n",
              "        const docLinkHtml = 'Like what you see? Visit the ' +\n",
              "          '<a target=\"_blank\" href=https://colab.research.google.com/notebooks/data_table.ipynb>data table notebook</a>'\n",
              "          + ' to learn more about interactive tables.';\n",
              "        element.innerHTML = '';\n",
              "        dataTable['output_type'] = 'display_data';\n",
              "        await google.colab.output.renderOutput(dataTable, element);\n",
              "        const docLink = document.createElement('div');\n",
              "        docLink.innerHTML = docLinkHtml;\n",
              "        element.appendChild(docLink);\n",
              "      }\n",
              "    </script>\n",
              "  </div>\n",
              "\n",
              "\n",
              "<div id=\"df-4b65c556-ed0d-4133-9aff-0dc4bd96e458\">\n",
              "  <button class=\"colab-df-quickchart\" onclick=\"quickchart('df-4b65c556-ed0d-4133-9aff-0dc4bd96e458')\"\n",
              "            title=\"Suggest charts\"\n",
              "            style=\"display:none;\">\n",
              "\n",
              "<svg xmlns=\"http://www.w3.org/2000/svg\" height=\"24px\"viewBox=\"0 0 24 24\"\n",
              "     width=\"24px\">\n",
              "    <g>\n",
              "        <path d=\"M19 3H5c-1.1 0-2 .9-2 2v14c0 1.1.9 2 2 2h14c1.1 0 2-.9 2-2V5c0-1.1-.9-2-2-2zM9 17H7v-7h2v7zm4 0h-2V7h2v10zm4 0h-2v-4h2v4z\"/>\n",
              "    </g>\n",
              "</svg>\n",
              "  </button>\n",
              "\n",
              "<style>\n",
              "  .colab-df-quickchart {\n",
              "      --bg-color: #E8F0FE;\n",
              "      --fill-color: #1967D2;\n",
              "      --hover-bg-color: #E2EBFA;\n",
              "      --hover-fill-color: #174EA6;\n",
              "      --disabled-fill-color: #AAA;\n",
              "      --disabled-bg-color: #DDD;\n",
              "  }\n",
              "\n",
              "  [theme=dark] .colab-df-quickchart {\n",
              "      --bg-color: #3B4455;\n",
              "      --fill-color: #D2E3FC;\n",
              "      --hover-bg-color: #434B5C;\n",
              "      --hover-fill-color: #FFFFFF;\n",
              "      --disabled-bg-color: #3B4455;\n",
              "      --disabled-fill-color: #666;\n",
              "  }\n",
              "\n",
              "  .colab-df-quickchart {\n",
              "    background-color: var(--bg-color);\n",
              "    border: none;\n",
              "    border-radius: 50%;\n",
              "    cursor: pointer;\n",
              "    display: none;\n",
              "    fill: var(--fill-color);\n",
              "    height: 32px;\n",
              "    padding: 0;\n",
              "    width: 32px;\n",
              "  }\n",
              "\n",
              "  .colab-df-quickchart:hover {\n",
              "    background-color: var(--hover-bg-color);\n",
              "    box-shadow: 0 1px 2px rgba(60, 64, 67, 0.3), 0 1px 3px 1px rgba(60, 64, 67, 0.15);\n",
              "    fill: var(--button-hover-fill-color);\n",
              "  }\n",
              "\n",
              "  .colab-df-quickchart-complete:disabled,\n",
              "  .colab-df-quickchart-complete:disabled:hover {\n",
              "    background-color: var(--disabled-bg-color);\n",
              "    fill: var(--disabled-fill-color);\n",
              "    box-shadow: none;\n",
              "  }\n",
              "\n",
              "  .colab-df-spinner {\n",
              "    border: 2px solid var(--fill-color);\n",
              "    border-color: transparent;\n",
              "    border-bottom-color: var(--fill-color);\n",
              "    animation:\n",
              "      spin 1s steps(1) infinite;\n",
              "  }\n",
              "\n",
              "  @keyframes spin {\n",
              "    0% {\n",
              "      border-color: transparent;\n",
              "      border-bottom-color: var(--fill-color);\n",
              "      border-left-color: var(--fill-color);\n",
              "    }\n",
              "    20% {\n",
              "      border-color: transparent;\n",
              "      border-left-color: var(--fill-color);\n",
              "      border-top-color: var(--fill-color);\n",
              "    }\n",
              "    30% {\n",
              "      border-color: transparent;\n",
              "      border-left-color: var(--fill-color);\n",
              "      border-top-color: var(--fill-color);\n",
              "      border-right-color: var(--fill-color);\n",
              "    }\n",
              "    40% {\n",
              "      border-color: transparent;\n",
              "      border-right-color: var(--fill-color);\n",
              "      border-top-color: var(--fill-color);\n",
              "    }\n",
              "    60% {\n",
              "      border-color: transparent;\n",
              "      border-right-color: var(--fill-color);\n",
              "    }\n",
              "    80% {\n",
              "      border-color: transparent;\n",
              "      border-right-color: var(--fill-color);\n",
              "      border-bottom-color: var(--fill-color);\n",
              "    }\n",
              "    90% {\n",
              "      border-color: transparent;\n",
              "      border-bottom-color: var(--fill-color);\n",
              "    }\n",
              "  }\n",
              "</style>\n",
              "\n",
              "  <script>\n",
              "    async function quickchart(key) {\n",
              "      const quickchartButtonEl =\n",
              "        document.querySelector('#' + key + ' button');\n",
              "      quickchartButtonEl.disabled = true;  // To prevent multiple clicks.\n",
              "      quickchartButtonEl.classList.add('colab-df-spinner');\n",
              "      try {\n",
              "        const charts = await google.colab.kernel.invokeFunction(\n",
              "            'suggestCharts', [key], {});\n",
              "      } catch (error) {\n",
              "        console.error('Error during call to suggestCharts:', error);\n",
              "      }\n",
              "      quickchartButtonEl.classList.remove('colab-df-spinner');\n",
              "      quickchartButtonEl.classList.add('colab-df-quickchart-complete');\n",
              "    }\n",
              "    (() => {\n",
              "      let quickchartButtonEl =\n",
              "        document.querySelector('#df-4b65c556-ed0d-4133-9aff-0dc4bd96e458 button');\n",
              "      quickchartButtonEl.style.display =\n",
              "        google.colab.kernel.accessAllowed ? 'block' : 'none';\n",
              "    })();\n",
              "  </script>\n",
              "</div>\n",
              "    </div>\n",
              "  </div>\n"
            ]
          },
          "metadata": {},
          "execution_count": 4
        }
      ],
      "source": [
        "# load the BQ Table into a Pandas Dataframe\n",
        "import pandas as pd\n",
        "from google.cloud import bigquery\n",
        "\n",
        "QUESTIONS_SIZE = 1000\n",
        "\n",
        "bq_client = bigquery.Client(project=PROJECT_ID)\n",
        "QUERY_TEMPLATE = \"\"\"\n",
        "        SELECT distinct q.id, q.title\n",
        "        FROM (SELECT * FROM `bigquery-public-data.stackoverflow.posts_questions`\n",
        "        where Score > 0 ORDER BY View_Count desc) AS q\n",
        "        LIMIT {limit} ;\n",
        "        \"\"\"\n",
        "query = QUERY_TEMPLATE.format(limit=QUESTIONS_SIZE)\n",
        "query_job = bq_client.query(query)\n",
        "rows = query_job.result()\n",
        "df = rows.to_dataframe()\n",
        "\n",
        "# examine the data\n",
        "df.head()"
      ]
    },
    {
      "cell_type": "markdown",
      "metadata": {
        "id": "j6022U1FWzpb"
      },
      "source": [
        "### Call the API to generate embeddings\n",
        "\n",
        "With the Stack Overflow dataset, we will use the `title` column (the question title) and generate embedding for it with Embeddings for Text API. The API is available under the [vertexai](https://cloud.google.com/python/docs/reference/aiplatform/latest/vertexai) package of the SDK.\n",
        "\n",
        "You may see some warning messages from the TensorFlow library but you can ignore them."
      ]
    },
    {
      "cell_type": "code",
      "execution_count": 5,
      "metadata": {
        "id": "pY8M4DqO8wGx",
        "executionInfo": {
          "status": "ok",
          "timestamp": 1717451988803,
          "user_tz": 420,
          "elapsed": 3627,
          "user": {
            "displayName": "",
            "userId": ""
          }
        }
      },
      "outputs": [],
      "source": [
        "# init the vertexai package\n",
        "import vertexai\n",
        "\n",
        "vertexai.init(project=PROJECT_ID, location=LOCATION)"
      ]
    },
    {
      "cell_type": "markdown",
      "metadata": {
        "id": "jrG82n-y-EC5"
      },
      "source": [
        "From the package, import [TextEmbeddingModel](https://cloud.google.com/python/docs/reference/aiplatform/latest/vertexai.language_models.TextEmbeddingModel) and get a model."
      ]
    },
    {
      "cell_type": "code",
      "execution_count": 6,
      "metadata": {
        "id": "YVLHjSeOGoTu",
        "executionInfo": {
          "status": "ok",
          "timestamp": 1717451998335,
          "user_tz": 420,
          "elapsed": 3,
          "user": {
            "displayName": "",
            "userId": ""
          }
        }
      },
      "outputs": [],
      "source": [
        "# Load the text embeddings model\n",
        "from vertexai.preview.language_models import TextEmbeddingModel\n",
        "\n",
        "model = TextEmbeddingModel.from_pretrained(\"textembedding-gecko@003\")"
      ]
    },
    {
      "cell_type": "markdown",
      "metadata": {
        "id": "FqdVsgZDb_hc"
      },
      "source": [
        "In this tutorial we will use `textembedding-gecko@001` model for getting text embeddings. Please take a look at [Supported models](https://cloud.google.com/vertex-ai/docs/generative-ai/embeddings/get-text-embeddings#supported_models) on the doc to see the list of supported models.\n",
        "\n",
        "Once you get the model, you can call its [get_embeddings](https://cloud.google.com/python/docs/reference/aiplatform/latest/vertexai.language_models.TextEmbeddingModel#vertexai_language_models_TextEmbeddingModel_get_embeddings) function to get embeddings. You can pass up to 5 texts at once in a call. But there is a caveat. By default, the text embeddings API has a \"request per minute\" quota set to 60 for new Cloud projects and 600 for projects with usage history (see [Quotas and limits](https://cloud.google.com/vertex-ai/docs/quotas#request_quotas) to check the latest quota value for `base_model:textembedding-gecko`). So, rather than using the function directly, you may want to define a wrapper like below to limit under 10 calls per second, and pass 5 texts each time."
      ]
    },
    {
      "cell_type": "code",
      "execution_count": 7,
      "metadata": {
        "id": "8HUb9u_P2VWW",
        "executionInfo": {
          "status": "ok",
          "timestamp": 1717452010069,
          "user_tz": 420,
          "elapsed": 206,
          "user": {
            "displayName": "",
            "userId": ""
          }
        }
      },
      "outputs": [],
      "source": [
        "import time\n",
        "import tqdm  # to show a progress bar\n",
        "\n",
        "# get embeddings for a list of texts\n",
        "BATCH_SIZE = 5\n",
        "\n",
        "\n",
        "def get_embeddings_wrapper(texts):\n",
        "    embs = []\n",
        "    for i in tqdm.tqdm(range(0, len(texts), BATCH_SIZE)):\n",
        "        time.sleep(1)  # to avoid the quota error\n",
        "        result = model.get_embeddings(texts[i : i + BATCH_SIZE])\n",
        "        embs = embs + [e.values for e in result]\n",
        "    return embs"
      ]
    },
    {
      "cell_type": "markdown",
      "metadata": {
        "id": "aK4eTSPfcEuh"
      },
      "source": [
        "The following code will get embedding for the question titles and add them as a new column `embedding` to the DataFrame. This will take a few minutes."
      ]
    },
    {
      "cell_type": "code",
      "execution_count": 8,
      "metadata": {
        "id": "FcqPvu4PluN1",
        "colab": {
          "base_uri": "https://localhost:8080/",
          "height": 224
        },
        "executionInfo": {
          "status": "ok",
          "timestamp": 1717452235347,
          "user_tz": 420,
          "elapsed": 220828,
          "user": {
            "displayName": "",
            "userId": ""
          }
        },
        "outputId": "3913be1f-f879-49ed-efbb-8989c341da30"
      },
      "outputs": [
        {
          "output_type": "stream",
          "name": "stderr",
          "text": [
            "100%|██████████| 200/200 [03:40<00:00,  1.10s/it]\n"
          ]
        },
        {
          "output_type": "execute_result",
          "data": {
            "text/plain": [
              "         id                                              title  \\\n",
              "0  64281455  How to load external script on click (after pa...   \n",
              "1  64421191  Best practice when sharing data/models between...   \n",
              "2  64547443  Tcl:Is there a way to show which line in tcl t...   \n",
              "3  64345717  Loop by array and union looped result in BigQuery   \n",
              "4  64463938  How to Deserialize Avro message coming from Ev...   \n",
              "\n",
              "                                           embedding  \n",
              "0  [0.06768418103456497, -0.040421660989522934, -...  \n",
              "1  [0.03225840628147125, -0.055033911019563675, -...  \n",
              "2  [0.04543805867433548, -0.0493624173104763, -0....  \n",
              "3  [0.016898516565561295, -0.002411816967651248, ...  \n",
              "4  [0.03956948593258858, -0.021141869947314262, -...  "
            ],
            "text/html": [
              "\n",
              "  <div id=\"df-863b23d3-c50f-4dce-b86d-d06faaef5d9f\" class=\"colab-df-container\">\n",
              "    <div>\n",
              "<style scoped>\n",
              "    .dataframe tbody tr th:only-of-type {\n",
              "        vertical-align: middle;\n",
              "    }\n",
              "\n",
              "    .dataframe tbody tr th {\n",
              "        vertical-align: top;\n",
              "    }\n",
              "\n",
              "    .dataframe thead th {\n",
              "        text-align: right;\n",
              "    }\n",
              "</style>\n",
              "<table border=\"1\" class=\"dataframe\">\n",
              "  <thead>\n",
              "    <tr style=\"text-align: right;\">\n",
              "      <th></th>\n",
              "      <th>id</th>\n",
              "      <th>title</th>\n",
              "      <th>embedding</th>\n",
              "    </tr>\n",
              "  </thead>\n",
              "  <tbody>\n",
              "    <tr>\n",
              "      <th>0</th>\n",
              "      <td>64281455</td>\n",
              "      <td>How to load external script on click (after pa...</td>\n",
              "      <td>[0.06768418103456497, -0.040421660989522934, -...</td>\n",
              "    </tr>\n",
              "    <tr>\n",
              "      <th>1</th>\n",
              "      <td>64421191</td>\n",
              "      <td>Best practice when sharing data/models between...</td>\n",
              "      <td>[0.03225840628147125, -0.055033911019563675, -...</td>\n",
              "    </tr>\n",
              "    <tr>\n",
              "      <th>2</th>\n",
              "      <td>64547443</td>\n",
              "      <td>Tcl:Is there a way to show which line in tcl t...</td>\n",
              "      <td>[0.04543805867433548, -0.0493624173104763, -0....</td>\n",
              "    </tr>\n",
              "    <tr>\n",
              "      <th>3</th>\n",
              "      <td>64345717</td>\n",
              "      <td>Loop by array and union looped result in BigQuery</td>\n",
              "      <td>[0.016898516565561295, -0.002411816967651248, ...</td>\n",
              "    </tr>\n",
              "    <tr>\n",
              "      <th>4</th>\n",
              "      <td>64463938</td>\n",
              "      <td>How to Deserialize Avro message coming from Ev...</td>\n",
              "      <td>[0.03956948593258858, -0.021141869947314262, -...</td>\n",
              "    </tr>\n",
              "  </tbody>\n",
              "</table>\n",
              "</div>\n",
              "    <div class=\"colab-df-buttons\">\n",
              "\n",
              "  <div class=\"colab-df-container\">\n",
              "    <button class=\"colab-df-convert\" onclick=\"convertToInteractive('df-863b23d3-c50f-4dce-b86d-d06faaef5d9f')\"\n",
              "            title=\"Convert this dataframe to an interactive table.\"\n",
              "            style=\"display:none;\">\n",
              "\n",
              "  <svg xmlns=\"http://www.w3.org/2000/svg\" height=\"24px\" viewBox=\"0 -960 960 960\">\n",
              "    <path d=\"M120-120v-720h720v720H120Zm60-500h600v-160H180v160Zm220 220h160v-160H400v160Zm0 220h160v-160H400v160ZM180-400h160v-160H180v160Zm440 0h160v-160H620v160ZM180-180h160v-160H180v160Zm440 0h160v-160H620v160Z\"/>\n",
              "  </svg>\n",
              "    </button>\n",
              "\n",
              "  <style>\n",
              "    .colab-df-container {\n",
              "      display:flex;\n",
              "      gap: 12px;\n",
              "    }\n",
              "\n",
              "    .colab-df-convert {\n",
              "      background-color: #E8F0FE;\n",
              "      border: none;\n",
              "      border-radius: 50%;\n",
              "      cursor: pointer;\n",
              "      display: none;\n",
              "      fill: #1967D2;\n",
              "      height: 32px;\n",
              "      padding: 0 0 0 0;\n",
              "      width: 32px;\n",
              "    }\n",
              "\n",
              "    .colab-df-convert:hover {\n",
              "      background-color: #E2EBFA;\n",
              "      box-shadow: 0px 1px 2px rgba(60, 64, 67, 0.3), 0px 1px 3px 1px rgba(60, 64, 67, 0.15);\n",
              "      fill: #174EA6;\n",
              "    }\n",
              "\n",
              "    .colab-df-buttons div {\n",
              "      margin-bottom: 4px;\n",
              "    }\n",
              "\n",
              "    [theme=dark] .colab-df-convert {\n",
              "      background-color: #3B4455;\n",
              "      fill: #D2E3FC;\n",
              "    }\n",
              "\n",
              "    [theme=dark] .colab-df-convert:hover {\n",
              "      background-color: #434B5C;\n",
              "      box-shadow: 0px 1px 3px 1px rgba(0, 0, 0, 0.15);\n",
              "      filter: drop-shadow(0px 1px 2px rgba(0, 0, 0, 0.3));\n",
              "      fill: #FFFFFF;\n",
              "    }\n",
              "  </style>\n",
              "\n",
              "    <script>\n",
              "      const buttonEl =\n",
              "        document.querySelector('#df-863b23d3-c50f-4dce-b86d-d06faaef5d9f button.colab-df-convert');\n",
              "      buttonEl.style.display =\n",
              "        google.colab.kernel.accessAllowed ? 'block' : 'none';\n",
              "\n",
              "      async function convertToInteractive(key) {\n",
              "        const element = document.querySelector('#df-863b23d3-c50f-4dce-b86d-d06faaef5d9f');\n",
              "        const dataTable =\n",
              "          await google.colab.kernel.invokeFunction('convertToInteractive',\n",
              "                                                    [key], {});\n",
              "        if (!dataTable) return;\n",
              "\n",
              "        const docLinkHtml = 'Like what you see? Visit the ' +\n",
              "          '<a target=\"_blank\" href=https://colab.research.google.com/notebooks/data_table.ipynb>data table notebook</a>'\n",
              "          + ' to learn more about interactive tables.';\n",
              "        element.innerHTML = '';\n",
              "        dataTable['output_type'] = 'display_data';\n",
              "        await google.colab.output.renderOutput(dataTable, element);\n",
              "        const docLink = document.createElement('div');\n",
              "        docLink.innerHTML = docLinkHtml;\n",
              "        element.appendChild(docLink);\n",
              "      }\n",
              "    </script>\n",
              "  </div>\n",
              "\n",
              "\n",
              "<div id=\"df-0bb5ce5d-c007-44ef-a514-e37d94f7b7da\">\n",
              "  <button class=\"colab-df-quickchart\" onclick=\"quickchart('df-0bb5ce5d-c007-44ef-a514-e37d94f7b7da')\"\n",
              "            title=\"Suggest charts\"\n",
              "            style=\"display:none;\">\n",
              "\n",
              "<svg xmlns=\"http://www.w3.org/2000/svg\" height=\"24px\"viewBox=\"0 0 24 24\"\n",
              "     width=\"24px\">\n",
              "    <g>\n",
              "        <path d=\"M19 3H5c-1.1 0-2 .9-2 2v14c0 1.1.9 2 2 2h14c1.1 0 2-.9 2-2V5c0-1.1-.9-2-2-2zM9 17H7v-7h2v7zm4 0h-2V7h2v10zm4 0h-2v-4h2v4z\"/>\n",
              "    </g>\n",
              "</svg>\n",
              "  </button>\n",
              "\n",
              "<style>\n",
              "  .colab-df-quickchart {\n",
              "      --bg-color: #E8F0FE;\n",
              "      --fill-color: #1967D2;\n",
              "      --hover-bg-color: #E2EBFA;\n",
              "      --hover-fill-color: #174EA6;\n",
              "      --disabled-fill-color: #AAA;\n",
              "      --disabled-bg-color: #DDD;\n",
              "  }\n",
              "\n",
              "  [theme=dark] .colab-df-quickchart {\n",
              "      --bg-color: #3B4455;\n",
              "      --fill-color: #D2E3FC;\n",
              "      --hover-bg-color: #434B5C;\n",
              "      --hover-fill-color: #FFFFFF;\n",
              "      --disabled-bg-color: #3B4455;\n",
              "      --disabled-fill-color: #666;\n",
              "  }\n",
              "\n",
              "  .colab-df-quickchart {\n",
              "    background-color: var(--bg-color);\n",
              "    border: none;\n",
              "    border-radius: 50%;\n",
              "    cursor: pointer;\n",
              "    display: none;\n",
              "    fill: var(--fill-color);\n",
              "    height: 32px;\n",
              "    padding: 0;\n",
              "    width: 32px;\n",
              "  }\n",
              "\n",
              "  .colab-df-quickchart:hover {\n",
              "    background-color: var(--hover-bg-color);\n",
              "    box-shadow: 0 1px 2px rgba(60, 64, 67, 0.3), 0 1px 3px 1px rgba(60, 64, 67, 0.15);\n",
              "    fill: var(--button-hover-fill-color);\n",
              "  }\n",
              "\n",
              "  .colab-df-quickchart-complete:disabled,\n",
              "  .colab-df-quickchart-complete:disabled:hover {\n",
              "    background-color: var(--disabled-bg-color);\n",
              "    fill: var(--disabled-fill-color);\n",
              "    box-shadow: none;\n",
              "  }\n",
              "\n",
              "  .colab-df-spinner {\n",
              "    border: 2px solid var(--fill-color);\n",
              "    border-color: transparent;\n",
              "    border-bottom-color: var(--fill-color);\n",
              "    animation:\n",
              "      spin 1s steps(1) infinite;\n",
              "  }\n",
              "\n",
              "  @keyframes spin {\n",
              "    0% {\n",
              "      border-color: transparent;\n",
              "      border-bottom-color: var(--fill-color);\n",
              "      border-left-color: var(--fill-color);\n",
              "    }\n",
              "    20% {\n",
              "      border-color: transparent;\n",
              "      border-left-color: var(--fill-color);\n",
              "      border-top-color: var(--fill-color);\n",
              "    }\n",
              "    30% {\n",
              "      border-color: transparent;\n",
              "      border-left-color: var(--fill-color);\n",
              "      border-top-color: var(--fill-color);\n",
              "      border-right-color: var(--fill-color);\n",
              "    }\n",
              "    40% {\n",
              "      border-color: transparent;\n",
              "      border-right-color: var(--fill-color);\n",
              "      border-top-color: var(--fill-color);\n",
              "    }\n",
              "    60% {\n",
              "      border-color: transparent;\n",
              "      border-right-color: var(--fill-color);\n",
              "    }\n",
              "    80% {\n",
              "      border-color: transparent;\n",
              "      border-right-color: var(--fill-color);\n",
              "      border-bottom-color: var(--fill-color);\n",
              "    }\n",
              "    90% {\n",
              "      border-color: transparent;\n",
              "      border-bottom-color: var(--fill-color);\n",
              "    }\n",
              "  }\n",
              "</style>\n",
              "\n",
              "  <script>\n",
              "    async function quickchart(key) {\n",
              "      const quickchartButtonEl =\n",
              "        document.querySelector('#' + key + ' button');\n",
              "      quickchartButtonEl.disabled = true;  // To prevent multiple clicks.\n",
              "      quickchartButtonEl.classList.add('colab-df-spinner');\n",
              "      try {\n",
              "        const charts = await google.colab.kernel.invokeFunction(\n",
              "            'suggestCharts', [key], {});\n",
              "      } catch (error) {\n",
              "        console.error('Error during call to suggestCharts:', error);\n",
              "      }\n",
              "      quickchartButtonEl.classList.remove('colab-df-spinner');\n",
              "      quickchartButtonEl.classList.add('colab-df-quickchart-complete');\n",
              "    }\n",
              "    (() => {\n",
              "      let quickchartButtonEl =\n",
              "        document.querySelector('#df-0bb5ce5d-c007-44ef-a514-e37d94f7b7da button');\n",
              "      quickchartButtonEl.style.display =\n",
              "        google.colab.kernel.accessAllowed ? 'block' : 'none';\n",
              "    })();\n",
              "  </script>\n",
              "</div>\n",
              "    </div>\n",
              "  </div>\n"
            ]
          },
          "metadata": {},
          "execution_count": 8
        }
      ],
      "source": [
        "# get embeddings for the question titles and add them as \"embedding\" column\n",
        "df = df.assign(embedding=get_embeddings_wrapper(list(df.title)))\n",
        "df.head()"
      ]
    },
    {
      "cell_type": "markdown",
      "metadata": {
        "id": "nB53SiJjVN6e"
      },
      "source": [
        "## Look at the embedding similarities\n",
        "\n",
        "Let's see how these embeddings are organized in the embedding space with their meanings by quickly calculating the similarities between them and sorting them.\n",
        "\n",
        "As embeddings are vectors, you can calculate similarity between two embeddings by using one of the popular metrics like the followings:\n",
        "\n",
        "![](https://storage.googleapis.com/github-repo/img/embeddings/textemb-vs-notebook/8.png)\n",
        "\n",
        "Which metric should we use? Usually it depends on how each model is trained. In case of the model `textembedding-gecko@001`, we need to use inner product (dot product).\n",
        "\n",
        "In the following code, it picks up one question randomly and uses the numpy `np.dot` function to calculate the similarities between the question and other questions."
      ]
    },
    {
      "cell_type": "code",
      "execution_count": 22,
      "metadata": {
        "id": "lKs6jSu7NiM6",
        "colab": {
          "base_uri": "https://localhost:8080/"
        },
        "executionInfo": {
          "status": "ok",
          "timestamp": 1717453198215,
          "user_tz": 420,
          "elapsed": 208,
          "user": {
            "displayName": "",
            "userId": ""
          }
        },
        "outputId": "e6e398ea-84f6-411a-f0b6-289a8533e835"
      },
      "outputs": [
        {
          "output_type": "stream",
          "name": "stdout",
          "text": [
            "Key question: How to load external script on click (after page load) when in Cookiebot's auto-blocking mode\n",
            "\n"
          ]
        },
        {
          "output_type": "execute_result",
          "data": {
            "text/plain": [
              "array([0.99999733, 0.5381224 , 0.54133291, 0.56398272, 0.55400406])"
            ]
          },
          "metadata": {},
          "execution_count": 22
        }
      ],
      "source": [
        "import random\n",
        "import numpy as np\n",
        "\n",
        "# pick one of them as a key question\n",
        "key = 0\n",
        "print(f\"Key question: {df.title[key]}\\n\")\n",
        "\n",
        "# calc dot product between the key and other questions\n",
        "embs = np.array(df.embedding.to_list())\n",
        "similarities = np.dot(embs[key], embs.T)\n",
        "\n",
        "# print similarities for the first 5 questions\n",
        "similarities[:5]"
      ]
    },
    {
      "cell_type": "markdown",
      "metadata": {
        "id": "srM04lJBQp4w"
      },
      "source": [
        "Finally, sort the questions with the similarities and print the list."
      ]
    },
    {
      "cell_type": "code",
      "execution_count": 23,
      "metadata": {
        "id": "lTUVvj9FQlab",
        "colab": {
          "base_uri": "https://localhost:8080/"
        },
        "executionInfo": {
          "status": "ok",
          "timestamp": 1717453198913,
          "user_tz": 420,
          "elapsed": 245,
          "user": {
            "displayName": "",
            "userId": ""
          }
        },
        "outputId": "d00c0337-825e-4ee0-9116-1447db110563"
      },
      "outputs": [
        {
          "output_type": "stream",
          "name": "stdout",
          "text": [
            "Key question: How to load external script on click (after page load) when in Cookiebot's auto-blocking mode\n",
            "\n",
            "1.0000 How to load external script on click (after page load) when in Cookiebot's auto-blocking mode\n",
            "0.7165 How script custom HTML tag in google tag manager with an array of events\n",
            "0.7052 NuxtJS - I want to know how to implement Loading only for specific pages\n",
            "0.6902 Fire event on wheel scroll only once js\n",
            "0.6812 How to data submit and page redirect same position after the button click using javascript python Django?\n",
            "0.6754 jquery on click function work only on double click\n",
            "0.6741 React - Log in submit button to render new page\n",
            "0.6719 Selenium wont load link text - what am i missing\n",
            "0.6714 How to open new selenium session for every login?\n",
            "0.6695 Unable to stub method after module is loaded with sinon using ava and proxyquire\n",
            "0.6693 Can't import JS module in Laravel blade script tag\n",
            "0.6689 BrowserSync with Nodemon and Express Server\n",
            "0.6685 JavaScript objects update function not working\n",
            "0.6682 How can I disable auto login after registration in laravel 8?\n",
            "0.6682 How can I make a div appear when a user selects a specific option?\n",
            "0.6675 How to find element id using click event listener in puppeteer\n",
            "0.6664 How to stop special characters in selectors being replaced with flash character code\n",
            "0.6650 My analog clock handles java script not working even though I have no error\n",
            "0.6639 Base64 to PDF in Javascript to new tab\n",
            "0.6612 How do you find if content that's been delivered to you is done via cached pages or request actually went to the backend server and came back\n"
          ]
        }
      ],
      "source": [
        "# print the question\n",
        "print(f\"Key question: {df.title[key]}\\n\")\n",
        "\n",
        "# sort and print the questions by similarities\n",
        "sorted_questions = sorted(\n",
        "    zip(df.title, similarities), key=lambda x: x[1], reverse=True\n",
        ")[:20]\n",
        "for i, (question, similarity) in enumerate(sorted_questions):\n",
        "    print(f\"{similarity:.4f} {question}\")"
      ]
    },
    {
      "cell_type": "markdown",
      "metadata": {
        "id": "S75SQzAg1wHV"
      },
      "source": [
        "# Find embeddings fast with Vertex AI Vector Search\n",
        "\n",
        "As we have explained above, you can find similar embeddings by calculating the distance or similarity between the embeddings.\n",
        "\n",
        "But this isn't easy when you have millions or billions of embeddings. For example, if you have 1 million embeddings with 768 dimensions, you need to repeat the distance calculations for 1 million x 768 times. This would take some seconds - too slow."
      ]
    },
    {
      "cell_type": "markdown",
      "metadata": {
        "id": "0sjhTy-a47YH"
      },
      "source": [
        "So the researchers have been studying a technique called [Approximate Nearest Neighbor (ANN)](https://en.wikipedia.org/wiki/Nearest_neighbor_search) for faster search. ANN uses \"vector quantization\" for separating the space into multiple spaces with a tree structure. This is similar to the index in relational databases for improving the query performance, enabling very fast and scalable search with billions of embeddings.\n",
        "\n",
        "With the rise of LLMs, the ANN is getting popular quite rapidly, known as the Vector Search technology.\n",
        "\n",
        "![](https://storage.googleapis.com/gweb-cloudblog-publish/images/7._ANN.1143068821171228.max-2200x2200.png)\n",
        "\n",
        "In 2020, Google Research published a new ANN algorithm called [ScaNN](https://ai.googleblog.com/2020/07/announcing-scann-efficient-vector.html). It is considered one of the best ANN algorithms in the industry, also the most important foundation for search and recommendation in major Google services such as Google Search, YouTube and many others.\n"
      ]
    },
    {
      "cell_type": "markdown",
      "metadata": {
        "id": "xVOL8BgM2isz"
      },
      "source": [
        "## What is Vertex AI Vector Search?\n",
        "\n",
        "Google Cloud developers can take the full advantage of Google's vector search technology with [Vertex AI Vector Search](https://cloud.google.com/vertex-ai/docs/vector-search/overview) (previously called Matching Engine). With this fully managed service, developers can just add the embeddings to its index and issue a search query with a key embedding for the blazingly fast vector search. In the case of the Stack Overflow demo, Vector Search can find relevant questions from 8 million embeddings in tens of milliseconds.\n",
        "\n",
        "![](https://storage.googleapis.com/github-repo/img/embeddings/textemb-vs-notebook/9.png)\n",
        "\n",
        "With Vector Search, you don't need to spend much time and money building your own vector search service from scratch or using open source tools if your goal is high scalability, availability and maintainability for production systems."
      ]
    },
    {
      "cell_type": "markdown",
      "metadata": {
        "id": "uBt8tjidSzyU"
      },
      "source": [
        "## Get Started with Vector Search\n",
        "\n",
        "When you already have the embeddings, then getting started with Vector Search is pretty easy. In this section, we will follow the steps below.\n",
        "\n",
        "### Setting up Vector Search\n",
        "- Save the embeddings in JSON files on Cloud Storage\n",
        "- Build an Index\n",
        "- Create an Index Endpoint\n",
        "- Deploy the Index to the endpoint\n",
        "\n",
        "### Use Vector Search\n",
        "\n",
        "- Query with the endpoint\n",
        "\n",
        "### **Tip for Colab users**\n",
        "\n",
        "If you use Colab for this tutorial, you may lose your runtime while you are waiting for the Index building and deployment in the later sections as it takes tens of minutes. In that case, run the following sections again with the new instance to recover the runtime: [Install Python SDK, Environment variables and Authentication](https://colab.research.google.com/drive/1xJhLFEyPqW0qvKiERD6aYgeTHa6_U50N?resourcekey=0-2qUkxckCjt6W03AsqvZHhw#scrollTo=AtXnXhF8U-8R&line=9&uniqifier=1).\n",
        "\n",
        "Then, use the [Utilities](https://colab.research.google.com/drive/1xJhLFEyPqW0qvKiERD6aYgeTHa6_U50N?resourcekey=0-2qUkxckCjt6W03AsqvZHhw#scrollTo=BE1tELsH-u8N&line=1&uniqifier=1) to recover the Index and Index Endpoint and continute with the rest."
      ]
    },
    {
      "cell_type": "markdown",
      "metadata": {
        "id": "6pu1a3zjfQ0D"
      },
      "source": [
        "### Save the embeddings in a JSON file\n",
        "To load the embeddings to Vector Search, we need to save them in JSON files with JSONL format. See more information in the docs at [Input data format and structure](https://cloud.google.com/vertex-ai/docs/matching-engine/match-eng-setup/format-structure#data-file-formats).\n",
        "\n",
        "First, export the `id` and `embedding` columns from the DataFrame in JSONL format, and save it."
      ]
    },
    {
      "cell_type": "code",
      "execution_count": 12,
      "metadata": {
        "id": "GzZ30d4j_uLU",
        "colab": {
          "base_uri": "https://localhost:8080/"
        },
        "executionInfo": {
          "status": "ok",
          "timestamp": 1717452641480,
          "user_tz": 420,
          "elapsed": 647,
          "user": {
            "displayName": "",
            "userId": ""
          }
        },
        "outputId": "aca6b80a-7a47-4430-c47c-b39237dc5518"
      },
      "outputs": [
        {
          "output_type": "stream",
          "name": "stdout",
          "text": [
            "{\"id\":64281455,\"embedding\":[0.067684181,-0.040421661,-0.0472098589,0.0096335486,-0.0134126414,-0.0001189253,0.0233332645,-0.0145423515,0.0366332009,0.0747174025,0.0318041146,-0.0208565295,-0.0519784167,-0.0056715091,0.0435745902,-0.0408016667,0.0084937718,0.0035788552,-0.0084683243,-0.0572215617,-0.0184967928,0.0201808121,-0.0132020591,-0.0695112273,0.0181165412,0.0210595969,-0.0045468607,-0.0531600192,-0.0415866561,0.0324439071,-0.0410300568,0.0586964563,-0.0801364258,0.0045518335,-0.0693142042,-0.0174148306,0.0390739702,0.0393099077,0.0118961809,0.0564944893,-0.0181500316,-0.0254368279,-0.0158886425,0.0111677032,-0.0299145989,0.0311114695,0.0281113032,0.0207177438,-0.0126803145,-0.024666762,0.0057824515,0.0390320197,0.0054786387,-0.0212813932,-0.0256319307,0.0152711775,0.0549317896,0.03978993,-0.0059783515,-0.0264871102,0.008342714,0.0291597005,-0.0392138585,0.0938582942,-0.09100651,0.0143990126,0.023390444,-0.009004903,0.022954775,0.0239265207,0.0076429858,-0.0006502785,0.0895335153,0.0013142981,-0.0188003555,-0.0603536926,0.000151582,0.097961612,0.0075657968,0.0237455014,0.0381109677,-0.0303465705,0.0567845255,-0.0281963665,-0.0668428168,0.0476118475,0.0231662989,0.0181953441,0.0059296601,0.0637842342,-0.0435269289,-0.0103447037,0.0073399097,-0.0763075575,-0.0004250275,0.0457068905,-0.0066421209,0.0224364772,-0.001056827,-0.0183610041,0.0022521752,-0.0228186399,-0.0660258979,-0.0062916023,0.0242274161,0.0193790719,-0.0009455399,0.0499634221,-0.0818135962,0.0414775573,-0.0576026067,0.0208803061,-0.0432462469,-0.0436539948,0.0201408211,-0.0207866412,-0.0007988843,0.062909469,0.0331948213,0.0328932144,0.0463048108,0.0255330876,0.0091477856,0.0173893031,-0.0124504436,0.0108457254,0.0375316218,-0.0035631305,0.0678347796,0.018160902,0.012520127,-0.0283343438,0.0275397692,-0.028544059,-0.0139998784,0.0268007461,-0.0004402738,-0.0512335077,0.0543396361,0.0325596035,-0.0129692322,-0.0458953865,0.0006417108,0.0029605553,0.0242446419,0.0641270801,-0.0284341034,-0.0043068747,0.0100095849,0.0042328583,-0.0037024617,-0.0201693345,-0.0661199018,-0.0087589798,0.0593128912,-0.0291811768,-0.0488959253,0.0486569814,-0.0344462879,0.0156871285,0.0511926748,-0.0075128418,0.0294418167,0.0515983924,-0.0136150476,0.0255739614,-0.0435052849,0.0588357151,-0.0097827176,-0.0347807631,0.0013811842,0.0164346024,-0.1020267755,-0.0565675758,0.0227669068,-0.0211358108,0.0157079268,-0.0216205455,-0.013561721,0.0001899505,0.0144154346,-0.0131821521,0.008765405,0.0280264188,0.0303543117,-0.0281259026,0.0667846799,-0.0266899671,-0.0008004215,-0.0220592134,-0.0273299087,0.0213191621,-0.0006197821,0.0331317261,-0.0082111973,0.0615430735,0.0273493547,-0.0256581455,-0.0213197824,-0.0158101693,0.0154244984,0.0563903153,-0.0267290566,-0.0213329345,0.0199370645,-0.0075848056,0.0891532451,-0.0653479099,-0.0181903541,0.0757576227,0.0207297448,0.0444123782,-0.0417994261,-0.0053808154,0.0437712707,-0.0063234288,0.013049609,0.013694413,0.0099434415,-0.0271422546,-0.0147566572,-0.0092066396,0.010815003,0.0343538113,-0.0208684076,0.0381839275,-0.0173459779,0.0451936387,-0.0210508201,-0.0316862687,0.0059657157,0.0369965211,0.0280020423,-0.0411321037,0.1033119708,-0.0089107119,0.0311926045,-0.0142259523,-0.0053981473,0.0122356247,-0.0667906553,0.0001180296,0.0006289426,-0.0054920116,-0.0679051355,0.0148221571,0.0057246853,-0.0029424599,-0.0121453945,0.0385748185,-0.0297383741,-0.0335844569,0.0414534248,0.0118969446,0.0191052053,-0.0289083645,-0.0510267802,-0.0463604145,0.0316670574,-0.014877216,0.0593922399,-0.0106213419,-0.0571057685,0.0003852372,-0.0026952669,0.0159706213,-0.023395298,-0.0210618433,0.0036284714,0.0267732255,0.0644047037,-0.0504580848,0.0157846175,0.0477839187,0.0107436227,0.0373291895,0.0064010504,-0.0022140057,0.0180949271,-0.0215632804,-0.003019402,0.022111157,0.0352168083,-0.0758513585,-0.023397183,0.0002072692,-0.0391094089,-0.0019542067,-0.0022622189,0.0168802291,-0.0365498774,-0.0494136997,-0.0021770061,-0.0598656833,-0.0356714688,0.0102044949,-0.0459703766,0.0462599359,-0.0214592647,-0.0430012494,0.0088555058,-0.0217694342,-0.0052277683,-0.0480729938,0.080524981,0.0309241042,0.0172087979,-0.0689787567,0.0247731954,-0.0657224059,0.0530021377,0.0050733942,-0.0494195409,0.0091752997,0.057896439,0.0525064543,-0.0466005988,0.0193119552,-0.0197951291,0.025698835,-0.0093647847,0.0423531681,0.020591557,-0.049588386,-0.0100004366,0.0321075916,-0.0373952128,-0.0153993759,-0.0315982103,-0.0089424746,-0.0044445256,0.03388834,0.0069836592,-0.0036505668,0.0013137631,0.0278081503,-0.0318462253,0.0118210744,-0.0217899941,0.06721697,0.0082991701,0.0279111303,-0.063361682,-0.0441448204,-0.015013501,-0.0203200448,-0.0089148404,-0.0413357355,0.0803113505,0.0120669585,-0.0000829697,0.07909742,-0.0149336923,-0.0085402522,0.0634538308,0.014970758,-0.0085563781,-0.0337424278,-0.0373674333,0.0117200073,-0.0080087548,-0.0065588015,0.0084027695,0.0431764647,0.0129587222,0.0236802008,0.0180058666,-0.0215828698,-0.0250500143,0.0141652366,-0.0232735816,-0.0155089675,-0.0076471483,0.0080947652,-0.0293212645,-0.0271281991,-0.0158774424,-0.0372232758,-0.0052268337,0.0256539676,0.0120302094,0.0019066565,-0.018134037,0.0163299497,0.0041603791,0.0023707547,0.0488224886,0.0423120968,0.0180483889,-0.0211603139,-0.0376504138,0.0080873417,0.0017275823,-0.0024274264,0.0216759536,0.0075482703,0.0452583022,0.008757893,-0.0040201335,-0.0428807065,-0.0038121811,0.0040437658,-0.101352118,-0.0164705012,-0.0506033637,-0.0142170293,-0.0154419998,-0.0083603105,0.0013160552,-0.052027531,0.0060813264,0.0624424219,0.0008606662,-0.1296336353,-0.0439299271,-0.0341735333,0.0155527024,-0.0189976711,-0.001871006,0.0486075245,-0.0391887873,0.0215479136,0.0211771522,0.021118965,-0.0054719946,-0.0585730448,0.0010092142,0.0145240426,-0.0313246623,0.0150910206,-0.0225180872,0.0284409951,-0.0333540253,0.0225128476,-0.013433069,-0.0419590995,-0.0064236331,0.0882863253,-0.0308700074,-0.0543173701,0.0282600261,-0.0410253964,0.0072930758,-0.0049406271,-0.0276314393,-0.011251064,-0.0208101794,-0.0070821098,0.0884885266,-0.0701589435,-0.0243026018,-0.0611103326,0.0108245471,-0.0614553764,-0.0899349004,-0.0367943607,0.0575555451,0.0359887891,-0.0051103295,0.0298373159,-0.0362822376,-0.0262017921,-0.0341985896,-0.0719132647,0.0118902782,-0.0256527215,0.063590467,-0.0374474153,0.0813174844,0.109914802,0.0223457646,0.0161475744,0.0072893091,0.0082346853,-0.0101043042,0.0191797204,-0.1024946645,0.0385681838,-0.0205324106,-0.0293900836,0.0283298697,-0.0266668145,0.0154147549,0.0288893897,0.0009212642,-0.008539374,0.0034046697,0.0360695049,0.0337256454,0.0388273969,0.0235617235,-0.0161816273,-0.0290025007,-0.0581415556,0.0427872911,0.0035735273,-0.0668554902,0.0163133387,0.0486875772,0.001137661,0.0210799873,-0.0158751085,0.0017044496,-0.0312543064,0.0576111488,-0.019669842,-0.0595868565,-0.0269201212,-0.0339915492,-0.0093496973,0.0044505317,0.0038074588,0.0274338853,-0.0231910255,0.013271153,-0.0410528556,0.0128326854,0.0584498458,0.0048693786,0.0050106496,0.0402081832,-0.0384246856,-0.0921949968,-0.0199020561,0.0800582245,-0.0700988546,0.0009403538,0.0391704142,-0.0212178119,0.0435414352,0.0192897785,0.0340245403,-0.053409934,-0.0156298764,0.0403424725,-0.0054761027,-0.0252829045,-0.0050242972,0.0052361158,-0.0197270643,0.0367903598,-0.0242516398,-0.0084552439,-0.0205600131,0.0171544496,0.0515137464,0.0203484539,-0.0874352232,0.0260956138,-0.0151081476,-0.0296441894,0.0272479337,-0.0169993658,-0.0289072618,0.0938078687,-0.0592976063,-0.0182213839,-0.0002070441,-0.0061453707,-0.0448013395,0.0060542263,0.0384775922,0.015910197,0.0050843563,0.0388737358,0.0304441359,0.0241523962,-0.0220654216,0.0527133644,0.0009593786,-0.004205659,0.0002520931,-0.0079619689,-0.0128905261,0.0613796525,-0.0216863453,-0.0273749325,-0.0213946197,-0.0020383582,-0.0480358154,0.016467493,-0.0128736468,0.0172009747,0.025700409,-0.030520061,-0.0036721553,0.0041493787,-0.0127067175,-0.0116918981,0.0124134654,-0.0234350488,0.0435957313,-0.056422051,-0.0252772197,0.0078544701,0.0135536008,0.0064544012,-0.0310617685,-0.0415342487,-0.0119155347,0.0393211022,-0.0077444529,0.0710401833,0.0215798821,0.0289780237,0.056898322,0.0312060304,-0.0414984562,-0.00308165,0.0197271612,0.0111619998,0.0241583306,0.0325635374,0.0140719386,-0.0813501179,-0.0048483526,0.0542765409,-0.0179600436,-0.0021313229,-0.0473582186,-0.000843861,-0.0132951066,0.0278234743,-0.018319577,0.0733117163,0.0246948898,0.0245436504,0.0111826845,0.0490329899,-0.0179669783,-0.0101230387,0.0630985051,0.0184039138,-0.0102139805,0.0063943183,0.0314156562,0.0153183686,-0.0393259786,0.1041739807,-0.0213885419,-0.0624026284,-0.0151344454,0.0683876425,0.0126956534,0.0185762122,0.0199549459,0.0994773954,-0.1159249246,-0.0267486218,0.033521384,0.0281514246,0.0031314888,0.0354498923,-0.0051801014,0.0061365115,-0.0105355298,-0.075061284,-0.0113014812,-0.0284280814,-0.0328337811,-0.0145306122,-0.0137150027,-0.0589881837,0.0165486224,0.0064893682,-0.0419303998,0.0006710883,-0.0457887724,-0.0522154607,0.0451949909,-0.0603007004,0.0044601057,-0.0043915133,-0.033503972,0.0314696655,-0.0290367138,0.0177713651,-0.0084730452,0.0122781564,-0.0082793459,0.0384832956,-0.0421696901,-0.0431215242,0.0165536981,-0.0076084132,0.0289380997,0.0231751539,0.0133069921,-0.0173992235,-0.0182281751,0.0213570483,-0.0173731204,-0.0816259533,-0.0111265955,-0.0023280031,0.0472371988,-0.058383178,-0.0485095643,-0.0376438685,0.0449962579,-0.0388719626,-0.0121125411,-0.0075894669,0.0459713303,0.0267001614,-0.0462956727,-0.006451095,0.021479575,-0.0068267379,0.0137237702,-0.0042042881,-0.0811107755,-0.0293849204,0.032702066,0.0434824936,-0.0102566909,0.0047791046,0.0149287554,-0.0084707234,0.0086322622,0.026969213,-0.0106327794,0.0058887578,-0.0166689586,-0.0254832711,0.022994224,-0.011802623,0.0138392625,-0.0012634963,-0.0224463772,0.0034947172,-0.0299380515,0.0049678991,0.083805114,-0.0218929108,0.0386739299,-0.0064058388,0.0205333997,-0.0572803654,-0.0476305783,0.0122106513,-0.0217430405,-0.0121040959,0.062735267,0.0418017171,-0.0545577072,0.0353001282,-0.0217106547,-0.0156702753,-0.0022099956,-0.0596015677,0.002598658,-0.0094503313,0.0418593585,0.0414849333,-0.068036586,-0.0087456154,0.008946687,0.0501145273,0.0163807627,-0.045090165,0.0339580067,-0.0286488328,0.0209785365,-0.0180585124,0.002227115,-0.014072312,0.0001269535]}\n",
            "{\"id\":64421191,\"embedding\":[0.0322584063,-0.055033911,-0.0165938102,-0.0040421155,-0.008131302,0.0455832519,0.0344531499,-0.0089047076,0.0290994011,0.0291876588,0.0476745442,-0.0200937949,-0.0279862639,-0.0157478955,0.0299801808,-0.0529935025,0.0393477492,-0.0072714635,0.0419708788,-0.0217724182,-0.0347503349,-0.0262188241,-0.0060578021,0.0228141006,0.0126977693,-0.0016634522,0.0124002155,-0.0797334164,0.025805939,-0.012817841,-0.0577847362,0.1060910299,-0.0650157779,0.0396598876,0.03426845,-0.0753375366,0.0131423362,0.000661095,0.0205118507,0.0214402433,-0.0020745329,-0.0032938891,-0.0142183024,0.0014120042,0.0241080262,-0.0197592881,-0.0015034998,0.0216349773,-0.0113003412,-0.0125668542,-0.0136571918,-0.0141693437,0.0352954157,-0.0051175021,0.0063855303,-0.0214239657,-0.0067135752,0.0450732894,0.0062465016,0.0496887155,-0.0049958462,0.0289525222,-0.0135377422,0.0265605822,0.0247039087,-0.0826579183,-0.0348959453,-0.0173568353,0.0520379432,-0.0247237794,0.0141606089,-0.0208057687,0.1169452965,-0.0013016397,-0.0027648932,-0.1032680795,-0.0202245638,0.0431330837,-0.0080888104,0.0119437324,0.0202258024,-0.0489851832,-0.026657965,-0.0117183672,-0.02875215,0.0214089602,-0.0336706117,0.0031407054,0.0030600319,0.0041732793,-0.0154738314,0.0166959669,0.0094623836,-0.0600868799,0.0464666598,0.0267170034,-0.0221021548,-0.0177893173,0.0050483071,-0.0322585069,-0.0068726731,0.0070218067,-0.0681991354,-0.0174398031,0.0583998933,0.0377744101,-0.029435005,0.063325949,-0.0299182162,-0.0201129317,-0.0272754729,0.0491018556,0.0299739074,-0.0382441916,0.0160217658,-0.0278911777,-0.0135144191,0.0551965125,-0.0035904807,0.0017589141,0.0429240093,-0.0086218594,0.0371862166,-0.0203116667,-0.0087617515,0.0182652175,0.0440875404,0.0225597322,0.0620808117,0.0174152274,-0.0138841299,-0.0660504326,-0.0096758716,0.0119618662,0.030395342,0.0615668707,0.0187515095,-0.0194233693,0.0365517549,-0.01953182,-0.0226509273,0.0243648253,-0.0018659979,0.0360174403,-0.0479375869,0.0497427471,0.0210474785,-0.0088960193,0.0228455234,-0.0032877096,-0.0911807269,0.0270418152,-0.0374533236,0.0439526774,0.0183419753,-0.0373254232,0.0356475972,-0.0299303867,-0.0001179669,0.0138267679,0.130187273,0.0528045744,0.0136510916,0.0322823413,-0.0043952288,-0.0235424042,-0.0068835076,-0.0302761756,-0.0242139436,-0.0299409553,-0.0290938001,0.0043873223,-0.0176763199,-0.020142924,-0.0130751869,-0.0673775077,-0.006054299,0.0117754322,-0.0135980919,0.0329007953,-0.0212237928,-0.0244647004,-0.0295778159,0.0439340547,0.0094591379,-0.0171855725,0.0633975565,-0.0344656371,-0.0592292584,-0.0269895811,0.0144842928,0.0055407938,-0.0444610305,-0.0286885835,-0.0102710137,-0.0248853564,0.0202981122,0.0150368446,-0.0416944847,-0.0315946862,-0.00849522,0.0693505481,0.0071633318,-0.0309062731,0.005512848,-0.0085219238,0.0822531655,-0.0736884475,0.0175085757,0.0177045185,-0.0233728439,0.0104124127,-0.0547310822,0.0178783629,0.0296131875,0.0313223824,-0.0186004713,0.0374252796,0.0311195329,-0.0603625812,-0.0310811829,0.0233261008,-0.0080541149,-0.0119294189,-0.0315908715,0.0065090763,0.0022428578,0.0318386964,-0.0016819615,-0.0584291853,0.0021324002,0.0730453655,0.0210324246,0.003085813,0.0743290931,-0.026755318,-0.046693176,0.0353157297,-0.0028241544,-0.0374215916,-0.002961521,0.0184620246,0.0691739097,-0.0057885726,-0.0423135981,-0.0040372354,-0.0284185428,0.0256951991,-0.041479867,0.0149740446,-0.0195833258,-0.0204528663,0.0116764512,0.0009658363,-0.0236553643,-0.0050387294,-0.0464106575,0.0408751294,0.0319786184,0.0130611779,0.0319921225,-0.0324092619,-0.0255452543,-0.0139971897,-0.0045029609,-0.0347568728,0.0317324139,-0.0406954326,0.0149996886,-0.0176592842,0.0083402703,-0.046123147,0.0938249081,0.0241679475,-0.0309114382,0.0543742888,-0.0127077457,0.0223419312,0.0199806262,-0.0520840287,-0.0017761479,-0.0026892964,0.020801954,-0.0015670118,-0.066523537,-0.0048117721,-0.0655330718,0.015030372,-0.0006812568,-0.0382250994,-0.0321351476,-0.0240363814,0.0208403431,-0.0439175069,0.0399280116,0.005175225,-0.0231244117,0.0572823882,0.0330210216,-0.0066312226,0.0118741989,0.0171062648,-0.0431573763,-0.0303111561,0.0041394504,-0.0105875405,-0.0183614362,-0.0585126579,-0.0018526216,-0.0283818655,0.0514385365,-0.0059693465,0.0073023834,-0.0336670987,0.0192533899,0.0335841104,-0.0311026108,-0.0225841124,-0.010142006,0.0249975473,-0.034862671,-0.0097296825,0.035698995,0.0422174931,0.012882988,0.0498065576,-0.0510145351,0.0018614923,0.0050260513,0.0264590755,0.0000277391,0.1044163182,0.0376590379,0.0392613262,0.0091790473,0.0205268357,-0.0598385595,-0.0062917233,-0.0431736447,0.0309523083,0.0504111946,-0.0071434202,0.0021297142,-0.0490755364,0.033542335,-0.0003571997,-0.0440699868,-0.0089210505,0.021698134,0.0480337888,-0.012772277,0.0759050474,-0.019977117,-0.0149089722,0.033532165,0.0504860543,0.0394696593,-0.060457468,-0.0053365245,0.0028308795,0.0197625365,-0.0004583863,-0.0262496769,0.0222858787,0.0192538761,-0.0188943371,0.0227355137,-0.0080465386,-0.0195144191,0.0405512899,-0.0001020154,-0.074004285,0.0230081156,0.0253362805,-0.0320193358,-0.0121247023,-0.0241016429,-0.0097380364,0.0469165184,-0.0176528152,0.0352231823,-0.0410440192,0.0604138784,0.0378957428,0.0236650798,-0.0076224147,0.0072378451,0.0375354439,0.0575212091,0.0029141398,-0.0242983401,0.0331802964,0.0363797583,-0.0044279275,0.010828197,-0.0347105935,0.0698190108,-0.0122511657,0.0232879575,-0.0461488664,-0.0558804497,-0.0191264562,-0.0819645524,-0.0314301029,-0.0214254223,-0.0727456883,-0.0269960258,-0.0258478783,-0.0309445392,-0.0176197551,-0.0065609124,0.0369671434,0.0151577806,-0.0374979153,-0.0368770137,-0.008369484,0.054190252,-0.0351178497,0.0217772685,0.051441554,-0.0341237299,-0.0025512311,-0.0072525148,0.0564336106,0.0006742552,-0.0275843963,-0.0435394906,-0.0184205174,0.0014775564,0.0269026048,-0.039301727,0.0308171976,-0.0185104255,-0.04429207,-0.003581838,-0.0369445458,-0.0134915691,0.041231174,-0.0416470878,-0.0190227684,0.0260126125,-0.001600361,0.0575826466,-0.0074183969,-0.0675605685,-0.0516455434,0.0042778649,-0.0707447082,0.0694960803,-0.0540724806,0.0184221417,-0.0597709045,-0.0138587561,-0.061478056,-0.049841512,-0.0314477235,0.0656794012,0.0538663231,0.0051229438,-0.001875578,-0.0412139259,-0.0253194086,-0.0329574011,-0.0658663288,0.0174781624,0.020702146,0.0148509266,-0.0440960005,0.0379746258,0.036169976,-0.0033434711,-0.0029276456,0.0380639136,0.0002759017,0.0362552255,-0.0194361079,-0.1042435616,0.0116209481,0.0102423104,-0.001833878,0.0063829632,-0.0635572895,0.014169083,0.0502692275,0.0006198424,-0.0089070564,0.0141538838,-0.0596793331,0.0016039672,0.0722839162,-0.017334884,0.0267442763,-0.0388555266,-0.0082402304,0.0135669503,0.0543902144,0.0315930955,-0.0129241906,0.0106881382,0.0084209144,0.0280651394,-0.0627592131,-0.0007100197,-0.0640724376,0.0504938774,-0.0405221656,0.033495836,-0.0086995177,-0.043045342,-0.0027222845,0.0048340303,0.0441944487,0.0030079118,-0.0266440306,0.0334194675,-0.0140505964,-0.0171836242,0.058148507,0.0154630318,0.0180265214,0.0996694714,-0.0017913337,-0.1519227624,0.0091529163,-0.0096967444,-0.1040303409,-0.0291360524,-0.0150443651,-0.0405213572,0.0309665538,0.0086636357,0.0159935169,-0.06456545,-0.0157690756,-0.0077612358,-0.0198297519,-0.0122596845,-0.0240819752,-0.0019623383,-0.0044724466,0.0184488259,-0.0246776398,-0.0556026809,-0.0171123892,-0.0199526586,0.0166541431,0.0240092967,-0.0553581528,0.0246490464,-0.0132783558,0.0030469543,-0.0460741892,-0.0243879687,-0.0749531686,0.0914758667,-0.0308253821,-0.0547927842,0.013049623,0.0019506774,-0.0001780747,0.0123204654,0.0096903909,-0.0169484951,0.0092489552,0.0684898496,0.0633836091,0.0037097498,-0.0559345372,0.0500626117,-0.0099607939,-0.0322545283,0.0001462813,-0.0311537683,0.0449294113,0.0447455123,-0.0260487851,-0.0262862276,-0.008166166,0.0305611789,0.0053556329,0.0527089201,-0.0414746068,-0.0177357756,0.0163159017,-0.0090756454,0.043625053,-0.0032112852,-0.014794684,0.019800771,0.0315515734,-0.0212655012,0.0323132426,0.0151609676,-0.0342319459,0.0315685533,-0.0016511104,-0.0297301337,-0.0008120107,0.0235134829,0.0281061027,0.0274594966,-0.0325086266,0.0696864203,0.0070337378,0.044904232,0.0468758643,-0.0072789825,-0.0178889781,0.0115102055,0.0362193771,-0.0288837738,0.0338052884,0.0330910161,-0.05454446,0.0135943564,0.0235208999,0.0700800046,-0.0084445486,-0.0125153651,-0.0357685275,-0.0108402139,-0.0097076902,0.0000148664,-0.0433426574,0.0219723415,-0.0139239272,-0.020781707,-0.0503341407,0.0684169829,0.0042856853,0.027567517,0.1002369076,-0.0030149415,-0.0235738568,0.0059928331,0.049616836,0.0146174794,0.0208834112,0.0008846581,0.002396933,-0.0601468794,-0.0174609497,0.0271543805,-0.0152930254,-0.0057437518,0.0048308643,0.0668560266,-0.0890215784,-0.0491666906,0.0200574584,-0.038852632,-0.0088311182,-0.0005039722,0.0044017434,0.036093358,0.0164436232,0.005164071,-0.0476270057,-0.0173523482,0.00899499,-0.0500920713,0.0606238209,-0.0039538136,-0.025633242,0.0290778577,-0.0284617171,-0.051072944,-0.0522384867,-0.0419295207,0.0718744993,-0.0677337945,0.0384278819,0.0044314745,-0.0670732856,0.0583713464,-0.0259151831,0.0142661622,0.0501213893,0.0306712091,0.0249560531,0.0378249921,-0.0159441829,-0.0099033006,0.0431608297,0.0134496279,0.0515381657,0.0251755603,-0.0187480617,0.0125381602,-0.0205223188,0.0084565869,-0.0274554864,-0.0626236349,0.052582562,0.0328309052,-0.0029297548,-0.0220416859,0.0207803492,0.0328266434,0.00506467,0.0047070379,-0.0250374079,-0.0062732357,0.013950848,0.0010781427,0.0230571777,0.0221759528,-0.0351980887,0.028348498,0.0030282564,0.0318215229,-0.0960686952,-0.014930604,0.0094870655,-0.0037480753,0.0368004665,0.0150823826,0.0237941239,-0.03651971,0.0771777257,0.0050465325,-0.0007136818,0.0144338282,-0.0689678788,-0.0259244535,0.0373353139,-0.0772780627,0.0544323586,-0.055561617,0.0015951875,0.058127705,-0.0226243325,-0.0172023717,0.0038759478,-0.0246920567,0.0404521339,-0.0156846531,0.0071024457,-0.0176577568,-0.0785297751,-0.0143836532,0.0280626528,-0.0019440076,0.0776076317,-0.0237273909,-0.0497543067,0.0053898739,-0.0398021415,-0.0041717063,-0.0307536162,-0.0717251599,0.0008916088,-0.0137858847,0.0500619225,0.0584096052,-0.0000875963,-0.0342742093,0.042501092,-0.0151902651,0.0280249249,-0.0323550589,0.0099305017,-0.0187924821,0.0568904504,0.0171149671,0.0315037966,-0.0217916723,0.0045875972]}\n",
            "{\"id\":64547443,\"embedding\":[0.0454380587,-0.0493624173,-0.0187887121,-0.0460583977,0.053424526,0.0290112775,0.0558879785,-0.0107706059,0.0570293479,0.092726782,0.017380761,-0.0281306971,0.0225876626,-0.0181340743,0.0468017049,-0.0120428205,-0.0033106408,-0.0088791288,-0.004386446,-0.065201655,-0.0128304558,-0.0105369501,-0.0592348836,0.0239176769,0.0372978561,-0.0221925285,-0.0125395162,-0.0767919272,-0.0294828154,0.0171379913,-0.0681789145,-0.0035495695,-0.1071670726,-0.025633214,-0.0183586217,-0.0473429225,0.0412040353,-0.0314228721,0.0221983343,0.0185965169,0.0370967239,-0.0092300642,-0.0183633603,0.0105910627,-0.0172789693,0.0122648887,0.0239299256,0.0244113263,-0.0242077783,-0.0342316702,0.0009662701,-0.0378817581,0.0508903451,-0.0425377116,-0.0196632016,-0.0743030012,0.0303792916,0.0343481675,-0.0404242277,-0.0053364974,0.0179037545,0.0274098199,-0.0165299345,-0.0199348088,-0.0085005201,-0.0417847149,0.0177062955,-0.0137470821,0.0491278656,0.0495881476,0.0845625401,0.0089945691,0.0522507206,-0.0353302434,-0.0275330152,-0.0925955325,-0.0334562846,0.0688446388,0.0133089209,0.0570408814,0.0223252829,-0.0338791572,0.020696871,-0.0133823017,-0.0565939583,0.0450569913,-0.0089600598,0.0053017884,-0.0441054665,0.0402899012,-0.0512277931,-0.0021825267,0.0235799029,-0.0104633318,-0.0302974749,0.0746444166,0.0082828393,0.0143878097,0.0041106003,0.0182704981,0.0095584216,-0.0682018772,-0.0445828326,-0.0137008103,-0.0002958179,0.0712386593,0.040783044,0.0975384191,-0.0054700212,0.0388549492,0.0124308579,-0.0075436467,-0.0331677943,-0.007637884,0.0255696028,-0.012858253,-0.0249214899,0.0567957945,0.0361190028,0.0258887187,0.0592895374,0.0176593009,-0.0019164688,0.0251844767,-0.0003350432,0.0048698164,0.0013912781,0.0493821539,0.0379508846,-0.0152931157,-0.0069135651,-0.0845237002,0.0696634874,0.0271312688,0.0119880289,0.0546447337,-0.0113875791,-0.0488012396,-0.0112386141,0.0494832061,-0.028987417,-0.0167980827,-0.0149212256,0.017421551,-0.0019743859,0.0184101332,-0.0375418402,-0.0254407488,0.0465635285,-0.06251093,-0.0183923859,-0.0339460112,-0.1015658826,-0.0067982413,0.061840903,-0.0105476566,-0.0334977657,0.0349678621,0.0291095637,0.0041951183,0.0175154638,0.027961364,-0.0152039453,0.0471215546,-0.0004687643,-0.0183088724,-0.020912163,0.0221605431,-0.0853078961,0.0113309287,-0.0275702029,0.0142128849,-0.0286711007,-0.0338897146,0.0364144817,-0.0225606598,-0.0278590508,-0.0220532622,0.007183786,-0.0005818919,-0.0073052086,-0.0400557816,0.0221177004,0.0029283343,0.0321444497,0.0023450761,0.0054497868,-0.0406206958,-0.0123182666,-0.0341826901,-0.0189522207,0.0239806287,-0.0018832257,-0.0271454081,0.0175579414,-0.0215512756,0.0339008048,0.0170172229,-0.0078598801,-0.0840975121,-0.0117989909,0.0328925028,0.0284888763,0.0137726953,0.014435011,0.018989021,0.0617462955,-0.0139162457,-0.0878367275,0.0551812053,-0.0272630397,0.0255522039,-0.0632465482,-0.0087930718,0.064528048,0.0217927694,0.0442058705,0.0344243124,0.0071532363,-0.0386869796,-0.0813098177,-0.0036231857,-0.01770203,0.0008991145,0.0250535142,0.0183340181,0.0201369915,0.0147037059,-0.0230382476,-0.0267134812,-0.0038157823,0.0795596763,0.050679367,-0.0044317995,0.055815924,-0.0100453338,-0.0193122216,-0.0297850184,0.0150880218,-0.0269505195,-0.0150390184,0.0087401047,0.0565225892,0.0079771662,-0.0580041632,-0.011462763,0.0398624651,0.0344898812,-0.0333586223,0.0241705757,-0.006899945,-0.0335188694,0.0420371145,0.0171791594,-0.0135211572,-0.0175019577,-0.0700007528,0.0248130634,0.0255750101,0.0235150587,0.0280109756,-0.0508953482,0.0154509284,-0.0101628406,-0.0195422322,-0.0095796734,0.0361341164,-0.0556838699,0.0134017076,0.0215476453,-0.0524710976,-0.0494385548,0.0712886974,0.0339776352,0.0205007456,0.0247806162,-0.0168966334,0.0417213514,-0.0229688082,-0.0439729691,0.0176334754,0.0783061311,0.0366019607,-0.0100926198,-0.0220735036,-0.0037888787,-0.0422364473,0.0070637297,0.0005995837,-0.0384713411,-0.0199850351,0.0198341385,-0.0050001196,-0.0420091636,0.0121661043,-0.0280678459,-0.043572288,0.0107856896,0.0068442142,0.0120691322,-0.014620956,-0.0293049775,-0.0475476198,-0.0170274302,0.0346130207,0.0496703498,-0.0168289468,-0.0314223096,-0.0180245899,0.0117782196,0.002527802,-0.0036702168,-0.0050679711,0.038086459,0.002572336,0.0594926737,-0.0078331083,0.0048604691,-0.014307173,-0.018394975,-0.0356048644,0.0700559095,0.0341493413,-0.0301949605,-0.0112346979,0.0803199038,0.0005517138,0.0218495056,-0.019249374,0.0108169392,-0.0453833491,0.0555364527,-0.0595637709,0.0296692215,-0.0348425545,0.0260074269,-0.0471427217,0.0394416265,-0.0332687199,0.0055596,0.0320809521,0.057567779,0.023674231,-0.0168906972,0.0122341961,-0.0452121794,0.0096365083,-0.0729245618,0.0485049412,0.0258520916,0.0014997463,0.0642180815,-0.0182337631,-0.0287024956,0.0550954379,0.0240992997,-0.0112695787,-0.0432848744,0.0327241123,-0.0274213646,-0.0719231889,0.0264440496,0.0125892507,0.0095370756,-0.0130742406,0.0044398741,-0.004836774,0.0031917884,-0.067347154,0.0327172019,0.0339805409,-0.0218582768,-0.0274390019,0.0207073409,-0.0362867601,-0.0355820209,-0.0190233048,0.0197048783,0.1010284275,-0.0092638815,0.0258049387,0.0076642819,0.0694738552,0.0143062733,0.0127045512,-0.0032532276,0.0923907757,0.0491322353,0.0135460496,0.0147011047,-0.0210979749,0.0192048848,0.0421241708,-0.0312832184,0.0021414303,0.038403362,0.0179083031,0.0001800358,0.0169123933,0.0128534278,-0.0385067016,0.0321755372,-0.0507405028,-0.0255420711,0.0033989269,-0.0248906538,-0.0202672891,-0.0032477069,-0.0112355305,0.0002701365,-0.0281302854,0.0561512038,0.0224845186,-0.083647795,-0.0481762886,-0.0214123558,0.0056430455,-0.0228503384,0.0128262173,0.0558215939,0.0143499048,0.0178431012,0.0236595217,0.0267137829,0.0132536385,-0.0058169677,0.015445576,0.0102532282,-0.0149414288,0.008670331,0.0294594429,0.0345988609,-0.0098685455,-0.0317294933,-0.010853732,-0.0690148175,-0.0048601246,0.0376857668,-0.0158729982,0.0105483672,0.0251599699,-0.0332936533,0.0136918444,0.0269228388,-0.0115656666,-0.0109651005,-0.0099173132,-0.0308286585,0.0707113594,-0.0896238238,0.0246141627,-0.0774624124,-0.0190650057,-0.0412546806,-0.0837411657,-0.0538766421,0.0251347162,0.0520737246,0.0282426514,0.0399175324,-0.0717152357,-0.0335322358,-0.0595578179,-0.0733232424,0.0251147542,0.0108059505,0.061538104,0.0182067771,0.0851438195,-0.0037194465,0.0058546048,-0.0238345042,-0.0004607023,0.0413110852,-0.040842101,-0.0358253792,-0.0398886204,0.029734455,0.0010428188,0.0072525581,-0.0237376504,0.0368312523,0.0170750618,0.0412493572,0.0048511573,0.0009044418,0.0070609022,-0.0239852574,0.0205863491,0.0053076395,0.0048295269,0.0151997684,-0.013433177,-0.0245461948,0.0072301938,0.0268360041,-0.0382541493,-0.0009720896,0.0061950767,-0.0479606576,0.0109446626,-0.0355363861,0.0025901503,-0.0151514541,0.0840974301,-0.0204921681,0.0095442524,-0.0461073667,0.0071567949,0.0233384501,0.0260499232,0.0577482246,-0.0183254816,-0.054542888,-0.0235477742,0.016518997,-0.0059370738,0.0762773156,-0.0276912954,-0.0118261501,0.0495596789,-0.0053294096,-0.1029663235,0.0295306928,0.0055448427,-0.0527485497,0.0624715388,0.0056379796,-0.0467470959,-0.0068285884,-0.0134755829,0.0198539607,-0.037456613,-0.0179312155,-0.0046008797,-0.0006584807,0.0644070804,-0.0086375372,0.0591436289,-0.0302777831,0.0154154208,0.0193018001,0.0056666955,0.004848829,0.0247512124,0.0501559526,-0.0172782317,-0.0393914953,-0.0060622003,0.0254902598,-0.0372861288,0.0006368734,0.0061573768,-0.0382844359,0.0400092006,-0.0059370277,-0.0475767814,0.0059229354,-0.0210825019,0.030835472,0.0013969868,0.0173752494,-0.0023474931,0.0007624509,0.0498933531,0.0210162476,0.0033747505,-0.0328826718,0.0175911859,-0.009513244,0.019168349,-0.0090686828,-0.0138170682,0.0377235785,-0.0005755891,0.0284610055,-0.0415954143,0.0106259705,0.0381235108,0.0023953046,0.035584826,-0.0705983192,-0.0167604312,0.0110386685,-0.046127025,0.0022865862,-0.0127652884,0.0045089279,0.0473180786,0.0223843642,-0.0864607319,0.024220638,-0.0164861288,-0.0089625241,0.0314526372,0.0189407989,-0.0093086967,-0.0029962489,-0.0173590295,-0.0499288477,0.0432678051,0.0087780301,0.0677379966,0.0305915251,0.0388725139,0.0506999344,0.0464508571,0.0234060027,0.0123069482,0.0288185999,0.0084115062,0.0625931844,-0.0076484624,-0.048658628,0.0018956505,0.007397173,0.0524342619,-0.026070429,-0.0427096821,-0.0106588416,-0.0139164757,0.0441341549,-0.0016828447,-0.0126521084,0.0742858052,0.0055053853,0.0144389272,-0.0138990115,0.0393832438,-0.0465927757,0.0145889949,0.0342824608,-0.0019946622,-0.0207576957,-0.0118313087,0.0084824441,-0.0000159955,-0.0272029415,0.0185918063,0.0099450042,-0.0817722827,0.0347457267,0.0240486395,-0.038761396,-0.0116595915,0.0997965112,0.0518964343,-0.0756784678,-0.0523493253,-0.0032597256,-0.0665556118,-0.0079347314,0.0475879386,-0.0104210405,0.0135772321,0.0045036399,-0.0169028174,-0.0081981868,-0.005770972,0.0214474592,-0.0661939755,0.0150247365,-0.0233082343,-0.0219794195,-0.012096893,-0.0184720717,-0.0295258574,-0.0588054284,-0.041260127,0.0674739704,-0.0799163729,0.0262294672,0.0216065533,0.0186424907,0.0156060252,0.0487367325,0.0287646409,0.0248101372,0.0805520415,0.0149655333,-0.010398793,-0.0525586903,0.0003326168,0.0086169746,0.0126697561,0.068962656,-0.0332178697,-0.000847991,-0.0133898258,-0.1095494255,-0.0215611774,-0.0092169829,-0.0603930689,0.015516432,0.0257971678,-0.0145855257,0.0230579451,0.0253884122,0.0225520022,-0.0089231739,-0.0213695373,-0.0569595657,0.0200283509,-0.0172321089,0.0186836999,-0.0045379899,0.0195239969,-0.0302202124,0.0033505482,0.0219783634,0.0389730446,-0.0462389104,0.0197795872,0.0493968613,0.0606419817,0.0016570573,0.0092171952,0.0220088642,-0.0613786951,0.0329137407,-0.007793962,-0.0061441511,0.0075624967,-0.0221145824,-0.0496152267,0.0412442796,-0.033264935,0.0286681969,-0.033615347,-0.0357729681,0.0541136973,0.0067153657,-0.0316888653,-0.0385210887,-0.0215006173,0.0725931972,0.045191396,0.068206422,0.0098653967,-0.0632853135,-0.0034192256,0.0134026045,0.0330383815,0.0924799889,0.0238135029,-0.0500158481,0.0498792864,-0.0262782965,-0.0269044638,0.0106228916,-0.0521224178,0.0005435406,0.0027221069,0.0107343616,0.0429126024,-0.0205806177,-0.0329960622,-0.0497735851,0.0419720598,0.0324672498,-0.0578310564,0.0432162918,-0.0439546928,0.049632065,0.0123992665,0.0161359608,-0.0168214943,0.0074936049]}\n"
          ]
        }
      ],
      "source": [
        "# save id and embedding as a json file\n",
        "jsonl_string = df[[\"id\", \"embedding\"]].to_json(orient=\"records\", lines=True)\n",
        "with open(\"questions.json\", \"w\") as f:\n",
        "    f.write(jsonl_string)\n",
        "\n",
        "# show the first few lines of the json file\n",
        "! head -n 3 questions.json"
      ]
    },
    {
      "cell_type": "markdown",
      "metadata": {
        "id": "-WTNJ3FAQl_W"
      },
      "source": [
        "Then, create a new Cloud Storage bucket and copy the file to it."
      ]
    },
    {
      "cell_type": "code",
      "execution_count": 13,
      "metadata": {
        "id": "CzwDWJfzAk3n",
        "colab": {
          "base_uri": "https://localhost:8080/"
        },
        "executionInfo": {
          "status": "ok",
          "timestamp": 1717452672048,
          "user_tz": 420,
          "elapsed": 5858,
          "user": {
            "displayName": "",
            "userId": ""
          }
        },
        "outputId": "fd66e07f-4dc5-44c0-e341-8da3092c7ea4"
      },
      "outputs": [
        {
          "output_type": "stream",
          "name": "stdout",
          "text": [
            "Creating gs://multi-tenancy-dataproc-embvs-tutorial-06032159/...\n",
            "Copying file://questions.json [Content-Type=application/json]...\n",
            "/ [1 files][  9.8 MiB/  9.8 MiB]                                                \n",
            "Operation completed over 1 objects/9.8 MiB.                                      \n"
          ]
        }
      ],
      "source": [
        "BUCKET_URI = f\"gs://{PROJECT_ID}-embvs-tutorial-{UID}\"\n",
        "! gsutil mb -l $LOCATION -p {PROJECT_ID} {BUCKET_URI}\n",
        "! gsutil cp questions.json {BUCKET_URI}"
      ]
    },
    {
      "cell_type": "markdown",
      "metadata": {
        "id": "xxdbjKw1XDxl"
      },
      "source": [
        "### Create an Index\n",
        "\n",
        "Now it's ready to load the embeddings to Vector Search. Its APIs are available under the [aiplatform](https://cloud.google.com/python/docs/reference/aiplatform/latest/google.cloud.aiplatform) package of the SDK."
      ]
    },
    {
      "cell_type": "code",
      "execution_count": 14,
      "metadata": {
        "id": "8unyr9KagAoI",
        "executionInfo": {
          "status": "ok",
          "timestamp": 1717452683751,
          "user_tz": 420,
          "elapsed": 179,
          "user": {
            "displayName": "",
            "userId": ""
          }
        }
      },
      "outputs": [],
      "source": [
        "# init the aiplatform package\n",
        "from google.cloud import aiplatform\n",
        "\n",
        "aiplatform.init(project=PROJECT_ID, location=LOCATION)"
      ]
    },
    {
      "cell_type": "markdown",
      "metadata": {
        "id": "xpMUXqWQ75uu"
      },
      "source": [
        "Create an [MatchingEngineIndex](https://cloud.google.com/python/docs/reference/aiplatform/latest/google.cloud.aiplatform.MatchingEngineIndex) with its `create_tree_ah_index` function (Matching Engine is the previous name of Vector Search)."
      ]
    },
    {
      "cell_type": "code",
      "execution_count": 15,
      "metadata": {
        "id": "kKDw5VXMkXb3",
        "colab": {
          "base_uri": "https://localhost:8080/"
        },
        "executionInfo": {
          "status": "ok",
          "timestamp": 1717452871108,
          "user_tz": 420,
          "elapsed": 27645,
          "user": {
            "displayName": "",
            "userId": ""
          }
        },
        "outputId": "7c6ec0dd-215d-4ba6-ac9f-cd63d0f33d35"
      },
      "outputs": [
        {
          "output_type": "stream",
          "name": "stderr",
          "text": [
            "INFO:google.cloud.aiplatform.matching_engine.matching_engine_index:Creating MatchingEngineIndex\n",
            "INFO:google.cloud.aiplatform.matching_engine.matching_engine_index:Create MatchingEngineIndex backing LRO: projects/1054251275628/locations/us-central1/indexes/6380039365472550912/operations/3886318715611906048\n",
            "INFO:google.cloud.aiplatform.matching_engine.matching_engine_index:MatchingEngineIndex created. Resource name: projects/1054251275628/locations/us-central1/indexes/6380039365472550912\n",
            "INFO:google.cloud.aiplatform.matching_engine.matching_engine_index:To use this MatchingEngineIndex in another session:\n",
            "INFO:google.cloud.aiplatform.matching_engine.matching_engine_index:index = aiplatform.MatchingEngineIndex('projects/1054251275628/locations/us-central1/indexes/6380039365472550912')\n"
          ]
        }
      ],
      "source": [
        "# create index\n",
        "my_index = aiplatform.MatchingEngineIndex.create_tree_ah_index(\n",
        "    display_name=f\"embvs-tutorial-index-{UID}\",\n",
        "    contents_delta_uri=BUCKET_URI,\n",
        "    dimensions=768,\n",
        "    approximate_neighbors_count=20,\n",
        "    distance_measure_type=\"DOT_PRODUCT_DISTANCE\",\n",
        ")"
      ]
    },
    {
      "cell_type": "markdown",
      "metadata": {
        "id": "2rFam_w9U0dI"
      },
      "source": [
        "By calling the `create_tree_ah_index` function, it starts building an Index. This will take under a few minutes if the dataset is small, otherwise about 50 minutes or more depending on the size of the dataset. You can check status of the index creation on [the Vector Search Console > INDEXES tab](https://console.cloud.google.com/vertex-ai/matching-engine/indexes).\n",
        "\n",
        "![](https://storage.googleapis.com/github-repo/img/embeddings/vs-quickstart/creating-index.png)\n",
        "\n",
        "#### The parameters for creating index\n",
        "\n",
        "- `contents_delta_uri`: The URI of Cloud Storage directory where you stored the embedding JSON files\n",
        "- `dimensions`: Dimension size of each embedding. In this case, it is 768 as we are using the embeddings from the Text Embeddings API.\n",
        "- `approximate_neighbors_count`: how many similar items we want to retrieve in typical cases\n",
        "- `distance_measure_type`: what metrics to measure distance/similarity between embeddings. In this case it's `DOT_PRODUCT_DISTANCE`\n",
        "\n",
        "See [the document](https://cloud.google.com/vertex-ai/docs/vector-search/create-manage-index) for more details on creating Index and the parameters.\n",
        "\n",
        "#### Batch Update or Streaming Update?\n",
        "There are two types of index: Index for *Batch Update* (used in this tutorial) and Index for *Streaming Updates*. The Batch Update index can be updated with a batch process whereas the Streaming Update index can be updated in real-time. The latter one is more suited for use cases where you want to add or update each embeddings in the index more often, and crucial to serve with the latest embeddings, such as e-commerce product search.\n",
        "\n"
      ]
    },
    {
      "cell_type": "markdown",
      "metadata": {
        "id": "VLOAMF50XMI8"
      },
      "source": [
        "### Create Index Endpoint and deploy the Index\n",
        "\n",
        "To use the Index, you need to create an [Index Endpoint](https://cloud.google.com/vertex-ai/docs/vector-search/deploy-index-public). It works as a server instance accepting query requests for your Index."
      ]
    },
    {
      "cell_type": "code",
      "execution_count": 24,
      "metadata": {
        "id": "h6IzyufWCjU1",
        "colab": {
          "base_uri": "https://localhost:8080/"
        },
        "executionInfo": {
          "status": "ok",
          "timestamp": 1717453381768,
          "user_tz": 420,
          "elapsed": 1461,
          "user": {
            "displayName": "",
            "userId": ""
          }
        },
        "outputId": "5b41c460-5c5d-4a1d-e489-0a29155b8075"
      },
      "outputs": [
        {
          "output_type": "stream",
          "name": "stderr",
          "text": [
            "INFO:google.cloud.aiplatform.matching_engine.matching_engine_index_endpoint:Creating MatchingEngineIndexEndpoint\n",
            "INFO:google.cloud.aiplatform.matching_engine.matching_engine_index_endpoint:Create MatchingEngineIndexEndpoint backing LRO: projects/1054251275628/locations/us-central1/indexEndpoints/2580479023599583232/operations/7802198591610552320\n",
            "INFO:google.cloud.aiplatform.matching_engine.matching_engine_index_endpoint:MatchingEngineIndexEndpoint created. Resource name: projects/1054251275628/locations/us-central1/indexEndpoints/2580479023599583232\n",
            "INFO:google.cloud.aiplatform.matching_engine.matching_engine_index_endpoint:To use this MatchingEngineIndexEndpoint in another session:\n",
            "INFO:google.cloud.aiplatform.matching_engine.matching_engine_index_endpoint:index_endpoint = aiplatform.MatchingEngineIndexEndpoint('projects/1054251275628/locations/us-central1/indexEndpoints/2580479023599583232')\n"
          ]
        }
      ],
      "source": [
        "# create IndexEndpoint\n",
        "my_index_endpoint = aiplatform.MatchingEngineIndexEndpoint.create(\n",
        "    display_name=f\"embvs-tutorial-index-endpoint-{UID}\",\n",
        "    public_endpoint_enabled=True,\n",
        ")"
      ]
    },
    {
      "cell_type": "markdown",
      "metadata": {
        "id": "7oplGbKTnNwG"
      },
      "source": [
        "This tutorial utilizes a [Public Endpoint](https://cloud.google.com/vertex-ai/docs/vector-search/setup/setup#choose-endpoint) and does not support [Virtual Private Cloud (VPC)](https://cloud.google.com/vpc/docs/private-services-access). Unless you have a specific requirement for VPC, we recommend using a Public Endpoint. Despite the term \"public\" in its name, it does not imply open access to the public internet. Rather, it functions like other endpoints in Vertex AI services, which are secured by default through IAM. Without explicit IAM permissions, as we have previously established, no one can access the endpoint."
      ]
    },
    {
      "cell_type": "markdown",
      "metadata": {
        "id": "8n33iO1T5hFO"
      },
      "source": [
        "With the Index Endpoint, deploy the Index by specifying an unique deployed index ID."
      ]
    },
    {
      "cell_type": "code",
      "execution_count": 26,
      "metadata": {
        "id": "FcBHLifGwAWq",
        "executionInfo": {
          "status": "ok",
          "timestamp": 1717453394385,
          "user_tz": 420,
          "elapsed": 193,
          "user": {
            "displayName": "",
            "userId": ""
          }
        }
      },
      "outputs": [],
      "source": [
        "DEPLOYED_INDEX_ID = f\"embvs_tutorial_deployed_{UID}\""
      ]
    },
    {
      "cell_type": "code",
      "execution_count": 27,
      "metadata": {
        "id": "1jUoGhY5TPFP",
        "colab": {
          "base_uri": "https://localhost:8080/"
        },
        "executionInfo": {
          "status": "ok",
          "timestamp": 1717454999793,
          "user_tz": 420,
          "elapsed": 1604689,
          "user": {
            "displayName": "",
            "userId": ""
          }
        },
        "outputId": "1b95ccbd-9f91-4c11-efc4-774969d85241"
      },
      "outputs": [
        {
          "output_type": "stream",
          "name": "stderr",
          "text": [
            "INFO:google.cloud.aiplatform.matching_engine.matching_engine_index_endpoint:Deploying index MatchingEngineIndexEndpoint index_endpoint: projects/1054251275628/locations/us-central1/indexEndpoints/2580479023599583232\n",
            "INFO:google.cloud.aiplatform.matching_engine.matching_engine_index_endpoint:Deploy index MatchingEngineIndexEndpoint index_endpoint backing LRO: projects/1054251275628/locations/us-central1/indexEndpoints/2580479023599583232/operations/3609347338528620544\n",
            "INFO:google.cloud.aiplatform.matching_engine.matching_engine_index_endpoint:MatchingEngineIndexEndpoint index_endpoint Deployed index. Resource name: projects/1054251275628/locations/us-central1/indexEndpoints/2580479023599583232\n"
          ]
        },
        {
          "output_type": "execute_result",
          "data": {
            "text/plain": [
              "<google.cloud.aiplatform.matching_engine.matching_engine_index_endpoint.MatchingEngineIndexEndpoint object at 0x7c75e79b5270> \n",
              "resource name: projects/1054251275628/locations/us-central1/indexEndpoints/2580479023599583232"
            ]
          },
          "metadata": {},
          "execution_count": 27
        }
      ],
      "source": [
        "# deploy the Index to the Index Endpoint\n",
        "# This steps takes about 25 minutes\n",
        "my_index_endpoint.deploy_index(index=my_index, deployed_index_id=DEPLOYED_INDEX_ID)"
      ]
    },
    {
      "cell_type": "markdown",
      "metadata": {
        "id": "xu9ZmWcpXQ55"
      },
      "source": [
        "If it is the first time to deploy an Index to an Index Endpoint, it will take around 25 minutes to automatically build and initiate the backend for it. After the first deployment, it will finish in seconds. To see the status of the index deployment, open [the Vector Search Console > INDEX ENDPOINTS tab](https://console.cloud.google.com/vertex-ai/matching-engine/index-endpoints) and click the Index Endpoint.\n",
        "\n",
        "<img src=\"https://storage.googleapis.com/github-repo/img/embeddings/vs-quickstart/deploying-index.png\" width=\"70%\">"
      ]
    },
    {
      "cell_type": "markdown",
      "metadata": {
        "id": "oTi4PjjbXV-O"
      },
      "source": [
        "### Run Query\n",
        "\n",
        "Finally it's ready to use Vector Search. In the following code, it creates an embedding for a test question, and find similar question with the Vector Search."
      ]
    },
    {
      "cell_type": "code",
      "execution_count": 36,
      "metadata": {
        "id": "Q01DGMBPXAg-",
        "executionInfo": {
          "status": "ok",
          "timestamp": 1717455528403,
          "user_tz": 420,
          "elapsed": 197,
          "user": {
            "displayName": "",
            "userId": ""
          }
        }
      },
      "outputs": [],
      "source": [
        "def run_query(query : str):\n",
        "  # Get embedding\n",
        "  test_embeddings = get_embeddings_wrapper([query])\n",
        "  print()\n",
        "\n",
        "  # Get closest vectors\n",
        "  response = my_index_endpoint.find_neighbors(\n",
        "      deployed_index_id=DEPLOYED_INDEX_ID,\n",
        "      queries=test_embeddings,\n",
        "      num_neighbors=20,\n",
        "  )\n",
        "\n",
        "  # show the result\n",
        "  for idx, neighbor in enumerate(response[0]):\n",
        "      id = np.int64(neighbor.id)\n",
        "      similar = df.query(\"id == @id\", engine=\"python\")\n",
        "      print(f\"{neighbor.distance:.4f} {similar.title.values[0]}\")"
      ]
    },
    {
      "cell_type": "code",
      "execution_count": 42,
      "metadata": {
        "id": "FhNuRQqUWdfe",
        "colab": {
          "base_uri": "https://localhost:8080/"
        },
        "executionInfo": {
          "status": "ok",
          "timestamp": 1717455647031,
          "user_tz": 420,
          "elapsed": 1309,
          "user": {
            "displayName": "",
            "userId": ""
          }
        },
        "outputId": "bb097dd6-7473-4d48-b6a7-27090f7bf047"
      },
      "outputs": [
        {
          "output_type": "stream",
          "name": "stderr",
          "text": [
            "100%|██████████| 1/1 [00:01<00:00,  1.11s/it]"
          ]
        },
        {
          "output_type": "stream",
          "name": "stdout",
          "text": [
            "\n",
            "0.7437 JavaScript objects update function not working\n",
            "0.7375 Change content using javascript\n",
            "0.7339 How to group the data in JS?\n",
            "0.7215 How can I update component in React after adding a new item into the database, using react hooks?\n",
            "0.7199 React navigation: Infinite reloading of the main screen when using nested navigator?\n",
            "0.7197 How to data submit and page redirect same position after the button click using javascript python Django?\n",
            "0.7158 How to load external script on click (after page load) when in Cookiebot's auto-blocking mode\n",
            "0.7147 Best practices on Ajax based nonce\n",
            "0.7144 Why is $_SESSION array empty after filling it with value in js-script?\n",
            "0.7134 Would 'will-change' applied via the Web Animations API have the desired effect?\n",
            "0.7090 How to open new selenium session for every login?\n",
            "0.7051 How do you find if content that's been delivered to you is done via cached pages or request actually went to the backend server and came back\n",
            "0.7022 Can a user somehow change the state of a React component from console in the browser?\n",
            "0.6978 How do I set up a bootstrap in reactjs to be responsive?\n",
            "0.6961 How do I add a smooth slide from left to right effect with CSS and Javascript on my side nav?\n",
            "0.6955 Is fullscreenchange event supported in React?\n",
            "0.6935 Do Element.scrollHeight and Element.scrollTop calculate the return value everytime they get called?\n",
            "0.6929 Fire event on wheel scroll only once js\n",
            "0.6903 Is it possible to make a class A in Javascript which \"class extends A {} instanceof A\" is true?\n",
            "0.6899 How to get button to output value multiple times?\n"
          ]
        },
        {
          "output_type": "stream",
          "name": "stderr",
          "text": [
            "\n"
          ]
        }
      ],
      "source": [
        "run_query(\"How to refresh cookies in JS?\")"
      ]
    },
    {
      "cell_type": "code",
      "source": [
        "# Get embedding\n",
        "run_query(\"Why are cookies delicious?\")"
      ],
      "metadata": {
        "colab": {
          "base_uri": "https://localhost:8080/"
        },
        "id": "ts1Kdu4XUTCa",
        "executionInfo": {
          "status": "ok",
          "timestamp": 1717455725022,
          "user_tz": 420,
          "elapsed": 1292,
          "user": {
            "displayName": "",
            "userId": ""
          }
        },
        "outputId": "02145b12-f65d-4d5f-cc3a-5d346e838f72"
      },
      "execution_count": 48,
      "outputs": [
        {
          "output_type": "stream",
          "name": "stderr",
          "text": [
            "100%|██████████| 1/1 [00:01<00:00,  1.09s/it]"
          ]
        },
        {
          "output_type": "stream",
          "name": "stdout",
          "text": [
            "\n",
            "0.6099 How do you find if content that's been delivered to you is done via cached pages or request actually went to the backend server and came back\n",
            "0.5948 What is the efficient way to traverse a list?\n",
            "0.5935 In Chrome Developer Tools, what does it mean when an object is prefixed with \"constructor\"?\n",
            "0.5771 How to group the data in JS?\n",
            "0.5756 Is WebCrypto not practical for building a consumer app because of key management?\n",
            "0.5744 When would I want to use the Add method, and not the Attach method?\n",
            "0.5721 Best practices on Ajax based nonce\n",
            "0.5680 Error unhandled exeption [177] Stack Overflow\n",
            "0.5659 How Web notification knows the right device to send the notification to\n",
            "0.5657 How do I Figure out React Navigation Return Types?\n",
            "0.5641 How to capture whether a checkbox has been checked or not?\n",
            "0.5637 Why are my icons changing colours in android studio?\n",
            "0.5614 Change content using javascript\n",
            "0.5610 What CRS is used in exif?\n",
            "0.5610 Role of clustering algorithms in semantic segmentation pipeline?\n",
            "0.5610 Selenium wont load link text - what am i missing\n",
            "0.5610 How to open default calendar app from html email?\n",
            "0.5606 How to configure webpack-serve?\n",
            "0.5605 Is it safe to ignore the return value of Popen?\n",
            "0.5601 When event looping is blocking the application from I/O actions?\n"
          ]
        },
        {
          "output_type": "stream",
          "name": "stderr",
          "text": [
            "\n"
          ]
        }
      ]
    },
    {
      "cell_type": "markdown",
      "metadata": {
        "id": "tPDOL9caoYZ9"
      },
      "source": [
        "The `find_neighbors` function only takes milliseconds to fetch the similar items even when you have billions of items on the Index, thanks to the ScaNN algorithm. Vector Search also supports [autoscaling](https://cloud.google.com/vertex-ai/docs/vector-search/deploy-index-public#autoscaling) which can automatically resize the number of nodes based on the demands of your workloads."
      ]
    },
    {
      "cell_type": "markdown",
      "metadata": {
        "id": "DDt4D6FDyc66"
      },
      "source": [
        "# IMPORTANT: Cleaning Up\n",
        "\n",
        "In case you are using your own Cloud project, not a temporary project on Qwiklab, please make sure to delete all the Indexes, Index Endpoints and Cloud Storage buckets after finishing this tutorial. Otherwise the remaining objects would **incur unexpected costs**.\n",
        "\n",
        "If you used Workbench, you may also need to delete the Notebooks from [the console](https://console.cloud.google.com/vertex-ai/workbench)."
      ]
    },
    {
      "cell_type": "code",
      "execution_count": null,
      "metadata": {
        "id": "MEsKVzguyxNx"
      },
      "outputs": [],
      "source": [
        "# wait for a confirmation\n",
        "input(\"Press Enter to delete Index Endpoint, Index and Cloud Storage bucket:\")\n",
        "\n",
        "# delete Index Endpoint\n",
        "my_index_endpoint.undeploy_all()\n",
        "my_index_endpoint.delete(force=True)\n",
        "\n",
        "# delete Index\n",
        "my_index.delete()\n",
        "\n",
        "# delete Cloud Storage bucket\n",
        "! gsutil rm -r {BUCKET_URI}"
      ]
    },
    {
      "cell_type": "markdown",
      "metadata": {
        "id": "b8k26QOF3Ys7"
      },
      "source": [
        "# Summary\n",
        "\n",
        "## Grounding LLM outputs with Vertex AI Vector Search\n",
        "\n",
        "As we have seen, by combining the Embeddings API and Vector Search, you can use the embeddings to \"ground\" LLM outputs to real business data with low latency.\n",
        "\n",
        "For example, if an user asks a question, Embeddings API can convert it to an embedding, and issue an query on Vector Search to find similar embeddings in its index. Those embeddings represent the actual business data in the databases. As we are just retrieving the business data and not generating any artificial texts, there is no risk of having hallucinations in the result.\n",
        "\n",
        "![](https://storage.googleapis.com/gweb-cloudblog-publish/original_images/10._grounding.png)\n",
        "\n",
        "### The difference between the questions and answers\n",
        "\n",
        "In this tutorial, we have used the Stack Overflow dataset. There is a reason why we had to use it; As the dataset has many pairs of **questions and answers**, so you can just find questions similar to your question to find answers to it.\n",
        "\n",
        "In many business use cases, the semantics (meaning) of questions and answers are different. Also, there could be cases where you would want to add variety of recommended or personalized items to the results, like product search on e-commerce sites.\n",
        "\n",
        "In these cases, the simple semantics search don't work well. It's more like a recommendation system problem where you may want to train a model (e.g. Two-Tower model) to learn the relationship between the question embedding space and answer embedding space. Also, many production systems adds reranking phase after the semantic search to achieve higher search quality. Please see [Scaling deep retrieval with TensorFlow Recommenders and Vertex AI Matching Engine](https://cloud.google.com/blog/products/ai-machine-learning/scaling-deep-retrieval-tensorflow-two-towers-architecture) to learn more.\n",
        "\n",
        "### Hybrid of semantic + keyword search\n",
        "\n",
        "Another typical challenge you will face in production system is to support keyword search combined with the semantic search. For example, for e-commerce product search, you may want to let users find product by entering its product name or model number. As LLM doesn't memorize those product names or model numbers, semantic search can't handle those \"usual\" search functionalities.\n",
        "\n",
        "[Vertex AI Search](https://cloud.google.com/blog/products/ai-machine-learning/vertex-ai-search-and-conversation-is-now-generally-available) is another product you may consider for those requirements. While Vector Search provides a simple semantic search capability only, Search provides a integrated search solution that combines semantic search, keyword search, reranking and filtering, available as an out-of-the-box tool.\n",
        "\n",
        "### What about Retrieval Augmented Generation (RAG)?\n",
        "\n",
        "In this tutorial, we have looked at the simple combination of LLM embeddings and vector search. From this starting point, you may also extend the design to [Retrieval Augmented Generation (RAG)](https://www.google.com/search?q=Retrieval+Augmented+Generation+(RAG)&oq=Retrieval+Augmented+Generation+(RAG)).\n",
        "\n",
        "RAG is a popular architecture pattern of implementing grounding with LLM with text chat UI. The idea is to have the LLM text chat UI as a frontend for the document retrieval with vector search and summarization of the result.\n",
        "\n",
        "![](https://storage.googleapis.com/gweb-cloudblog-publish/images/Figure-7-Ask_Your_Documents_Flow.max-529x434.png)\n",
        "\n",
        "There are some pros and cons between the two solutions.\n",
        "\n",
        "| | Emb + vector search | RAG |\n",
        "|---|---|---|\n",
        "| Design | simple | complex |\n",
        "| UI | Text search UI | Text chat UI |\n",
        "| Summarization of result | No | Yes |\n",
        "| Multi-turn (Context aware) | No | Yes |\n",
        "| Latency | millisecs | seconds |\n",
        "| Cost | lower | higher |\n",
        "| Hallucinations | No risk | Some risk |\n",
        "\n",
        "The Embedding + vector search pattern we have looked at with this tutorial provides simple, fast and low cost semantic search functionality with the LLM intelligence. RAG adds context-aware text chat experience and result summarization to it. While RAG provides the more \"Gen AI-ish\" experience, it also adds a risk of hallucination and higher cost and time for the text generation.\n",
        "\n",
        "To learn more about how to build a RAG solution, you may look at [Building Generative AI applications made easy with Vertex AI PaLM API and LangChain](https://cloud.google.com/blog/products/ai-machine-learning/generative-ai-applications-with-vertex-ai-palm-2-models-and-langchain).\n",
        "\n",
        "## Resources\n",
        "\n",
        "To learn more, please check out the following resources:\n",
        "\n",
        "### Documentations\n",
        "\n",
        "[Vertex AI Embeddings for Text API documentation\n",
        "](https://cloud.google.com/vertex-ai/docs/generative-ai/embeddings/get-text-embeddings)\n",
        "\n",
        "[Vector Search documentation](https://cloud.google.com/vertex-ai/docs/matching-engine/overview)\n",
        "\n",
        "### Vector Search blog posts\n",
        "\n",
        "[Vertex Matching Engine: Blazing fast and massively scalable nearest neighbor search](https://cloud.google.com/blog/products/ai-machine-learning/vertex-matching-engine-blazing-fast-and-massively-scalable-nearest-neighbor-search)\n",
        "\n",
        "[Find anything blazingly fast with Google's vector search technology](https://cloud.google.com/blog/topics/developers-practitioners/find-anything-blazingly-fast-googles-vector-search-technology)\n",
        "\n",
        "[Enabling real-time AI with Streaming Ingestion in Vertex AI](https://cloud.google.com/blog/products/ai-machine-learning/real-time-ai-with-google-cloud-vertex-ai)\n",
        "\n",
        "[Mercari leverages Google's vector search technology to create a new marketplace](https://cloud.google.com/blog/topics/developers-practitioners/mercari-leverages-googles-vector-search-technology-create-new-marketplace)\n",
        "\n",
        "[Recommending news articles using Vertex AI Matching Engine](https://cloud.google.com/blog/products/ai-machine-learning/recommending-articles-using-vertex-ai-matching-engine)\n",
        "\n",
        "[What is Multimodal Search: \"LLMs with vision\" change businesses](https://cloud.google.com/blog/products/ai-machine-learning/multimodal-generative-ai-search)"
      ]
    },
    {
      "cell_type": "markdown",
      "metadata": {
        "id": "BE1tELsH-u8N"
      },
      "source": [
        "# Utilities\n",
        "\n",
        "Sometimes it takes tens of minutes to create or deploy Indexes and you would lose connection with the Colab runtime. In that case, instead of creating or deploying new Index again, you can check [the Vector Search Console](https://console.cloud.google.com/vertex-ai/matching-engine/index-endpoints) and get the existing ones to continue."
      ]
    },
    {
      "cell_type": "markdown",
      "metadata": {
        "id": "wF_pkdpJ-yaq"
      },
      "source": [
        "## Get an existing Index\n",
        "\n",
        "To get an Index object that already exists, replace the following `[your-index-id]` with the index ID and run the cell. You can check the ID on [the Vector Search Console > INDEXES tab](https://console.cloud.google.com/vertex-ai/matching-engine/indexes)."
      ]
    },
    {
      "cell_type": "code",
      "execution_count": null,
      "metadata": {
        "id": "mEBkZZt_-0jG"
      },
      "outputs": [],
      "source": [
        "my_index_id = \"[your-index-id]\"  # @param {type:\"string\"}\n",
        "my_index = aiplatform.MatchingEngineIndex(my_index_id)"
      ]
    },
    {
      "cell_type": "markdown",
      "metadata": {
        "id": "_vlgzkyw-3CI"
      },
      "source": [
        "## Get an existing Index Endpoint\n",
        "\n",
        "To get an Index Endpoint object that already exists, replace the following `[your-index-endpoint-id]` with the Index Endpoint ID and run the cell. You can check the ID on [the Vector Search Console > INDEX ENDPOINTS tab](https://console.cloud.google.com/vertex-ai/matching-engine/index-endpoints)."
      ]
    },
    {
      "cell_type": "code",
      "execution_count": null,
      "metadata": {
        "id": "E0OFnirF-6Rk"
      },
      "outputs": [],
      "source": [
        "my_index_endpoint_id = \"[your-index-endpoint-id]\"  # @param {type:\"string\"}\n",
        "my_index_endpoint = aiplatform.MatchingEngineIndexEndpoint(my_index_endpoint_id)"
      ]
    }
  ],
  "metadata": {
    "colab": {
      "provenance": [],
      "name": "Apple-RAG-intro-to-embeddings-demo-June-2024.ipynb"
    },
    "environment": {
      "kernel": "python3",
      "name": "tf2-gpu.2-11.m108",
      "type": "gcloud",
      "uri": "gcr.io/deeplearning-platform-release/tf2-gpu.2-11:m108"
    },
    "kernelspec": {
      "display_name": "Python 3 (ipykernel)",
      "language": "python",
      "name": "python3"
    },
    "language_info": {
      "codemirror_mode": {
        "name": "ipython",
        "version": 3
      },
      "file_extension": ".py",
      "mimetype": "text/x-python",
      "name": "python",
      "nbconvert_exporter": "python",
      "pygments_lexer": "ipython3",
      "version": "3.10.10"
    }
  },
  "nbformat": 4,
  "nbformat_minor": 0
}
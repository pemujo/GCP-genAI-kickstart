{
  "cells": [
    {
      "cell_type": "code",
      "execution_count": null,
      "metadata": {
        "id": "c3_K0GGSTrhd"
      },
      "outputs": [],
      "source": [
        "# Copyright 2024 Google LLC\n",
        "#\n",
        "# Licensed under the Apache License, Version 2.0 (the \"License\");\n",
        "# you may not use this file except in compliance with the License.\n",
        "# You may obtain a copy of the License at\n",
        "#\n",
        "#     https://www.apache.org/licenses/LICENSE-2.0\n",
        "#\n",
        "# Unless required by applicable law or agreed to in writing, software\n",
        "# distributed under the License is distributed on an \"AS IS\" BASIS,\n",
        "# WITHOUT WARRANTIES OR CONDITIONS OF ANY KIND, either express or implied.\n",
        "# See the License for the specific language governing permissions and\n",
        "# limitations under the License."
      ]
    },
    {
      "cell_type": "markdown",
      "metadata": {
        "id": "7VQkf8sFTeDo"
      },
      "source": [
        "# Getting Started with Text Embeddings + Vertex AI Vector Search\n",
        "\n"
      ]
    },
    {
      "cell_type": "markdown",
      "metadata": {
        "id": "y2xCS3menNv7"
      },
      "source": [
        "## Introduction\n",
        "\n",
        "In this tutorial, you learn how to use Google Cloud AI tools to quickly bring the power of Large Language Models to enterprise systems.  \n",
        "\n",
        "This tutorial covers the following -\n",
        "\n",
        "*   What are embeddings - what business challenges do they help solve ?\n",
        "*   Understanding Text with Vertex AI Text Embeddings\n",
        "*   Find Embeddings fast with Vertex AI Vector Search\n",
        "*   Grounding LLM outputs with Vector Search\n",
        "\n",
        "This tutorial is based on [the blog post](https://cloud.google.com/blog/products/ai-machine-learning/how-to-use-grounding-for-your-llms-with-text-embeddings), combined with sample code.\n",
        "\n",
        "\n",
        "### Prerequisites\n",
        "\n",
        "This tutorial is designed for developers who has basic knowledge and experience with Python programming and machine learning.\n",
        "\n",
        "If you are not reading this tutorial in Qwiklab, then you need to have a Google Cloud project that is linked to a billing account to run this. Please go through [this document](https://cloud.google.com/vertex-ai/docs/start/cloud-environment) to create a project and setup a billing account for it.\n",
        "\n",
        "\n"
      ]
    },
    {
      "cell_type": "markdown",
      "source": [
        "# Settings required outside this notebook\n"
      ],
      "metadata": {
        "id": "n6xEVT7-o2Yg"
      }
    },
    {
      "cell_type": "markdown",
      "source": [
        "1. Enable APIs\n",
        "  - Vertex AI API\n",
        "  - BigQuery API\n",
        "2. Enable Private Service Access (PSA) in the project\n",
        "3. Provision the required IAM permissions to the Default Compute Enginer service agent account format: \"{project-number}-compute@developer.gserviceaccount.com\"\n",
        "\n",
        "  Roles required:\n",
        "    - roles/aiplatform.user\n",
        "    - roles/bigquery.user\n",
        "    - roles/storage.admin\n"
      ],
      "metadata": {
        "id": "hKQFohw2pA9r"
      }
    },
    {
      "cell_type": "markdown",
      "metadata": {
        "id": "-iOWOKnIvYxf"
      },
      "source": [
        "# Text Embeddings in Action\n",
        "\n",
        "Lets try using Text Embeddings in action with actual sample code."
      ]
    },
    {
      "cell_type": "markdown",
      "metadata": {
        "id": "AtXnXhF8U-8R"
      },
      "source": [
        "## Setup\n",
        "\n",
        "Before get started with the Vertex AI services, we need to setup the following.\n",
        "\n",
        "* Install Python SDK\n",
        "* Environment variables\n",
        "* Authentication (Colab only)\n",
        "* Enable APIs\n",
        "* Set IAM permissions"
      ]
    },
    {
      "cell_type": "markdown",
      "metadata": {
        "id": "UjnvWl6FLUlF"
      },
      "source": [
        "### Install Python SDK\n",
        "\n",
        "Vertex AI, Cloud Storage and BigQuery APIs can be accessed with multiple ways including REST API and Python SDK. In this tutorial we will use the SDK."
      ]
    },
    {
      "cell_type": "code",
      "execution_count": 64,
      "metadata": {
        "id": "FZgLGALt_al7",
        "executionInfo": {
          "status": "ok",
          "timestamp": 1717485734401,
          "user_tz": 420,
          "elapsed": 8058,
          "user": {
            "displayName": "",
            "userId": ""
          }
        }
      },
      "outputs": [],
      "source": [
        "!pip install --upgrade --quiet google-cloud-aiplatform google-cloud-storage google-cloud-bigquery"
      ]
    },
    {
      "cell_type": "markdown",
      "metadata": {
        "id": "R5Xep4W9lq-Z"
      },
      "source": [
        "### Restart current runtime\n",
        "\n",
        "To use the newly installed packages in this Jupyter runtime, you must restart the runtime. You can do this by running the cell below, which will restart the current kernel."
      ]
    },
    {
      "cell_type": "code",
      "execution_count": 65,
      "metadata": {
        "id": "XRvKdaPDTznN",
        "colab": {
          "base_uri": "https://localhost:8080/"
        },
        "executionInfo": {
          "status": "ok",
          "timestamp": 1717485738516,
          "user_tz": 420,
          "elapsed": 177,
          "user": {
            "displayName": "",
            "userId": ""
          }
        },
        "outputId": "ee170ab7-322c-4f02-b7d7-a8765d22e818"
      },
      "outputs": [
        {
          "output_type": "execute_result",
          "data": {
            "text/plain": [
              "{'status': 'ok', 'restart': True}"
            ]
          },
          "metadata": {},
          "execution_count": 65
        }
      ],
      "source": [
        "# Restart kernel after installs so that your environment can access the new packages\n",
        "import IPython\n",
        "\n",
        "app = IPython.Application.instance()\n",
        "app.kernel.do_shutdown(True)"
      ]
    },
    {
      "cell_type": "markdown",
      "metadata": {
        "id": "SbmM4z7FOBpM"
      },
      "source": [
        "<div class=\"alert alert-block alert-warning\">\n",
        "<b>⚠️ The kernel is going to restart. Please wait until it is finished before continuing to the next step. ⚠️</b>\n",
        "</div>\n",
        "\n"
      ]
    },
    {
      "cell_type": "markdown",
      "metadata": {
        "id": "B-mPnZJdiwkg"
      },
      "source": [
        "### Authenticating your notebook environment\n",
        "If you are using Vertex AI Colab Enterprise, you will not require additional authentication.\n",
        "\n",
        "For more information, you can check out the setup instructions [here](https://github.com/GoogleCloudPlatform/generative-ai/tree/main/setup-env).\n",
        "\n",
        "To authenticate on Jupter lab running on local Mac run:\n",
        "```\n",
        "!gcloud auth application-default login\n",
        "```"
      ]
    },
    {
      "cell_type": "markdown",
      "metadata": {
        "id": "nCoTvkOJoh76"
      },
      "source": [
        "### Environment variables\n",
        "\n",
        "Sets environment variables. If asked, please replace the following `[your-project-id]` with your project ID and run it."
      ]
    },
    {
      "cell_type": "code",
      "execution_count": 2,
      "metadata": {
        "id": "69XJ95rNoYG9",
        "executionInfo": {
          "status": "ok",
          "timestamp": 1717485760414,
          "user_tz": 420,
          "elapsed": 162,
          "user": {
            "displayName": "",
            "userId": ""
          }
        }
      },
      "outputs": [],
      "source": [
        "# define project information\n",
        "\n",
        "PROJECT_ID = \"derma-acs-fe-sand-1pf8\"  # @param {type:\"string\"}\n",
        "LOCATION = \"us-central1\" # @param {type:\"string\"}\n",
        "\n"
      ]
    },
    {
      "cell_type": "markdown",
      "metadata": {
        "id": "mahCxLXHMIls"
      },
      "source": [
        "## Getting Started with Vertex AI Embeddings for Text\n",
        "\n",
        "Now it's ready to get started with embeddings!"
      ]
    },
    {
      "cell_type": "markdown",
      "metadata": {
        "id": "rq07_-o0VoZD"
      },
      "source": [
        "### Data Preparation\n",
        "\n",
        "We will be using [the Stack Overflow public dataset](https://console.cloud.google.com/marketplace/product/stack-exchange/stack-overflow) hosted on BigQuery table `bigquery-public-data.stackoverflow.posts_questions`. This is a very big dataset with 23 million rows that doesn't fit into the memory. We are going to limit it to 5000 rows for this tutorial."
      ]
    },
    {
      "cell_type": "code",
      "execution_count": 3,
      "metadata": {
        "id": "snrzPsEQDH4S",
        "colab": {
          "base_uri": "https://localhost:8080/",
          "height": 206
        },
        "executionInfo": {
          "status": "ok",
          "timestamp": 1717485768752,
          "user_tz": 420,
          "elapsed": 3791,
          "user": {
            "displayName": "",
            "userId": ""
          }
        },
        "outputId": "a0b28b52-3f19-4838-faa1-2921b68fe52d"
      },
      "outputs": [
        {
          "output_type": "execute_result",
          "data": {
            "text/plain": [
              "         id                                              title\n",
              "0  73210586        Get list of all compartments in OCI Tenancy\n",
              "1  73229845  Is there a way to use a skyve validator (e.g. ...\n",
              "2  73501178  How can I prevent prettier from changing singl...\n",
              "3  73301407   how to add policy file for the following in jaas\n",
              "4  73214807  In skyve, how do I do a OR filter in a list grid?"
            ],
            "text/html": [
              "\n",
              "  <div id=\"df-98e6b261-d284-4d38-8a21-2c12515edeb5\" class=\"colab-df-container\">\n",
              "    <div>\n",
              "<style scoped>\n",
              "    .dataframe tbody tr th:only-of-type {\n",
              "        vertical-align: middle;\n",
              "    }\n",
              "\n",
              "    .dataframe tbody tr th {\n",
              "        vertical-align: top;\n",
              "    }\n",
              "\n",
              "    .dataframe thead th {\n",
              "        text-align: right;\n",
              "    }\n",
              "</style>\n",
              "<table border=\"1\" class=\"dataframe\">\n",
              "  <thead>\n",
              "    <tr style=\"text-align: right;\">\n",
              "      <th></th>\n",
              "      <th>id</th>\n",
              "      <th>title</th>\n",
              "    </tr>\n",
              "  </thead>\n",
              "  <tbody>\n",
              "    <tr>\n",
              "      <th>0</th>\n",
              "      <td>73210586</td>\n",
              "      <td>Get list of all compartments in OCI Tenancy</td>\n",
              "    </tr>\n",
              "    <tr>\n",
              "      <th>1</th>\n",
              "      <td>73229845</td>\n",
              "      <td>Is there a way to use a skyve validator (e.g. ...</td>\n",
              "    </tr>\n",
              "    <tr>\n",
              "      <th>2</th>\n",
              "      <td>73501178</td>\n",
              "      <td>How can I prevent prettier from changing singl...</td>\n",
              "    </tr>\n",
              "    <tr>\n",
              "      <th>3</th>\n",
              "      <td>73301407</td>\n",
              "      <td>how to add policy file for the following in jaas</td>\n",
              "    </tr>\n",
              "    <tr>\n",
              "      <th>4</th>\n",
              "      <td>73214807</td>\n",
              "      <td>In skyve, how do I do a OR filter in a list grid?</td>\n",
              "    </tr>\n",
              "  </tbody>\n",
              "</table>\n",
              "</div>\n",
              "    <div class=\"colab-df-buttons\">\n",
              "\n",
              "  <div class=\"colab-df-container\">\n",
              "    <button class=\"colab-df-convert\" onclick=\"convertToInteractive('df-98e6b261-d284-4d38-8a21-2c12515edeb5')\"\n",
              "            title=\"Convert this dataframe to an interactive table.\"\n",
              "            style=\"display:none;\">\n",
              "\n",
              "  <svg xmlns=\"http://www.w3.org/2000/svg\" height=\"24px\" viewBox=\"0 -960 960 960\">\n",
              "    <path d=\"M120-120v-720h720v720H120Zm60-500h600v-160H180v160Zm220 220h160v-160H400v160Zm0 220h160v-160H400v160ZM180-400h160v-160H180v160Zm440 0h160v-160H620v160ZM180-180h160v-160H180v160Zm440 0h160v-160H620v160Z\"/>\n",
              "  </svg>\n",
              "    </button>\n",
              "\n",
              "  <style>\n",
              "    .colab-df-container {\n",
              "      display:flex;\n",
              "      gap: 12px;\n",
              "    }\n",
              "\n",
              "    .colab-df-convert {\n",
              "      background-color: #E8F0FE;\n",
              "      border: none;\n",
              "      border-radius: 50%;\n",
              "      cursor: pointer;\n",
              "      display: none;\n",
              "      fill: #1967D2;\n",
              "      height: 32px;\n",
              "      padding: 0 0 0 0;\n",
              "      width: 32px;\n",
              "    }\n",
              "\n",
              "    .colab-df-convert:hover {\n",
              "      background-color: #E2EBFA;\n",
              "      box-shadow: 0px 1px 2px rgba(60, 64, 67, 0.3), 0px 1px 3px 1px rgba(60, 64, 67, 0.15);\n",
              "      fill: #174EA6;\n",
              "    }\n",
              "\n",
              "    .colab-df-buttons div {\n",
              "      margin-bottom: 4px;\n",
              "    }\n",
              "\n",
              "    [theme=dark] .colab-df-convert {\n",
              "      background-color: #3B4455;\n",
              "      fill: #D2E3FC;\n",
              "    }\n",
              "\n",
              "    [theme=dark] .colab-df-convert:hover {\n",
              "      background-color: #434B5C;\n",
              "      box-shadow: 0px 1px 3px 1px rgba(0, 0, 0, 0.15);\n",
              "      filter: drop-shadow(0px 1px 2px rgba(0, 0, 0, 0.3));\n",
              "      fill: #FFFFFF;\n",
              "    }\n",
              "  </style>\n",
              "\n",
              "    <script>\n",
              "      const buttonEl =\n",
              "        document.querySelector('#df-98e6b261-d284-4d38-8a21-2c12515edeb5 button.colab-df-convert');\n",
              "      buttonEl.style.display =\n",
              "        google.colab.kernel.accessAllowed ? 'block' : 'none';\n",
              "\n",
              "      async function convertToInteractive(key) {\n",
              "        const element = document.querySelector('#df-98e6b261-d284-4d38-8a21-2c12515edeb5');\n",
              "        const dataTable =\n",
              "          await google.colab.kernel.invokeFunction('convertToInteractive',\n",
              "                                                    [key], {});\n",
              "        if (!dataTable) return;\n",
              "\n",
              "        const docLinkHtml = 'Like what you see? Visit the ' +\n",
              "          '<a target=\"_blank\" href=https://colab.research.google.com/notebooks/data_table.ipynb>data table notebook</a>'\n",
              "          + ' to learn more about interactive tables.';\n",
              "        element.innerHTML = '';\n",
              "        dataTable['output_type'] = 'display_data';\n",
              "        await google.colab.output.renderOutput(dataTable, element);\n",
              "        const docLink = document.createElement('div');\n",
              "        docLink.innerHTML = docLinkHtml;\n",
              "        element.appendChild(docLink);\n",
              "      }\n",
              "    </script>\n",
              "  </div>\n",
              "\n",
              "\n",
              "<div id=\"df-40e097ef-21b9-48e1-82fa-021ea607ed46\">\n",
              "  <button class=\"colab-df-quickchart\" onclick=\"quickchart('df-40e097ef-21b9-48e1-82fa-021ea607ed46')\"\n",
              "            title=\"Suggest charts\"\n",
              "            style=\"display:none;\">\n",
              "\n",
              "<svg xmlns=\"http://www.w3.org/2000/svg\" height=\"24px\"viewBox=\"0 0 24 24\"\n",
              "     width=\"24px\">\n",
              "    <g>\n",
              "        <path d=\"M19 3H5c-1.1 0-2 .9-2 2v14c0 1.1.9 2 2 2h14c1.1 0 2-.9 2-2V5c0-1.1-.9-2-2-2zM9 17H7v-7h2v7zm4 0h-2V7h2v10zm4 0h-2v-4h2v4z\"/>\n",
              "    </g>\n",
              "</svg>\n",
              "  </button>\n",
              "\n",
              "<style>\n",
              "  .colab-df-quickchart {\n",
              "      --bg-color: #E8F0FE;\n",
              "      --fill-color: #1967D2;\n",
              "      --hover-bg-color: #E2EBFA;\n",
              "      --hover-fill-color: #174EA6;\n",
              "      --disabled-fill-color: #AAA;\n",
              "      --disabled-bg-color: #DDD;\n",
              "  }\n",
              "\n",
              "  [theme=dark] .colab-df-quickchart {\n",
              "      --bg-color: #3B4455;\n",
              "      --fill-color: #D2E3FC;\n",
              "      --hover-bg-color: #434B5C;\n",
              "      --hover-fill-color: #FFFFFF;\n",
              "      --disabled-bg-color: #3B4455;\n",
              "      --disabled-fill-color: #666;\n",
              "  }\n",
              "\n",
              "  .colab-df-quickchart {\n",
              "    background-color: var(--bg-color);\n",
              "    border: none;\n",
              "    border-radius: 50%;\n",
              "    cursor: pointer;\n",
              "    display: none;\n",
              "    fill: var(--fill-color);\n",
              "    height: 32px;\n",
              "    padding: 0;\n",
              "    width: 32px;\n",
              "  }\n",
              "\n",
              "  .colab-df-quickchart:hover {\n",
              "    background-color: var(--hover-bg-color);\n",
              "    box-shadow: 0 1px 2px rgba(60, 64, 67, 0.3), 0 1px 3px 1px rgba(60, 64, 67, 0.15);\n",
              "    fill: var(--button-hover-fill-color);\n",
              "  }\n",
              "\n",
              "  .colab-df-quickchart-complete:disabled,\n",
              "  .colab-df-quickchart-complete:disabled:hover {\n",
              "    background-color: var(--disabled-bg-color);\n",
              "    fill: var(--disabled-fill-color);\n",
              "    box-shadow: none;\n",
              "  }\n",
              "\n",
              "  .colab-df-spinner {\n",
              "    border: 2px solid var(--fill-color);\n",
              "    border-color: transparent;\n",
              "    border-bottom-color: var(--fill-color);\n",
              "    animation:\n",
              "      spin 1s steps(1) infinite;\n",
              "  }\n",
              "\n",
              "  @keyframes spin {\n",
              "    0% {\n",
              "      border-color: transparent;\n",
              "      border-bottom-color: var(--fill-color);\n",
              "      border-left-color: var(--fill-color);\n",
              "    }\n",
              "    20% {\n",
              "      border-color: transparent;\n",
              "      border-left-color: var(--fill-color);\n",
              "      border-top-color: var(--fill-color);\n",
              "    }\n",
              "    30% {\n",
              "      border-color: transparent;\n",
              "      border-left-color: var(--fill-color);\n",
              "      border-top-color: var(--fill-color);\n",
              "      border-right-color: var(--fill-color);\n",
              "    }\n",
              "    40% {\n",
              "      border-color: transparent;\n",
              "      border-right-color: var(--fill-color);\n",
              "      border-top-color: var(--fill-color);\n",
              "    }\n",
              "    60% {\n",
              "      border-color: transparent;\n",
              "      border-right-color: var(--fill-color);\n",
              "    }\n",
              "    80% {\n",
              "      border-color: transparent;\n",
              "      border-right-color: var(--fill-color);\n",
              "      border-bottom-color: var(--fill-color);\n",
              "    }\n",
              "    90% {\n",
              "      border-color: transparent;\n",
              "      border-bottom-color: var(--fill-color);\n",
              "    }\n",
              "  }\n",
              "</style>\n",
              "\n",
              "  <script>\n",
              "    async function quickchart(key) {\n",
              "      const quickchartButtonEl =\n",
              "        document.querySelector('#' + key + ' button');\n",
              "      quickchartButtonEl.disabled = true;  // To prevent multiple clicks.\n",
              "      quickchartButtonEl.classList.add('colab-df-spinner');\n",
              "      try {\n",
              "        const charts = await google.colab.kernel.invokeFunction(\n",
              "            'suggestCharts', [key], {});\n",
              "      } catch (error) {\n",
              "        console.error('Error during call to suggestCharts:', error);\n",
              "      }\n",
              "      quickchartButtonEl.classList.remove('colab-df-spinner');\n",
              "      quickchartButtonEl.classList.add('colab-df-quickchart-complete');\n",
              "    }\n",
              "    (() => {\n",
              "      let quickchartButtonEl =\n",
              "        document.querySelector('#df-40e097ef-21b9-48e1-82fa-021ea607ed46 button');\n",
              "      quickchartButtonEl.style.display =\n",
              "        google.colab.kernel.accessAllowed ? 'block' : 'none';\n",
              "    })();\n",
              "  </script>\n",
              "</div>\n",
              "    </div>\n",
              "  </div>\n"
            ]
          },
          "metadata": {},
          "execution_count": 3
        }
      ],
      "source": [
        "# load the BQ Table into a Pandas Dataframe\n",
        "import pandas as pd\n",
        "from google.cloud import bigquery\n",
        "\n",
        "QUESTIONS_SIZE = 5000\n",
        "\n",
        "bq_client = bigquery.Client(project=PROJECT_ID)\n",
        "QUERY_TEMPLATE = \"\"\"\n",
        "        SELECT distinct q.id, q.title\n",
        "        FROM (SELECT * FROM `bigquery-public-data.stackoverflow.posts_questions`\n",
        "        where Score > 0 ORDER BY View_Count desc) AS q\n",
        "        LIMIT {limit} ;\n",
        "        \"\"\"\n",
        "query = QUERY_TEMPLATE.format(limit=QUESTIONS_SIZE)\n",
        "query_job = bq_client.query(query)\n",
        "rows = query_job.result()\n",
        "df = rows.to_dataframe()\n",
        "\n",
        "# examine the data\n",
        "df.head()"
      ]
    },
    {
      "cell_type": "markdown",
      "metadata": {
        "id": "j6022U1FWzpb"
      },
      "source": [
        "### Call the API to generate embeddings\n",
        "\n",
        "With the Stack Overflow dataset, we will use the `title` column (the question title) and generate embedding for it with Embeddings for Text API. The API is available under the [vertexai](https://cloud.google.com/python/docs/reference/aiplatform/latest/vertexai) package of the SDK.\n",
        "\n",
        "You may see some warning messages from the TensorFlow library but you can ignore them."
      ]
    },
    {
      "cell_type": "code",
      "execution_count": 4,
      "metadata": {
        "id": "pY8M4DqO8wGx",
        "executionInfo": {
          "status": "ok",
          "timestamp": 1717485776182,
          "user_tz": 420,
          "elapsed": 2610,
          "user": {
            "displayName": "",
            "userId": ""
          }
        }
      },
      "outputs": [],
      "source": [
        "# init the vertexai package\n",
        "import vertexai\n",
        "\n",
        "vertexai.init(project=PROJECT_ID, location=LOCATION)"
      ]
    },
    {
      "cell_type": "markdown",
      "metadata": {
        "id": "jrG82n-y-EC5"
      },
      "source": [
        "From the package, import [TextEmbeddingModel](https://cloud.google.com/python/docs/reference/aiplatform/latest/vertexai.language_models.TextEmbeddingModel) and get a model."
      ]
    },
    {
      "cell_type": "code",
      "execution_count": 5,
      "metadata": {
        "id": "YVLHjSeOGoTu",
        "executionInfo": {
          "status": "ok",
          "timestamp": 1717485776183,
          "user_tz": 420,
          "elapsed": 3,
          "user": {
            "displayName": "",
            "userId": ""
          }
        }
      },
      "outputs": [],
      "source": [
        "# Load the text embeddings model\n",
        "from vertexai.preview.language_models import TextEmbeddingModel\n",
        "\n",
        "model = TextEmbeddingModel.from_pretrained(\"textembedding-gecko@003\")"
      ]
    },
    {
      "cell_type": "markdown",
      "metadata": {
        "id": "FqdVsgZDb_hc"
      },
      "source": [
        "In this tutorial we will use `textembedding-gecko@001` model for getting text embeddings. Please take a look at [Supported models](https://cloud.google.com/vertex-ai/docs/generative-ai/embeddings/get-text-embeddings#supported_models) on the doc to see the list of supported models.\n",
        "\n",
        "Once you get the model, you can call its [get_embeddings](https://cloud.google.com/python/docs/reference/aiplatform/latest/vertexai.language_models.TextEmbeddingModel#vertexai_language_models_TextEmbeddingModel_get_embeddings) function to get embeddings. You can pass up to 5 texts at once in a call. But there is a caveat. By default, the text embeddings API has a \"request per minute\" quota set to 60 for new Cloud projects and 600 for projects with usage history (see [Quotas and limits](https://cloud.google.com/vertex-ai/docs/quotas#request_quotas) to check the latest quota value for `base_model:textembedding-gecko`). So, rather than using the function directly, you may want to define a wrapper like below to limit under 10 calls per second, and pass 5 texts each time."
      ]
    },
    {
      "cell_type": "code",
      "execution_count": 6,
      "metadata": {
        "id": "8HUb9u_P2VWW",
        "executionInfo": {
          "status": "ok",
          "timestamp": 1717485780670,
          "user_tz": 420,
          "elapsed": 172,
          "user": {
            "displayName": "",
            "userId": ""
          }
        }
      },
      "outputs": [],
      "source": [
        "import time\n",
        "import tqdm  # to show a progress bar\n",
        "\n",
        "# get embeddings for a list of texts\n",
        "BATCH_SIZE = 5\n",
        "\n",
        "def get_embeddings_wrapper(texts, max_retries=5):\n",
        "    embs = []\n",
        "    retry_delay = 1  # Initial delay in seconds\n",
        "    for i in tqdm.tqdm(range(0, len(texts), BATCH_SIZE)):\n",
        "        for attempt in range(max_retries):\n",
        "            try:\n",
        "                result = model.get_embeddings(texts[i : i + BATCH_SIZE])\n",
        "                embs = embs + [e.values for e in result]\n",
        "                break\n",
        "            except Exception:\n",
        "                time.sleep(retry_delay)\n",
        "                retry_delay *= 2  # Double the delay for the next attempt\n",
        "                retry_delay += random.uniform(0, 1)  # Add jitter\n",
        "                break\n",
        "            raise Exception(\"Maximum retry attempts reached\")\n",
        "    return embs"
      ]
    },
    {
      "cell_type": "markdown",
      "metadata": {
        "id": "aK4eTSPfcEuh"
      },
      "source": [
        "The following code will get embedding for the question titles and add them as a new column `embedding` to the DataFrame. This will take a few minutes."
      ]
    },
    {
      "cell_type": "code",
      "execution_count": 7,
      "metadata": {
        "id": "FcqPvu4PluN1",
        "colab": {
          "base_uri": "https://localhost:8080/",
          "height": 224
        },
        "executionInfo": {
          "status": "ok",
          "timestamp": 1717485938327,
          "user_tz": 420,
          "elapsed": 152721,
          "user": {
            "displayName": "",
            "userId": ""
          }
        },
        "outputId": "c8de1799-5633-44ef-ef0d-312a5913a6b9"
      },
      "outputs": [
        {
          "output_type": "stream",
          "name": "stderr",
          "text": [
            "100%|██████████| 2000/2000 [02:32<00:00, 13.11it/s]\n"
          ]
        },
        {
          "output_type": "execute_result",
          "data": {
            "text/plain": [
              "         id                                              title  \\\n",
              "0  73210586        Get list of all compartments in OCI Tenancy   \n",
              "1  73229845  Is there a way to use a skyve validator (e.g. ...   \n",
              "2  73501178  How can I prevent prettier from changing singl...   \n",
              "3  73301407   how to add policy file for the following in jaas   \n",
              "4  73214807  In skyve, how do I do a OR filter in a list grid?   \n",
              "\n",
              "                                           embedding  \n",
              "0  [0.013951302506029606, -0.014743354171514511, ...  \n",
              "1  [-0.021185141056776047, -0.05046217516064644, ...  \n",
              "2  [0.005010632798075676, -0.06683017313480377, -...  \n",
              "3  [0.040733642876148224, -0.02197178639471531, -...  \n",
              "4  [0.029326317831873894, -0.01743663102388382, -...  "
            ],
            "text/html": [
              "\n",
              "  <div id=\"df-1f1a942b-167e-4403-8c8d-ccbb63aed8c9\" class=\"colab-df-container\">\n",
              "    <div>\n",
              "<style scoped>\n",
              "    .dataframe tbody tr th:only-of-type {\n",
              "        vertical-align: middle;\n",
              "    }\n",
              "\n",
              "    .dataframe tbody tr th {\n",
              "        vertical-align: top;\n",
              "    }\n",
              "\n",
              "    .dataframe thead th {\n",
              "        text-align: right;\n",
              "    }\n",
              "</style>\n",
              "<table border=\"1\" class=\"dataframe\">\n",
              "  <thead>\n",
              "    <tr style=\"text-align: right;\">\n",
              "      <th></th>\n",
              "      <th>id</th>\n",
              "      <th>title</th>\n",
              "      <th>embedding</th>\n",
              "    </tr>\n",
              "  </thead>\n",
              "  <tbody>\n",
              "    <tr>\n",
              "      <th>0</th>\n",
              "      <td>73210586</td>\n",
              "      <td>Get list of all compartments in OCI Tenancy</td>\n",
              "      <td>[0.013951302506029606, -0.014743354171514511, ...</td>\n",
              "    </tr>\n",
              "    <tr>\n",
              "      <th>1</th>\n",
              "      <td>73229845</td>\n",
              "      <td>Is there a way to use a skyve validator (e.g. ...</td>\n",
              "      <td>[-0.021185141056776047, -0.05046217516064644, ...</td>\n",
              "    </tr>\n",
              "    <tr>\n",
              "      <th>2</th>\n",
              "      <td>73501178</td>\n",
              "      <td>How can I prevent prettier from changing singl...</td>\n",
              "      <td>[0.005010632798075676, -0.06683017313480377, -...</td>\n",
              "    </tr>\n",
              "    <tr>\n",
              "      <th>3</th>\n",
              "      <td>73301407</td>\n",
              "      <td>how to add policy file for the following in jaas</td>\n",
              "      <td>[0.040733642876148224, -0.02197178639471531, -...</td>\n",
              "    </tr>\n",
              "    <tr>\n",
              "      <th>4</th>\n",
              "      <td>73214807</td>\n",
              "      <td>In skyve, how do I do a OR filter in a list grid?</td>\n",
              "      <td>[0.029326317831873894, -0.01743663102388382, -...</td>\n",
              "    </tr>\n",
              "  </tbody>\n",
              "</table>\n",
              "</div>\n",
              "    <div class=\"colab-df-buttons\">\n",
              "\n",
              "  <div class=\"colab-df-container\">\n",
              "    <button class=\"colab-df-convert\" onclick=\"convertToInteractive('df-1f1a942b-167e-4403-8c8d-ccbb63aed8c9')\"\n",
              "            title=\"Convert this dataframe to an interactive table.\"\n",
              "            style=\"display:none;\">\n",
              "\n",
              "  <svg xmlns=\"http://www.w3.org/2000/svg\" height=\"24px\" viewBox=\"0 -960 960 960\">\n",
              "    <path d=\"M120-120v-720h720v720H120Zm60-500h600v-160H180v160Zm220 220h160v-160H400v160Zm0 220h160v-160H400v160ZM180-400h160v-160H180v160Zm440 0h160v-160H620v160ZM180-180h160v-160H180v160Zm440 0h160v-160H620v160Z\"/>\n",
              "  </svg>\n",
              "    </button>\n",
              "\n",
              "  <style>\n",
              "    .colab-df-container {\n",
              "      display:flex;\n",
              "      gap: 12px;\n",
              "    }\n",
              "\n",
              "    .colab-df-convert {\n",
              "      background-color: #E8F0FE;\n",
              "      border: none;\n",
              "      border-radius: 50%;\n",
              "      cursor: pointer;\n",
              "      display: none;\n",
              "      fill: #1967D2;\n",
              "      height: 32px;\n",
              "      padding: 0 0 0 0;\n",
              "      width: 32px;\n",
              "    }\n",
              "\n",
              "    .colab-df-convert:hover {\n",
              "      background-color: #E2EBFA;\n",
              "      box-shadow: 0px 1px 2px rgba(60, 64, 67, 0.3), 0px 1px 3px 1px rgba(60, 64, 67, 0.15);\n",
              "      fill: #174EA6;\n",
              "    }\n",
              "\n",
              "    .colab-df-buttons div {\n",
              "      margin-bottom: 4px;\n",
              "    }\n",
              "\n",
              "    [theme=dark] .colab-df-convert {\n",
              "      background-color: #3B4455;\n",
              "      fill: #D2E3FC;\n",
              "    }\n",
              "\n",
              "    [theme=dark] .colab-df-convert:hover {\n",
              "      background-color: #434B5C;\n",
              "      box-shadow: 0px 1px 3px 1px rgba(0, 0, 0, 0.15);\n",
              "      filter: drop-shadow(0px 1px 2px rgba(0, 0, 0, 0.3));\n",
              "      fill: #FFFFFF;\n",
              "    }\n",
              "  </style>\n",
              "\n",
              "    <script>\n",
              "      const buttonEl =\n",
              "        document.querySelector('#df-1f1a942b-167e-4403-8c8d-ccbb63aed8c9 button.colab-df-convert');\n",
              "      buttonEl.style.display =\n",
              "        google.colab.kernel.accessAllowed ? 'block' : 'none';\n",
              "\n",
              "      async function convertToInteractive(key) {\n",
              "        const element = document.querySelector('#df-1f1a942b-167e-4403-8c8d-ccbb63aed8c9');\n",
              "        const dataTable =\n",
              "          await google.colab.kernel.invokeFunction('convertToInteractive',\n",
              "                                                    [key], {});\n",
              "        if (!dataTable) return;\n",
              "\n",
              "        const docLinkHtml = 'Like what you see? Visit the ' +\n",
              "          '<a target=\"_blank\" href=https://colab.research.google.com/notebooks/data_table.ipynb>data table notebook</a>'\n",
              "          + ' to learn more about interactive tables.';\n",
              "        element.innerHTML = '';\n",
              "        dataTable['output_type'] = 'display_data';\n",
              "        await google.colab.output.renderOutput(dataTable, element);\n",
              "        const docLink = document.createElement('div');\n",
              "        docLink.innerHTML = docLinkHtml;\n",
              "        element.appendChild(docLink);\n",
              "      }\n",
              "    </script>\n",
              "  </div>\n",
              "\n",
              "\n",
              "<div id=\"df-c16451df-d01b-46ca-b8d9-5384188a4f3d\">\n",
              "  <button class=\"colab-df-quickchart\" onclick=\"quickchart('df-c16451df-d01b-46ca-b8d9-5384188a4f3d')\"\n",
              "            title=\"Suggest charts\"\n",
              "            style=\"display:none;\">\n",
              "\n",
              "<svg xmlns=\"http://www.w3.org/2000/svg\" height=\"24px\"viewBox=\"0 0 24 24\"\n",
              "     width=\"24px\">\n",
              "    <g>\n",
              "        <path d=\"M19 3H5c-1.1 0-2 .9-2 2v14c0 1.1.9 2 2 2h14c1.1 0 2-.9 2-2V5c0-1.1-.9-2-2-2zM9 17H7v-7h2v7zm4 0h-2V7h2v10zm4 0h-2v-4h2v4z\"/>\n",
              "    </g>\n",
              "</svg>\n",
              "  </button>\n",
              "\n",
              "<style>\n",
              "  .colab-df-quickchart {\n",
              "      --bg-color: #E8F0FE;\n",
              "      --fill-color: #1967D2;\n",
              "      --hover-bg-color: #E2EBFA;\n",
              "      --hover-fill-color: #174EA6;\n",
              "      --disabled-fill-color: #AAA;\n",
              "      --disabled-bg-color: #DDD;\n",
              "  }\n",
              "\n",
              "  [theme=dark] .colab-df-quickchart {\n",
              "      --bg-color: #3B4455;\n",
              "      --fill-color: #D2E3FC;\n",
              "      --hover-bg-color: #434B5C;\n",
              "      --hover-fill-color: #FFFFFF;\n",
              "      --disabled-bg-color: #3B4455;\n",
              "      --disabled-fill-color: #666;\n",
              "  }\n",
              "\n",
              "  .colab-df-quickchart {\n",
              "    background-color: var(--bg-color);\n",
              "    border: none;\n",
              "    border-radius: 50%;\n",
              "    cursor: pointer;\n",
              "    display: none;\n",
              "    fill: var(--fill-color);\n",
              "    height: 32px;\n",
              "    padding: 0;\n",
              "    width: 32px;\n",
              "  }\n",
              "\n",
              "  .colab-df-quickchart:hover {\n",
              "    background-color: var(--hover-bg-color);\n",
              "    box-shadow: 0 1px 2px rgba(60, 64, 67, 0.3), 0 1px 3px 1px rgba(60, 64, 67, 0.15);\n",
              "    fill: var(--button-hover-fill-color);\n",
              "  }\n",
              "\n",
              "  .colab-df-quickchart-complete:disabled,\n",
              "  .colab-df-quickchart-complete:disabled:hover {\n",
              "    background-color: var(--disabled-bg-color);\n",
              "    fill: var(--disabled-fill-color);\n",
              "    box-shadow: none;\n",
              "  }\n",
              "\n",
              "  .colab-df-spinner {\n",
              "    border: 2px solid var(--fill-color);\n",
              "    border-color: transparent;\n",
              "    border-bottom-color: var(--fill-color);\n",
              "    animation:\n",
              "      spin 1s steps(1) infinite;\n",
              "  }\n",
              "\n",
              "  @keyframes spin {\n",
              "    0% {\n",
              "      border-color: transparent;\n",
              "      border-bottom-color: var(--fill-color);\n",
              "      border-left-color: var(--fill-color);\n",
              "    }\n",
              "    20% {\n",
              "      border-color: transparent;\n",
              "      border-left-color: var(--fill-color);\n",
              "      border-top-color: var(--fill-color);\n",
              "    }\n",
              "    30% {\n",
              "      border-color: transparent;\n",
              "      border-left-color: var(--fill-color);\n",
              "      border-top-color: var(--fill-color);\n",
              "      border-right-color: var(--fill-color);\n",
              "    }\n",
              "    40% {\n",
              "      border-color: transparent;\n",
              "      border-right-color: var(--fill-color);\n",
              "      border-top-color: var(--fill-color);\n",
              "    }\n",
              "    60% {\n",
              "      border-color: transparent;\n",
              "      border-right-color: var(--fill-color);\n",
              "    }\n",
              "    80% {\n",
              "      border-color: transparent;\n",
              "      border-right-color: var(--fill-color);\n",
              "      border-bottom-color: var(--fill-color);\n",
              "    }\n",
              "    90% {\n",
              "      border-color: transparent;\n",
              "      border-bottom-color: var(--fill-color);\n",
              "    }\n",
              "  }\n",
              "</style>\n",
              "\n",
              "  <script>\n",
              "    async function quickchart(key) {\n",
              "      const quickchartButtonEl =\n",
              "        document.querySelector('#' + key + ' button');\n",
              "      quickchartButtonEl.disabled = true;  // To prevent multiple clicks.\n",
              "      quickchartButtonEl.classList.add('colab-df-spinner');\n",
              "      try {\n",
              "        const charts = await google.colab.kernel.invokeFunction(\n",
              "            'suggestCharts', [key], {});\n",
              "      } catch (error) {\n",
              "        console.error('Error during call to suggestCharts:', error);\n",
              "      }\n",
              "      quickchartButtonEl.classList.remove('colab-df-spinner');\n",
              "      quickchartButtonEl.classList.add('colab-df-quickchart-complete');\n",
              "    }\n",
              "    (() => {\n",
              "      let quickchartButtonEl =\n",
              "        document.querySelector('#df-c16451df-d01b-46ca-b8d9-5384188a4f3d button');\n",
              "      quickchartButtonEl.style.display =\n",
              "        google.colab.kernel.accessAllowed ? 'block' : 'none';\n",
              "    })();\n",
              "  </script>\n",
              "</div>\n",
              "    </div>\n",
              "  </div>\n"
            ]
          },
          "metadata": {},
          "execution_count": 7
        }
      ],
      "source": [
        "# get embeddings for the question titles and add them as \"embedding\" column\n",
        "df = df.assign(embedding=get_embeddings_wrapper(list(df.title)))\n",
        "df.head()"
      ]
    },
    {
      "cell_type": "markdown",
      "metadata": {
        "id": "nB53SiJjVN6e"
      },
      "source": [
        "## Look at the embedding similarities\n",
        "\n",
        "Let's see how these embeddings are organized in the embedding space with their meanings by quickly calculating the similarities between them and sorting them.\n",
        "\n",
        "As embeddings are vectors, you can calculate similarity between two embeddings by using one of the popular metrics like the followings:\n",
        "\n",
        "![](https://storage.googleapis.com/github-repo/img/embeddings/textemb-vs-notebook/8.png)\n",
        "\n",
        "Which metric should we use? Usually it depends on how each model is trained. In case of the model `textembedding-gecko`, we need to use inner product (dot product).\n",
        "\n",
        "In the following code, it picks up one question randomly and uses the numpy `np.dot` function to calculate the similarities between the question and other questions."
      ]
    },
    {
      "cell_type": "code",
      "execution_count": 8,
      "metadata": {
        "id": "lKs6jSu7NiM6",
        "colab": {
          "base_uri": "https://localhost:8080/"
        },
        "executionInfo": {
          "status": "ok",
          "timestamp": 1717486016888,
          "user_tz": 420,
          "elapsed": 612,
          "user": {
            "displayName": "",
            "userId": ""
          }
        },
        "outputId": "17f43b5b-f040-452d-b64c-d0b86b65e3c4"
      },
      "outputs": [
        {
          "output_type": "stream",
          "name": "stdout",
          "text": [
            "Key question: Get list of all compartments in OCI Tenancy\n",
            "\n"
          ]
        },
        {
          "output_type": "execute_result",
          "data": {
            "text/plain": [
              "array([0.99999804, 0.50980233, 0.47981528, 0.55852779, 0.612905  ])"
            ]
          },
          "metadata": {},
          "execution_count": 8
        }
      ],
      "source": [
        "import numpy as np\n",
        "\n",
        "# pick the first key/question on the dataframe\n",
        "key = 0\n",
        "print(f\"Key question: {df.title[key]}\\n\")\n",
        "\n",
        "# calc dot product between the key and other questions\n",
        "embs = np.array(df.embedding.to_list())\n",
        "similarities = np.dot(embs[key], embs.T)\n",
        "\n",
        "# print similarities for the first 5 questions\n",
        "similarities[:5]"
      ]
    },
    {
      "cell_type": "markdown",
      "metadata": {
        "id": "srM04lJBQp4w"
      },
      "source": [
        "Finally, sort the questions with the similarities and print the list."
      ]
    },
    {
      "cell_type": "code",
      "execution_count": 9,
      "metadata": {
        "id": "lTUVvj9FQlab",
        "colab": {
          "base_uri": "https://localhost:8080/"
        },
        "executionInfo": {
          "status": "ok",
          "timestamp": 1717486024120,
          "user_tz": 420,
          "elapsed": 247,
          "user": {
            "displayName": "",
            "userId": ""
          }
        },
        "outputId": "ba144f78-6947-4472-f41a-b19ff8f36277"
      },
      "outputs": [
        {
          "output_type": "stream",
          "name": "stdout",
          "text": [
            "Key question: Get list of all compartments in OCI Tenancy\n",
            "\n",
            "1.0000 Get list of all compartments in OCI Tenancy\n",
            "0.7046 How can I check the users permissions for a specific OU?\n",
            "0.7028 Get all container registries under a subscription - .NET Azure sdk\n",
            "0.6926 Finding Menu ids of existing Modules in Odoo?\n",
            "0.6816 Get active and total bookings (from 1 table) for every user in users table\n",
            "0.6763 Get Entities through common relation\n",
            "0.6754 Get items in a multidimensional array-like object\n",
            "0.6733 Want to create possible multi hierarchy sub category with its parent sub category string array?\n",
            "0.6724 c# get records which exist in each group ASP.NET MVC Entity Framework\n",
            "0.6719 Getting a section of an array in OpenCL\n",
            "0.6712 Aggregating values in a list by multiple group by and calculating percentage of distribution in java 8\n",
            "0.6709 Select all rows for the first N distinct child table rows\n",
            "0.6705 generate all possible combinations with multiple colums in pan das\n",
            "0.6702 Odoo 13: Contacts: Filter/Search - Get all individuals of companies with condition (category_id == 'Services')\n",
            "0.6698 Calculation of Least Common Multiple of the Denominator in Oracle Table\n",
            "0.6668 How to perform this recursive query to fetch child ids for each id?\n",
            "0.6667 Accessing values in list for modules in terraform\n",
            "0.6664 Retrieval of columns from functions that returns table (or setof record)\n",
            "0.6661 Need help in getting attribute to display in descending order (Oracle SQL)\n",
            "0.6639 GitLab API - How to list all files in subfolder\n"
          ]
        }
      ],
      "source": [
        "# print the question\n",
        "print(f\"Key question: {df.title[key]}\\n\")\n",
        "\n",
        "# sort and print the questions by similarities\n",
        "sorted_questions = sorted(\n",
        "    zip(df.title, similarities), key=lambda x: x[1], reverse=True\n",
        ")[:20]\n",
        "for i, (question, similarity) in enumerate(sorted_questions):\n",
        "    print(f\"{similarity:.4f} {question}\")"
      ]
    },
    {
      "cell_type": "markdown",
      "metadata": {
        "id": "S75SQzAg1wHV"
      },
      "source": [
        "# Find embeddings fast with Vertex AI Vector Search\n",
        "\n",
        "As we have explained above, you can find similar embeddings by calculating the distance or similarity between the embeddings.\n",
        "\n",
        "But this isn't easy when you have millions or billions of embeddings. For example, if you have 1 million embeddings with 768 dimensions, you need to repeat the distance calculations for 1 million x 768 times. This would take some seconds - too slow."
      ]
    },
    {
      "cell_type": "markdown",
      "metadata": {
        "id": "0sjhTy-a47YH"
      },
      "source": [
        "So the researchers have been studying a technique called [Approximate Nearest Neighbor (ANN)](https://en.wikipedia.org/wiki/Nearest_neighbor_search) for faster search. ANN uses \"vector quantization\" for separating the space into multiple spaces with a tree structure. This is similar to the index in relational databases for improving the query performance, enabling very fast and scalable search with billions of embeddings.\n",
        "\n",
        "With the rise of LLMs, the ANN is getting popular quite rapidly, known as the Vector Search technology.\n",
        "\n",
        "![](https://storage.googleapis.com/gweb-cloudblog-publish/images/7._ANN.1143068821171228.max-2200x2200.png)\n",
        "\n",
        "In 2020, Google Research published a new ANN algorithm called [ScaNN](https://ai.googleblog.com/2020/07/announcing-scann-efficient-vector.html). It is considered one of the best ANN algorithms in the industry, also the most important foundation for search and recommendation in major Google services such as Google Search, YouTube and many others.\n"
      ]
    },
    {
      "cell_type": "markdown",
      "metadata": {
        "id": "xVOL8BgM2isz"
      },
      "source": [
        "## What is Vertex AI Vector Search?\n",
        "\n",
        "Google Cloud developers can take the full advantage of Google's vector search technology with [Vertex AI Vector Search](https://cloud.google.com/vertex-ai/docs/vector-search/overview) (previously called Matching Engine). With this fully managed service, developers can just add the embeddings to its index and issue a search query with a key embedding for the blazingly fast vector search. In the case of the Stack Overflow demo, Vector Search can find relevant questions from 8 million embeddings in tens of milliseconds.\n",
        "\n",
        "![](https://storage.googleapis.com/github-repo/img/embeddings/textemb-vs-notebook/9.png)\n",
        "\n",
        "With Vector Search, you don't need to spend much time and money building your own vector search service from scratch or using open source tools if your goal is high scalability, availability and maintainability for production systems."
      ]
    },
    {
      "cell_type": "markdown",
      "metadata": {
        "id": "uBt8tjidSzyU"
      },
      "source": [
        "## Get Started with Vector Search\n",
        "\n",
        "When you already have the embeddings, then getting started with Vector Search is pretty easy. In this section, we will follow the steps below.\n",
        "\n",
        "### Setting up Vector Search\n",
        "- Save the embeddings in JSON files on Cloud Storage\n",
        "- Build an Index\n",
        "- Create an Index Endpoint\n",
        "- Deploy the Index to the endpoint\n",
        "\n",
        "### Use Vector Search\n",
        "\n",
        "- Query with the endpoint\n",
        "\n",
        "### **Tip for Colab users**\n",
        "\n",
        "If you use Colab for this tutorial, you may lose your runtime while you are waiting for the Index building and deployment in the later sections as it takes tens of minutes. In that case, run the following sections again with the new instance to recover the runtime: [Install Python SDK, Environment variables and Authentication](https://colab.research.google.com/drive/1xJhLFEyPqW0qvKiERD6aYgeTHa6_U50N?resourcekey=0-2qUkxckCjt6W03AsqvZHhw#scrollTo=AtXnXhF8U-8R&line=9&uniqifier=1).\n",
        "\n",
        "Then, use the [Utilities](https://colab.research.google.com/drive/1xJhLFEyPqW0qvKiERD6aYgeTHa6_U50N?resourcekey=0-2qUkxckCjt6W03AsqvZHhw#scrollTo=BE1tELsH-u8N&line=1&uniqifier=1) to recover the Index and Index Endpoint and continute with the rest."
      ]
    },
    {
      "cell_type": "markdown",
      "metadata": {
        "id": "6pu1a3zjfQ0D"
      },
      "source": [
        "### Save the embeddings in a JSON file\n",
        "To load the embeddings to Vector Search, we need to save them in JSON files with JSONL format. See more information in the docs at [Input data format and structure](https://cloud.google.com/vertex-ai/docs/matching-engine/match-eng-setup/format-structure#data-file-formats).\n",
        "\n",
        "First, export the `id` and `embedding` columns from the DataFrame in JSONL format, and save it."
      ]
    },
    {
      "cell_type": "code",
      "execution_count": 10,
      "metadata": {
        "id": "GzZ30d4j_uLU",
        "colab": {
          "base_uri": "https://localhost:8080/"
        },
        "executionInfo": {
          "status": "ok",
          "timestamp": 1717486038162,
          "user_tz": 420,
          "elapsed": 2936,
          "user": {
            "displayName": "",
            "userId": ""
          }
        },
        "outputId": "1a8d7f8a-ac3e-4e9c-b1b3-875b22cde8d0"
      },
      "outputs": [
        {
          "output_type": "stream",
          "name": "stdout",
          "text": [
            "{\"id\":73210586,\"embedding\":[0.0139513025,-0.0147433542,-0.0261959955,0.0285781734,0.0516352989,0.0048935171,0.024650516,-0.033777304,-0.0160438418,0.0286903698,-0.0046704351,0.0086344955,-0.0072673107,-0.0226843525,-0.006174942,-0.0352224074,0.0263284482,-0.0011634964,-0.059246175,0.0137064122,-0.0134991873,0.0025238204,-0.0377190746,-0.0218907464,-0.003821658,-0.0063919346,-0.0157446396,-0.087614581,-0.0289135128,0.0285816994,-0.0468162522,0.0410229005,-0.0902959555,0.0077241398,-0.0240082685,-0.0206805393,-0.0034184416,-0.0418329798,-0.0261355247,0.0611698329,0.0227663163,-0.0229563583,-0.0361920446,-0.0041173152,0.0101775154,-0.055483494,-0.0137018105,0.023108907,-0.0059295809,-0.0269603673,-0.003033113,-0.0019886068,0.0335769951,-0.0213403758,0.0083882678,-0.0227813851,0.0024620781,-0.0047742445,-0.0053480854,0.0087519363,0.0119840298,0.017712988,0.0115757035,0.0762576535,0.0171728283,-0.0869579464,-0.0360775627,-0.0181585867,0.040822193,0.0339637809,0.0189821385,-0.0370352305,0.0922821462,-0.0249592345,-0.0402181074,-0.0917769298,-0.0251216553,0.0309289899,0.0514441542,0.011880327,0.0613409951,-0.0355852731,-0.0132658985,-0.0135705676,-0.0436107293,0.0074480744,-0.0330961309,0.0055930279,-0.0067003341,0.020539362,-0.041986946,-0.0010789913,0.0059358557,-0.0685411543,-0.0233181249,0.0408794843,-0.0230159201,-0.0034264261,-0.0128716435,-0.0085740406,0.0180702806,-0.0322116055,-0.0398565941,-0.0164241455,-0.00094377,0.0089782914,0.0004485597,0.0380369052,-0.0478434637,0.0187772792,-0.051425375,0.0049545565,-0.0078547997,-0.0209862646,0.0783907324,-0.0389660932,0.004000166,0.0750104785,0.0148747107,0.018680837,0.0234291106,-0.038404379,-0.0020118048,0.048684448,-0.0173861459,0.0146309873,-0.0384578034,0.0176581927,0.0608596094,0.046844814,-0.0131000178,-0.0402708277,-0.0111729717,0.0495165028,0.0376968645,0.0270791128,0.0316096507,0.0118422024,0.0473665223,-0.0198859125,0.025413122,0.0129276225,-0.0108061442,-0.0118949125,0.0235772803,0.0366178527,-0.0376099683,0.0074042878,0.0337240249,-0.0025281245,-0.0273087285,0.0074830623,0.0235947985,-0.0057587577,0.0429904982,0.0222271401,-0.0553369671,-0.0212447122,0.0104851769,0.0567822196,0.0451155007,0.0711941272,0.0059708999,0.0425992049,-0.0324710347,-0.0196041204,0.0019536309,0.0016538964,-0.0468505993,0.0142490454,-0.0067717354,-0.0309665836,-0.0281510577,-0.0363487042,-0.0025472112,-0.0017078585,-0.0116570229,0.0274617299,-0.0200336259,0.0411784612,-0.0143311638,-0.0319160223,0.0411053263,0.0386195965,0.0088363364,-0.0137572996,0.0392874815,0.0104939137,-0.0366308317,-0.0309465583,-0.0110268118,0.0106966542,-0.0518574864,-0.0411899686,-0.0516448505,-0.0230155718,0.008163291,0.0508290902,-0.0062758164,-0.0564120598,-0.0347719043,0.0628881902,-0.0091234613,0.0317131579,0.0298043359,0.0096444441,0.003237172,-0.0497719347,-0.0405701995,0.0315803699,-0.0389178395,-0.0179587919,-0.0544018745,-0.0074171769,0.0398825184,-0.0713750124,0.0396084711,0.0568330996,-0.0132328309,-0.0387037098,-0.0124964276,0.0145487543,-0.0090947999,0.0198423713,-0.033115536,0.0019594408,0.0215926748,0.0395016335,0.0374431312,-0.0799124092,-0.0122123361,0.0801857933,0.0337094255,-0.0388855748,0.0573987886,0.0082398485,0.0287302341,0.062656872,0.0310298335,0.0128007475,-0.0367523059,0.0394674391,0.0547813401,0.0065062474,-0.042157542,-0.0444589928,0.0042182985,0.0396820232,0.0000528922,0.0627980903,-0.0006292342,-0.0361212008,0.0690033361,0.0112681948,-0.0224891435,0.0286011994,-0.0572808422,-0.0257012192,0.0409724638,0.045172859,0.0042357161,-0.0368300341,-0.0063880463,0.0220259689,0.0141013274,-0.0153941587,0.0176017173,-0.0839641243,-0.0196259022,0.014145378,-0.0064229872,-0.032330066,0.0903538242,0.0233518481,-0.036024943,-0.0597804226,-0.0260725096,0.0321237929,-0.012169024,-0.0490245968,0.0339361466,0.0094649345,0.0301918313,-0.0201365575,-0.0313814804,0.0281999949,0.0002801976,0.0089750458,0.0224740561,-0.0712249056,-0.0638696998,-0.010338759,-0.0085160667,0.016984446,-0.0305735432,0.0161048658,-0.0223571938,0.0299027506,0.0302961078,-0.0186124407,0.0115336031,-0.034119565,-0.0252856556,-0.0314226784,0.0078775752,0.017380137,-0.0304539874,-0.0217771754,-0.004955193,-0.0184028763,-0.0306387097,-0.0250098389,-0.0647720695,-0.0311146807,0.0324854329,0.0142786792,0.030806765,0.0212649461,0.0280959569,0.0314910077,-0.0350490548,0.040720813,-0.0049403487,0.0699999928,0.0284142196,0.0419955887,-0.0277173128,0.0211331621,0.0201863814,0.015687529,-0.0321135409,0.0151805533,0.0148882391,0.0554191656,0.0121384338,0.0235487521,-0.0597694442,-0.0029920363,-0.0576091036,0.0209986567,0.034226153,0.0198894255,-0.0311266985,-0.0313085355,0.0180468336,0.0036939217,-0.042475123,-0.0549116768,0.0277606677,0.0111303218,-0.0466795824,0.0918249264,-0.0480037779,-0.002966291,0.0268381704,-0.060335841,0.0330538303,-0.0629002154,0.0013944868,-0.026528554,-0.0298968889,0.0285010133,0.0044179987,0.0069717527,0.0441397727,-0.0201620888,-0.0075805387,0.0027910303,-0.0535006188,0.0190622974,0.0161216483,-0.0345294662,0.0117337573,0.0397052951,-0.0017565722,-0.0670776144,-0.0612729602,-0.052972842,0.0457424112,-0.004713112,0.0057073752,-0.0325399078,0.0336815938,0.0478104949,0.0191532634,-0.0128105031,0.045721598,0.0873418078,0.0042729164,-0.0150180683,0.016677089,0.0203157291,0.0715722069,-0.0089950804,-0.0013129073,-0.0037167147,-0.0176240858,-0.0488880984,0.0392296799,-0.0262106992,0.0005587054,-0.0633121282,-0.0346453786,-0.0514471605,-0.0014776085,-0.0405594446,-0.0024868441,-0.052121941,-0.0534994006,-0.0281693805,0.0302403923,0.0580140837,0.0039853193,-0.0614462383,-0.0132055245,0.0239749253,0.034793105,-0.0185717717,0.0018875453,0.0626284704,0.0012684927,-0.0003878351,-0.0406414159,-0.0679082423,-0.0335472897,-0.0313175544,-0.0078397729,-0.0799972489,-0.013883234,0.0238792859,0.0121981287,0.0107496176,-0.0017802947,-0.0466444604,0.0094434759,-0.027335912,0.0444545895,0.0011621068,-0.0264371075,0.0053016949,0.0085339937,-0.0154284462,0.038964171,0.0130313924,-0.0494136699,-0.0117075061,0.0213599596,-0.0490937643,0.0154788997,-0.0694886073,0.0421680547,-0.0198378619,-0.0630875975,-0.0311888289,-0.0506546088,-0.0627810732,0.0058132601,0.0646820217,0.0168613885,-0.011249233,-0.0512131751,-0.0351447053,0.0008849477,-0.0815947056,0.0103210751,-0.0257485043,0.0094016809,-0.0093849096,0.1211236715,0.0539084449,0.0997267365,-0.0321660787,0.0021415837,0.0240028538,0.0141975712,-0.0710983351,-0.0910006985,0.0181772131,-0.034545552,0.0042572967,0.0144202579,-0.030856343,0.0473016202,0.0246298723,0.0051707374,0.0114420066,-0.002563938,-0.01687303,-0.0057894443,0.067603454,-0.0069829989,-0.0185390674,0.0129969725,0.0144563168,0.0295325387,0.0282866582,0.0150343589,0.0346143469,0.0162251163,0.0064224727,-0.0325766355,-0.0158311334,0.0093338117,-0.0284786168,0.0236467961,-0.0180877522,0.013969481,0.0257432777,-0.0118085928,0.0163984001,0.0024010607,0.0106967911,0.0032938018,-0.0752087757,0.0431965254,-0.0251573212,-0.0335972272,0.0391514115,0.0051070559,-0.0058723763,0.0937863141,0.0315372609,-0.0338511579,0.0278957095,0.0654337257,-0.0740874708,0.0894601122,-0.0273217522,-0.0100287665,-0.0245604608,0.0455404408,0.0525599346,-0.0231813714,-0.0203397032,-0.0137231648,0.0116092078,-0.0175694209,0.0021664519,0.0405046754,-0.0196228866,0.0263967365,0.0088770445,-0.0160407573,0.0056554582,0.0085480334,0.0037491452,0.0059750802,-0.1077466458,-0.0200746246,0.0200625267,0.0180553421,0.0035608844,0.0005761056,-0.026455475,0.0342847146,-0.017596012,-0.0331967287,0.0083385566,0.0103152366,-0.0008467803,-0.0273039844,-0.0161843076,-0.021016689,-0.0313028954,0.0798010454,0.087910831,0.0120933894,-0.036555998,0.0380633958,-0.018545771,-0.0479277,0.0504051559,-0.0466303639,-0.0053473939,0.0907645673,-0.0396290794,-0.0571497232,-0.032912001,-0.0112615684,-0.0476292744,-0.0095929485,-0.0576769263,-0.0292577874,0.0328993872,-0.0123218438,0.0138385585,0.0282735247,0.0018454936,0.0130625591,0.0345917903,-0.0734003186,0.0636509284,-0.0470967628,-0.0470511094,0.0303734411,-0.0137757277,-0.0049802773,0.0128484583,-0.0444840826,-0.0036172981,0.0324482508,0.0127988486,0.0372206531,-0.0140913147,0.0445434079,0.0355280861,0.0061920234,0.0075737075,0.0107865715,-0.0361387283,-0.0090891561,-0.0229652319,0.0281109661,-0.0747441426,0.0013740021,0.0008785342,0.0653411001,-0.0128615499,0.0096218996,0.015626464,-0.0133907571,0.0303423628,0.0178944506,-0.0346024111,0.0309656113,0.0196981076,-0.0105566522,-0.057762444,0.0185941216,-0.0033918493,-0.0034919435,0.0486433432,-0.0008776449,-0.0170109458,-0.0148618752,0.0646242201,0.0107501717,-0.0195320025,-0.0194617491,0.0284283962,-0.0950453803,0.0451262407,0.0268495139,0.0135923522,-0.0557724275,0.017069798,-0.0016542028,-0.0429449789,-0.0594646484,0.0537813418,-0.0217875596,0.0438749902,0.0382982157,0.0539833307,0.018379407,-0.0254817083,0.0020695303,-0.0351327918,0.0625310764,0.0260261875,-0.0193249546,-0.0164670795,0.0127564725,-0.0365019515,-0.0156505443,0.029610401,-0.0361372381,-0.0964224637,-0.0437026173,0.055307854,-0.0451366492,0.0845705196,0.0375963487,0.0020577747,0.0631036088,0.018905703,0.0479453206,0.0414180122,0.0269033536,0.0153798396,-0.007634114,-0.0212584436,-0.0303278174,-0.0211721454,0.0542953312,0.0485258102,-0.0263215564,0.0060534785,-0.0189407244,-0.006780786,-0.0400512554,-0.0790527463,-0.0685775727,0.03567921,0.0194352455,-0.021559272,-0.0009755475,-0.043773856,0.0076939743,0.0776355714,-0.0096497694,-0.02464143,-0.0168966521,0.047596857,0.0025591559,-0.0181717835,-0.0021007052,0.028570354,-0.0249978658,-0.0043610334,0.0332521126,-0.0558015853,-0.0615685917,0.0613639429,0.0254364144,-0.0404058918,-0.0072104144,0.0069106361,-0.0253904741,0.068121314,0.0491785593,0.0343745872,0.0546501428,-0.039708171,0.0118893208,0.0353036784,0.0146991946,0.0519221649,0.0344680622,-0.0228975415,0.0343309343,0.0064282874,-0.0052493736,0.0020645119,-0.0490173846,0.0359364636,-0.0324307941,0.0479957722,-0.0020255097,-0.0754749626,-0.0407077596,0.0262154695,0.0424192287,0.0127814403,0.0038283209,-0.0372258648,-0.0504341386,-0.0749922022,-0.0022293469,-0.0411132053,-0.0369348042,0.0361964852,-0.0257858746,0.0187700763,0.0500657931,-0.0143857431,0.0337031744,0.0193888117,-0.0210953206,0.0267091375,0.0128362253,0.0361590013,0.0123910736,0.0323157683,-0.025558399,0.0075979335,-0.0343542099,-0.0055078859]}\n",
            "{\"id\":73229845,\"embedding\":[-0.0211851411,-0.0504621752,-0.0625604466,-0.0452431813,0.0525033921,0.0047265124,-0.0041791326,-0.0221074708,-0.0183775444,0.0532532893,0.0322899707,-0.0019813536,-0.0149695342,-0.0442646444,0.0378733389,-0.0026210712,0.0799367279,-0.0548638813,0.0242109764,-0.0511426143,-0.0184930116,-0.0420681126,-0.0549558848,-0.0094434479,0.0520944819,0.0048574633,0.0055018365,-0.0361834019,0.02652153,0.0044319793,-0.0520898663,0.0597014129,-0.0926432237,-0.005318806,-0.0098834774,-0.0725382566,-0.0095499996,0.0044493717,-0.0107815787,0.0406509936,0.023881495,-0.0330225676,-0.0048623332,-0.015912652,-0.0259735044,-0.0050495444,-0.0030427095,0.0642699972,0.0117615601,-0.0049290168,0.0110298786,-0.0072524226,0.0317151658,-0.0180106871,-0.0078443075,0.002315531,0.0210256483,0.0022728741,0.0273483265,0.0379850939,0.019695932,-0.0042766444,0.0357610434,0.0546667948,-0.0007029439,-0.0148728155,0.0309462976,-0.0138925053,0.0472764522,0.0324508175,-0.0309733115,0.0310488883,0.0487891212,-0.0340086557,-0.0284524318,-0.109867014,-0.0141402632,0.0741712749,0.0162560977,0.0334658735,0.0095366603,-0.0601843111,-0.0052260067,0.0055621648,-0.0153629081,0.0718848035,-0.034704078,0.0254053287,0.006700349,0.0585379116,-0.0095526576,0.0395854227,0.0492933355,-0.0555564389,0.0039979401,0.0565460362,-0.0288799722,-0.0302251261,0.02318234,-0.0417912304,-0.0112969866,-0.0027192333,-0.0007024446,0.0023333139,0.0259390846,0.0653010458,-0.0119730169,0.0948578641,-0.0469984636,0.0133339148,0.0224859882,0.042027723,-0.0010292727,-0.0524053946,0.0395474769,-0.0011896683,-0.0446296223,0.0956371278,0.0550882518,0.0107969744,0.0534162112,0.052116558,0.0160166305,0.048691798,0.0031146656,0.0034696108,0.0324665196,0.0041468493,0.0789989457,0.0208671167,-0.0359635428,0.0033289478,0.0306307692,-0.0421808101,-0.0059437612,0.0736420751,0.0070200348,-0.0034408304,0.072514534,-0.00172449,0.0220533367,-0.011861328,-0.0244213548,0.0050875191,0.0091088861,0.0135495886,0.0015491698,-0.025724927,0.0485428944,-0.0474356785,-0.0275084898,0.0071395338,-0.0696788058,0.0336154848,-0.0128512327,-0.0296736881,-0.0506481379,0.0078698471,-0.0058881687,-0.0432207584,0.0677195489,0.0100763747,0.0024036793,-0.0072734524,0.0114301378,-0.026526317,0.0161216874,-0.013854662,-0.0024325128,-0.0066209505,0.0140597448,-0.0024839325,-0.0267673917,-0.0088321231,-0.0399535447,-0.0241719969,0.0299236812,0.0165687241,-0.0415817685,0.0182475802,-0.0083596939,-0.0370901078,-0.0310548097,0.0132571012,0.0032608095,-0.0739453062,0.042094402,-0.0048239562,-0.0250029135,0.0101419613,0.0027335817,0.0011976656,-0.0224233046,0.0287897699,-0.0002199953,0.0322620012,0.0309810191,0.0475678854,0.0022591734,-0.0262909699,-0.0020762051,0.0510823093,-0.0036092328,0.0244074017,0.0592901632,0.0005528082,0.0505630858,-0.0656551197,-0.0195529163,0.0295762122,-0.0031929829,0.0182976797,-0.0364079997,0.0244082287,0.0300243236,0.013378541,0.026859019,0.0434824228,0.0115834186,-0.0514462255,-0.0113778962,0.0137488823,-0.0160002019,0.046847064,0.0202498715,-0.022823574,0.032671608,-0.0124096563,0.013625388,-0.0642136782,0.0163925327,0.0921372026,0.017109381,-0.0125870025,0.0298780147,-0.0340015814,0.0402449854,0.0292232726,0.004765173,-0.0264845788,-0.026135793,0.0023621672,0.0609074496,0.0787031651,-0.0669334978,-0.0121084424,0.0085605392,0.031584546,-0.0545120612,0.0248116162,-0.0538876466,-0.011948375,0.0001268112,0.0496259145,-0.0274152383,-0.0031023296,-0.0455451906,-0.0091159157,0.0196750145,-0.0186807457,0.0874486491,0.0315485187,-0.0104319854,0.0184428021,0.004237378,-0.0114983115,-0.0200807229,-0.0155155146,-0.0228293389,-0.0108027831,-0.0074413964,-0.0275833607,0.0579474345,0.0262552481,0.044708699,0.0434636921,-0.0181023143,0.0123605616,0.0212048329,-0.074934788,-0.0338011086,0.0211781394,-0.0139358612,-0.0174036436,-0.0438298807,-0.0235225428,-0.0305085145,-0.0333104655,0.0086239139,-0.0552197248,-0.0294951722,0.0150949378,0.008297231,-0.0419115052,-0.0094919549,0.0294050686,0.0116747227,0.0338093005,-0.0303476825,-0.0045806593,0.0053186975,-0.0279009957,-0.0315312892,-0.0292221233,0.0107783331,-0.0172283612,-0.0199538227,-0.0190272313,-0.0143855633,-0.0116900243,-0.0018237943,0.0288009867,-0.0322250761,0.0321375877,0.0492147058,0.039800521,-0.0026629246,0.0270252246,-0.0118739735,0.0391272493,-0.0360952616,0.0758579373,0.0282640215,-0.0370440185,0.0425595008,-0.0024284269,0.0113321822,0.0213047974,-0.048914142,0.0236562267,-0.0443520099,0.005954769,-0.0100473827,0.0042935065,-0.0070853312,-0.0037694061,-0.0692942664,0.0071954685,-0.0476091765,-0.0104293171,0.0643987879,-0.0007697116,-0.0147582162,-0.0117817959,-0.0075942469,0.0066689714,-0.0146666225,-0.0044652103,0.0475097001,-0.0109853884,0.0360248275,0.0535644852,-0.0090472624,0.0350711085,0.0147114182,-0.0052299257,0.0273235068,-0.0297066998,-0.004053629,-0.0200719293,-0.0384221487,-0.0015758729,-0.0079089748,0.0028285778,-0.0021108489,-0.0068892809,-0.0290095899,0.0139928795,-0.0251194518,0.0416075625,0.0173467435,-0.0452235118,0.0044626212,0.0306205302,0.0020276564,-0.0615355,-0.0581309758,0.0360869132,0.0238180403,-0.0134250596,-0.0087875966,-0.0839040056,0.0595507137,0.0461920723,0.0170028545,-0.0004603479,0.075886637,0.0443163067,-0.0257074833,0.0107609769,-0.0539562143,-0.0222924557,0.0390902758,0.0220241863,0.0506990626,0.0366224833,0.0444047935,0.0314476043,0.0543900318,0.0040969076,0.0039024674,0.0110914614,-0.0583534651,-0.0385362394,0.0008066632,0.0001760468,-0.0184791163,-0.0369617827,-0.0130472332,-0.0239269864,-0.0023464963,0.033241231,0.0005695716,-0.0847188011,0.0177065153,-0.0075973971,0.0461262502,-0.0162352175,0.0210447516,0.0483991466,-0.0416536555,-0.0070798267,-0.0318878852,-0.0322952494,-0.0885522589,-0.0394165218,-0.0503284223,0.0202455483,-0.0170118008,-0.0231487937,0.0155646214,-0.0115551408,-0.0190669205,0.0157146975,-0.0117386682,-0.0804800242,0.0284995418,0.0222605746,0.0101335142,-0.0434465557,0.0128547205,-0.0151297878,0.0463763364,-0.0177200027,-0.0391329452,-0.0286966898,-0.0271059033,-0.0392325595,0.0679859892,-0.0975808129,0.0483464003,-0.0627191886,-0.0475007407,-0.079372257,-0.0546758547,-0.0323355235,0.0368483663,0.02767919,0.0234595351,0.0317794271,-0.030154055,-0.0226034746,-0.0057269409,-0.0521912314,0.0075383424,0.0153579023,0.0451183803,-0.0352752842,0.056268923,0.0527292825,0.0362294763,0.036459405,0.0237754378,0.0579279661,-0.0187091287,0.0084153619,-0.0932012647,0.0416787863,0.0056685843,-0.0278883893,-0.0046769665,-0.0231674258,0.0173907019,0.0312621631,0.0242503118,-0.0165951215,0.0012043294,-0.0061366181,0.0427866168,0.0266105141,-0.0014674785,-0.0201698821,0.0223363899,-0.0895544216,0.0125392964,0.031574212,-0.0690686405,0.0497619398,0.0568323992,0.0125079378,0.0243648216,0.0024943547,-0.0301350541,-0.0406874008,0.0501430444,0.00940625,0.0211643185,0.0102057159,0.0021626845,-0.0205307733,0.0248590913,-0.0121231051,-0.0426269919,-0.0240049958,0.0344803929,-0.0128835198,-0.014222878,0.0496365689,-0.0422975272,0.0188259128,0.0195185933,0.0177907981,-0.0819538236,0.0371619649,0.0188296903,-0.0699188709,0.0381231084,0.0516513102,-0.041326236,0.018612776,0.0128893061,-0.0024239891,-0.0551064648,-0.0607716143,0.030043887,-0.0126111219,-0.0176521018,0.0169422366,0.0183670484,-0.0155447647,0.0416172333,-0.018436417,-0.0119224237,-0.030909935,0.0056082434,-0.0142054185,-0.0267424732,-0.0919318125,0.0270457286,-0.0018573203,-0.0285361502,0.0107332999,0.0115212388,-0.0249746889,0.0787433386,-0.029302761,-0.0291866474,0.0190768801,0.0321617499,0.0149946101,-0.0539025106,0.0254167933,0.0335764922,-0.0231633577,0.00188887,0.0538454279,0.0179343857,0.0115036545,0.0194239505,-0.0057568364,0.0156392492,0.0030430923,-0.0018774398,-0.0053927363,0.0064957244,-0.0072625065,-0.0383920856,-0.0388045944,0.0457090512,0.0157771558,0.0349830091,-0.0158485714,-0.0501032509,0.0679494962,-0.0215623155,0.0803840309,0.0437343419,0.0155828865,0.0588995889,0.0617788285,-0.0495263748,0.0578529201,-0.0032176503,-0.0216608569,0.003314174,0.0074728713,-0.0226913486,0.0018018422,-0.0111292219,-0.0473659225,0.0209942348,-0.0043814303,0.1167071238,-0.0375260003,0.0496743061,0.0796794295,-0.0045235995,0.0059781061,0.0798981935,0.0515492782,-0.0071309186,0.0337525755,0.0097641256,-0.0097790295,0.0148615837,-0.0178877264,0.0646254197,-0.001760273,0.0324987173,-0.0278496388,-0.0001104297,-0.0021638104,0.0344668478,-0.0010684476,0.0021957408,0.0109080486,0.0303913634,0.0220782273,0.0531059764,0.0093708597,0.0013509264,0.0546427295,-0.0068332581,0.0097066034,-0.0061491216,0.0216785613,-0.0068257623,-0.0028592101,0.0416963734,0.012119337,-0.0532440208,-0.0076014502,0.007939904,0.0160314571,0.0000222317,0.0195489116,0.0364834517,-0.0618335307,-0.0399298035,0.0333446153,-0.0199570507,-0.0120413406,0.0334631428,0.0280704889,-0.0114646526,-0.0312394239,0.0358018465,-0.0185496695,0.000223581,0.0478722081,-0.0533686206,-0.0041713035,-0.0393538326,0.0007248087,-0.0323206447,-0.0418543853,-0.0369568132,-0.0271577537,-0.0644724742,0.0268975869,-0.0825423896,0.0977766961,-0.021215437,-0.0151590649,-0.0055905306,0.0065546753,-0.0126796449,-0.012437732,0.020103123,0.0300072096,0.0088094436,-0.0589806736,-0.0551733263,0.0273318347,-0.0019662417,0.0775901973,-0.0153776472,0.0376346856,0.0120100444,-0.0438219644,-0.0230357852,-0.0323026478,-0.0741015375,0.0273053534,0.0328334905,0.0128005035,0.0067632003,-0.008125701,0.0093441186,0.0397414491,-0.0137687698,-0.0301165301,-0.0077030151,0.0106132505,-0.0041152681,0.0152533352,0.0215094108,0.0286050327,0.0898195878,0.0394068435,0.0331807509,-0.0553250164,-0.0127440793,-0.0019266488,-0.0139995869,-0.0039789286,0.0468024835,0.002152086,-0.0396683402,0.0632705241,0.0756972581,-0.0172427222,0.0010557184,-0.0323468633,-0.0637421161,0.0081470255,-0.004754982,-0.0001641727,-0.0480623133,0.0071216244,0.0527188219,-0.019384006,-0.077161245,0.0534143932,-0.0938038602,0.0472755656,0.0585173741,0.0331318714,0.0073972787,-0.0639494434,-0.0069004078,0.0336035267,0.0031439317,0.0575946122,0.0405374505,-0.0005555178,0.0285140891,-0.0317804962,0.004172673,-0.0098659722,-0.0911566615,0.013671496,-0.0472455248,0.043351844,0.0303351134,-0.0482324064,0.0445719436,-0.0443207249,-0.0349383913,0.0385337248,-0.024148006,-0.0132163381,-0.0830420032,0.0282245446,0.0480259359,-0.0047081662,0.0161906313,0.0679387674]}\n",
            "{\"id\":73501178,\"embedding\":[0.0050106328,-0.0668301731,-0.0241382793,-0.0027841036,0.0245083515,0.0146240564,0.0031289535,-0.0007597614,0.0666581914,0.0541015305,0.0321309231,0.0231097639,0.0083309272,-0.00215606,0.0161005873,-0.0733659491,0.0449226424,0.0294631869,-0.0079038907,-0.0633430034,0.0031781462,-0.0298864245,-0.0057347221,0.0086347694,0.0007633325,0.0002133163,-0.0045794868,-0.0791329741,-0.043168366,0.0197116751,-0.0201041494,0.0598077439,-0.1099534482,-0.0770483464,0.0063173617,-0.0336168408,0.0008292241,0.0214241315,-0.0258911811,0.0137394452,0.0128683373,0.0096667763,-0.0013924468,0.049392201,0.0097434726,0.0313447341,0.0214233305,0.0655365065,0.0157104544,-0.0391196683,0.0131743569,0.0015109858,0.0232183635,-0.0299046785,-0.0824789107,-0.0194282159,0.0278750714,0.0205815583,-0.0223606527,-0.0077485801,-0.0040286826,-0.0128428219,-0.0558193102,0.0618713498,-0.0010497838,0.0001852817,0.0127571048,-0.0336957946,0.1189580858,-0.0036044857,0.0004974942,0.0070842337,-0.005532424,-0.0128009878,-0.0626601577,-0.0563606508,-0.0564593077,0.0655588135,0.030003285,0.0185540915,0.007160774,-0.0820643902,-0.0338682942,-0.033283323,-0.0670539588,0.0267945249,-0.0492350496,0.0216846298,-0.0189108755,0.0329321846,-0.0135669606,0.0173779689,0.0109955454,-0.0901584998,-0.0069988444,0.0660476908,-0.0080578635,-0.0580729768,-0.0081113223,-0.0210258309,-0.0027837586,-0.0379552804,0.0162403397,-0.0489896759,-0.0064633838,0.0391447246,0.0312839262,0.0167899709,-0.0503361411,-0.0020057298,-0.0616790168,-0.0153196594,-0.0042318748,-0.0386902988,-0.0143274004,0.0129133165,-0.0093232673,0.1029578298,0.042193044,0.0203180499,0.0640155897,0.0035706251,0.0051330612,0.0045493473,0.0209748819,0.0058842534,0.0157445837,-0.0049685021,0.1000434831,0.0484794043,-0.012525416,-0.0151547799,0.0510631986,-0.0262948144,0.0758633763,0.0202806909,0.0446950942,0.0389362797,0.025435444,0.0066815005,-0.044207219,0.0472400151,-0.061471913,0.0299681723,-0.0249962714,-0.0049910597,-0.0137925697,0.0083512561,-0.0268008467,-0.053732682,-0.0179806687,0.0099851359,-0.0706721544,0.0266164485,0.0470545068,0.0197850708,-0.0020283151,-0.0180097036,0.005745138,0.0144503498,0.0273280162,-0.0286210719,-0.0143000642,-0.0006427988,0.0034876955,0.0257708505,0.0379186273,-0.0094677592,0.0306102671,0.0233760774,-0.0139301717,-0.0214207023,-0.1228518337,-0.0061877314,-0.0342224389,-0.0271069519,-0.0488566607,-0.0085133202,-0.0275385585,-0.0150217274,-0.010292924,-0.0738757104,-0.0282657295,-0.0073631746,0.0166846011,-0.0007649314,-0.0192849636,-0.0762819201,-0.0232584886,-0.0185712148,0.0037758076,-0.0249387976,-0.0123883653,0.0021937019,0.0451955162,-0.0016061424,0.0069567733,-0.0075946352,0.0135414405,-0.0381309725,0.0138255907,0.0376476161,0.0053925849,0.0091208555,0.011346763,0.0144330347,0.0452295616,-0.080064252,-0.0813245177,0.0352365486,0.0237176828,0.011958899,-0.056837704,0.0172750745,0.0818559527,-0.0059794909,0.0018468263,0.0301497355,-0.0219850801,-0.026399171,-0.0100125466,0.0289924052,-0.0211684685,-0.0211008508,-0.0281107984,0.0083411317,-0.0159381349,-0.0244988725,-0.0127574224,-0.0442775004,-0.0014513838,0.0913861319,0.0224124435,-0.0442718752,0.0645709932,0.0221439097,0.0363124125,-0.0298621617,0.0228716768,0.0276641212,-0.0574795417,0.0376120955,0.0398265943,0.0334827788,-0.069051072,0.0083751427,0.0052657952,0.0180254262,0.0055060391,-0.0137515105,0.0126946708,-0.0614632294,0.011320482,0.0246822573,-0.0241103917,-0.0261572674,-0.0674428418,-0.018015122,-0.0134078385,-0.0182339251,0.0363720804,-0.0473513603,0.0240243375,-0.0335887745,-0.0172664877,-0.0160911456,0.0098583046,-0.0023438202,-0.0113978544,0.0194564313,0.0116693927,-0.0359242447,0.0432055704,-0.007133401,-0.0058436892,0.0840876326,0.0005471669,0.0256733466,0.0147098489,-0.0604239479,-0.0130167073,0.0773149133,0.0009717061,-0.0465580635,-0.0083500622,0.0092874914,-0.0547001287,0.014386246,0.0315324366,-0.041511979,-0.0278880987,0.0117392307,-0.0080454443,-0.042620115,0.0390075929,0.0166836549,-0.0234739669,0.0214246865,0.0373032242,-0.0120372884,-0.0004547065,0.0136921871,-0.0425021835,-0.0488768034,0.0472318642,0.0111889476,0.0336282812,-0.0666477904,0.0389890969,-0.004861983,0.0220971871,0.0466190353,-0.0334388018,-0.0427377038,0.0257506575,0.0678798035,-0.0169682559,0.0292630326,0.0254458003,0.0153462971,-0.0267561693,0.0537127778,-0.0558605306,-0.0334461033,0.0217553023,0.0311081689,-0.0008357561,0.0079977056,-0.0292773284,0.0106798466,-0.0221278574,0.0657478124,-0.022146767,-0.0270687882,-0.0279339161,0.0124061313,-0.0747221783,0.0228518993,-0.0434059389,-0.0008743971,0.0160912257,0.0362428389,0.0059191156,-0.0225018859,-0.0192379355,-0.0100148749,0.0139405495,-0.0298668705,0.0397226848,0.016756041,-0.027710136,0.0754369199,-0.0289002694,0.0277618486,0.0224087499,-0.0080442708,0.0318734236,-0.0224137809,0.0109642018,-0.0317129418,-0.0134076038,0.0226790495,-0.0210096166,0.0014030251,-0.0355285034,0.0096372515,-0.0149246221,0.006595741,-0.0365817249,0.0254461672,0.0149339801,-0.0382905528,0.0101323957,0.0048549105,-0.0078411913,-0.0453442074,0.0134212971,0.0219392348,0.0192169528,-0.036067199,0.0141225029,-0.0480563343,0.0356069617,0.0276221875,0.0434598289,0.0227465499,0.0307827052,0.0247514844,-0.0044399104,0.0316466205,-0.0194507912,0.0035085499,0.0631193668,-0.0053511229,0.030967297,0.0052404972,0.0767910779,0.0179431252,-0.0157963801,-0.0089915255,-0.0523298308,-0.0179268569,-0.0286530536,0.0024442247,0.0318616219,-0.0196376424,0.0098168934,-0.0001338929,0.0199033152,-0.0745429769,0.0519439876,0.0343065076,0.0312178824,-0.0567876063,-0.0722282529,0.0183242988,0.0196838677,0.0230345074,0.0257059243,0.0737988874,-0.04757585,0.0244065784,0.0253015868,0.0053238631,-0.0325610004,0.0028746249,-0.0114603071,-0.0469974913,-0.022270849,0.0514058433,0.0402788781,-0.0001011378,0.006278831,-0.0073967357,0.0096622789,-0.0524175055,0.0384933278,0.0782732368,-0.0054651224,-0.0300647561,0.0401675627,-0.0155405961,0.0257311035,0.0044965185,-0.0501569398,-0.0472468473,-0.0217115618,-0.0230747648,0.0306817442,-0.0514226183,0.0000746758,-0.1122205406,0.0183224212,-0.0971951783,-0.0665864721,-0.0309723709,0.0632133186,0.0740133673,0.0196438152,-0.0041907532,-0.0237465799,-0.0306390207,-0.0517181419,-0.1080155522,-0.0203066114,0.0103669958,0.004043017,0.0049311449,0.0788036659,0.0710285082,0.0062531014,0.0031718158,-0.0440102033,0.0366700068,0.0450997762,-0.0105152661,-0.0671361238,0.02098497,0.0098972684,-0.0683028325,0.0000092239,-0.0029017939,0.000350568,0.0408921503,-0.0105841113,0.0130461296,0.0221271459,0.0195725746,0.0001450883,0.0449705683,0.0317819789,-0.0337071866,-0.0253855642,-0.0180438776,-0.0056064101,-0.0194561593,-0.0410170779,-0.0110131623,0.0426097214,0.0063786367,0.0258678067,-0.0133520337,0.0070995856,-0.0638075247,0.0823763311,-0.0243432596,0.0128550846,0.0268624853,-0.0215144716,0.0119766127,0.0148119871,0.0359904207,0.0296531226,-0.0015860046,0.0561941527,-0.0030736467,-0.0238906369,0.0384873226,0.026817603,-0.0215316936,0.0328822434,0.0096200388,-0.0848395303,-0.0223507527,0.0144166062,-0.0360693447,0.0278430115,0.0680827051,-0.0212665182,0.0091622677,-0.0265493244,0.037571054,-0.0618367977,-0.0242045,-0.021624269,-0.0249809474,0.0232609641,0.011247267,0.0065446817,-0.0277686045,0.0290471204,0.0140562952,-0.0444942638,0.0079662967,0.0046271509,0.0171078704,-0.0055527417,-0.0583096109,-0.0249083471,-0.0296921078,-0.0218616724,0.0075049717,-0.0426257737,-0.0396164805,0.0345961526,-0.0228146873,-0.0066077034,-0.0168801881,0.0233272761,-0.0176919624,-0.0211866926,-0.0042870245,0.0123043703,0.007667243,0.0282503683,0.0352237709,0.0061357995,-0.0200115871,0.0117433537,-0.0375915952,0.0167690869,-0.0279127862,0.0357627645,-0.0407392494,0.047889486,-0.0046114409,-0.0370865315,0.0224534106,-0.0180125441,-0.0271308608,0.0572973154,0.0364888832,-0.0625790879,0.0435051471,-0.0295274798,-0.0134728178,0.0454429202,-0.0113455988,0.0404159166,0.0415696204,-0.0274549797,0.0564665161,-0.0188281201,0.0017846777,-0.0005383477,0.0157706253,-0.0463442281,-0.0013538691,-0.0478355959,-0.0283863563,0.078285858,-0.0170329828,0.0230214484,-0.0109600732,0.0418047011,-0.0005320834,0.0300210025,0.0060372725,-0.0313109532,0.0154566001,-0.0450627878,-0.005076238,-0.0041538621,0.0280627087,-0.0166214779,-0.0176457372,0.0631053448,-0.0427530706,0.0080230488,-0.0096610067,-0.023861615,0.0366786197,0.0161429252,0.02522159,0.044844795,0.0062204693,0.0279832669,-0.030830605,0.0378274284,-0.0061093704,0.0187939797,0.0174086113,-0.0154159134,-0.0094076432,-0.042334754,0.0421288647,0.0214781892,-0.051379431,0.0648202151,-0.0177045465,-0.0824829713,0.0677149892,0.0181656461,0.0099050812,-0.0244412906,0.0167907495,0.0154645368,-0.1039084941,-0.0567981862,-0.0112208845,-0.0343007557,-0.0040588952,0.0332599878,0.0208575297,-0.0172651391,0.0359741263,-0.0232043453,0.0162951481,-0.0167924538,-0.0188559592,-0.0362984389,-0.010991863,-0.0122989984,-0.0081272293,0.0207990985,0.0008266411,-0.0414327532,-0.0077134282,-0.0205775537,0.0324769355,-0.1200145856,0.0363816954,0.0110325459,0.0147246635,0.0480208695,0.0097956043,-0.0014768656,-0.019637486,0.0008162147,-0.0095265284,-0.0214589722,-0.0274171922,-0.000445928,0.0502630882,0.0064237574,0.0447892882,0.0062441812,-0.0341063403,0.019188311,-0.0872613564,-0.0295602381,-0.0315025039,-0.0946304202,-0.0201270077,0.0471479334,0.0406910069,0.0388540328,0.0070526898,0.0150177777,0.0549198203,-0.0369945839,-0.0451748185,-0.0013913786,0.0296837185,0.0247641448,0.0245849863,0.0208138078,-0.0042655529,0.0330090076,-0.0194369815,0.0326168314,-0.0269353837,-0.0211907346,0.0413035229,0.0199666303,-0.0156677458,-0.0027749946,0.0049553402,-0.040689081,0.0836087763,0.0600894839,-0.0333764777,0.0000557045,-0.02430401,-0.0727576315,0.0411797613,-0.0396525711,0.0114325779,-0.0371220112,-0.0128595736,0.0353158005,0.0358147435,-0.0338465646,0.0131073613,-0.0744834319,0.0600677729,0.0029623914,0.0254976731,-0.0137518942,-0.0561035126,-0.0335565507,0.0140660871,0.0022901362,0.0780391246,0.0245317649,-0.0525138862,0.0471626744,-0.0175204147,0.0029291026,-0.018896848,-0.0619358756,0.003148271,-0.0129366945,0.0231368393,0.0466832072,-0.0586978458,-0.0423263647,0.0181145314,0.0233586784,0.044195611,-0.044124227,0.0652703568,-0.0349362604,0.052661065,-0.0569302551,0.0010055358,0.0002296686,0.0103834663]}\n"
          ]
        }
      ],
      "source": [
        "# save id and embedding as a json file\n",
        "jsonl_string = df[[\"id\", \"embedding\"]].to_json(orient=\"records\", lines=True)\n",
        "with open(\"questions.json\", \"w\") as f:\n",
        "    f.write(jsonl_string)\n",
        "\n",
        "# show the first few lines of the json file\n",
        "! head -n 3 questions.json"
      ]
    },
    {
      "cell_type": "markdown",
      "metadata": {
        "id": "-WTNJ3FAQl_W"
      },
      "source": [
        "Then, create a new Cloud Storage bucket and copy the file to it."
      ]
    },
    {
      "cell_type": "code",
      "execution_count": 12,
      "metadata": {
        "id": "CzwDWJfzAk3n",
        "colab": {
          "base_uri": "https://localhost:8080/"
        },
        "executionInfo": {
          "status": "ok",
          "timestamp": 1717486071989,
          "user_tz": 420,
          "elapsed": 5389,
          "user": {
            "displayName": "",
            "userId": ""
          }
        },
        "outputId": "e1ec3308-f8e2-4da2-bac4-4ca285190247"
      },
      "outputs": [
        {
          "output_type": "stream",
          "name": "stdout",
          "text": [
            "Creating gs://derma-acs-fe-sand-1pf8-rag-session/...\n",
            "Copying file://questions.json [Content-Type=application/json]...\n",
            "\\ [1 files][ 98.4 MiB/ 98.4 MiB]                                                \n",
            "Operation completed over 1 objects/98.4 MiB.                                     \n"
          ]
        }
      ],
      "source": [
        "BUCKET_URI = f\"gs://{PROJECT_ID}-rag-session\"\n",
        "! gsutil mb -l $LOCATION -p {PROJECT_ID} {BUCKET_URI}\n",
        "! gsutil cp questions.json {BUCKET_URI}"
      ]
    },
    {
      "cell_type": "markdown",
      "metadata": {
        "id": "xxdbjKw1XDxl"
      },
      "source": [
        "### Create an Index\n",
        "\n",
        "Now it's ready to load the embeddings to Vector Search. Its APIs are available under the [aiplatform](https://cloud.google.com/python/docs/reference/aiplatform/latest/google.cloud.aiplatform) package of the SDK."
      ]
    },
    {
      "cell_type": "code",
      "execution_count": 13,
      "metadata": {
        "id": "8unyr9KagAoI",
        "executionInfo": {
          "status": "ok",
          "timestamp": 1717486088889,
          "user_tz": 420,
          "elapsed": 194,
          "user": {
            "displayName": "",
            "userId": ""
          }
        }
      },
      "outputs": [],
      "source": [
        "# init the aiplatform package\n",
        "from google.cloud import aiplatform\n",
        "\n",
        "aiplatform.init(project=PROJECT_ID, location=LOCATION)"
      ]
    },
    {
      "cell_type": "markdown",
      "metadata": {
        "id": "xpMUXqWQ75uu"
      },
      "source": [
        "Create an [MatchingEngineIndex](https://cloud.google.com/python/docs/reference/aiplatform/latest/google.cloud.aiplatform.MatchingEngineIndex) with its `create_tree_ah_index` function (Matching Engine is the previous name of Vector Search)."
      ]
    },
    {
      "cell_type": "code",
      "execution_count": 18,
      "metadata": {
        "id": "kKDw5VXMkXb3",
        "colab": {
          "base_uri": "https://localhost:8080/"
        },
        "executionInfo": {
          "status": "ok",
          "timestamp": 1717486310891,
          "user_tz": 420,
          "elapsed": 20337,
          "user": {
            "displayName": "",
            "userId": ""
          }
        },
        "outputId": "d4e673aa-16db-4bc6-c152-d078d43ce612"
      },
      "outputs": [
        {
          "output_type": "stream",
          "name": "stderr",
          "text": [
            "INFO:google.cloud.aiplatform.matching_engine.matching_engine_index:Creating MatchingEngineIndex\n",
            "INFO:google.cloud.aiplatform.matching_engine.matching_engine_index:Create MatchingEngineIndex backing LRO: projects/842907197256/locations/us-central1/indexes/7851027593762439168/operations/2121765280752336896\n",
            "INFO:google.cloud.aiplatform.matching_engine.matching_engine_index:MatchingEngineIndex created. Resource name: projects/842907197256/locations/us-central1/indexes/7851027593762439168\n",
            "INFO:google.cloud.aiplatform.matching_engine.matching_engine_index:To use this MatchingEngineIndex in another session:\n",
            "INFO:google.cloud.aiplatform.matching_engine.matching_engine_index:index = aiplatform.MatchingEngineIndex('projects/842907197256/locations/us-central1/indexes/7851027593762439168')\n"
          ]
        }
      ],
      "source": [
        "# create index\n",
        "my_index = aiplatform.MatchingEngineIndex.create_tree_ah_index(\n",
        "    display_name=f\"rag_demo1_stackoverflow_index\",\n",
        "    contents_delta_uri=BUCKET_URI,\n",
        "    dimensions=768,\n",
        "    approximate_neighbors_count=20,\n",
        "    distance_measure_type=\"DOT_PRODUCT_DISTANCE\",\n",
        ")"
      ]
    },
    {
      "cell_type": "markdown",
      "metadata": {
        "id": "2rFam_w9U0dI"
      },
      "source": [
        "By calling the `create_tree_ah_index` function, it starts building an Index. This will take under a few minutes if the dataset is small, otherwise about 50 minutes or more depending on the size of the dataset. You can check status of the index creation on [the Vector Search Console > INDEXES tab](https://console.cloud.google.com/vertex-ai/matching-engine/indexes).\n",
        "\n",
        "![](https://storage.googleapis.com/github-repo/img/embeddings/vs-quickstart/creating-index.png)\n",
        "\n",
        "#### The parameters for creating index\n",
        "\n",
        "- `contents_delta_uri`: The URI of Cloud Storage directory where you stored the embedding JSON files\n",
        "- `dimensions`: Dimension size of each embedding. In this case, it is 768 as we are using the embeddings from the Text Embeddings API.\n",
        "- `approximate_neighbors_count`: how many similar items we want to retrieve in typical cases\n",
        "- `distance_measure_type`: what metrics to measure distance/similarity between embeddings. In this case it's `DOT_PRODUCT_DISTANCE`\n",
        "\n",
        "See [the document](https://cloud.google.com/vertex-ai/docs/vector-search/create-manage-index) for more details on creating Index and the parameters.\n",
        "\n",
        "#### Batch Update or Streaming Update?\n",
        "There are two types of index: Index for *Batch Update* (used in this tutorial) and Index for *Streaming Updates*. The Batch Update index can be updated with a batch process whereas the Streaming Update index can be updated in real-time. The latter one is more suited for use cases where you want to add or update each embeddings in the index more often, and crucial to serve with the latest embeddings, such as e-commerce product search.\n",
        "\n"
      ]
    },
    {
      "cell_type": "markdown",
      "metadata": {
        "id": "VLOAMF50XMI8"
      },
      "source": [
        "### Create Index Endpoint and deploy the Index\n",
        "\n",
        "To use the Index, you need to create an [Index Endpoint](https://cloud.google.com/vertex-ai/docs/vector-search/deploy-index-public). It works as a server instance accepting query requests for your Index."
      ]
    },
    {
      "cell_type": "code",
      "execution_count": 21,
      "metadata": {
        "id": "FcBHLifGwAWq",
        "executionInfo": {
          "status": "ok",
          "timestamp": 1717486331624,
          "user_tz": 420,
          "elapsed": 171,
          "user": {
            "displayName": "",
            "userId": ""
          }
        }
      },
      "outputs": [],
      "source": [
        "DEPLOYED_INDEX_ID = f\"rag_demo1_stackoverflow_index_deployed\""
      ]
    },
    {
      "cell_type": "code",
      "execution_count": 20,
      "metadata": {
        "id": "h6IzyufWCjU1",
        "colab": {
          "base_uri": "https://localhost:8080/"
        },
        "executionInfo": {
          "status": "ok",
          "timestamp": 1717486315976,
          "user_tz": 420,
          "elapsed": 1866,
          "user": {
            "displayName": "",
            "userId": ""
          }
        },
        "outputId": "23238831-e70b-43a1-9284-25de6470b3a1"
      },
      "outputs": [
        {
          "output_type": "stream",
          "name": "stderr",
          "text": [
            "INFO:google.cloud.aiplatform.matching_engine.matching_engine_index_endpoint:Creating MatchingEngineIndexEndpoint\n",
            "INFO:google.cloud.aiplatform.matching_engine.matching_engine_index_endpoint:Create MatchingEngineIndexEndpoint backing LRO: projects/842907197256/locations/us-central1/indexEndpoints/1049255150293614592/operations/7168048663220977664\n",
            "INFO:google.cloud.aiplatform.matching_engine.matching_engine_index_endpoint:MatchingEngineIndexEndpoint created. Resource name: projects/842907197256/locations/us-central1/indexEndpoints/1049255150293614592\n",
            "INFO:google.cloud.aiplatform.matching_engine.matching_engine_index_endpoint:To use this MatchingEngineIndexEndpoint in another session:\n",
            "INFO:google.cloud.aiplatform.matching_engine.matching_engine_index_endpoint:index_endpoint = aiplatform.MatchingEngineIndexEndpoint('projects/842907197256/locations/us-central1/indexEndpoints/1049255150293614592')\n"
          ]
        }
      ],
      "source": [
        "# This steps takes about 25 minutes\n",
        "\n",
        "# create IndexEndpoint\n",
        "my_index_endpoint = aiplatform.MatchingEngineIndexEndpoint.create(\n",
        "    display_name=f\"gcp_rag_session_endpoint\",\n",
        "    public_endpoint_enabled=True)\n",
        "\n",
        "# deploy the Index to the Index Endpoint\n",
        "my_index_endpoint.deploy_index(index=my_index, deployed_index_id=DEPLOYED_INDEX_ID)"
      ]
    },
    {
      "cell_type": "markdown",
      "metadata": {
        "id": "8n33iO1T5hFO"
      },
      "source": [
        "With the Index Endpoint, deploy the Index by specifying an unique deployed index ID."
      ]
    },
    {
      "cell_type": "code",
      "execution_count": 22,
      "metadata": {
        "id": "1jUoGhY5TPFP",
        "colab": {
          "base_uri": "https://localhost:8080/"
        },
        "executionInfo": {
          "status": "ok",
          "timestamp": 1717487885133,
          "user_tz": 420,
          "elapsed": 1549088,
          "user": {
            "displayName": "",
            "userId": ""
          }
        },
        "outputId": "3d5e5c53-4f9e-41bd-bceb-b40d336dd093"
      },
      "outputs": [
        {
          "output_type": "stream",
          "name": "stderr",
          "text": [
            "INFO:google.cloud.aiplatform.matching_engine.matching_engine_index_endpoint:Deploying index MatchingEngineIndexEndpoint index_endpoint: projects/842907197256/locations/us-central1/indexEndpoints/1049255150293614592\n",
            "INFO:google.cloud.aiplatform.matching_engine.matching_engine_index_endpoint:Deploy index MatchingEngineIndexEndpoint index_endpoint backing LRO: projects/842907197256/locations/us-central1/indexEndpoints/1049255150293614592/operations/8707153835874844672\n",
            "INFO:google.cloud.aiplatform.matching_engine.matching_engine_index_endpoint:MatchingEngineIndexEndpoint index_endpoint Deployed index. Resource name: projects/842907197256/locations/us-central1/indexEndpoints/1049255150293614592\n"
          ]
        },
        {
          "output_type": "execute_result",
          "data": {
            "text/plain": [
              "<google.cloud.aiplatform.matching_engine.matching_engine_index_endpoint.MatchingEngineIndexEndpoint object at 0x7f4a2dcf5900> \n",
              "resource name: projects/842907197256/locations/us-central1/indexEndpoints/1049255150293614592"
            ]
          },
          "metadata": {},
          "execution_count": 22
        }
      ],
      "source": []
    },
    {
      "cell_type": "markdown",
      "metadata": {
        "id": "xu9ZmWcpXQ55"
      },
      "source": [
        "If it is the first time to deploy an Index to an Index Endpoint, it will take around 25 minutes to automatically build and initiate the backend for it. After the first deployment, it will finish in seconds. To see the status of the index deployment, open [the Vector Search Console > INDEX ENDPOINTS tab](https://console.cloud.google.com/vertex-ai/matching-engine/index-endpoints) and click the Index Endpoint.\n",
        "\n",
        "<img src=\"https://storage.googleapis.com/github-repo/img/embeddings/vs-quickstart/deploying-index.png\" width=\"70%\">"
      ]
    },
    {
      "cell_type": "markdown",
      "metadata": {
        "id": "oTi4PjjbXV-O"
      },
      "source": [
        "### Run Query\n",
        "\n",
        "Finally it's ready to use Vector Search. In the following code, it creates an embedding for a test question, and find similar question with the Vector Search."
      ]
    },
    {
      "cell_type": "code",
      "execution_count": 23,
      "metadata": {
        "id": "Q01DGMBPXAg-",
        "executionInfo": {
          "status": "ok",
          "timestamp": 1717487901392,
          "user_tz": 420,
          "elapsed": 204,
          "user": {
            "displayName": "",
            "userId": ""
          }
        }
      },
      "outputs": [],
      "source": [
        "def run_query(query : str):\n",
        "  # Get embedding\n",
        "  test_embeddings = get_embeddings_wrapper([query])\n",
        "  print()\n",
        "\n",
        "  # Get closest vectors\n",
        "  response = my_index_endpoint.find_neighbors(\n",
        "      deployed_index_id=DEPLOYED_INDEX_ID,\n",
        "      queries=test_embeddings,\n",
        "      num_neighbors=20,\n",
        "  )\n",
        "\n",
        "  # show the result\n",
        "  for idx, neighbor in enumerate(response[0]):\n",
        "      id = np.int64(neighbor.id)\n",
        "      similar = df.query(\"id == @id\", engine=\"python\")\n",
        "      print(f\"{neighbor.distance:.4f} {similar.title.values[0]}\")"
      ]
    },
    {
      "cell_type": "code",
      "execution_count": 24,
      "metadata": {
        "id": "FhNuRQqUWdfe",
        "colab": {
          "base_uri": "https://localhost:8080/"
        },
        "executionInfo": {
          "status": "ok",
          "timestamp": 1717487902926,
          "user_tz": 420,
          "elapsed": 401,
          "user": {
            "displayName": "",
            "userId": ""
          }
        },
        "outputId": "936971bf-c5c4-4be4-d985-b4b981f0ef42"
      },
      "outputs": [
        {
          "output_type": "stream",
          "name": "stderr",
          "text": [
            "100%|██████████| 1/1 [00:00<00:00,  7.46it/s]\n"
          ]
        },
        {
          "output_type": "stream",
          "name": "stdout",
          "text": [
            "\n",
            "0.8056 Refresh data received from an API every minute React, Javascript\n",
            "0.7975 How can I re-render to display changes without refreshing the page?\n",
            "0.7971 When I make an AJAX call the page refreshes - why?\n",
            "0.7937 How to send and receive cookies by react js to a SAP server?\n",
            "0.7919 Thymeleaf - How to interact and reload Javascript?\n",
            "0.7842 How do I pass cookies from a PHP proxy server to a webpage?\n",
            "0.7841 How to refresh MainActivity?\n",
            "0.7749 Javascript test : Selenium cookies data url\n",
            "0.7725 Prevent Token Refresh Request From Being Fired Multiple Times in Angular\n",
            "0.7705 How to execute javascript code after htmx makes an ajax request?\n",
            "0.7666 How to store JWT token in cookie React fetch\n",
            "0.7657 How can I reset browser's navigation history in angular2?\n",
            "0.7650 Where to read Forms authentication cookie?\n",
            "0.7648 How to update a CSS Grid without re-rendering a specific component in ReactJS?\n",
            "0.7638 JWT Token Refresh Responsibility - Best practice\n",
            "0.7607 How can I keep the check-boxes checked after refresh?\n",
            "0.7581 How to use javascript' if in html?\n",
            "0.7538 How to keep css style changes in JavaScript with sessionStorage\n",
            "0.7533 Why are cookies not being sent?\n",
            "0.7526 When does PHP set the session cookie?\n"
          ]
        }
      ],
      "source": [
        "run_query(\"How to refresh cookies in JS?\")"
      ]
    },
    {
      "cell_type": "code",
      "source": [
        "# Get embedding\n",
        "run_query(\"what is the meaning of life?\")"
      ],
      "metadata": {
        "colab": {
          "base_uri": "https://localhost:8080/"
        },
        "id": "ts1Kdu4XUTCa",
        "executionInfo": {
          "status": "ok",
          "timestamp": 1717484784601,
          "user_tz": 420,
          "elapsed": 374,
          "user": {
            "displayName": "",
            "userId": ""
          }
        },
        "outputId": "89527230-476b-4678-dcba-210c14c38417"
      },
      "execution_count": 61,
      "outputs": [
        {
          "output_type": "stream",
          "name": "stderr",
          "text": [
            "100%|██████████| 1/1 [00:00<00:00, 10.11it/s]\n"
          ]
        },
        {
          "output_type": "stream",
          "name": "stdout",
          "text": [
            "\n",
            "0.6307 Summarize in a line\n",
            "0.6120 How to get the se semantic meaning of a word/phrase\n",
            "0.5965 Please missing data\n",
            "0.5885 Whats the reason for segmentation fault\n",
            "0.5871 Translation and fixed number of letters words\n",
            "0.5827 How to make a list of words?\n",
            "0.5774 How to organize based on specific data values\n",
            "0.5771 What does this C value mean?\n",
            "0.5768 I'm having trouble understanding the syntax used in a piece of code\n",
            "0.5764 Scheduling & Routing Optimization\n",
            "0.5751 Finding maximum\n",
            "0.5737 It is possible to use html <video> tag to show a Youtube video\n",
            "0.5728 How to perform sequence classification with a neural network?\n",
            "0.5713 Why is the result an empty array?\n",
            "0.5696 Questions example phoneNumber\n",
            "0.5695 Output produces random(?) numbers\n",
            "0.5689 Understanding Docker image\n",
            "0.5687 What's the point of a default constructor in OOP?\n",
            "0.5681 Text recommendation based on keywords\n",
            "0.5669 How to design meaningful objects and their relationships in simple physic simulations\n"
          ]
        }
      ]
    },
    {
      "cell_type": "markdown",
      "metadata": {
        "id": "tPDOL9caoYZ9"
      },
      "source": [
        "The `find_neighbors` function only takes milliseconds to fetch the similar items even when you have billions of items on the Index, thanks to the ScaNN algorithm. Vector Search also supports [autoscaling](https://cloud.google.com/vertex-ai/docs/vector-search/deploy-index-public#autoscaling) which can automatically resize the number of nodes based on the demands of your workloads."
      ]
    },
    {
      "cell_type": "markdown",
      "metadata": {
        "id": "DDt4D6FDyc66"
      },
      "source": [
        "# IMPORTANT: Cleaning Up\n",
        "\n",
        "In case you are using your own Cloud project, not a temporary project on Qwiklab, please make sure to delete all the Indexes, Index Endpoints and Cloud Storage buckets after finishing this tutorial. Otherwise the remaining objects would **incur unexpected costs**.\n",
        "\n",
        "If you used Workbench, you may also need to delete the Notebooks from [the console](https://console.cloud.google.com/vertex-ai/workbench)."
      ]
    },
    {
      "cell_type": "code",
      "execution_count": null,
      "metadata": {
        "id": "MEsKVzguyxNx"
      },
      "outputs": [],
      "source": [
        "# wait for a confirmation\n",
        "input(\"Press Enter to delete Index Endpoint, Index and Cloud Storage bucket:\")\n",
        "\n",
        "# delete Index Endpoint\n",
        "my_index_endpoint.undeploy_all()\n",
        "my_index_endpoint.delete(force=True)\n",
        "\n",
        "# delete Index\n",
        "my_index.delete()\n",
        "\n",
        "# delete Cloud Storage bucket\n",
        "! gsutil rm -r {BUCKET_URI}"
      ]
    },
    {
      "cell_type": "markdown",
      "metadata": {
        "id": "b8k26QOF3Ys7"
      },
      "source": [
        "# Summary\n",
        "\n",
        "## Grounding LLM outputs with Vertex AI Vector Search\n",
        "\n",
        "As we have seen, by combining the Embeddings API and Vector Search, you can use the embeddings to \"ground\" LLM outputs to real business data with low latency.\n",
        "\n",
        "For example, if an user asks a question, Embeddings API can convert it to an embedding, and issue an query on Vector Search to find similar embeddings in its index. Those embeddings represent the actual business data in the databases. As we are just retrieving the business data and not generating any artificial texts, there is no risk of having hallucinations in the result.\n",
        "\n",
        "![](https://storage.googleapis.com/gweb-cloudblog-publish/original_images/10._grounding.png)\n",
        "\n",
        "### The difference between the questions and answers\n",
        "\n",
        "In this tutorial, we have used the Stack Overflow dataset. There is a reason why we had to use it; As the dataset has many pairs of **questions and answers**, so you can just find questions similar to your question to find answers to it.\n",
        "\n",
        "In many business use cases, the semantics (meaning) of questions and answers are different. Also, there could be cases where you would want to add variety of recommended or personalized items to the results, like product search on e-commerce sites.\n",
        "\n",
        "In these cases, the simple semantics search don't work well. It's more like a recommendation system problem where you may want to train a model (e.g. Two-Tower model) to learn the relationship between the question embedding space and answer embedding space. Also, many production systems adds reranking phase after the semantic search to achieve higher search quality. Please see [Scaling deep retrieval with TensorFlow Recommenders and Vertex AI Matching Engine](https://cloud.google.com/blog/products/ai-machine-learning/scaling-deep-retrieval-tensorflow-two-towers-architecture) to learn more.\n",
        "\n",
        "### Hybrid of semantic + keyword search\n",
        "\n",
        "Another typical challenge you will face in production system is to support keyword search combined with the semantic search. For example, for e-commerce product search, you may want to let users find product by entering its product name or model number. As LLM doesn't memorize those product names or model numbers, semantic search can't handle those \"usual\" search functionalities.\n",
        "\n",
        "[Vertex AI Search](https://cloud.google.com/blog/products/ai-machine-learning/vertex-ai-search-and-conversation-is-now-generally-available) is another product you may consider for those requirements. While Vector Search provides a simple semantic search capability only, Search provides a integrated search solution that combines semantic search, keyword search, reranking and filtering, available as an out-of-the-box tool.\n",
        "\n",
        "### What about Retrieval Augmented Generation (RAG)?\n",
        "\n",
        "In this tutorial, we have looked at the simple combination of LLM embeddings and vector search. From this starting point, you may also extend the design to [Retrieval Augmented Generation (RAG)](https://www.google.com/search?q=Retrieval+Augmented+Generation+(RAG)&oq=Retrieval+Augmented+Generation+(RAG)).\n",
        "\n",
        "RAG is a popular architecture pattern of implementing grounding with LLM with text chat UI. The idea is to have the LLM text chat UI as a frontend for the document retrieval with vector search and summarization of the result.\n",
        "\n",
        "![](https://storage.googleapis.com/gweb-cloudblog-publish/images/Figure-7-Ask_Your_Documents_Flow.max-529x434.png)\n",
        "\n",
        "There are some pros and cons between the two solutions.\n",
        "\n",
        "| | Emb + vector search | RAG |\n",
        "|---|---|---|\n",
        "| Design | simple | complex |\n",
        "| UI | Text search UI | Text chat UI |\n",
        "| Summarization of result | No | Yes |\n",
        "| Multi-turn (Context aware) | No | Yes |\n",
        "| Latency | millisecs | seconds |\n",
        "| Cost | lower | higher |\n",
        "| Hallucinations | No risk | Some risk |\n",
        "\n",
        "The Embedding + vector search pattern we have looked at with this tutorial provides simple, fast and low cost semantic search functionality with the LLM intelligence. RAG adds context-aware text chat experience and result summarization to it. While RAG provides the more \"Gen AI-ish\" experience, it also adds a risk of hallucination and higher cost and time for the text generation.\n",
        "\n",
        "To learn more about how to build a RAG solution, you may look at [Building Generative AI applications made easy with Vertex AI PaLM API and LangChain](https://cloud.google.com/blog/products/ai-machine-learning/generative-ai-applications-with-vertex-ai-palm-2-models-and-langchain).\n",
        "\n",
        "## Resources\n",
        "\n",
        "To learn more, please check out the following resources:\n",
        "\n",
        "### Documentations\n",
        "\n",
        "[Vertex AI Embeddings for Text API documentation\n",
        "](https://cloud.google.com/vertex-ai/docs/generative-ai/embeddings/get-text-embeddings)\n",
        "\n",
        "[Vector Search documentation](https://cloud.google.com/vertex-ai/docs/matching-engine/overview)\n",
        "\n",
        "### Vector Search blog posts\n",
        "\n",
        "[Vertex Matching Engine: Blazing fast and massively scalable nearest neighbor search](https://cloud.google.com/blog/products/ai-machine-learning/vertex-matching-engine-blazing-fast-and-massively-scalable-nearest-neighbor-search)\n",
        "\n",
        "[Find anything blazingly fast with Google's vector search technology](https://cloud.google.com/blog/topics/developers-practitioners/find-anything-blazingly-fast-googles-vector-search-technology)\n",
        "\n",
        "[Enabling real-time AI with Streaming Ingestion in Vertex AI](https://cloud.google.com/blog/products/ai-machine-learning/real-time-ai-with-google-cloud-vertex-ai)\n",
        "\n",
        "[Mercari leverages Google's vector search technology to create a new marketplace](https://cloud.google.com/blog/topics/developers-practitioners/mercari-leverages-googles-vector-search-technology-create-new-marketplace)\n",
        "\n",
        "[Recommending news articles using Vertex AI Matching Engine](https://cloud.google.com/blog/products/ai-machine-learning/recommending-articles-using-vertex-ai-matching-engine)\n",
        "\n",
        "[What is Multimodal Search: \"LLMs with vision\" change businesses](https://cloud.google.com/blog/products/ai-machine-learning/multimodal-generative-ai-search)"
      ]
    },
    {
      "cell_type": "markdown",
      "metadata": {
        "id": "BE1tELsH-u8N"
      },
      "source": [
        "# Utilities\n",
        "\n",
        "Sometimes it takes tens of minutes to create or deploy Indexes and you would lose connection with the Colab runtime. In that case, instead of creating or deploying new Index again, you can check [the Vector Search Console](https://console.cloud.google.com/vertex-ai/matching-engine/index-endpoints) and get the existing ones to continue."
      ]
    },
    {
      "cell_type": "markdown",
      "metadata": {
        "id": "wF_pkdpJ-yaq"
      },
      "source": [
        "## Get an existing Index\n",
        "\n",
        "To get an Index object that already exists, replace the following `[your-index-id]` with the index ID and run the cell. You can check the ID on [the Vector Search Console > INDEXES tab](https://console.cloud.google.com/vertex-ai/matching-engine/indexes)."
      ]
    },
    {
      "cell_type": "code",
      "execution_count": null,
      "metadata": {
        "id": "mEBkZZt_-0jG"
      },
      "outputs": [],
      "source": [
        "my_index_id = \"[your-index-id]\"  # @param {type:\"string\"}\n",
        "my_index = aiplatform.MatchingEngineIndex(my_index_id)"
      ]
    },
    {
      "cell_type": "markdown",
      "metadata": {
        "id": "_vlgzkyw-3CI"
      },
      "source": [
        "## Get an existing Index Endpoint\n",
        "\n",
        "To get an Index Endpoint object that already exists, replace the following `[your-index-endpoint-id]` with the Index Endpoint ID and run the cell. You can check the ID on [the Vector Search Console > INDEX ENDPOINTS tab](https://console.cloud.google.com/vertex-ai/matching-engine/index-endpoints)."
      ]
    },
    {
      "cell_type": "code",
      "execution_count": null,
      "metadata": {
        "id": "E0OFnirF-6Rk"
      },
      "outputs": [],
      "source": [
        "my_index_endpoint_id = \"[your-index-endpoint-id]\"  # @param {type:\"string\"}\n",
        "my_index_endpoint = aiplatform.MatchingEngineIndexEndpoint(my_index_endpoint_id)"
      ]
    }
  ],
  "metadata": {
    "colab": {
      "provenance": [],
      "name": "RAG-demo1-intro-to-embeddings-June-2024.ipynb"
    },
    "environment": {
      "kernel": "python3",
      "name": "tf2-gpu.2-11.m108",
      "type": "gcloud",
      "uri": "gcr.io/deeplearning-platform-release/tf2-gpu.2-11:m108"
    },
    "kernelspec": {
      "display_name": "Python 3 (ipykernel)",
      "language": "python",
      "name": "python3"
    },
    "language_info": {
      "codemirror_mode": {
        "name": "ipython",
        "version": 3
      },
      "file_extension": ".py",
      "mimetype": "text/x-python",
      "name": "python",
      "nbconvert_exporter": "python",
      "pygments_lexer": "ipython3",
      "version": "3.10.10"
    }
  },
  "nbformat": 4,
  "nbformat_minor": 0
}
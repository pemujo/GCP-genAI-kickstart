{
  "cells": [
    {
      "cell_type": "code",
      "execution_count": 1,
      "metadata": {
        "id": "c3_K0GGSTrhd",
        "executionInfo": {
          "status": "ok",
          "timestamp": 1717692729249,
          "user_tz": 420,
          "elapsed": 3,
          "user": {
            "displayName": "",
            "userId": ""
          }
        }
      },
      "outputs": [],
      "source": [
        "# Copyright 2024 Google LLC\n",
        "#\n",
        "# Licensed under the Apache License, Version 2.0 (the \"License\");\n",
        "# you may not use this file except in compliance with the License.\n",
        "# You may obtain a copy of the License at\n",
        "#\n",
        "#     https://www.apache.org/licenses/LICENSE-2.0\n",
        "#\n",
        "# Unless required by applicable law or agreed to in writing, software\n",
        "# distributed under the License is distributed on an \"AS IS\" BASIS,\n",
        "# WITHOUT WARRANTIES OR CONDITIONS OF ANY KIND, either express or implied.\n",
        "# See the License for the specific language governing permissions and\n",
        "# limitations under the License."
      ]
    },
    {
      "cell_type": "markdown",
      "metadata": {
        "id": "7VQkf8sFTeDo"
      },
      "source": [
        "# Getting Started with Text Embeddings + Vertex AI Vector Search\n",
        "\n"
      ]
    },
    {
      "cell_type": "markdown",
      "metadata": {
        "id": "y2xCS3menNv7"
      },
      "source": [
        "## Introduction\n",
        "\n",
        "In this tutorial, you learn how to use Google Cloud AI tools to quickly bring the power of Large Language Models to enterprise systems.  \n",
        "\n",
        "This tutorial covers the following -\n",
        "\n",
        "*   What are embeddings - what business challenges do they help solve ?\n",
        "*   Understanding Text with Vertex AI Text Embeddings\n",
        "*   Find Embeddings fast with Vertex AI Vector Search\n",
        "*   Grounding LLM outputs with Vector Search\n",
        "\n",
        "This tutorial is based on [the blog post](https://cloud.google.com/blog/products/ai-machine-learning/how-to-use-grounding-for-your-llms-with-text-embeddings), combined with sample code.\n",
        "\n",
        "\n",
        "### Prerequisites\n",
        "\n",
        "This tutorial is designed for developers who has basic knowledge and experience with Python programming and machine learning.\n",
        "\n",
        "If you are not reading this tutorial in Qwiklab, then you need to have a Google Cloud project that is linked to a billing account to run this. Please go through [this document](https://cloud.google.com/vertex-ai/docs/start/cloud-environment) to create a project and setup a billing account for it.\n",
        "\n",
        "\n"
      ]
    },
    {
      "cell_type": "markdown",
      "source": [
        "# Settings required outside this notebook\n"
      ],
      "metadata": {
        "id": "n6xEVT7-o2Yg"
      }
    },
    {
      "cell_type": "markdown",
      "source": [
        "1. Enable APIs\n",
        "  - Vertex AI API\n",
        "  - BigQuery API\n",
        "2. Enable Private Service Access (PSA) in the project\n",
        "3. Provision the required IAM permissions to the Default Compute Enginer service agent account format: \"{project-number}-compute@developer.gserviceaccount.com\"\n",
        "\n",
        "  Roles required:\n",
        "    - roles/aiplatform.user\n",
        "    - roles/bigquery.user\n",
        "    - roles/storage.admin\n"
      ],
      "metadata": {
        "id": "hKQFohw2pA9r"
      }
    },
    {
      "cell_type": "markdown",
      "metadata": {
        "id": "-iOWOKnIvYxf"
      },
      "source": [
        "# Text Embeddings in Action\n",
        "\n",
        "Lets try using Text Embeddings in action with actual sample code."
      ]
    },
    {
      "cell_type": "markdown",
      "metadata": {
        "id": "AtXnXhF8U-8R"
      },
      "source": [
        "## Setup\n",
        "\n",
        "Before get started with the Vertex AI services, we need to setup the following.\n",
        "\n",
        "* Install Python SDK\n",
        "* Environment variables\n",
        "* Authentication (Colab only)\n",
        "* Enable APIs\n",
        "* Set IAM permissions"
      ]
    },
    {
      "cell_type": "markdown",
      "metadata": {
        "id": "UjnvWl6FLUlF"
      },
      "source": [
        "### Install Python SDK\n",
        "\n",
        "Vertex AI, Cloud Storage and BigQuery APIs can be accessed with multiple ways including REST API and Python SDK. In this tutorial we will use the SDK."
      ]
    },
    {
      "cell_type": "code",
      "execution_count": null,
      "metadata": {
        "id": "FZgLGALt_al7"
      },
      "outputs": [],
      "source": [
        "!pip install --upgrade --quiet google-cloud-aiplatform google-cloud-storage google-cloud-bigquery"
      ]
    },
    {
      "cell_type": "markdown",
      "metadata": {
        "id": "R5Xep4W9lq-Z"
      },
      "source": [
        "### Restart current runtime\n",
        "\n",
        "To use the newly installed packages in this Jupyter runtime, you must restart the runtime. You can do this by running the cell below, which will restart the current kernel."
      ]
    },
    {
      "cell_type": "code",
      "execution_count": null,
      "metadata": {
        "id": "XRvKdaPDTznN",
        "colab": {
          "base_uri": "https://localhost:8080/"
        },
        "executionInfo": {
          "status": "ok",
          "timestamp": 1717485738516,
          "user_tz": 420,
          "elapsed": 177,
          "user": {
            "displayName": "",
            "userId": ""
          }
        },
        "outputId": "ee170ab7-322c-4f02-b7d7-a8765d22e818"
      },
      "outputs": [
        {
          "output_type": "execute_result",
          "data": {
            "text/plain": [
              "{'status': 'ok', 'restart': True}"
            ]
          },
          "metadata": {},
          "execution_count": 65
        }
      ],
      "source": [
        "# Restart kernel after installs so that your environment can access the new packages\n",
        "import IPython\n",
        "\n",
        "app = IPython.Application.instance()\n",
        "app.kernel.do_shutdown(True)"
      ]
    },
    {
      "cell_type": "markdown",
      "metadata": {
        "id": "SbmM4z7FOBpM"
      },
      "source": [
        "<div class=\"alert alert-block alert-warning\">\n",
        "<b>⚠️ The kernel is going to restart. Please wait until it is finished before continuing to the next step. ⚠️</b>\n",
        "</div>\n",
        "\n"
      ]
    },
    {
      "cell_type": "markdown",
      "metadata": {
        "id": "B-mPnZJdiwkg"
      },
      "source": [
        "### Authenticating your notebook environment\n",
        "If you are using Vertex AI Colab Enterprise, you will not require additional authentication.\n",
        "\n",
        "For more information, you can check out the setup instructions [here](https://cloudtech.apple.com/documentation/gcp/getting-started/authentication-to-gcp).\n",
        "\n",
        "To authenticate on Jupter lab running on local Mac run:\n",
        "```\n",
        "!gcloud auth application-default login\n",
        "```"
      ]
    },
    {
      "cell_type": "markdown",
      "metadata": {
        "id": "nCoTvkOJoh76"
      },
      "source": [
        "### Environment variables\n",
        "\n",
        "Sets environment variables. If asked, please replace the following `[your-project-id]` with your project ID and run it."
      ]
    },
    {
      "cell_type": "code",
      "execution_count": 57,
      "metadata": {
        "id": "69XJ95rNoYG9",
        "executionInfo": {
          "status": "ok",
          "timestamp": 1717702553722,
          "user_tz": 420,
          "elapsed": 197,
          "user": {
            "displayName": "",
            "userId": ""
          }
        }
      },
      "outputs": [],
      "source": [
        "# Enter project information\n",
        "\n",
        "PROJECT_ID = \"project-id\"  # @param {type:\"string\"}\n",
        "LOCATION = \"us-central1\" # @param {type:\"string\"}"
      ]
    },
    {
      "cell_type": "markdown",
      "metadata": {
        "id": "mahCxLXHMIls"
      },
      "source": [
        "## Getting Started with Vertex AI Embeddings for Text\n",
        "\n",
        "Now it's ready to get started with embeddings!"
      ]
    },
    {
      "cell_type": "markdown",
      "metadata": {
        "id": "rq07_-o0VoZD"
      },
      "source": [
        "### Data Preparation\n",
        "\n",
        "We will be using [the Stack Overflow public dataset](https://console.cloud.google.com/marketplace/product/stack-exchange/stack-overflow) hosted on BigQuery table `bigquery-public-data.stackoverflow.posts_questions`. This is a very big dataset with 23 million rows that doesn't fit into the memory. We are going to limit it to 3000 rows for this tutorial."
      ]
    },
    {
      "cell_type": "code",
      "execution_count": 39,
      "metadata": {
        "id": "snrzPsEQDH4S",
        "colab": {
          "base_uri": "https://localhost:8080/",
          "height": 206
        },
        "executionInfo": {
          "status": "ok",
          "timestamp": 1717697262306,
          "user_tz": 420,
          "elapsed": 4367,
          "user": {
            "displayName": "",
            "userId": ""
          }
        },
        "outputId": "2a7f5dee-4579-41f6-ccfc-aa866609307d",
        "collapsed": true
      },
      "outputs": [
        {
          "output_type": "execute_result",
          "data": {
            "text/plain": [
              "         id                                              title\n",
              "0  73370728   Firebase doesn't work on Android Studio Emulator\n",
              "1  73401682  Appletv website is unresponsive through my ele...\n",
              "2  73415813  In tensorflow 1, when the loss function is def...\n",
              "3  73186559  view and control a windows 10 desktop with ras...\n",
              "4  73198124  Moongose: Insert Many Docs then get Id and Upd..."
            ],
            "text/html": [
              "\n",
              "  <div id=\"df-286909d7-0f8b-4d15-9b8d-d8a3400d7ac0\" class=\"colab-df-container\">\n",
              "    <div>\n",
              "<style scoped>\n",
              "    .dataframe tbody tr th:only-of-type {\n",
              "        vertical-align: middle;\n",
              "    }\n",
              "\n",
              "    .dataframe tbody tr th {\n",
              "        vertical-align: top;\n",
              "    }\n",
              "\n",
              "    .dataframe thead th {\n",
              "        text-align: right;\n",
              "    }\n",
              "</style>\n",
              "<table border=\"1\" class=\"dataframe\">\n",
              "  <thead>\n",
              "    <tr style=\"text-align: right;\">\n",
              "      <th></th>\n",
              "      <th>id</th>\n",
              "      <th>title</th>\n",
              "    </tr>\n",
              "  </thead>\n",
              "  <tbody>\n",
              "    <tr>\n",
              "      <th>0</th>\n",
              "      <td>73370728</td>\n",
              "      <td>Firebase doesn't work on Android Studio Emulator</td>\n",
              "    </tr>\n",
              "    <tr>\n",
              "      <th>1</th>\n",
              "      <td>73401682</td>\n",
              "      <td>Appletv website is unresponsive through my ele...</td>\n",
              "    </tr>\n",
              "    <tr>\n",
              "      <th>2</th>\n",
              "      <td>73415813</td>\n",
              "      <td>In tensorflow 1, when the loss function is def...</td>\n",
              "    </tr>\n",
              "    <tr>\n",
              "      <th>3</th>\n",
              "      <td>73186559</td>\n",
              "      <td>view and control a windows 10 desktop with ras...</td>\n",
              "    </tr>\n",
              "    <tr>\n",
              "      <th>4</th>\n",
              "      <td>73198124</td>\n",
              "      <td>Moongose: Insert Many Docs then get Id and Upd...</td>\n",
              "    </tr>\n",
              "  </tbody>\n",
              "</table>\n",
              "</div>\n",
              "    <div class=\"colab-df-buttons\">\n",
              "\n",
              "  <div class=\"colab-df-container\">\n",
              "    <button class=\"colab-df-convert\" onclick=\"convertToInteractive('df-286909d7-0f8b-4d15-9b8d-d8a3400d7ac0')\"\n",
              "            title=\"Convert this dataframe to an interactive table.\"\n",
              "            style=\"display:none;\">\n",
              "\n",
              "  <svg xmlns=\"http://www.w3.org/2000/svg\" height=\"24px\" viewBox=\"0 -960 960 960\">\n",
              "    <path d=\"M120-120v-720h720v720H120Zm60-500h600v-160H180v160Zm220 220h160v-160H400v160Zm0 220h160v-160H400v160ZM180-400h160v-160H180v160Zm440 0h160v-160H620v160ZM180-180h160v-160H180v160Zm440 0h160v-160H620v160Z\"/>\n",
              "  </svg>\n",
              "    </button>\n",
              "\n",
              "  <style>\n",
              "    .colab-df-container {\n",
              "      display:flex;\n",
              "      gap: 12px;\n",
              "    }\n",
              "\n",
              "    .colab-df-convert {\n",
              "      background-color: #E8F0FE;\n",
              "      border: none;\n",
              "      border-radius: 50%;\n",
              "      cursor: pointer;\n",
              "      display: none;\n",
              "      fill: #1967D2;\n",
              "      height: 32px;\n",
              "      padding: 0 0 0 0;\n",
              "      width: 32px;\n",
              "    }\n",
              "\n",
              "    .colab-df-convert:hover {\n",
              "      background-color: #E2EBFA;\n",
              "      box-shadow: 0px 1px 2px rgba(60, 64, 67, 0.3), 0px 1px 3px 1px rgba(60, 64, 67, 0.15);\n",
              "      fill: #174EA6;\n",
              "    }\n",
              "\n",
              "    .colab-df-buttons div {\n",
              "      margin-bottom: 4px;\n",
              "    }\n",
              "\n",
              "    [theme=dark] .colab-df-convert {\n",
              "      background-color: #3B4455;\n",
              "      fill: #D2E3FC;\n",
              "    }\n",
              "\n",
              "    [theme=dark] .colab-df-convert:hover {\n",
              "      background-color: #434B5C;\n",
              "      box-shadow: 0px 1px 3px 1px rgba(0, 0, 0, 0.15);\n",
              "      filter: drop-shadow(0px 1px 2px rgba(0, 0, 0, 0.3));\n",
              "      fill: #FFFFFF;\n",
              "    }\n",
              "  </style>\n",
              "\n",
              "    <script>\n",
              "      const buttonEl =\n",
              "        document.querySelector('#df-286909d7-0f8b-4d15-9b8d-d8a3400d7ac0 button.colab-df-convert');\n",
              "      buttonEl.style.display =\n",
              "        google.colab.kernel.accessAllowed ? 'block' : 'none';\n",
              "\n",
              "      async function convertToInteractive(key) {\n",
              "        const element = document.querySelector('#df-286909d7-0f8b-4d15-9b8d-d8a3400d7ac0');\n",
              "        const dataTable =\n",
              "          await google.colab.kernel.invokeFunction('convertToInteractive',\n",
              "                                                    [key], {});\n",
              "        if (!dataTable) return;\n",
              "\n",
              "        const docLinkHtml = 'Like what you see? Visit the ' +\n",
              "          '<a target=\"_blank\" href=https://colab.research.google.com/notebooks/data_table.ipynb>data table notebook</a>'\n",
              "          + ' to learn more about interactive tables.';\n",
              "        element.innerHTML = '';\n",
              "        dataTable['output_type'] = 'display_data';\n",
              "        await google.colab.output.renderOutput(dataTable, element);\n",
              "        const docLink = document.createElement('div');\n",
              "        docLink.innerHTML = docLinkHtml;\n",
              "        element.appendChild(docLink);\n",
              "      }\n",
              "    </script>\n",
              "  </div>\n",
              "\n",
              "\n",
              "<div id=\"df-50a90784-dd4d-454e-a25c-4d17d9b0f964\">\n",
              "  <button class=\"colab-df-quickchart\" onclick=\"quickchart('df-50a90784-dd4d-454e-a25c-4d17d9b0f964')\"\n",
              "            title=\"Suggest charts\"\n",
              "            style=\"display:none;\">\n",
              "\n",
              "<svg xmlns=\"http://www.w3.org/2000/svg\" height=\"24px\"viewBox=\"0 0 24 24\"\n",
              "     width=\"24px\">\n",
              "    <g>\n",
              "        <path d=\"M19 3H5c-1.1 0-2 .9-2 2v14c0 1.1.9 2 2 2h14c1.1 0 2-.9 2-2V5c0-1.1-.9-2-2-2zM9 17H7v-7h2v7zm4 0h-2V7h2v10zm4 0h-2v-4h2v4z\"/>\n",
              "    </g>\n",
              "</svg>\n",
              "  </button>\n",
              "\n",
              "<style>\n",
              "  .colab-df-quickchart {\n",
              "      --bg-color: #E8F0FE;\n",
              "      --fill-color: #1967D2;\n",
              "      --hover-bg-color: #E2EBFA;\n",
              "      --hover-fill-color: #174EA6;\n",
              "      --disabled-fill-color: #AAA;\n",
              "      --disabled-bg-color: #DDD;\n",
              "  }\n",
              "\n",
              "  [theme=dark] .colab-df-quickchart {\n",
              "      --bg-color: #3B4455;\n",
              "      --fill-color: #D2E3FC;\n",
              "      --hover-bg-color: #434B5C;\n",
              "      --hover-fill-color: #FFFFFF;\n",
              "      --disabled-bg-color: #3B4455;\n",
              "      --disabled-fill-color: #666;\n",
              "  }\n",
              "\n",
              "  .colab-df-quickchart {\n",
              "    background-color: var(--bg-color);\n",
              "    border: none;\n",
              "    border-radius: 50%;\n",
              "    cursor: pointer;\n",
              "    display: none;\n",
              "    fill: var(--fill-color);\n",
              "    height: 32px;\n",
              "    padding: 0;\n",
              "    width: 32px;\n",
              "  }\n",
              "\n",
              "  .colab-df-quickchart:hover {\n",
              "    background-color: var(--hover-bg-color);\n",
              "    box-shadow: 0 1px 2px rgba(60, 64, 67, 0.3), 0 1px 3px 1px rgba(60, 64, 67, 0.15);\n",
              "    fill: var(--button-hover-fill-color);\n",
              "  }\n",
              "\n",
              "  .colab-df-quickchart-complete:disabled,\n",
              "  .colab-df-quickchart-complete:disabled:hover {\n",
              "    background-color: var(--disabled-bg-color);\n",
              "    fill: var(--disabled-fill-color);\n",
              "    box-shadow: none;\n",
              "  }\n",
              "\n",
              "  .colab-df-spinner {\n",
              "    border: 2px solid var(--fill-color);\n",
              "    border-color: transparent;\n",
              "    border-bottom-color: var(--fill-color);\n",
              "    animation:\n",
              "      spin 1s steps(1) infinite;\n",
              "  }\n",
              "\n",
              "  @keyframes spin {\n",
              "    0% {\n",
              "      border-color: transparent;\n",
              "      border-bottom-color: var(--fill-color);\n",
              "      border-left-color: var(--fill-color);\n",
              "    }\n",
              "    20% {\n",
              "      border-color: transparent;\n",
              "      border-left-color: var(--fill-color);\n",
              "      border-top-color: var(--fill-color);\n",
              "    }\n",
              "    30% {\n",
              "      border-color: transparent;\n",
              "      border-left-color: var(--fill-color);\n",
              "      border-top-color: var(--fill-color);\n",
              "      border-right-color: var(--fill-color);\n",
              "    }\n",
              "    40% {\n",
              "      border-color: transparent;\n",
              "      border-right-color: var(--fill-color);\n",
              "      border-top-color: var(--fill-color);\n",
              "    }\n",
              "    60% {\n",
              "      border-color: transparent;\n",
              "      border-right-color: var(--fill-color);\n",
              "    }\n",
              "    80% {\n",
              "      border-color: transparent;\n",
              "      border-right-color: var(--fill-color);\n",
              "      border-bottom-color: var(--fill-color);\n",
              "    }\n",
              "    90% {\n",
              "      border-color: transparent;\n",
              "      border-bottom-color: var(--fill-color);\n",
              "    }\n",
              "  }\n",
              "</style>\n",
              "\n",
              "  <script>\n",
              "    async function quickchart(key) {\n",
              "      const quickchartButtonEl =\n",
              "        document.querySelector('#' + key + ' button');\n",
              "      quickchartButtonEl.disabled = true;  // To prevent multiple clicks.\n",
              "      quickchartButtonEl.classList.add('colab-df-spinner');\n",
              "      try {\n",
              "        const charts = await google.colab.kernel.invokeFunction(\n",
              "            'suggestCharts', [key], {});\n",
              "      } catch (error) {\n",
              "        console.error('Error during call to suggestCharts:', error);\n",
              "      }\n",
              "      quickchartButtonEl.classList.remove('colab-df-spinner');\n",
              "      quickchartButtonEl.classList.add('colab-df-quickchart-complete');\n",
              "    }\n",
              "    (() => {\n",
              "      let quickchartButtonEl =\n",
              "        document.querySelector('#df-50a90784-dd4d-454e-a25c-4d17d9b0f964 button');\n",
              "      quickchartButtonEl.style.display =\n",
              "        google.colab.kernel.accessAllowed ? 'block' : 'none';\n",
              "    })();\n",
              "  </script>\n",
              "</div>\n",
              "    </div>\n",
              "  </div>\n"
            ]
          },
          "metadata": {},
          "execution_count": 39
        }
      ],
      "source": [
        "# load the BQ Table into a Pandas Dataframe\n",
        "import pandas as pd\n",
        "from google.cloud import bigquery\n",
        "\n",
        "QUESTIONS_SIZE = 3000\n",
        "\n",
        "bq_client = bigquery.Client(project=PROJECT_ID)\n",
        "QUERY_TEMPLATE = \"\"\"\n",
        "        SELECT distinct q.id, q.title\n",
        "        FROM (SELECT * FROM `bigquery-public-data.stackoverflow.posts_questions`\n",
        "        where Score > 0 ORDER BY View_Count desc) AS q\n",
        "        LIMIT {limit} ;\n",
        "        \"\"\"\n",
        "query = QUERY_TEMPLATE.format(limit=QUESTIONS_SIZE)\n",
        "query_job = bq_client.query(query)\n",
        "rows = query_job.result()\n",
        "df = rows.to_dataframe()\n",
        "\n",
        "# examine the data\n",
        "df.head()"
      ]
    },
    {
      "cell_type": "markdown",
      "metadata": {
        "id": "j6022U1FWzpb"
      },
      "source": [
        "### Call the API to generate embeddings\n",
        "\n",
        "With the Stack Overflow dataset, we will use the `title` column (the question title) and generate embedding for it with Embeddings for Text API. The API is available under the [vertexai](https://cloud.google.com/python/docs/reference/aiplatform/latest/vertexai) package of the SDK.\n",
        "\n",
        "You may see some warning messages from the TensorFlow library but you can ignore them."
      ]
    },
    {
      "cell_type": "code",
      "execution_count": 40,
      "metadata": {
        "id": "pY8M4DqO8wGx",
        "executionInfo": {
          "status": "ok",
          "timestamp": 1717697289724,
          "user_tz": 420,
          "elapsed": 196,
          "user": {
            "displayName": "",
            "userId": ""
          }
        }
      },
      "outputs": [],
      "source": [
        "# init the vertexai package\n",
        "import vertexai\n",
        "\n",
        "vertexai.init(project=PROJECT_ID, location=LOCATION)"
      ]
    },
    {
      "cell_type": "markdown",
      "metadata": {
        "id": "jrG82n-y-EC5"
      },
      "source": [
        "From the package, import [TextEmbeddingModel](https://cloud.google.com/python/docs/reference/aiplatform/latest/vertexai.language_models.TextEmbeddingModel) and get a model."
      ]
    },
    {
      "cell_type": "code",
      "execution_count": 41,
      "metadata": {
        "id": "YVLHjSeOGoTu",
        "executionInfo": {
          "status": "ok",
          "timestamp": 1717697351676,
          "user_tz": 420,
          "elapsed": 197,
          "user": {
            "displayName": "",
            "userId": ""
          }
        }
      },
      "outputs": [],
      "source": [
        "# Load the text embeddings model\n",
        "from vertexai.preview.language_models import TextEmbeddingModel\n",
        "\n",
        "model = TextEmbeddingModel.from_pretrained(\"textembedding-gecko@003\")"
      ]
    },
    {
      "cell_type": "markdown",
      "metadata": {
        "id": "FqdVsgZDb_hc"
      },
      "source": [
        "In this tutorial we will use `textembedding-gecko@003` model for getting text embeddings. Please take a look at [Supported models](https://cloud.google.com/vertex-ai/docs/generative-ai/embeddings/get-text-embeddings#supported_models) on the doc to see the list of supported models.\n",
        "\n",
        "Once you get the model, you can call its [get_embeddings](https://cloud.google.com/python/docs/reference/aiplatform/latest/vertexai.language_models.TextEmbeddingModel#vertexai_language_models_TextEmbeddingModel_get_embeddings) function to get embeddings. You can pass up to 250 texts at once in every call with this model version.\n",
        "\n",
        "It is always recommended to use implement a [Retry with Exponential Backoff strategy](https://www.pullrequest.com/blog/retrying-and-exponential-backoff-smart-strategies-for-robust-software/) to call the model or any API in general."
      ]
    },
    {
      "cell_type": "code",
      "execution_count": 42,
      "metadata": {
        "id": "8HUb9u_P2VWW",
        "executionInfo": {
          "status": "ok",
          "timestamp": 1717697383970,
          "user_tz": 420,
          "elapsed": 199,
          "user": {
            "displayName": "",
            "userId": ""
          }
        }
      },
      "outputs": [],
      "source": [
        "import time\n",
        "import random\n",
        "import tqdm  # to show a progress bar\n",
        "\n",
        "# get embeddings for a list of texts\n",
        "BATCH_SIZE = 250\n",
        "\n",
        "def get_embeddings_wrapper(texts, max_retries=5):\n",
        "    \"\"\"\n",
        "    Retrieves embeddings for a list of texts, with retry logic in case of errors.\n",
        "\n",
        "    Args:\n",
        "        texts (list): A list of text strings.\n",
        "        max_retries (int, optional): The maximum number of retries to attempt in case of errors. Defaults to 5.\n",
        "\n",
        "    Returns:\n",
        "        list: A list of embedding vectors, corresponding to the input texts.\n",
        "\n",
        "    Raises:\n",
        "        Exception: If the maximum number of retries is reached without success.\n",
        "    \"\"\"\n",
        "\n",
        "    embs = []\n",
        "    for i in tqdm.tqdm(range(0, len(texts), BATCH_SIZE)):\n",
        "        retry_delay = 1  # Initial delay in seconds\n",
        "        for attempt in range(max_retries):\n",
        "            try:\n",
        "                result = model.get_embeddings(texts[i : i + BATCH_SIZE])\n",
        "                embs = embs + [e.values for e in result]\n",
        "                break\n",
        "            except Exception as e:\n",
        "                time.sleep(retry_delay)\n",
        "                retry_delay *= 2  # Double the delay for the next attempt\n",
        "                retry_delay += random.uniform(0, 1)  # Add jitter\n",
        "                if attempt == max_retries - 1:\n",
        "                    print(e)\n",
        "                    raise Exception(\"Maximum retry attempts reached\")\n",
        "    return embs\n"
      ]
    },
    {
      "cell_type": "markdown",
      "metadata": {
        "id": "aK4eTSPfcEuh"
      },
      "source": [
        "The following code will get embedding for the question titles and add them as a new column `embedding` to the DataFrame. This will take about 30 seconds depending on the quota available in the project."
      ]
    },
    {
      "cell_type": "code",
      "execution_count": 43,
      "metadata": {
        "id": "FcqPvu4PluN1",
        "colab": {
          "base_uri": "https://localhost:8080/",
          "height": 223
        },
        "executionInfo": {
          "status": "ok",
          "timestamp": 1717697410758,
          "user_tz": 420,
          "elapsed": 23340,
          "user": {
            "displayName": "",
            "userId": ""
          }
        },
        "outputId": "edfaecf1-aef1-4a81-87d4-3ac4503e7369"
      },
      "outputs": [
        {
          "output_type": "stream",
          "name": "stderr",
          "text": [
            "100%|██████████| 12/12 [00:23<00:00,  1.93s/it]\n"
          ]
        },
        {
          "output_type": "execute_result",
          "data": {
            "text/plain": [
              "         id                                              title  \\\n",
              "0  73370728   Firebase doesn't work on Android Studio Emulator   \n",
              "1  73401682  Appletv website is unresponsive through my ele...   \n",
              "2  73415813  In tensorflow 1, when the loss function is def...   \n",
              "3  73186559  view and control a windows 10 desktop with ras...   \n",
              "4  73198124  Moongose: Insert Many Docs then get Id and Upd...   \n",
              "\n",
              "                                           embedding  \n",
              "0  [0.037912581115961075, -0.0116707943379879, -0...  \n",
              "1  [0.014407188631594181, -0.00597828533500433, -...  \n",
              "2  [0.013817641884088516, -0.03823564946651459, -...  \n",
              "3  [0.03249296918511391, -0.007909863255918026, -...  \n",
              "4  [-0.0031713491771370173, 0.004105436149984598,...  "
            ],
            "text/html": [
              "\n",
              "  <div id=\"df-a4e898d3-e4a8-41db-9bf6-f41c656d4899\" class=\"colab-df-container\">\n",
              "    <div>\n",
              "<style scoped>\n",
              "    .dataframe tbody tr th:only-of-type {\n",
              "        vertical-align: middle;\n",
              "    }\n",
              "\n",
              "    .dataframe tbody tr th {\n",
              "        vertical-align: top;\n",
              "    }\n",
              "\n",
              "    .dataframe thead th {\n",
              "        text-align: right;\n",
              "    }\n",
              "</style>\n",
              "<table border=\"1\" class=\"dataframe\">\n",
              "  <thead>\n",
              "    <tr style=\"text-align: right;\">\n",
              "      <th></th>\n",
              "      <th>id</th>\n",
              "      <th>title</th>\n",
              "      <th>embedding</th>\n",
              "    </tr>\n",
              "  </thead>\n",
              "  <tbody>\n",
              "    <tr>\n",
              "      <th>0</th>\n",
              "      <td>73370728</td>\n",
              "      <td>Firebase doesn't work on Android Studio Emulator</td>\n",
              "      <td>[0.037912581115961075, -0.0116707943379879, -0...</td>\n",
              "    </tr>\n",
              "    <tr>\n",
              "      <th>1</th>\n",
              "      <td>73401682</td>\n",
              "      <td>Appletv website is unresponsive through my ele...</td>\n",
              "      <td>[0.014407188631594181, -0.00597828533500433, -...</td>\n",
              "    </tr>\n",
              "    <tr>\n",
              "      <th>2</th>\n",
              "      <td>73415813</td>\n",
              "      <td>In tensorflow 1, when the loss function is def...</td>\n",
              "      <td>[0.013817641884088516, -0.03823564946651459, -...</td>\n",
              "    </tr>\n",
              "    <tr>\n",
              "      <th>3</th>\n",
              "      <td>73186559</td>\n",
              "      <td>view and control a windows 10 desktop with ras...</td>\n",
              "      <td>[0.03249296918511391, -0.007909863255918026, -...</td>\n",
              "    </tr>\n",
              "    <tr>\n",
              "      <th>4</th>\n",
              "      <td>73198124</td>\n",
              "      <td>Moongose: Insert Many Docs then get Id and Upd...</td>\n",
              "      <td>[-0.0031713491771370173, 0.004105436149984598,...</td>\n",
              "    </tr>\n",
              "  </tbody>\n",
              "</table>\n",
              "</div>\n",
              "    <div class=\"colab-df-buttons\">\n",
              "\n",
              "  <div class=\"colab-df-container\">\n",
              "    <button class=\"colab-df-convert\" onclick=\"convertToInteractive('df-a4e898d3-e4a8-41db-9bf6-f41c656d4899')\"\n",
              "            title=\"Convert this dataframe to an interactive table.\"\n",
              "            style=\"display:none;\">\n",
              "\n",
              "  <svg xmlns=\"http://www.w3.org/2000/svg\" height=\"24px\" viewBox=\"0 -960 960 960\">\n",
              "    <path d=\"M120-120v-720h720v720H120Zm60-500h600v-160H180v160Zm220 220h160v-160H400v160Zm0 220h160v-160H400v160ZM180-400h160v-160H180v160Zm440 0h160v-160H620v160ZM180-180h160v-160H180v160Zm440 0h160v-160H620v160Z\"/>\n",
              "  </svg>\n",
              "    </button>\n",
              "\n",
              "  <style>\n",
              "    .colab-df-container {\n",
              "      display:flex;\n",
              "      gap: 12px;\n",
              "    }\n",
              "\n",
              "    .colab-df-convert {\n",
              "      background-color: #E8F0FE;\n",
              "      border: none;\n",
              "      border-radius: 50%;\n",
              "      cursor: pointer;\n",
              "      display: none;\n",
              "      fill: #1967D2;\n",
              "      height: 32px;\n",
              "      padding: 0 0 0 0;\n",
              "      width: 32px;\n",
              "    }\n",
              "\n",
              "    .colab-df-convert:hover {\n",
              "      background-color: #E2EBFA;\n",
              "      box-shadow: 0px 1px 2px rgba(60, 64, 67, 0.3), 0px 1px 3px 1px rgba(60, 64, 67, 0.15);\n",
              "      fill: #174EA6;\n",
              "    }\n",
              "\n",
              "    .colab-df-buttons div {\n",
              "      margin-bottom: 4px;\n",
              "    }\n",
              "\n",
              "    [theme=dark] .colab-df-convert {\n",
              "      background-color: #3B4455;\n",
              "      fill: #D2E3FC;\n",
              "    }\n",
              "\n",
              "    [theme=dark] .colab-df-convert:hover {\n",
              "      background-color: #434B5C;\n",
              "      box-shadow: 0px 1px 3px 1px rgba(0, 0, 0, 0.15);\n",
              "      filter: drop-shadow(0px 1px 2px rgba(0, 0, 0, 0.3));\n",
              "      fill: #FFFFFF;\n",
              "    }\n",
              "  </style>\n",
              "\n",
              "    <script>\n",
              "      const buttonEl =\n",
              "        document.querySelector('#df-a4e898d3-e4a8-41db-9bf6-f41c656d4899 button.colab-df-convert');\n",
              "      buttonEl.style.display =\n",
              "        google.colab.kernel.accessAllowed ? 'block' : 'none';\n",
              "\n",
              "      async function convertToInteractive(key) {\n",
              "        const element = document.querySelector('#df-a4e898d3-e4a8-41db-9bf6-f41c656d4899');\n",
              "        const dataTable =\n",
              "          await google.colab.kernel.invokeFunction('convertToInteractive',\n",
              "                                                    [key], {});\n",
              "        if (!dataTable) return;\n",
              "\n",
              "        const docLinkHtml = 'Like what you see? Visit the ' +\n",
              "          '<a target=\"_blank\" href=https://colab.research.google.com/notebooks/data_table.ipynb>data table notebook</a>'\n",
              "          + ' to learn more about interactive tables.';\n",
              "        element.innerHTML = '';\n",
              "        dataTable['output_type'] = 'display_data';\n",
              "        await google.colab.output.renderOutput(dataTable, element);\n",
              "        const docLink = document.createElement('div');\n",
              "        docLink.innerHTML = docLinkHtml;\n",
              "        element.appendChild(docLink);\n",
              "      }\n",
              "    </script>\n",
              "  </div>\n",
              "\n",
              "\n",
              "<div id=\"df-312ebd9f-9517-4a70-9f4e-7f52d989eaa9\">\n",
              "  <button class=\"colab-df-quickchart\" onclick=\"quickchart('df-312ebd9f-9517-4a70-9f4e-7f52d989eaa9')\"\n",
              "            title=\"Suggest charts\"\n",
              "            style=\"display:none;\">\n",
              "\n",
              "<svg xmlns=\"http://www.w3.org/2000/svg\" height=\"24px\"viewBox=\"0 0 24 24\"\n",
              "     width=\"24px\">\n",
              "    <g>\n",
              "        <path d=\"M19 3H5c-1.1 0-2 .9-2 2v14c0 1.1.9 2 2 2h14c1.1 0 2-.9 2-2V5c0-1.1-.9-2-2-2zM9 17H7v-7h2v7zm4 0h-2V7h2v10zm4 0h-2v-4h2v4z\"/>\n",
              "    </g>\n",
              "</svg>\n",
              "  </button>\n",
              "\n",
              "<style>\n",
              "  .colab-df-quickchart {\n",
              "      --bg-color: #E8F0FE;\n",
              "      --fill-color: #1967D2;\n",
              "      --hover-bg-color: #E2EBFA;\n",
              "      --hover-fill-color: #174EA6;\n",
              "      --disabled-fill-color: #AAA;\n",
              "      --disabled-bg-color: #DDD;\n",
              "  }\n",
              "\n",
              "  [theme=dark] .colab-df-quickchart {\n",
              "      --bg-color: #3B4455;\n",
              "      --fill-color: #D2E3FC;\n",
              "      --hover-bg-color: #434B5C;\n",
              "      --hover-fill-color: #FFFFFF;\n",
              "      --disabled-bg-color: #3B4455;\n",
              "      --disabled-fill-color: #666;\n",
              "  }\n",
              "\n",
              "  .colab-df-quickchart {\n",
              "    background-color: var(--bg-color);\n",
              "    border: none;\n",
              "    border-radius: 50%;\n",
              "    cursor: pointer;\n",
              "    display: none;\n",
              "    fill: var(--fill-color);\n",
              "    height: 32px;\n",
              "    padding: 0;\n",
              "    width: 32px;\n",
              "  }\n",
              "\n",
              "  .colab-df-quickchart:hover {\n",
              "    background-color: var(--hover-bg-color);\n",
              "    box-shadow: 0 1px 2px rgba(60, 64, 67, 0.3), 0 1px 3px 1px rgba(60, 64, 67, 0.15);\n",
              "    fill: var(--button-hover-fill-color);\n",
              "  }\n",
              "\n",
              "  .colab-df-quickchart-complete:disabled,\n",
              "  .colab-df-quickchart-complete:disabled:hover {\n",
              "    background-color: var(--disabled-bg-color);\n",
              "    fill: var(--disabled-fill-color);\n",
              "    box-shadow: none;\n",
              "  }\n",
              "\n",
              "  .colab-df-spinner {\n",
              "    border: 2px solid var(--fill-color);\n",
              "    border-color: transparent;\n",
              "    border-bottom-color: var(--fill-color);\n",
              "    animation:\n",
              "      spin 1s steps(1) infinite;\n",
              "  }\n",
              "\n",
              "  @keyframes spin {\n",
              "    0% {\n",
              "      border-color: transparent;\n",
              "      border-bottom-color: var(--fill-color);\n",
              "      border-left-color: var(--fill-color);\n",
              "    }\n",
              "    20% {\n",
              "      border-color: transparent;\n",
              "      border-left-color: var(--fill-color);\n",
              "      border-top-color: var(--fill-color);\n",
              "    }\n",
              "    30% {\n",
              "      border-color: transparent;\n",
              "      border-left-color: var(--fill-color);\n",
              "      border-top-color: var(--fill-color);\n",
              "      border-right-color: var(--fill-color);\n",
              "    }\n",
              "    40% {\n",
              "      border-color: transparent;\n",
              "      border-right-color: var(--fill-color);\n",
              "      border-top-color: var(--fill-color);\n",
              "    }\n",
              "    60% {\n",
              "      border-color: transparent;\n",
              "      border-right-color: var(--fill-color);\n",
              "    }\n",
              "    80% {\n",
              "      border-color: transparent;\n",
              "      border-right-color: var(--fill-color);\n",
              "      border-bottom-color: var(--fill-color);\n",
              "    }\n",
              "    90% {\n",
              "      border-color: transparent;\n",
              "      border-bottom-color: var(--fill-color);\n",
              "    }\n",
              "  }\n",
              "</style>\n",
              "\n",
              "  <script>\n",
              "    async function quickchart(key) {\n",
              "      const quickchartButtonEl =\n",
              "        document.querySelector('#' + key + ' button');\n",
              "      quickchartButtonEl.disabled = true;  // To prevent multiple clicks.\n",
              "      quickchartButtonEl.classList.add('colab-df-spinner');\n",
              "      try {\n",
              "        const charts = await google.colab.kernel.invokeFunction(\n",
              "            'suggestCharts', [key], {});\n",
              "      } catch (error) {\n",
              "        console.error('Error during call to suggestCharts:', error);\n",
              "      }\n",
              "      quickchartButtonEl.classList.remove('colab-df-spinner');\n",
              "      quickchartButtonEl.classList.add('colab-df-quickchart-complete');\n",
              "    }\n",
              "    (() => {\n",
              "      let quickchartButtonEl =\n",
              "        document.querySelector('#df-312ebd9f-9517-4a70-9f4e-7f52d989eaa9 button');\n",
              "      quickchartButtonEl.style.display =\n",
              "        google.colab.kernel.accessAllowed ? 'block' : 'none';\n",
              "    })();\n",
              "  </script>\n",
              "</div>\n",
              "    </div>\n",
              "  </div>\n"
            ]
          },
          "metadata": {},
          "execution_count": 43
        }
      ],
      "source": [
        "# get embeddings for the question titles and add them as \"embedding\" column\n",
        "df = df.assign(embedding=get_embeddings_wrapper(list(df.title)))\n",
        "df.head()"
      ]
    },
    {
      "cell_type": "markdown",
      "metadata": {
        "id": "nB53SiJjVN6e"
      },
      "source": [
        "## Look at the embedding similarities\n",
        "\n",
        "Let's see how these embeddings are organized in the embedding space with their meanings by quickly calculating the similarities between them and sorting them.\n",
        "\n",
        "As embeddings are vectors, you can calculate similarity between two embeddings by using one of the popular metrics like the followings:\n",
        "\n",
        "![](https://storage.googleapis.com/github-repo/img/embeddings/textemb-vs-notebook/8.png)\n",
        "\n",
        "Which metric should we use? Usually it depends on how each model is trained. In case of the model `textembedding-gecko`, we need to use inner product (dot product).\n",
        "\n",
        "In the following code, it picks up one question randomly and uses the numpy `np.dot` function to calculate the similarities between the question and other questions."
      ]
    },
    {
      "cell_type": "code",
      "execution_count": 44,
      "metadata": {
        "id": "lKs6jSu7NiM6",
        "colab": {
          "base_uri": "https://localhost:8080/"
        },
        "executionInfo": {
          "status": "ok",
          "timestamp": 1717697444054,
          "user_tz": 420,
          "elapsed": 210,
          "user": {
            "displayName": "",
            "userId": ""
          }
        },
        "outputId": "07efde2f-915c-45e9-9923-ef48276174e1"
      },
      "outputs": [
        {
          "output_type": "stream",
          "name": "stdout",
          "text": [
            "Key question: Firebase doesn't work on Android Studio Emulator\n",
            "\n"
          ]
        },
        {
          "output_type": "execute_result",
          "data": {
            "text/plain": [
              "array([0.99999773, 0.64171932, 0.56128022, 0.54312613, 0.56273021])"
            ]
          },
          "metadata": {},
          "execution_count": 44
        }
      ],
      "source": [
        "import numpy as np\n",
        "\n",
        "# pick the first key/question on the dataframe\n",
        "key = 0\n",
        "print(f\"Key question: {df.title[key]}\\n\")\n",
        "\n",
        "# calc dot product between the key and other questions\n",
        "embs = np.array(df.embedding.to_list())\n",
        "similarities = np.dot(embs[key], embs.T)\n",
        "\n",
        "# print similarities for the first 5 questions\n",
        "similarities[:5]"
      ]
    },
    {
      "cell_type": "markdown",
      "metadata": {
        "id": "srM04lJBQp4w"
      },
      "source": [
        "Finally, sort the questions with the similarities and print the list."
      ]
    },
    {
      "cell_type": "code",
      "execution_count": 45,
      "metadata": {
        "id": "lTUVvj9FQlab",
        "colab": {
          "base_uri": "https://localhost:8080/"
        },
        "executionInfo": {
          "status": "ok",
          "timestamp": 1717697519948,
          "user_tz": 420,
          "elapsed": 194,
          "user": {
            "displayName": "",
            "userId": ""
          }
        },
        "outputId": "a7fd3d61-231f-4a55-ea94-25f46d1036e6"
      },
      "outputs": [
        {
          "output_type": "stream",
          "name": "stdout",
          "text": [
            "Key question: Firebase doesn't work on Android Studio Emulator\n",
            "\n",
            "1.0000 Firebase doesn't work on Android Studio Emulator\n",
            "0.8044 Android Studio Emulator Internet Connection Problem For Only First Time\n",
            "0.7954 Android studio: error occurred during initialization of VM\n",
            "0.7886 After installing react-native-firebase/app it's Build will failed in react-native ios\n",
            "0.7884 Flutter-Firebase: Unhandled Exception: [firebase_functions/internal] Response is not valid JSON object\n",
            "0.7639 Nodejs Firebase cloud messaging delayed delivery on android\n",
            "0.7601 FirebaseAuth.getInstance().getCurrentUser().getUid() always pointing to same ID\n",
            "0.7542 Firebase user properties not summing up to number of active users\n",
            "0.7463 Firebase App Check with Vue 3 Invalid app resource name\n",
            "0.7442 Android Emulator is restored to last state when started from \"Cold Boot Now\"\n",
            "0.7421 Firestore dependencies in Huawei developer console\n",
            "0.7361 how to auth user using async and await in firebase\n",
            "0.7349 Issue with Flutter retrieving data from Firestore (Authenticating different users types from collection)\n",
            "0.7279 Android Studio Javac error - Task :app:compileDebugJavaWithJavac FAILED. Cannot find symbol method setAppCacheMaxSize(Long)\n",
            "0.7243 Problems saving information to Firestore database and image to Storage\n",
            "0.7234 Does next-auth really only works without firebase security rules?\n",
            "0.7208 Custom WebView working in simulator but not in physical device. Xamarin\n",
            "0.7202 Firebase: Does changing provider Facebook account affect existing users that registered using Facebook?\n",
            "0.7202 Use external resource (media) in firebase cloud function without storage bucket\n",
            "0.7202 Unable to run gradle tests using gitlab and docker-compose\n"
          ]
        }
      ],
      "source": [
        "# print the question\n",
        "print(f\"Key question: {df.title[key]}\\n\")\n",
        "\n",
        "# sort and print the questions by similarities\n",
        "sorted_questions = sorted(\n",
        "    zip(df.title, similarities), key=lambda x: x[1], reverse=True\n",
        ")[:20]\n",
        "for i, (question, similarity) in enumerate(sorted_questions):\n",
        "    print(f\"{similarity:.4f} {question}\")"
      ]
    },
    {
      "cell_type": "markdown",
      "metadata": {
        "id": "S75SQzAg1wHV"
      },
      "source": [
        "# Find embeddings fast with Vertex AI Vector Search\n",
        "\n",
        "As we have explained above, you can find similar embeddings by calculating the distance or similarity between the embeddings.\n",
        "\n",
        "But this isn't easy when you have millions or billions of embeddings. For example, if you have 1 million embeddings with 768 dimensions, you need to repeat the distance calculations for 1 million x 768 times. This would take some seconds - too slow."
      ]
    },
    {
      "cell_type": "markdown",
      "metadata": {
        "id": "0sjhTy-a47YH"
      },
      "source": [
        "So the researchers have been studying a technique called [Approximate Nearest Neighbor (ANN)](https://en.wikipedia.org/wiki/Nearest_neighbor_search) for faster search. ANN uses \"vector quantization\" for separating the space into multiple spaces with a tree structure. This is similar to the index in relational databases for improving the query performance, enabling very fast and scalable search with billions of embeddings.\n",
        "\n",
        "With the rise of LLMs, the ANN is getting popular quite rapidly, known as the Vector Search technology.\n",
        "\n",
        "![](https://storage.googleapis.com/gweb-cloudblog-publish/images/7._ANN.1143068821171228.max-2200x2200.png)\n",
        "\n",
        "In 2020, Google Research published a new ANN algorithm called [ScaNN](https://ai.googleblog.com/2020/07/announcing-scann-efficient-vector.html). It is considered one of the best ANN algorithms in the industry, also the most important foundation for search and recommendation in major Google services such as Google Search, YouTube and many others.\n"
      ]
    },
    {
      "cell_type": "markdown",
      "metadata": {
        "id": "xVOL8BgM2isz"
      },
      "source": [
        "## What is Vertex AI Vector Search?\n",
        "\n",
        "Google Cloud developers can take the full advantage of Google's vector search technology with [Vertex AI Vector Search](https://cloud.google.com/vertex-ai/docs/vector-search/overview) (previously called Matching Engine). With this fully managed service, developers can just add the embeddings to its index and issue a search query with a key embedding for the blazingly fast vector search. In the case of the Stack Overflow demo, Vector Search can find relevant questions from 8 million embeddings in tens of milliseconds.\n",
        "\n",
        "![](https://storage.googleapis.com/github-repo/img/embeddings/textemb-vs-notebook/9.png)\n",
        "\n",
        "With Vector Search, you don't need to spend much time and money building your own vector search service from scratch or using open source tools if your goal is high scalability, availability and maintainability for production systems."
      ]
    },
    {
      "cell_type": "markdown",
      "metadata": {
        "id": "uBt8tjidSzyU"
      },
      "source": [
        "## Get Started with Vector Search\n",
        "\n",
        "When you already have the embeddings, then getting started with Vector Search is pretty easy. In this section, we will follow the steps below.\n",
        "\n",
        "### Setting up Vector Search\n",
        "- Save the embeddings in JSON files on Cloud Storage\n",
        "- Build an Index\n",
        "- Create an Index Endpoint\n",
        "- Deploy the Index to the endpoint\n",
        "\n",
        "### Use Vector Search\n",
        "\n",
        "- Query with the endpoint"
      ]
    },
    {
      "cell_type": "markdown",
      "metadata": {
        "id": "6pu1a3zjfQ0D"
      },
      "source": [
        "### Save the embeddings in a JSON file\n",
        "To load the embeddings to Vector Search, we need to save them in JSON files with JSONL format. See more information in the docs at [Input data format and structure](https://cloud.google.com/vertex-ai/docs/matching-engine/match-eng-setup/format-structure#data-file-formats).\n",
        "\n",
        "First, export the `id` and `embedding` columns from the DataFrame in JSONL format, and save it."
      ]
    },
    {
      "cell_type": "code",
      "execution_count": 46,
      "metadata": {
        "id": "GzZ30d4j_uLU",
        "colab": {
          "base_uri": "https://localhost:8080/"
        },
        "executionInfo": {
          "status": "ok",
          "timestamp": 1717697608848,
          "user_tz": 420,
          "elapsed": 999,
          "user": {
            "displayName": "",
            "userId": ""
          }
        },
        "outputId": "35c7a3c8-0f62-4156-9f55-41072ac33a4f"
      },
      "outputs": [
        {
          "output_type": "stream",
          "name": "stdout",
          "text": [
            "{\"id\":73370728,\"embedding\":[0.0379125811,-0.0116707943,-0.0058115269,-0.0351585224,0.0384169519,0.007862092,-0.0090285847,-0.0178354606,0.0793624967,0.0081094205,0.010868635,-0.0419697985,-0.01443417,-0.0484210327,0.0448307768,-0.0129040452,0.0452941656,-0.0545261949,0.0164001323,-0.041892074,0.0129835596,-0.0243700687,-0.0186334196,-0.0096583692,-0.0098479986,-0.0018138821,0.0065292129,-0.0438369773,-0.0348258391,0.0737737864,-0.0741051361,0.0987343937,-0.0685421154,-0.0068338611,0.0011251752,-0.0396082997,0.0024447916,0.0173771475,0.0134554924,-0.0073548499,0.0106734307,-0.0320124216,0.00924969,-0.0335697383,-0.0171290059,0.0212180242,-0.0062113069,0.0118331946,0.0282672048,-0.026230799,0.0511952974,0.0444744751,0.0379469991,-0.0119360555,-0.0171105172,-0.0136444354,0.0201309752,0.027998928,0.0537913702,-0.0348400846,-0.0074846041,0.0390514955,-0.0066811703,0.0736512318,-0.0505450554,-0.0689983368,-0.0101076625,-0.0164450295,0.0307318047,0.0143832294,0.0039858087,-0.0132910339,0.0673894286,-0.0456441902,-0.0298397765,-0.0884231627,-0.0120239127,0.0661894158,0.0112093743,0.0210912935,-0.0287455563,-0.0487764627,-0.0520923845,-0.0050261682,-0.0511946641,0.0654054731,-0.039639052,-0.0019136167,0.0297297351,0.0301756393,0.0294233486,0.0248096921,0.0060964557,-0.0600430481,0.0207664873,0.1042541489,-0.0403155014,-0.0192910805,-0.034736935,0.0056745368,-0.0203634202,0.0480767675,-0.0156685505,-0.013169921,0.0485686883,-0.0088345436,0.0231556036,0.0434359014,-0.0783021078,0.0040345932,-0.0033992731,0.019410586,-0.0021836483,-0.0205836613,0.0139443679,-0.0239650421,0.0094373198,0.0339545496,-0.0374380201,-0.0215158965,0.0472581908,0.030147491,0.0286069233,-0.0135425823,-0.0195211656,0.0139167132,-0.0023411359,-0.0069932379,0.0809509233,0.0221434813,-0.0259194337,-0.0362816043,0.0035801595,-0.0083658509,0.0165406596,0.0614579283,0.0122003956,-0.0267995074,0.054953225,0.0365944952,-0.0075786207,0.0535189025,-0.0247170497,0.0051074447,-0.0092424192,0.0011122221,-0.0627758652,-0.0265653078,0.011879147,-0.0369011424,-0.0381796397,-0.0213360284,-0.0032212734,0.0109842559,0.0148695549,-0.0368436202,-0.0260902643,0.0031410973,-0.0364913903,-0.0130131897,0.0364156701,0.0542026944,0.0082871569,-0.0149974488,0.0077357325,-0.0411932282,-0.0260663982,0.010850165,0.0033419176,-0.0402771421,-0.0089863557,-0.0493117571,-0.0626184046,-0.0591799617,-0.0139433807,-0.0131993666,0.0196188223,-0.0137598319,-0.0417827144,0.04402842,-0.0215953384,-0.0331801437,-0.0262842514,0.0190800931,0.0191014986,-0.0106665138,0.0757997409,-0.0221473109,0.0005437027,0.0129267974,-0.0421512499,0.0005021809,-0.0055300114,-0.014453847,-0.006757536,0.0039239596,0.0099068731,-0.0042222803,-0.0613655187,0.0175298471,-0.0005040774,-0.0129341679,0.0392523743,0.0012366058,0.045144137,-0.0155818081,0.0999098197,-0.0720977783,0.0120167378,0.0758870617,-0.0160480551,-0.0014207425,-0.0515793636,-0.0354398899,0.0324632674,-0.0013355013,-0.0114793619,0.0589333065,0.0522689596,-0.0006068303,0.0085363565,0.0362999849,-0.0041577406,-0.0548383109,-0.0463146716,0.0488844179,-0.0326947123,0.0525508262,0.0149196927,-0.0444816798,-0.0044615702,0.0678828657,-0.0317458361,-0.0090350928,0.0443293564,-0.0361787267,-0.0353799872,-0.0449735522,0.0185702574,-0.0475443453,-0.0268701278,0.0622351691,0.0302375741,0.0357383192,-0.0370242484,-0.0192806404,-0.0081816418,0.0610099733,-0.0435151421,0.0402892828,-0.0837502778,-0.0303681027,0.0362586007,0.0034756805,-0.0508160442,-0.0180514399,-0.0548692793,-0.0464814566,0.0282380357,0.0172795914,0.0985943675,-0.023261454,0.00634174,-0.0057554054,-0.0006589861,-0.0450451151,0.0087770876,-0.0625884458,-0.0232179239,0.039098721,-0.0270977728,0.0048938836,0.0733477324,0.0122620771,-0.0128191356,0.0316849351,0.0195260495,0.0020082223,0.0878514349,-0.0753248706,0.0050400649,-0.0165905058,0.0395065695,-0.0497558042,-0.0299600177,0.0217777919,-0.0461730435,-0.0067519951,-0.0002795356,-0.0118893329,-0.0765206292,0.0325767435,-0.0077572996,-0.0259943362,-0.0619886145,0.0278844237,-0.0322460197,0.0486547723,0.0434390493,-0.0587445758,0.0340525769,0.0100371335,-0.0015715063,0.0272886846,0.1066885889,-0.0294990558,-0.0571531169,-0.0392388068,0.0185506102,-0.0064637675,0.0072313547,-0.0059867706,-0.0252037309,0.0017476541,0.0456434637,0.0143317068,-0.011176534,0.0099001639,-0.0456084646,0.059814401,-0.0054314863,-0.0584445968,-0.0240720119,0.0284341425,0.0512244515,-0.0076847421,-0.049857337,0.0326428041,-0.0300892349,-0.015330934,-0.0105564073,0.0009318953,-0.0067610098,0.025534153,0.0019804474,0.0437738933,-0.0670257956,-0.0022029504,-0.0156276412,-0.0403641388,0.0243599545,-0.0055884216,-0.0525429845,-0.04440834,-0.0168299805,0.0073906551,-0.0424582995,0.0209984276,0.0219350979,0.0194973219,-0.0069890008,0.0609098263,-0.0151096117,-0.0411692485,-0.0003537248,-0.0231994484,0.0326296277,-0.039064683,0.0081281671,-0.028614467,-0.0030384297,0.0354308523,0.0401951149,0.0282061417,-0.0059624659,0.0004366718,-0.0063852756,0.0191137865,0.0203123,0.0015942161,-0.012738483,-0.0319953598,0.0175588243,-0.0235893931,-0.0182296559,-0.0104414774,-0.0203072801,-0.0069784475,0.0475219004,-0.0067367279,0.0324492343,-0.0272185523,0.0350096114,0.0580517054,0.0184589028,0.0078784879,0.034881562,0.0419459827,0.0285876933,0.0244400427,-0.0021795393,0.0104779862,0.0538066439,-0.0037994043,0.0123769175,-0.0067143096,-0.0327692069,-0.0095422277,0.030936854,-0.0872217119,-0.0148657449,-0.0639764369,-0.02145743,-0.0507453457,0.0067284163,-0.0114306025,-0.0048940456,-0.03805691,-0.0233615413,-0.0663104951,0.0090424549,0.0525740869,0.0498934761,-0.0640963912,-0.0270597208,-0.0338516198,0.0279790405,0.0121307187,0.0233293641,-0.0007879329,0.0010558282,0.0012804462,-0.0009314074,0.000733492,-0.0318987295,-0.0115351239,-0.0306827538,-0.0085335402,-0.006897497,0.0019535138,-0.0017378497,0.0203340799,-0.045214735,0.0087163066,0.0487648435,-0.0462979302,-0.0073474846,0.0170438625,-0.0276246425,0.0027656408,0.0538135804,-0.0367998965,0.0074107465,-0.001318739,-0.0532491729,-0.0536065809,-0.0217984617,0.0279885996,0.0747139677,-0.0993038863,0.0411753468,-0.034829393,-0.0555291921,-0.0922105834,-0.0382690839,-0.0799890012,0.0036683995,0.0551948696,0.0190034267,0.0147812776,-0.0270188749,-0.0379568934,-0.0366453379,-0.0672013089,0.0370167494,-0.0299526583,0.0056079347,-0.0636412576,0.0392239243,0.0599537455,0.0278929193,-0.0027221208,-0.0188158341,0.0338637382,0.0114509501,0.0314145572,-0.0785529688,0.0214330517,0.0180907361,-0.0221813098,0.0313125439,0.0093795555,0.0102781029,0.0600113161,0.0237736572,-0.0406627618,0.0316661447,-0.0616441816,-0.0282994676,0.0513194054,-0.0150989126,-0.0083924383,-0.0321411081,-0.0698552355,0.0065454445,0.0424177907,-0.0032611117,0.0063424218,0.004481039,0.0105585596,0.0182578713,-0.0622358657,-0.0208216701,-0.0780979097,0.0032554572,-0.0207899027,0.0018363084,-0.0010721289,0.0249704551,-0.0159577541,-0.0505640469,0.0133951865,-0.0073438673,-0.0006761816,0.0643696263,-0.0156866778,-0.0012790037,0.0554433353,0.016925225,-0.0563536175,0.0822106227,-0.0125054745,-0.0874165297,0.0152232647,0.0051528462,-0.1046985239,-0.0175587684,0.0415777415,-0.0451982655,-0.0183327813,-0.0264183562,0.0510685407,-0.0790953934,-0.008940788,0.0192272197,-0.0058522956,-0.0011048508,0.0241795368,-0.0472490229,0.0206178967,0.0429534689,-0.0063986955,-0.0173295233,-0.0107402736,-0.0059573967,0.0361170955,0.0090182098,-0.0513579063,0.0702758655,0.0026890433,-0.0154596074,-0.0212498251,-0.0416841209,-0.0506201908,0.0385103747,-0.0333202407,-0.0437774323,-0.0327560194,0.0258279741,0.0144689558,-0.0115497699,-0.051296141,0.001042219,-0.0347475037,0.0916314349,0.0155342203,0.0499669202,-0.0543377884,0.0340216644,-0.0071294606,-0.0266899094,-0.0345705897,0.0215280056,0.0007210292,0.0697131082,-0.0494845845,0.0111721642,-0.035336215,-0.010381639,0.0363617092,0.0325571299,-0.0157448612,-0.0121667469,0.0553282611,-0.0424366891,0.0283643678,0.0312079992,0.0221694745,0.0438371338,0.054802537,-0.0010264185,0.0388951749,-0.0472804569,0.0026681209,0.044107914,0.0298190303,0.007268934,0.0714094192,0.0158653948,0.0560538508,0.0346322283,0.0115344711,0.0917943195,-0.0311347935,0.030371286,0.0295049008,0.0511559434,0.0218494982,0.0393391699,0.0198486615,-0.0143699013,0.0179292578,0.0421298295,-0.0099129081,-0.0339750387,-0.0722722784,0.0333540142,0.0286148675,0.0010210411,-0.0609124191,-0.0053977175,0.0032689671,0.0190073624,-0.015791839,0.0807887688,-0.0205684062,-0.0154822599,-0.0030261064,0.0678455532,-0.0239967257,0.0003604669,0.0238593481,-0.0107446527,0.0318147913,0.000877022,0.0251310617,0.0154228378,-0.005846458,0.0531028546,-0.0236394573,-0.0677301511,-0.010822258,0.0126117589,0.0170398206,-0.0058758757,0.015706541,-0.0045977421,-0.0841004848,-0.0311549883,-0.0012987421,0.015530372,-0.0075529679,0.0328659862,0.0461022593,0.0002606282,0.007417562,-0.0370481499,-0.0427209251,0.000616658,-0.0395420343,-0.0702748224,0.004613677,-0.0688686743,-0.0091632344,0.0069637471,-0.064447768,-0.0365817323,-0.0578883775,-0.0494336039,-0.0075870822,-0.0574117787,0.0277033094,0.0061765858,-0.0052726623,0.0277988613,0.0117083937,0.0039196783,-0.0112410365,0.0512251481,0.0116014117,0.0057678865,-0.0210150499,-0.0351027362,0.0472276136,-0.0035902711,0.0225475281,0.0030478805,0.0145702139,0.025717251,-0.0353790559,0.0283221081,-0.0511398278,-0.0544182397,0.0304346066,0.0346322432,0.0345115811,-0.0154941091,-0.0030118218,0.0418204814,0.0335263796,-0.0077945539,-0.0443903059,0.0331323631,-0.0231861789,-0.0239004772,-0.0275458563,-0.0389652289,-0.014412039,-0.0314885266,0.0071869008,0.0191872288,-0.0293475818,-0.0095954807,0.0152573595,-0.0410439149,0.0001560855,-0.0075451671,0.0046796664,-0.0297826417,0.0518978983,0.0425188132,-0.0016708636,0.00030777,0.0075785862,-0.0390396565,0.0270598456,-0.0469684303,0.0284616165,0.0114535168,-0.0519224629,0.0438613705,-0.0466715097,-0.01962878,0.0377032161,-0.0415148847,0.0176398568,0.0079518547,0.0342179947,-0.0403577648,-0.0489705876,-0.0315551013,0.0040864875,0.0056543206,0.0160554275,0.0368189737,0.0079838084,0.025658384,-0.0359891765,-0.0312256049,-0.0187629033,-0.0585216768,0.0092602866,-0.0623799376,0.0184244383,0.0389514267,-0.0541481301,-0.0235519651,0.0383744054,0.0185422767,0.0194494203,-0.0355931669,0.0746686533,0.0013349298,0.0103643034,0.0225107577,-0.002205905,-0.0337662511,0.0316534527]}\n",
            "{\"id\":73401682,\"embedding\":[0.0144071886,-0.0059782853,-0.0507070832,-0.0134043647,0.0144478874,0.0323461778,-0.0076383031,-0.0034893169,0.0494823009,0.0254057311,0.0080205556,-0.0048520765,-0.0135972565,-0.0084532984,0.0189867653,-0.0384586006,0.0401304439,-0.0254724063,0.0036791677,-0.0252585411,-0.036305923,0.0088246632,0.0356638245,0.0143569084,-0.0039029133,0.0156519022,0.0397802368,-0.0609310605,-0.060539633,0.0187680181,-0.0480292886,0.047703173,-0.0669641942,0.0002788907,-0.0173366107,-0.0611129142,0.0372900814,0.0025533042,-0.002631933,-0.0194611456,-0.0275548045,-0.0611920357,-0.0225030594,-0.0242798589,-0.0186215024,0.0208035,-0.0012274367,0.0246307068,0.0027690141,-0.029652223,0.0395907611,-0.0208212193,0.006472548,-0.0118402988,-0.0416195989,-0.0400267616,0.0410150029,0.04789792,-0.0082908841,-0.018002402,0.0040745186,0.0072812368,0.007415425,0.0717547759,-0.0139494026,-0.0582335554,-0.0095106214,0.036999695,0.0147557184,-0.0072373194,-0.0064189215,-0.0273220353,0.1077511087,-0.0516529828,-0.0413951278,-0.0534625687,0.0195301119,0.0764293075,0.044629816,0.0138065433,-0.0279638115,-0.0331888311,-0.0693320706,0.0022152124,-0.0406823903,0.0519212186,-0.0170896016,0.0075748079,-0.0335950106,0.0331259966,-0.0082076173,0.0028375834,0.0314432606,-0.0694245622,0.019593332,0.1062867194,-0.0058807158,-0.0090322867,-0.0028003084,-0.0150253102,0.012950643,0.0088221747,-0.0109605677,-0.001413072,0.0244702846,0.01410456,0.0170799606,0.050645832,-0.0363397971,-0.0111674201,-0.064643614,-0.0075500468,0.0298669189,0.0235393308,0.0378546976,-0.0124416789,-0.0540444776,0.0877944231,0.0238739811,0.010154604,0.0491133928,-0.0148917064,0.0570447817,0.0551131926,-0.0134766698,0.0352695026,0.014848832,0.0213165637,0.0577540062,0.0240428392,-0.0142513243,-0.0110989166,0.0033920875,-0.0020232541,0.0390830711,0.0548079908,-0.0144403344,-0.0030233683,0.0442538075,-0.0221305173,-0.0290284045,-0.0654647425,-0.0103455875,-0.0213633589,-0.029731039,0.0598108247,-0.0568352491,-0.0403023437,0.0110135553,-0.0111643663,-0.0137095861,-0.009771578,-0.0317143761,0.0215815101,0.0192507003,-0.0203307141,0.0347737148,-0.0153597975,-0.0247996058,-0.0455044582,0.0569499433,0.0576904975,0.007113074,0.0093445843,-0.0099887624,-0.0341206342,-0.0166103318,-0.0061616441,-0.0440939926,-0.0122216893,-0.0704720765,-0.0822867677,-0.0792398453,-0.0329617411,-0.0378306806,-0.0619719252,0.0119640352,0.0013150498,-0.0541738831,-0.0087607633,-0.0083818715,-0.009918157,-0.0220156442,0.0448071547,0.0232770573,0.0202253852,0.0345486179,-0.0186686516,-0.0208403282,0.0055456385,-0.0357505009,-0.0043666628,-0.0012003322,-0.0412813723,0.0077966126,0.0214759689,-0.0126865637,-0.009617365,-0.0455491617,-0.059736561,0.011636761,0.0750907734,-0.02182425,0.0017075271,0.0240115747,-0.0478323959,0.0404861867,-0.0484819636,-0.0257273559,0.0490180105,-0.0069789472,-0.0123996558,-0.0672642142,-0.0010901669,0.041495692,-0.0093882419,0.0037977565,0.0432318039,0.0443846397,-0.0415272191,-0.0176428799,-0.0004778237,-0.0036420533,-0.0559089258,-0.0542276837,0.0337350965,0.0021976826,-0.010270725,-0.0281248465,-0.0494706817,0.0271514952,0.0719378889,0.0350400284,0.0157779884,0.0740859434,-0.0251434296,-0.0427678376,-0.0062129907,0.0295804068,-0.0244123433,-0.0039387108,0.0165600087,0.0342240892,-0.01633754,-0.0761527643,-0.0182057116,-0.0209762398,-0.0150380442,-0.009833945,0.0335688591,0.0191042908,-0.0630233288,0.0445612073,0.0259039737,-0.0715836808,-0.0499799773,-0.045651976,-0.0428438596,0.0010895118,-0.0190824084,0.0853853226,-0.0290935971,-0.028910039,-0.0300248452,-0.0182822905,-0.0230773985,0.0162246637,-0.0744873211,-0.0206505172,0.0058006914,0.0552165993,-0.0694261566,0.0599868484,0.0498602279,0.0238477159,0.0359317623,-0.0019372042,-0.0128763318,-0.0129638305,-0.067288734,0.031937927,0.0583062507,0.0084294463,-0.0149375023,-0.0231923442,-0.0025338053,-0.0616398118,-0.0069869678,-0.0122745568,0.0261534788,-0.0499240085,-0.0254370384,0.0276925936,-0.057672549,-0.0538314879,-0.0182828978,-0.0555317774,0.0539882518,0.0210863147,-0.0366515815,-0.0099577727,-0.0143743809,-0.0153534114,-0.0486343093,0.0895384327,-0.0336854681,0.0097828899,-0.0312633365,-0.0240814984,-0.0339383371,0.0176426396,-0.0186357163,-0.0109912697,0.0324351825,0.0623607375,0.0230990294,-0.0396839008,0.0658945367,-0.0097564999,-0.0136027895,-0.0073612975,0.0072808876,0.010860051,0.0061432924,0.0354636461,0.0099658435,-0.0044378238,0.0023529667,-0.0369553082,-0.0028553554,-0.036326468,0.0450184271,-0.016830802,-0.0130413705,-0.0303586684,0.0553327128,-0.0665076897,0.0286884625,-0.0087467739,0.0278824121,0.0368963145,0.0403977893,-0.0468006693,-0.0600352623,0.021702284,0.0314523615,0.004145253,0.0106225163,0.0697464049,0.0842826292,-0.0092004202,0.097747013,-0.0047956547,-0.0125403637,0.0580671057,0.0191978477,-0.006446084,-0.0641052797,-0.0064849192,-0.0404151045,-0.0119950399,0.0155434245,0.0203144196,0.0379087031,0.0181145854,0.0134879416,-0.0331829153,0.0190073606,-0.0148723451,-0.0095539829,-0.0042718933,-0.0284748022,0.055101648,-0.004636771,-0.0331888683,-0.0146294348,-0.0216766428,0.0263831299,0.041362416,-0.0046019661,-0.0099734887,-0.0448181145,0.0000518522,-0.007731833,0.0238102172,0.0028145781,0.0868774578,0.048450496,0.0108330483,-0.0056030243,-0.0324259922,0.0508155301,-0.0108349137,-0.0426798835,0.0360242464,0.0101165846,-0.0348470844,-0.0517772883,-0.0033157689,-0.0496235974,-0.0415179469,-0.0273270924,-0.0445985347,-0.0324718505,-0.0170414727,0.0102079129,0.0006754167,0.0330361649,0.0174355507,-0.0744056925,0.0594681166,0.0402406491,0.0562156513,-0.1030477583,-0.0463764556,-0.0165895689,0.0752324164,-0.0255923849,0.0092830136,0.0354769863,-0.008897719,0.014443405,-0.0139178056,0.0203425921,0.0065348833,-0.0188385099,0.0043687103,-0.0390850827,-0.0115798861,0.0326972865,-0.0299999788,0.0183526929,-0.0264305063,-0.0080412896,-0.0146040404,-0.0491771922,-0.0225207638,0.066266872,-0.0210559927,-0.013668932,0.0201990642,-0.0596365966,0.0122441286,-0.0355917551,-0.0343596973,-0.0369773842,0.0211511087,0.0133869257,0.0610549077,-0.1180360466,0.0136601953,-0.0467007235,-0.0148237143,-0.1018110812,-0.0479850769,-0.0338146426,0.0514175333,0.0317958221,-0.0355923474,0.0040808041,0.0047478508,-0.0125711402,-0.0161895473,-0.1225343719,0.0692026988,-0.0010360761,0.0554848984,0.0044200425,0.0219202898,0.0827745944,0.0462302789,-0.0042467001,0.0088842642,0.0220702309,0.0154463854,0.0169215295,-0.0544254668,-0.0055741486,0.0151906312,-0.0014013321,0.0058666505,-0.0243094545,0.0365810543,0.0360199325,-0.0005886233,-0.0314971767,0.0164796636,-0.0142982453,-0.0114562968,0.0041829278,0.0168776903,-0.0244645979,-0.0194416009,-0.0592514202,-0.0342483632,0.0262108818,0.0160882436,-0.0018952035,0.0373502672,0.0323112272,0.0174928978,-0.021330893,0.0263185594,-0.0325511247,0.0378818624,-0.0200547446,0.0037099326,-0.0064602327,-0.0433126725,-0.00951479,-0.0150630949,0.0100912051,-0.0059987623,-0.0188238919,0.0417780429,-0.0216425434,-0.0199046154,0.0175761078,0.0048503247,0.0146067273,0.0106161637,0.0134436013,-0.0765166357,0.0399578661,0.0543559678,-0.0670995861,0.0018457039,0.0768168494,-0.0406327248,0.0022242758,-0.0154551566,0.0314051323,-0.0229923315,-0.0304670837,0.000764177,-0.0154116079,0.0050063091,0.0015641041,-0.0094521884,-0.0068985438,0.0374957547,0.0164295472,-0.0378098711,-0.0373697765,-0.0028527784,0.0397207811,0.0058460566,-0.0351152606,0.072301805,0.0082504954,-0.0148775876,-0.0416122787,-0.0305583589,-0.0553647205,0.0121386359,-0.0076985215,-0.0376917198,-0.0270560849,0.0012649221,0.0205805283,0.0146708163,-0.0157985538,0.0404139869,0.0131566273,0.1049382016,0.0370006189,0.0310001634,-0.0259119309,0.0578943864,0.0030448604,0.000406826,-0.0231245551,0.017896764,0.0479233675,0.0754186362,0.028278226,-0.0051406734,-0.035155803,0.0017070061,0.0173555855,0.0599810556,0.0116678495,-0.0179836825,0.0045347572,-0.0070462683,0.0582819581,0.022766415,0.0281460769,0.0262841582,-0.0064157825,-0.0104473019,0.0409541912,-0.0194758493,-0.0252438318,0.0334805064,0.0556779765,-0.0101799322,0.0210141465,-0.0282322578,-0.0107418252,0.0474311225,0.0190060064,0.095511727,-0.0667209923,0.0542835519,0.0315790288,0.0169912037,-0.0680856332,0.0108904084,0.0345851555,-0.0214537308,0.0089086285,0.0409692153,0.0135057429,-0.053421136,-0.0669997707,0.0141998194,-0.0218095537,-0.0303171743,-0.0380986221,-0.0157167297,-0.0247857571,0.0178117286,-0.0017300021,0.0364585035,-0.0184627585,-0.0304270964,0.0073243594,0.0761799738,0.0029569592,0.0145542752,0.0717567131,-0.0125771072,0.0242465232,-0.0630333349,0.0148368925,0.0000412348,-0.0130981542,-0.0031522163,0.0062826681,-0.090132162,0.0086420868,0.0313207135,-0.0322157145,-0.01018715,-0.0106281079,0.0227036756,-0.0977817699,0.0220837072,-0.0146199046,-0.0382399447,-0.0117242001,0.0215292573,-0.0201782975,-0.0000750998,0.0010545807,-0.0445453413,-0.0606554039,-0.0302215312,-0.0499702953,-0.0442846678,-0.005031175,-0.0238489415,-0.0466895662,-0.025461277,-0.047321301,0.0243502688,-0.0702455416,0.0123983268,0.0074076247,-0.030961737,0.0869446546,-0.0010795817,-0.0050469926,0.07910458,0.0245022606,0.0030110485,0.0032028034,0.0482629724,-0.0071837963,0.0097595761,-0.0696277469,0.0090340395,0.0349546447,-0.0396976732,0.0254712533,0.0130170695,0.0173457637,-0.0205186699,-0.0125509007,-0.0054134312,-0.0436416939,-0.0381442942,-0.0054264837,0.054737974,0.0247284286,-0.0246863384,-0.0003179055,0.0141192861,0.0649699941,-0.0322803669,0.0024501714,-0.0097376769,0.0037920717,0.0068432102,0.0180144515,-0.024868032,-0.0390991531,0.0077331876,0.0250690728,0.0415448882,-0.0305961855,-0.0179036837,-0.0246223994,0.0020634462,0.0246868487,0.0165383257,0.0399276614,0.0071179783,-0.0175653417,-0.0161627326,-0.0232056379,-0.0064515835,-0.0438694768,-0.0217141118,0.0168010369,-0.0623154528,0.0255331248,0.0006958555,-0.056762442,0.012435195,-0.0241797715,0.0086369589,0.0097658103,0.0098025352,0.0390701666,0.0092921006,0.0313504227,-0.1075681597,-0.0296710767,-0.0278280433,0.022226721,0.0349912718,0.021408122,0.0001082178,-0.0258640833,0.0034192749,-0.0633297116,-0.0028992721,-0.022328265,-0.0312720053,-0.0195760429,0.0406606272,0.0188850574,0.0144841112,-0.0423543043,-0.0293463524,0.0430113077,0.0482203476,-0.0167578701,-0.0471219346,0.0646591708,-0.041014947,0.0073568081,-0.0048915204,-0.005860141,-0.0605932064,0.0240925644]}\n",
            "{\"id\":73415813,\"embedding\":[0.0138176419,-0.0382356495,-0.0152681898,0.0044331802,0.0207399577,0.013553435,0.0596717931,-0.0198494028,0.0180196781,0.0415580757,-0.0018434403,0.0254324749,0.0046734032,-0.0232746284,0.0533467084,-0.0059768287,0.0102796117,-0.0052274349,0.0322129466,-0.0511327162,0.0137751196,-0.0274649411,0.0358417667,0.0025510092,-0.0119071547,0.0095746657,-0.0218506083,-0.0627980232,-0.0652442649,0.0166043639,-0.0919893458,0.0061569619,-0.0448964909,0.0163935367,0.0140555613,-0.0605353415,0.0524400212,0.0589955524,-0.0013776841,-0.0166528318,-0.00680988,-0.0069199889,-0.0435087942,-0.0499068648,-0.0088332146,0.0074240537,-0.0204476789,0.0394742973,-0.0368608907,-0.0487553999,0.0221619196,0.0145109538,0.0363940261,-0.0200979076,0.0174397174,-0.0624528751,-0.0191693101,-0.0073273038,-0.0102570569,-0.0133831948,0.0097481515,0.021412963,-0.1086672917,0.0406469814,-0.0060760868,-0.0612243824,-0.0191596951,0.0059329718,0.0227058791,0.0423555784,0.0278278682,-0.0047220248,0.0022192891,-0.0423153602,-0.0077708145,-0.1365821362,-0.020390803,0.0415171534,0.0313866138,0.0875197127,0.0020220487,-0.0296532083,-0.0351437218,-0.0310655218,-0.0327088423,0.0867843106,-0.0142060416,-0.0466003343,-0.0489124134,0.0242366735,-0.0206006076,-0.0059586666,0.0633008182,-0.0238236617,0.025060825,0.0585459955,0.007191753,-0.0188781228,0.0093203997,-0.0138676623,-0.0325727351,-0.0206914395,0.0260276403,-0.0496054888,0.009713714,-0.0331669711,0.0004027309,0.056355305,-0.0064433422,0.0471919216,0.0176503491,0.0031526349,0.0151552958,-0.0146539481,0.0131181739,-0.0391848981,-0.0458712131,0.0759611353,-0.0197374951,-0.0221446007,0.0371634178,0.0171572547,0.0354877077,0.0146559058,0.0018000734,0.0412453599,0.0138639016,0.008719827,0.0200274792,0.0684959441,-0.0305976346,-0.039011918,0.0212452728,0.0548029914,0.0143834222,0.0469812006,0.0480810776,0.0404529721,0.0619687624,0.0497362502,-0.0181087404,-0.0054730964,-0.0224127546,0.0009832666,-0.0581042916,-0.0183411837,-0.0381235331,-0.0023070059,-0.0165979601,-0.02153196,-0.0831126943,0.000995951,-0.0445630476,0.031532798,0.0176837165,0.0215146355,-0.0111275828,-0.0077266037,0.0324506834,0.0239647664,0.0644867793,0.0237559509,-0.0155831147,-0.0099343117,-0.0071481746,-0.0556836464,-0.0202009995,0.0188963041,-0.0145890685,-0.0134687396,0.005804874,0.03893172,-0.055144608,-0.022077702,0.0148322983,-0.0440801829,-0.0075917672,0.0391780436,0.0104678571,0.0242641401,-0.0209369324,-0.0595752113,-0.0587033443,-0.0222500972,0.017906094,-0.0203889012,0.0230292529,-0.0075537739,0.0030361125,-0.0304840617,-0.0310366768,-0.0613475107,-0.0012940362,-0.0121047786,-0.03434572,0.016219927,0.0245839972,0.0838473886,0.0006978637,-0.051620286,-0.010275471,0.0770694911,-0.0075753429,-0.0208622143,0.058676865,0.0053485706,0.0402189493,-0.0202624351,-0.030228097,0.0482767336,-0.0149842538,-0.0318358503,-0.0736051872,-0.0136331515,0.0116096865,0.0096360771,-0.0306397248,0.0618726797,0.033170063,-0.0341754518,-0.0157963298,0.0315286331,-0.0405891873,-0.0040463149,0.0306498185,0.0495445915,-0.0296422038,0.0484067425,0.0084228404,-0.0522949472,0.0200452842,0.061004106,0.0388491005,0.0085225226,0.0505581945,-0.0510245785,0.0234219432,-0.0269610323,0.0030012431,0.0030518954,-0.0618465394,0.0133234011,0.07365565,0.0256204102,-0.0704965219,-0.0011281108,0.0153645026,0.0130174095,-0.0417632237,0.0176151302,-0.0227860417,-0.0192005262,-0.0234553777,0.0545325056,-0.0520279184,0.0229295343,-0.0034976199,-0.0181373209,0.0028221305,-0.0073255356,0.0273640957,0.0629119352,0.0281267017,0.0314738192,-0.0188659094,-0.0185044855,0.0067442562,-0.0791539252,0.0032431639,0.0054583414,-0.0042477394,-0.0255529545,0.0441313349,-0.0313449539,-0.0122144343,-0.0015701434,-0.0061185062,0.0113698402,-0.0004563803,-0.0004638537,0.0129585452,0.0631149933,-0.017455589,-0.0268386845,-0.01776875,0.0326534398,-0.0256289952,0.0019076022,-0.0119098797,-0.064365752,-0.0178457573,-0.0092845084,-0.0305976979,-0.0569341667,-0.0339532308,0.0096816616,-0.0086632222,0.0036088477,0.0261314269,-0.0214695819,-0.0005568082,-0.0015767678,-0.0078439014,-0.0991204754,0.0582275763,0.0321428254,-0.0323254466,-0.0126920808,-0.0032819486,0.0212995894,0.0045729149,-0.0196993798,-0.0029648675,-0.0293567851,0.0631791204,0.0724152327,-0.0239815637,0.0058871466,0.0241732132,0.0452159233,-0.0187006462,0.0204359479,0.0003474896,0.0276492424,0.0181380231,0.0081073437,-0.000027425,0.0407300629,-0.0617517345,0.0007999503,0.006530541,0.0379386321,-0.0060031526,0.0228965431,-0.0143129099,0.0282472633,-0.0423713364,-0.057495065,-0.0095402533,-0.0385242887,0.0326961018,0.0388364866,-0.0404136628,-0.0398060046,0.0029663513,-0.0143084209,-0.0121596642,-0.0010487558,0.0579666644,-0.0205511134,0.0266706012,0.0657963306,0.0043705651,0.0089448141,0.0191839319,-0.0335845463,0.0083446335,-0.0427792631,0.0135278115,-0.0610115565,-0.0055643157,0.0130258054,0.0047922218,0.0278902221,0.0338144414,-0.025948219,-0.012044658,-0.0004392937,0.0286491811,0.0219265949,-0.002002463,-0.0469731428,-0.00048094,-0.0174983367,0.0041186721,-0.0203475766,-0.0879721269,0.0184515025,-0.0016453366,-0.0026166358,0.0049073203,0.0340535194,0.0925074145,0.0587526336,0.019743735,0.0068485579,0.0592471287,-0.0007383359,0.0265086647,0.0269795489,0.0002313191,-0.0036221256,0.0542919487,-0.023254944,0.0257358849,-0.0241458546,-0.0215151012,-0.0012405001,-0.0018163831,0.003920964,-0.0455555022,-0.0217362363,-0.0448226556,-0.0364512056,0.0335874967,-0.0236786678,-0.0209153872,-0.0132126687,-0.0025360272,-0.0219525453,0.0104871728,0.0746245608,0.0199368503,-0.0698064864,-0.0840981677,-0.0006337044,0.0253283065,-0.0167675968,-0.0123611465,0.0268550422,-0.0690844581,-0.0128212916,-0.0207536053,0.0069668214,0.0075987699,-0.0442034863,-0.0259338897,0.006018226,0.0103533762,0.0463555977,0.0447203629,-0.0030451596,0.0015280664,0.004957574,-0.0084591014,-0.0521671064,0.0148822395,0.0057725701,-0.0048561501,-0.0501612984,0.0562332124,0.0071360026,0.0051788944,0.0128749944,-0.0847765878,-0.0016657114,0.0101430006,-0.0124836154,0.042563282,-0.0843770728,0.0403696932,-0.1059627458,-0.0374917611,-0.0432808883,-0.0049552256,-0.0139326667,-0.0021062433,0.0339967571,-0.00538655,-0.0250623915,-0.0649835169,-0.0516194589,-0.0561841689,-0.0632573962,0.0494968705,-0.0062669404,-0.0212830007,-0.0251655858,0.0205479395,0.0210980494,0.0096773021,-0.025997363,0.0580571778,-0.0059421207,-0.042499762,-0.0133749852,-0.051880829,0.0271357335,-0.0228823144,-0.0198286641,0.0279708132,-0.0396703444,0.0138435513,0.0116169658,-0.0050908606,0.0106663639,0.0162566472,-0.0072632609,0.0215411112,0.0433123372,-0.0135596124,-0.0383635983,-0.0115152439,-0.0226042792,0.0245596506,0.0328828692,-0.0108488277,0.0509826876,0.0400602147,-0.0017072586,-0.0127411531,-0.0075111627,0.0274137352,-0.0017887892,0.0157176126,-0.0506257564,0.0184245612,-0.0236262307,-0.0254003704,0.0124523612,0.0028680989,0.0235696044,0.0404012464,0.0008066902,0.0363227017,-0.0162063669,-0.0195279047,0.0955221355,0.0056478987,-0.0226297583,0.0587201342,-0.024286326,-0.1148840636,-0.0152642159,0.021435855,-0.0623945482,-0.0125603694,0.0433316678,0.0012401504,-0.0089563569,-0.0175086241,0.0338643827,-0.0581761003,-0.0006934019,-0.0098780869,-0.0003810494,0.0227897428,0.0166235063,0.0322810821,-0.0174960475,0.0063645737,-0.016301671,-0.0210528634,-0.0060852389,-0.0158096384,0.0227850247,0.0028176086,-0.0947587639,0.047071591,-0.0006713095,-0.0685596317,-0.0066813184,0.0294019375,-0.0728264451,0.0538218915,-0.0190792251,-0.040994972,0.03888328,0.0479900576,-0.0061256057,0.0037883099,0.0280062985,-0.0170012154,-0.0520949885,0.0603337698,0.0120886909,0.0203986242,-0.0053642238,0.0301741548,-0.0388234258,-0.0357776023,0.0099131055,0.0285057984,0.0461557135,0.0716698468,-0.0193756931,-0.0457859784,0.0052725007,0.0089240447,0.0006667813,0.0020235379,-0.0557595715,-0.0259388909,0.0677580759,-0.0384673402,0.0753229484,0.0079789935,0.0442039222,0.0675299019,0.0022165217,-0.0404254086,0.0386840962,-0.0626397878,-0.0201391168,0.0190825183,0.0036740731,-0.0395573787,-0.0289764777,-0.0465986989,0.0375449285,0.0041842987,-0.0406189524,0.0926102996,-0.0590451024,0.0156834312,0.0317975916,-0.0344544053,0.0172032174,0.044370573,0.0179410502,-0.0127788633,0.0324442536,0.0159290452,-0.0085584465,-0.0276569352,-0.0360888764,0.0296939816,0.0347935669,-0.0183468051,-0.0696359575,-0.0119484235,0.011830573,-0.0147400321,-0.0054212692,0.0392018408,-0.0197635125,0.0074790227,0.0126331672,0.0468169339,0.0298520178,0.0404118374,-0.0019148524,-0.0186208375,0.0048160227,-0.0206302349,-0.0479107536,-0.0473394692,-0.0466999635,0.071592465,-0.0343366377,-0.0628369898,0.018267503,0.0220554136,0.0046399781,0.0021384864,0.0369551368,-0.0092570977,-0.0999596566,-0.0337171517,-0.0106035629,-0.0288155116,0.0203615539,0.026976455,-0.0034492658,-0.0084914165,0.0171588305,0.0014308132,-0.0043931277,0.0351718999,-0.0349607319,-0.0541911088,0.0595004298,0.0363373011,-0.0030672569,0.0125805866,-0.0232988633,-0.0280290172,-0.0318038575,-0.0150391543,0.0444710702,-0.0791643932,0.0397245176,-0.0034857781,-0.0109034935,0.0369842537,0.0086657843,-0.0138124945,0.0596821532,0.0594679303,0.0161451735,-0.0197552312,0.0203018188,-0.0023806919,0.0211319216,0.0017951344,0.0212686304,-0.0092877829,0.0475688651,-0.039762266,-0.0191130266,-0.0250657164,-0.0297235698,-0.0572478771,0.0198628511,0.0432655625,0.0260977075,0.0251132119,0.0405663736,0.0524902493,0.0853059888,-0.0626420155,-0.0451289713,0.0122920005,0.0134257227,-0.0132177398,0.0296347756,0.0184487291,0.0208112355,0.0306582768,0.0096085155,0.0236793067,-0.0566249937,0.0064796368,0.055530902,0.0121716857,-0.0197164211,0.0129998662,0.0035007054,-0.0793133527,0.0453813449,0.0172214471,-0.0088328673,-0.0000536618,-0.0437104851,-0.0532806367,0.0657050163,-0.0224793274,0.0202894621,0.0142923631,-0.0193107892,0.0582183003,-0.0195877608,-0.0235028509,0.0232365355,-0.016634766,0.1028144509,0.0266964529,0.0423015654,-0.0576476678,-0.0938098431,-0.0046264427,0.0130535662,0.0145099023,0.0716794729,0.0282622501,-0.0757396221,0.0250622798,-0.0423776396,-0.0214364734,-0.0187775623,-0.0555608757,-0.0334381089,-0.0355858505,0.0038030858,0.0711011887,-0.0353228673,-0.04074255,0.0012508449,0.027859468,-0.012126145,-0.050470788,0.0673255399,-0.0106718792,0.031156268,0.0500728525,0.0629621968,0.0296672974,0.0714588091]}\n"
          ]
        }
      ],
      "source": [
        "# save id and embedding as a json file\n",
        "jsonl_string = df[[\"id\", \"embedding\"]].to_json(orient=\"records\", lines=True)\n",
        "with open(\"questions.json\", \"w\") as f:\n",
        "    f.write(jsonl_string)\n",
        "\n",
        "# show the first few lines of the json file\n",
        "! head -n 3 questions.json"
      ]
    },
    {
      "cell_type": "markdown",
      "metadata": {
        "id": "-WTNJ3FAQl_W"
      },
      "source": [
        "Then, create a new Cloud Storage bucket and copy the file to it."
      ]
    },
    {
      "cell_type": "code",
      "execution_count": 47,
      "metadata": {
        "id": "CzwDWJfzAk3n",
        "colab": {
          "base_uri": "https://localhost:8080/"
        },
        "executionInfo": {
          "status": "ok",
          "timestamp": 1717697627638,
          "user_tz": 420,
          "elapsed": 2892,
          "user": {
            "displayName": "",
            "userId": ""
          }
        },
        "outputId": "e459448d-40bd-4e5e-9120-67ed95224a1a"
      },
      "outputs": [
        {
          "output_type": "stream",
          "name": "stdout",
          "text": [
            "Copying file://questions.json [Content-Type=application/json]...\n",
            "-\n",
            "Operation completed over 1 objects/29.5 MiB.                                     \n"
          ]
        }
      ],
      "source": [
        "BUCKET_URI = f\"gs://{PROJECT_ID}-rag-session\"\n",
        "# ! gsutil mb -l $LOCATION -p {PROJECT_ID} {BUCKET_URI}\n",
        "! gsutil cp questions.json {BUCKET_URI}"
      ]
    },
    {
      "cell_type": "markdown",
      "metadata": {
        "id": "xxdbjKw1XDxl"
      },
      "source": [
        "### Create an Index\n",
        "\n",
        "Now it's ready to load the embeddings to Vector Search. Its APIs are available under the [aiplatform](https://cloud.google.com/python/docs/reference/aiplatform/latest/google.cloud.aiplatform) package of the SDK."
      ]
    },
    {
      "cell_type": "code",
      "execution_count": 48,
      "metadata": {
        "id": "8unyr9KagAoI",
        "executionInfo": {
          "status": "ok",
          "timestamp": 1717697635829,
          "user_tz": 420,
          "elapsed": 169,
          "user": {
            "displayName": "",
            "userId": ""
          }
        }
      },
      "outputs": [],
      "source": [
        "# init the aiplatform package\n",
        "from google.cloud import aiplatform\n",
        "\n",
        "aiplatform.init(project=PROJECT_ID, location=LOCATION)"
      ]
    },
    {
      "cell_type": "markdown",
      "metadata": {
        "id": "xpMUXqWQ75uu"
      },
      "source": [
        "Create an [MatchingEngineIndex](https://cloud.google.com/python/docs/reference/aiplatform/latest/google.cloud.aiplatform.MatchingEngineIndex) with its `create_tree_ah_index` function (Matching Engine is the previous name of Vector Search)."
      ]
    },
    {
      "cell_type": "code",
      "execution_count": 49,
      "metadata": {
        "id": "kKDw5VXMkXb3",
        "colab": {
          "base_uri": "https://localhost:8080/"
        },
        "executionInfo": {
          "status": "ok",
          "timestamp": 1717697677602,
          "user_tz": 420,
          "elapsed": 28812,
          "user": {
            "displayName": "",
            "userId": ""
          }
        },
        "outputId": "61ec8305-ad5c-4567-a4a0-f0591fabef7b"
      },
      "outputs": [
        {
          "output_type": "stream",
          "name": "stderr",
          "text": [
            "INFO:google.cloud.aiplatform.matching_engine.matching_engine_index:Creating MatchingEngineIndex\n",
            "INFO:google.cloud.aiplatform.matching_engine.matching_engine_index:Create MatchingEngineIndex backing LRO: projects/842907197256/locations/us-central1/indexes/4508793720300109824/operations/4970934159854796800\n",
            "INFO:google.cloud.aiplatform.matching_engine.matching_engine_index:MatchingEngineIndex created. Resource name: projects/842907197256/locations/us-central1/indexes/4508793720300109824\n",
            "INFO:google.cloud.aiplatform.matching_engine.matching_engine_index:To use this MatchingEngineIndex in another session:\n",
            "INFO:google.cloud.aiplatform.matching_engine.matching_engine_index:index = aiplatform.MatchingEngineIndex('projects/842907197256/locations/us-central1/indexes/4508793720300109824')\n"
          ]
        }
      ],
      "source": [
        "# create index\n",
        "my_index = aiplatform.MatchingEngineIndex.create_tree_ah_index(\n",
        "    display_name=f\"rag_demo1_stackoverflow_index\",\n",
        "    contents_delta_uri=BUCKET_URI,\n",
        "    dimensions=768,\n",
        "    approximate_neighbors_count=20,\n",
        "    distance_measure_type=\"DOT_PRODUCT_DISTANCE\",\n",
        ")"
      ]
    },
    {
      "cell_type": "markdown",
      "metadata": {
        "id": "2rFam_w9U0dI"
      },
      "source": [
        "By calling the `create_tree_ah_index` function, it starts building an Index. This will take under a few minutes if the dataset is small, otherwise about 50 minutes or more depending on the size of the dataset. You can check status of the index creation on [the Vector Search Console > INDEXES tab](https://console.cloud.google.com/vertex-ai/matching-engine/indexes).\n",
        "\n",
        "![](https://storage.googleapis.com/github-repo/img/embeddings/vs-quickstart/creating-index.png)\n",
        "\n",
        "#### The parameters for creating index\n",
        "\n",
        "- `contents_delta_uri`: The URI of Cloud Storage directory where you stored the embedding JSON files\n",
        "- `dimensions`: Dimension size of each embedding. In this case, it is 768 as we are using the embeddings from the Text Embeddings API.\n",
        "- `approximate_neighbors_count`: how many similar items we want to retrieve in typical cases\n",
        "- `distance_measure_type`: what metrics to measure distance/similarity between embeddings. In this case it's `DOT_PRODUCT_DISTANCE`\n",
        "\n",
        "See [the document](https://cloud.google.com/vertex-ai/docs/vector-search/create-manage-index) for more details on creating Index and the parameters.\n",
        "\n",
        "#### Batch Update or Streaming Update?\n",
        "There are two types of index: Index for *Batch Update* (used in this tutorial) and Index for *Streaming Updates*. The Batch Update index can be updated with a batch process whereas the Streaming Update index can be updated in real-time. The latter one is more suited for use cases where you want to add or update each embeddings in the index more often, and crucial to serve with the latest embeddings, such as e-commerce product search.\n",
        "\n"
      ]
    },
    {
      "cell_type": "markdown",
      "metadata": {
        "id": "VLOAMF50XMI8"
      },
      "source": [
        "### Create Index Endpoint and deploy the Index\n",
        "\n",
        "To use the Index, you need to create an [Index Endpoint](https://cloud.google.com/vertex-ai/docs/vector-search/deploy-index-public). It works as a server instance accepting query requests for your Index."
      ]
    },
    {
      "cell_type": "code",
      "execution_count": 20,
      "metadata": {
        "id": "h6IzyufWCjU1",
        "colab": {
          "base_uri": "https://localhost:8080/"
        },
        "executionInfo": {
          "status": "ok",
          "timestamp": 1717693694892,
          "user_tz": 420,
          "elapsed": 223455,
          "user": {
            "displayName": "",
            "userId": ""
          }
        },
        "outputId": "f92a7d28-bbeb-4aba-8921-f0c51a1f8138"
      },
      "outputs": [
        {
          "output_type": "stream",
          "name": "stderr",
          "text": [
            "INFO:google.cloud.aiplatform.matching_engine.matching_engine_index_endpoint:Deploying index MatchingEngineIndexEndpoint index_endpoint: projects/842907197256/locations/us-central1/indexEndpoints/1049255150293614592\n",
            "INFO:google.cloud.aiplatform.matching_engine.matching_engine_index_endpoint:Deploy index MatchingEngineIndexEndpoint index_endpoint backing LRO: projects/842907197256/locations/us-central1/indexEndpoints/1049255150293614592/operations/2722512045890076672\n",
            "INFO:google.cloud.aiplatform.matching_engine.matching_engine_index_endpoint:MatchingEngineIndexEndpoint index_endpoint Deployed index. Resource name: projects/842907197256/locations/us-central1/indexEndpoints/1049255150293614592\n"
          ]
        },
        {
          "output_type": "execute_result",
          "data": {
            "text/plain": [
              "<google.cloud.aiplatform.matching_engine.matching_engine_index_endpoint.MatchingEngineIndexEndpoint object at 0x7e607df57e20> \n",
              "resource name: projects/842907197256/locations/us-central1/indexEndpoints/1049255150293614592"
            ]
          },
          "metadata": {},
          "execution_count": 20
        }
      ],
      "source": [
        "# These steps take about 25 minutes\n",
        "\n",
        "# # create IndexEndpoint\n",
        "# my_index_endpoint = aiplatform.MatchingEngineIndexEndpoint.create(\n",
        "#     display_name=f\"gcp_rag_session_endpoint\",\n",
        "#     public_endpoint_enabled=True)\n",
        "\n",
        "# # deploy the Index to the Index Endpoint\n",
        "# DEPLOYED_INDEX_ID = \"f\\\"rag_session_demo1_stackoverflow_index_pre_deployed\\\"\" # @param {type:\"string\"}\n",
        "# my_index_endpoint.deploy_index(index=my_index, deployed_index_id=DEPLOYED_INDEX_ID)"
      ]
    },
    {
      "cell_type": "code",
      "execution_count": 50,
      "metadata": {
        "id": "FcBHLifGwAWq",
        "executionInfo": {
          "status": "ok",
          "timestamp": 1717697778679,
          "user_tz": 420,
          "elapsed": 212,
          "user": {
            "displayName": "",
            "userId": ""
          }
        }
      },
      "outputs": [],
      "source": [
        "# Get existing endpoint and index deployed\n",
        "DEPLOYED_INDEX_ID = \"rag_session_demo1_stackoverflow_index_pre_deployed\" # @param {type:\"string\"}\n",
        "my_index_endpoint_id = \"1049255150293614592\" # @param {type:\"string\"}\n",
        "my_index_endpoint = aiplatform.MatchingEngineIndexEndpoint(my_index_endpoint_id)\n",
        "\n"
      ]
    },
    {
      "cell_type": "markdown",
      "metadata": {
        "id": "xu9ZmWcpXQ55"
      },
      "source": [
        "If it is the first time to deploy an Index to an Index Endpoint, it will take around 25 minutes to automatically build and initiate the backend for it. After the first deployment, it will finish in seconds. To see the status of the index deployment, open [the Vector Search Console > INDEX ENDPOINTS tab](https://console.cloud.google.com/vertex-ai/matching-engine/index-endpoints) and click the Index Endpoint.\n",
        "\n",
        "<img src=\"https://storage.googleapis.com/github-repo/img/embeddings/vs-quickstart/deploying-index.png\" width=\"70%\">"
      ]
    },
    {
      "cell_type": "markdown",
      "metadata": {
        "id": "oTi4PjjbXV-O"
      },
      "source": [
        "### Run Query\n",
        "\n",
        "Finally it's ready to use Vector Search. In the following code, it creates an embedding for a test question, and find similar question with the Vector Search."
      ]
    },
    {
      "cell_type": "code",
      "execution_count": 51,
      "metadata": {
        "id": "Q01DGMBPXAg-",
        "executionInfo": {
          "status": "ok",
          "timestamp": 1717697799152,
          "user_tz": 420,
          "elapsed": 185,
          "user": {
            "displayName": "",
            "userId": ""
          }
        }
      },
      "outputs": [],
      "source": [
        "def run_query(query : str):\n",
        "  # Get embedding\n",
        "  test_embeddings = get_embeddings_wrapper([query])\n",
        "  print()\n",
        "\n",
        "  # Get closest vectors\n",
        "  response = my_index_endpoint.find_neighbors(\n",
        "      deployed_index_id=DEPLOYED_INDEX_ID,\n",
        "      queries=test_embeddings,\n",
        "      num_neighbors=20\n",
        "  )\n",
        "\n",
        "  # show the result\n",
        "  for idx, neighbor in enumerate(response[0]):\n",
        "      id = np.int64(neighbor.id)\n",
        "      similar = df.query(\"id == @id\", engine=\"python\")\n",
        "      print(f\"{neighbor.distance:.4f} {similar.title.values[0]}\")"
      ]
    },
    {
      "cell_type": "code",
      "execution_count": 52,
      "metadata": {
        "id": "FhNuRQqUWdfe",
        "colab": {
          "base_uri": "https://localhost:8080/"
        },
        "executionInfo": {
          "status": "ok",
          "timestamp": 1717697806269,
          "user_tz": 420,
          "elapsed": 389,
          "user": {
            "displayName": "",
            "userId": ""
          }
        },
        "outputId": "e9a7c70c-ada0-4326-f86f-ca02f366b908"
      },
      "outputs": [
        {
          "output_type": "stream",
          "name": "stderr",
          "text": [
            "100%|██████████| 1/1 [00:00<00:00,  7.88it/s]\n"
          ]
        },
        {
          "output_type": "stream",
          "name": "stdout",
          "text": [
            "\n",
            "0.7963 How to save PHP session after browse closing? (without separate cookies)\n",
            "0.7780 Why doesn't e.preventDefault() stop my page from Refreshing?\n",
            "0.7553 How to restart css transitions with \"touchstart\" and \"touchend\"?\n",
            "0.7531 How does HttpOnly cookie protect against XSS/Injection attack if they are passed automatically with every request?\n",
            "0.7450 how to load a cookie file in a requests session\n",
            "0.7448 Is there a relation between Cookies and reCaptcha?\n",
            "0.7415 How cookie based authentication works in multiple instance web application?\n",
            "0.7391 How can I reverse an infinite images carousel using JS?\n",
            "0.7348 How to close an open window after the user has searched something in the open window(using JavaScript)?\n",
            "0.7315 Accessing cookie from another sub-domain\n",
            "0.7301 How to iterate through SVG nodes and add event to it (JS)?\n",
            "0.7298 How to extend a list of HTML elements in JavaScript?\n",
            "0.7244 What is Laravel's $request->session()->regenerateToken() method used for?\n",
            "0.7232 How to avoid function repetition in jQuery\n",
            "0.7227 How to click element using java in selenium?\n",
            "0.7226 re-render component on url change\n",
            "0.7223 How do I stop css rotate back to face before expected animation?\n",
            "0.7199 Save & load memory snapshots in JavaScript / NodeJS\n",
            "0.7186 Hide and Show balance with icon click javasscript\n",
            "0.7184 How to send a data from JavaScript to JSON database with fetch api?\n"
          ]
        }
      ],
      "source": [
        "run_query(\"How to refresh cookies in JS?\")"
      ]
    },
    {
      "cell_type": "code",
      "source": [
        "# Get embedding\n",
        "run_query(\"why are chocolates delicious?\")"
      ],
      "metadata": {
        "colab": {
          "base_uri": "https://localhost:8080/"
        },
        "id": "ts1Kdu4XUTCa",
        "executionInfo": {
          "status": "ok",
          "timestamp": 1717697945736,
          "user_tz": 420,
          "elapsed": 416,
          "user": {
            "displayName": "",
            "userId": ""
          }
        },
        "outputId": "706c2583-bf45-4cfd-9c00-c77a8309746d"
      },
      "execution_count": 54,
      "outputs": [
        {
          "output_type": "stream",
          "name": "stderr",
          "text": [
            "100%|██████████| 1/1 [00:00<00:00,  8.09it/s]\n"
          ]
        },
        {
          "output_type": "stream",
          "name": "stdout",
          "text": [
            "\n",
            "0.5590 Why can converting numbers to characters change the numbers?\n",
            "0.5557 Why the error information \"unrecognized arguments\" return?\n",
            "0.5548 Why did celebrate request validation failed?\n",
            "0.5499 Choosing a random element from an array with weights\n",
            "0.5495 Values on x-Axes\n",
            "0.5474 What is the purpose of subtracting from Math.random?\n",
            "0.5471 Can those codes be simplified?\n",
            "0.5469 Is there a relation between Cookies and reCaptcha?\n",
            "0.5426 How to form exclusive pairs with conditions?\n",
            "0.5409 Why would you declare a std::string using it's constructor?\n",
            "0.5406 Break Colors Into Even Splits\n",
            "0.5405 Why can't we have a safe ISA?\n",
            "0.5405 This page has an error. You might just need to refresh it. Action failed:\n",
            "0.5403 Why is optimizing inline functions easier than normal functions?\n",
            "0.5389 How to resolve Java Certificate Issue?\n",
            "0.5384 Why cons give a different value based on position of S-expression\n",
            "0.5383 how should batch size be customised?\n",
            "0.5364 Query in the topic \"List\"\n",
            "0.5361 What is the point of sourceSets in Gradle\n",
            "0.5355 HTML menu with CSS hover\n"
          ]
        }
      ]
    },
    {
      "cell_type": "markdown",
      "metadata": {
        "id": "tPDOL9caoYZ9"
      },
      "source": [
        "The `find_neighbors` function only takes milliseconds to fetch the similar items even when you have billions of items on the Index, thanks to the ScaNN algorithm. Vector Search also supports [autoscaling](https://cloud.google.com/vertex-ai/docs/vector-search/deploy-index-public#autoscaling) which can automatically resize the number of nodes based on the demands of your workloads."
      ]
    },
    {
      "cell_type": "markdown",
      "metadata": {
        "id": "DDt4D6FDyc66"
      },
      "source": [
        "# IMPORTANT: Cleaning Up\n",
        "\n",
        "In case you are using your own Cloud project, not a temporary project on Qwiklab, please make sure to delete all the Indexes, Index Endpoints and Cloud Storage buckets after finishing this tutorial. Otherwise the remaining objects would **incur unexpected costs**.\n",
        "\n",
        "If you used Workbench, you may also need to delete the Notebooks from [the console](https://console.cloud.google.com/vertex-ai/workbench)."
      ]
    },
    {
      "cell_type": "code",
      "execution_count": 56,
      "metadata": {
        "id": "MEsKVzguyxNx",
        "executionInfo": {
          "status": "ok",
          "timestamp": 1717702521120,
          "user_tz": 420,
          "elapsed": 186,
          "user": {
            "displayName": "",
            "userId": ""
          }
        }
      },
      "outputs": [],
      "source": [
        "# wait for a confirmation\n",
        "input(\"Press Enter to delete Index Endpoint, Index and Cloud Storage bucket:\")\n",
        "\n",
        "# delete Index Endpoint\n",
        "my_index_endpoint.undeploy_all()\n",
        "my_index_endpoint.delete(force=True)\n",
        "\n",
        "# delete Index\n",
        "my_index.delete()\n",
        "\n",
        "# delete Cloud Storage bucket\n",
        "! gsutil rm -r {BUCKET_URI}"
      ]
    },
    {
      "cell_type": "markdown",
      "metadata": {
        "id": "b8k26QOF3Ys7"
      },
      "source": [
        "# Summary\n",
        "\n",
        "## Grounding LLM outputs with Vertex AI Vector Search\n",
        "\n",
        "As we have seen, by combining the Embeddings API and Vector Search, you can use the embeddings to \"ground\" LLM outputs to real business data with low latency.\n",
        "\n",
        "For example, if an user asks a question, Embeddings API can convert it to an embedding, and issue an query on Vector Search to find similar embeddings in its index. Those embeddings represent the actual business data in the databases. As we are just retrieving the business data and not generating any artificial texts, there is no risk of having hallucinations in the result.\n",
        "\n",
        "![](https://storage.googleapis.com/gweb-cloudblog-publish/original_images/10._grounding.png)\n",
        "\n",
        "### The difference between the questions and answers\n",
        "\n",
        "In this tutorial, we have used the Stack Overflow dataset. There is a reason why we had to use it; As the dataset has many pairs of **questions and answers**, so you can just find questions similar to your question to find answers to it.\n",
        "\n",
        "In many business use cases, the semantics (meaning) of questions and answers are different. Also, there could be cases where you would want to add variety of recommended or personalized items to the results, like product search on e-commerce sites.\n",
        "\n",
        "In these cases, the simple semantics search don't work well. It's more like a recommendation system problem where you may want to train a model (e.g. Two-Tower model) to learn the relationship between the question embedding space and answer embedding space. Also, many production systems adds reranking phase after the semantic search to achieve higher search quality. Please see [Scaling deep retrieval with TensorFlow Recommenders and Vertex AI Matching Engine](https://cloud.google.com/blog/products/ai-machine-learning/scaling-deep-retrieval-tensorflow-two-towers-architecture) to learn more.\n",
        "\n",
        "### Hybrid of semantic + keyword search\n",
        "\n",
        "Another typical challenge you will face in production system is to support keyword search combined with the semantic search. For example, for e-commerce product search, you may want to let users find product by entering its product name or model number. As LLM doesn't memorize those product names or model numbers, semantic search can't handle those \"usual\" search functionalities.\n",
        "\n",
        "[Vertex AI Search](https://cloud.google.com/blog/products/ai-machine-learning/vertex-ai-search-and-conversation-is-now-generally-available) is another product you may consider for those requirements. While Vector Search provides a simple semantic search capability only, Search provides a integrated search solution that combines semantic search, keyword search, reranking and filtering, available as an out-of-the-box tool.\n",
        "\n",
        "### What about Retrieval Augmented Generation (RAG)?\n",
        "\n",
        "In this tutorial, we have looked at the simple combination of LLM embeddings and vector search. From this starting point, you may also extend the design to [Retrieval Augmented Generation (RAG)](https://www.google.com/search?q=Retrieval+Augmented+Generation+(RAG)&oq=Retrieval+Augmented+Generation+(RAG)).\n",
        "\n",
        "RAG is a popular architecture pattern of implementing grounding with LLM with text chat UI. The idea is to have the LLM text chat UI as a frontend for the document retrieval with vector search and summarization of the result.\n",
        "\n",
        "![](https://storage.googleapis.com/gweb-cloudblog-publish/images/Figure-7-Ask_Your_Documents_Flow.max-529x434.png)\n",
        "\n",
        "There are some pros and cons between the two solutions.\n",
        "\n",
        "| | Emb + vector search | RAG |\n",
        "|---|---|---|\n",
        "| Design | simple | complex |\n",
        "| UI | Text search UI | Text chat UI |\n",
        "| Summarization of result | No | Yes |\n",
        "| Multi-turn (Context aware) | No | Yes |\n",
        "| Latency | millisecs | seconds |\n",
        "| Cost | lower | higher |\n",
        "| Hallucinations | No risk | Some risk |\n",
        "\n",
        "The Embedding + vector search pattern we have looked at with this tutorial provides simple, fast and low cost semantic search functionality with the LLM intelligence. RAG adds context-aware text chat experience and result summarization to it. While RAG provides the more \"Gen AI-ish\" experience, it also adds a risk of hallucination and higher cost and time for the text generation.\n",
        "\n",
        "To learn more about how to build a RAG solution, you may look at [Building Generative AI applications made easy with Vertex AI PaLM API and LangChain](https://cloud.google.com/blog/products/ai-machine-learning/generative-ai-applications-with-vertex-ai-palm-2-models-and-langchain).\n",
        "\n",
        "## Resources\n",
        "\n",
        "To learn more, please check out the following resources:\n",
        "\n",
        "### Documentations\n",
        "\n",
        "[Vertex AI Embeddings for Text API documentation\n",
        "](https://cloud.google.com/vertex-ai/docs/generative-ai/embeddings/get-text-embeddings)\n",
        "\n",
        "[Vector Search documentation](https://cloud.google.com/vertex-ai/docs/matching-engine/overview)\n",
        "\n",
        "### Vector Search blog posts\n",
        "\n",
        "[Vertex Matching Engine: Blazing fast and massively scalable nearest neighbor search](https://cloud.google.com/blog/products/ai-machine-learning/vertex-matching-engine-blazing-fast-and-massively-scalable-nearest-neighbor-search)\n",
        "\n",
        "[Find anything blazingly fast with Google's vector search technology](https://cloud.google.com/blog/topics/developers-practitioners/find-anything-blazingly-fast-googles-vector-search-technology)\n",
        "\n",
        "[Enabling real-time AI with Streaming Ingestion in Vertex AI](https://cloud.google.com/blog/products/ai-machine-learning/real-time-ai-with-google-cloud-vertex-ai)\n",
        "\n",
        "[Mercari leverages Google's vector search technology to create a new marketplace](https://cloud.google.com/blog/topics/developers-practitioners/mercari-leverages-googles-vector-search-technology-create-new-marketplace)\n",
        "\n",
        "[Recommending news articles using Vertex AI Matching Engine](https://cloud.google.com/blog/products/ai-machine-learning/recommending-articles-using-vertex-ai-matching-engine)\n",
        "\n",
        "[What is Multimodal Search: \"LLMs with vision\" change businesses](https://cloud.google.com/blog/products/ai-machine-learning/multimodal-generative-ai-search)"
      ]
    },
    {
      "cell_type": "markdown",
      "metadata": {
        "id": "BE1tELsH-u8N"
      },
      "source": [
        "# Utilities\n",
        "\n",
        "Sometimes it takes tens of minutes to create or deploy Indexes and you would lose connection with the Colab runtime. In that case, instead of creating or deploying new Index again, you can check [the Vector Search Console](https://console.cloud.google.com/vertex-ai/matching-engine/index-endpoints) and get the existing ones to continue."
      ]
    },
    {
      "cell_type": "markdown",
      "metadata": {
        "id": "wF_pkdpJ-yaq"
      },
      "source": [
        "## Get an existing Index\n",
        "\n",
        "To get an Index object that already exists, replace the following `[your-index-id]` with the index ID and run the cell. You can check the ID on [the Vector Search Console > INDEXES tab](https://console.cloud.google.com/vertex-ai/matching-engine/indexes)."
      ]
    },
    {
      "cell_type": "code",
      "execution_count": null,
      "metadata": {
        "id": "mEBkZZt_-0jG"
      },
      "outputs": [],
      "source": [
        "my_index_id = \"[your-index-id]\"  # @param {type:\"string\"}\n",
        "my_index = aiplatform.MatchingEngineIndex(my_index_id)"
      ]
    },
    {
      "cell_type": "markdown",
      "metadata": {
        "id": "_vlgzkyw-3CI"
      },
      "source": [
        "## Get an existing Index Endpoint\n",
        "\n",
        "To get an Index Endpoint object that already exists, replace the following `[your-index-endpoint-id]` with the Index Endpoint ID and run the cell. You can check the ID on [the Vector Search Console > INDEX ENDPOINTS tab](https://console.cloud.google.com/vertex-ai/matching-engine/index-endpoints)."
      ]
    },
    {
      "cell_type": "code",
      "execution_count": null,
      "metadata": {
        "id": "E0OFnirF-6Rk"
      },
      "outputs": [],
      "source": [
        "my_index_endpoint_id = \"[your-index-endpoint-id]\"  # @param {type:\"string\"}\n",
        "my_index_endpoint = aiplatform.MatchingEngineIndexEndpoint(my_index_endpoint_id)"
      ]
    }
  ],
  "metadata": {
    "colab": {
      "provenance": [],
      "name": "RAG-demo1-intro-to-embeddings-June-2024.ipynb"
    },
    "environment": {
      "kernel": "python3",
      "name": "tf2-gpu.2-11.m108",
      "type": "gcloud",
      "uri": "gcr.io/deeplearning-platform-release/tf2-gpu.2-11:m108"
    },
    "kernelspec": {
      "display_name": "Python 3 (ipykernel)",
      "language": "python",
      "name": "python3"
    },
    "language_info": {
      "codemirror_mode": {
        "name": "ipython",
        "version": 3
      },
      "file_extension": ".py",
      "mimetype": "text/x-python",
      "name": "python",
      "nbconvert_exporter": "python",
      "pygments_lexer": "ipython3",
      "version": "3.10.10"
    }
  },
  "nbformat": 4,
  "nbformat_minor": 0
}
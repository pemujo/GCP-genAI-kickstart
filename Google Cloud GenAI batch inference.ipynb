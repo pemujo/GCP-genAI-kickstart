{
 "cells": [
  {
   "cell_type": "code",
   "execution_count": 8,
   "id": "ab7ba15f-f002-4890-8cdf-7f159d401588",
   "metadata": {},
   "outputs": [],
   "source": [
    "# Install libraries \n",
    "!pip install google-cloud-aiplatform"
   ]
  },
  {
   "cell_type": "code",
   "execution_count": 8,
   "id": "7d022cf3-b4b8-4905-82f8-b25d3378df6c",
   "metadata": {},
   "outputs": [],
   "source": [
    "# Authenticate (This should trigger oAuth to authenticate with end user's credentials using Appleconnect)\n",
    "!gcloud auth application-default login"
   ]
  },
  {
   "cell_type": "code",
   "execution_count": 4,
   "id": "53f59cb2-3f8e-48a7-a783-c0833255ab73",
   "metadata": {},
   "outputs": [
    {
     "name": "stdin",
     "output_type": "stream",
     "text": [
      "Enter your value:  multi-tenancy-dataproc\n"
     ]
    },
    {
     "name": "stdout",
     "output_type": "stream",
     "text": [
      "Using project ID: multi-tenancy-dataproc\n"
     ]
    }
   ],
   "source": [
    "# @title Parameters to fill out by user\n",
    "PROJECT_ID = \"\" # @param {type:\"string\"}\n",
    "BUCKET = \"\" # @param {type:\"string\"}\n",
    "DATASET_FILE = \"batch_test_file.jsonl\" # @param {type:\"string\"}\n",
    "DATASET_URL = f\"gs://{BUCKET}/{DATASET_FILE}\" # @param {type:\"string\"}\n",
    "DESTINATION_URI = f\"gs://{BUCKET}/results\"\n",
    "LOCATION = 'us-central1'  # @param {type:\"string\"}\n"
   ]
  },
  {
   "cell_type": "code",
   "execution_count": 5,
   "id": "1ac6a07d-ba72-4e54-90a0-ac2e2fb67809",
   "metadata": {},
   "outputs": [],
   "source": [
    "# Import libraries \n",
    "import vertexai\n",
    "import google.auth\n",
    "from vertexai.language_models import TextGenerationModel\n",
    "\n",
    "\n",
    "# Initialize Vertexai client\n",
    "creds, _ = google.auth.default(quota_project_id=PROJECT_ID)\n",
    "vertexai.init(project=PROJECT_ID, location=LOCATION, credentials=creds)"
   ]
  },
  {
   "cell_type": "code",
   "execution_count": 7,
   "id": "e7c6ae87-b17f-486b-92ca-30f2f0421760",
   "metadata": {},
   "outputs": [
    {
     "name": "stdout",
     "output_type": "stream",
     "text": [
      "Creating BatchPredictionJob\n",
      "BatchPredictionJob created. Resource name: projects/1054251275628/locations/us-central1/batchPredictionJobs/4761940913792483328\n",
      "To use this BatchPredictionJob in another session:\n",
      "bpj = aiplatform.BatchPredictionJob('projects/1054251275628/locations/us-central1/batchPredictionJobs/4761940913792483328')\n",
      "View Batch Prediction Job:\n",
      "https://console.cloud.google.com/ai/platform/locations/us-central1/batch-predictions/4761940913792483328?project=1054251275628\n",
      "BatchPredictionJob projects/1054251275628/locations/us-central1/batchPredictionJobs/4761940913792483328 current state:\n",
      "JobState.JOB_STATE_QUEUED\n",
      "BatchPredictionJob projects/1054251275628/locations/us-central1/batchPredictionJobs/4761940913792483328 current state:\n",
      "JobState.JOB_STATE_QUEUED\n",
      "BatchPredictionJob projects/1054251275628/locations/us-central1/batchPredictionJobs/4761940913792483328 current state:\n",
      "JobState.JOB_STATE_QUEUED\n",
      "BatchPredictionJob projects/1054251275628/locations/us-central1/batchPredictionJobs/4761940913792483328 current state:\n",
      "JobState.JOB_STATE_QUEUED\n",
      "BatchPredictionJob projects/1054251275628/locations/us-central1/batchPredictionJobs/4761940913792483328 current state:\n",
      "JobState.JOB_STATE_QUEUED\n",
      "BatchPredictionJob projects/1054251275628/locations/us-central1/batchPredictionJobs/4761940913792483328 current state:\n",
      "JobState.JOB_STATE_QUEUED\n",
      "BatchPredictionJob projects/1054251275628/locations/us-central1/batchPredictionJobs/4761940913792483328 current state:\n",
      "JobState.JOB_STATE_QUEUED\n",
      "BatchPredictionJob projects/1054251275628/locations/us-central1/batchPredictionJobs/4761940913792483328 current state:\n",
      "JobState.JOB_STATE_QUEUED\n",
      "BatchPredictionJob projects/1054251275628/locations/us-central1/batchPredictionJobs/4761940913792483328 current state:\n",
      "JobState.JOB_STATE_QUEUED\n",
      "BatchPredictionJob projects/1054251275628/locations/us-central1/batchPredictionJobs/4761940913792483328 current state:\n",
      "JobState.JOB_STATE_QUEUED\n",
      "BatchPredictionJob projects/1054251275628/locations/us-central1/batchPredictionJobs/4761940913792483328 current state:\n",
      "JobState.JOB_STATE_QUEUED\n",
      "BatchPredictionJob projects/1054251275628/locations/us-central1/batchPredictionJobs/4761940913792483328 current state:\n",
      "JobState.JOB_STATE_QUEUED\n",
      "BatchPredictionJob projects/1054251275628/locations/us-central1/batchPredictionJobs/4761940913792483328 current state:\n",
      "JobState.JOB_STATE_QUEUED\n",
      "BatchPredictionJob projects/1054251275628/locations/us-central1/batchPredictionJobs/4761940913792483328 current state:\n",
      "JobState.JOB_STATE_QUEUED\n",
      "BatchPredictionJob projects/1054251275628/locations/us-central1/batchPredictionJobs/4761940913792483328 current state:\n",
      "JobState.JOB_STATE_QUEUED\n",
      "BatchPredictionJob projects/1054251275628/locations/us-central1/batchPredictionJobs/4761940913792483328 current state:\n",
      "JobState.JOB_STATE_QUEUED\n",
      "BatchPredictionJob projects/1054251275628/locations/us-central1/batchPredictionJobs/4761940913792483328 current state:\n",
      "JobState.JOB_STATE_QUEUED\n",
      "BatchPredictionJob projects/1054251275628/locations/us-central1/batchPredictionJobs/4761940913792483328 current state:\n",
      "JobState.JOB_STATE_QUEUED\n",
      "BatchPredictionJob projects/1054251275628/locations/us-central1/batchPredictionJobs/4761940913792483328 current state:\n",
      "JobState.JOB_STATE_QUEUED\n",
      "BatchPredictionJob projects/1054251275628/locations/us-central1/batchPredictionJobs/4761940913792483328 current state:\n",
      "JobState.JOB_STATE_SUCCEEDED\n",
      "BatchPredictionJob run completed. Resource name: projects/1054251275628/locations/us-central1/batchPredictionJobs/4761940913792483328\n",
      "BatchPredictionJob 2024-04-01 14:55:36.624389\n",
      "projects/1054251275628/locations/us-central1/batchPredictionJobs/4761940913792483328\n",
      "JobState.JOB_STATE_SUCCEEDED\n"
     ]
    }
   ],
   "source": [
    "# from vertexai.preview.language_models import TextGenerationModel\n",
    "# text_model = TextGenerationModel.from_pretrained(\"text-bison\")\n",
    "batch_prediction_job = text_model.batch_predict(\n",
    "  # \"source_uri\" is deprecated, \"dataset\" is the new parameter \n",
    "  dataset=[DATASET_URL],\n",
    "  destination_uri_prefix=DESTINATION_URI,\n",
    "  # Optional:\n",
    "  model_parameters={\n",
    "      \"maxOutputTokens\": \"1024\",\n",
    "      \"temperature\": \"1.0\",\n",
    "      \"topP\": \"0.95\",\n",
    "      \"topK\": \"40\",\n",
    "  },\n",
    ")\n",
    "print(batch_prediction_job.display_name)\n",
    "print(batch_prediction_job.resource_name)\n",
    "print(batch_prediction_job.state)"
   ]
  },
  {
   "cell_type": "code",
   "execution_count": null,
   "id": "fe703020-9798-4822-aa48-42cf9aa2b59c",
   "metadata": {},
   "outputs": [],
   "source": []
  }
 ],
 "metadata": {
  "kernelspec": {
   "display_name": "Python 3 (ipykernel)",
   "language": "python",
   "name": "python3"
  },
  "language_info": {
   "codemirror_mode": {
    "name": "ipython",
    "version": 3
   },
   "file_extension": ".py",
   "mimetype": "text/x-python",
   "name": "python",
   "nbconvert_exporter": "python",
   "pygments_lexer": "ipython3",
   "version": "3.10.10"
  }
 },
 "nbformat": 4,
 "nbformat_minor": 5
}

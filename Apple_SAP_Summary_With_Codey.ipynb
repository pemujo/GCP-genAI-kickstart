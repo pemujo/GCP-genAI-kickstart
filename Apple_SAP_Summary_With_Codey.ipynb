{
 "cells": [
  {
   "cell_type": "markdown",
   "id": "6e1f3416-5d15-404c-9f50-8f998c073ca5",
   "metadata": {},
   "source": [
    "# Using Codey to summarize SAP ABAP files"
   ]
  },
  {
   "cell_type": "code",
   "execution_count": 10,
   "id": "1393b98a-63e5-4d3f-8a1a-ab4755da2a55",
   "metadata": {},
   "outputs": [
    {
     "name": "stdout",
     "output_type": "stream",
     "text": [
      "/Users/pemelend/local_jupyter_lab/GCP-genAI-kickstart\n"
     ]
    }
   ],
   "source": [
    "!pwd"
   ]
  },
  {
   "cell_type": "code",
   "execution_count": 1,
   "id": "458dd4a4-403c-49a1-9019-34b44522401c",
   "metadata": {},
   "outputs": [
    {
     "name": "stdout",
     "output_type": "stream",
     "text": [
      "Your browser has been opened to visit:\n",
      "\n",
      "    https://accounts.google.com/o/oauth2/auth?response_type=code&client_id=764086051850-6qr4p6gpi6hn506pt8ejuq83di341hur.apps.googleusercontent.com&redirect_uri=http%3A%2F%2Flocalhost%3A8085%2F&scope=openid+https%3A%2F%2Fwww.googleapis.com%2Fauth%2Fuserinfo.email+https%3A%2F%2Fwww.googleapis.com%2Fauth%2Fcloud-platform+https%3A%2F%2Fwww.googleapis.com%2Fauth%2Fsqlservice.login&state=tr5V5svvl9hJX987m104NNz4bxXmGa&access_type=offline&code_challenge=a-tOSzyYmLHb8U1bv9_aQDTme2JiKGbSuG_H8uA6rdk&code_challenge_method=S256\n",
      "\n",
      "\n",
      "Credentials saved to file: [/Users/pemelend/.config/gcloud/application_default_credentials.json]\n",
      "\n",
      "These credentials will be used by any library that requests Application Default Credentials (ADC).\n",
      "\n",
      "Quota project \"multi-tenancy-dataproc\" was added to ADC which can be used by Google client libraries for billing and quota. Note that some services may still bill the project owning the resource.\n",
      "\n",
      "\n",
      "Updates are available for some Google Cloud CLI components.  To install them,\n",
      "please run:\n",
      "  $ gcloud components update\n",
      "\n"
     ]
    }
   ],
   "source": [
    "# Authenticate (This should trigger oAuth to authenticate with end user's credentials using Appleconnect)\n",
    "!gcloud auth application-default login"
   ]
  },
  {
   "cell_type": "code",
   "execution_count": 2,
   "id": "eb69a585-f64a-4fd0-b049-c889022651a4",
   "metadata": {},
   "outputs": [
    {
     "name": "stdout",
     "output_type": "stream",
     "text": [
      "Using project ID: multi-tenancy-dataproc\n"
     ]
    }
   ],
   "source": [
    "# Import libraries and initialize Vertex AI client\n",
    "import vertexai\n",
    "import google.auth\n",
    "from vertexai.language_models import TextGenerationModel, CodeChatModel\n",
    "from pathlib import Path\n",
    "import pandas as pd\n",
    "import pickle5 as pickle\n",
    "import multiprocessing\n",
    "cores_available = multiprocessing.cpu_count()\n",
    "\n",
    "# Initialize Vertexai client\n",
    "## To fill out by user\n",
    "PROJECT_ID = 'multi-tenancy-dataproc' # @param {type:\"string\"}\n",
    "\n",
    "if PROJECT_ID == \"\":\n",
    "    PROJECT_ID = input(\"Enter your value: \")\n",
    "LOCATION = 'us-central1'  # @param {type:\"string\"}\n",
    "\n",
    "creds, _ = google.auth.default(quota_project_id=PROJECT_ID)\n",
    "vertexai.init(project=PROJECT_ID, location=LOCATION, credentials=creds)\n",
    "\n",
    "print(f'Using project ID: {PROJECT_ID}')"
   ]
  },
  {
   "cell_type": "code",
   "execution_count": 13,
   "id": "4cb665d0-4543-46cc-a7d6-e74dfef9b655",
   "metadata": {},
   "outputs": [
    {
     "data": {
      "text/html": [
       "<div>\n",
       "<style scoped>\n",
       "    .dataframe tbody tr th:only-of-type {\n",
       "        vertical-align: middle;\n",
       "    }\n",
       "\n",
       "    .dataframe tbody tr th {\n",
       "        vertical-align: top;\n",
       "    }\n",
       "\n",
       "    .dataframe thead th {\n",
       "        text-align: right;\n",
       "    }\n",
       "</style>\n",
       "<table border=\"1\" class=\"dataframe\">\n",
       "  <thead>\n",
       "    <tr style=\"text-align: right;\">\n",
       "      <th></th>\n",
       "      <th>File_Path</th>\n",
       "      <th>File_Name</th>\n",
       "      <th>Full_File_Name</th>\n",
       "    </tr>\n",
       "  </thead>\n",
       "  <tbody>\n",
       "    <tr>\n",
       "      <th>0</th>\n",
       "      <td>../sap_customer_programs/Large/Z_IDOC_OUTPUT_C...</td>\n",
       "      <td>Z_IDOC_OUTPUT_CARR_TO_SAP_RU.TXT</td>\n",
       "      <td>../sap_customer_programs/Large/Z_IDOC_OUTPUT_C...</td>\n",
       "    </tr>\n",
       "    <tr>\n",
       "      <th>1</th>\n",
       "      <td>../sap_customer_programs/Large/ZRPV0404</td>\n",
       "      <td>ZRPV0404.txt</td>\n",
       "      <td>../sap_customer_programs/Large/ZRPV0404/ZRPV04...</td>\n",
       "    </tr>\n",
       "    <tr>\n",
       "      <th>2</th>\n",
       "      <td>../sap_customer_programs/Medium/ZFV45VFZY01 So...</td>\n",
       "      <td>ZFV45VFZY01 Source Code.TXT</td>\n",
       "      <td>../sap_customer_programs/Medium/ZFV45VFZY01 So...</td>\n",
       "    </tr>\n",
       "    <tr>\n",
       "      <th>3</th>\n",
       "      <td>../sap_customer_programs/Medium/ZRPF_FA_SUBLEDGER</td>\n",
       "      <td>ZRPF_FA_SUBLEDGER.TXT</td>\n",
       "      <td>../sap_customer_programs/Medium/ZRPF_FA_SUBLED...</td>\n",
       "    </tr>\n",
       "    <tr>\n",
       "      <th>4</th>\n",
       "      <td>../sap_customer_programs/Medium/ZRPF_FA_SUBLED...</td>\n",
       "      <td>ZRPF_FA_SUBLEDGER-checkpoint.TXT</td>\n",
       "      <td>../sap_customer_programs/Medium/ZRPF_FA_SUBLED...</td>\n",
       "    </tr>\n",
       "  </tbody>\n",
       "</table>\n",
       "</div>"
      ],
      "text/plain": [
       "                                           File_Path  \\\n",
       "0  ../sap_customer_programs/Large/Z_IDOC_OUTPUT_C...   \n",
       "1            ../sap_customer_programs/Large/ZRPV0404   \n",
       "2  ../sap_customer_programs/Medium/ZFV45VFZY01 So...   \n",
       "3  ../sap_customer_programs/Medium/ZRPF_FA_SUBLEDGER   \n",
       "4  ../sap_customer_programs/Medium/ZRPF_FA_SUBLED...   \n",
       "\n",
       "                          File_Name  \\\n",
       "0  Z_IDOC_OUTPUT_CARR_TO_SAP_RU.TXT   \n",
       "1                      ZRPV0404.txt   \n",
       "2       ZFV45VFZY01 Source Code.TXT   \n",
       "3             ZRPF_FA_SUBLEDGER.TXT   \n",
       "4  ZRPF_FA_SUBLEDGER-checkpoint.TXT   \n",
       "\n",
       "                                      Full_File_Name  \n",
       "0  ../sap_customer_programs/Large/Z_IDOC_OUTPUT_C...  \n",
       "1  ../sap_customer_programs/Large/ZRPV0404/ZRPV04...  \n",
       "2  ../sap_customer_programs/Medium/ZFV45VFZY01 So...  \n",
       "3  ../sap_customer_programs/Medium/ZRPF_FA_SUBLED...  \n",
       "4  ../sap_customer_programs/Medium/ZRPF_FA_SUBLED...  "
      ]
     },
     "execution_count": 13,
     "metadata": {},
     "output_type": "execute_result"
    }
   ],
   "source": [
    "# Files path Variables\n",
    "cores_available = multiprocessing.cpu_count()\n",
    "\n",
    "ROOT_PATH = \"../sap_customer_programs\"\n",
    "MODEL = \"codechat-bison-32k@002\"\n",
    "PROMPT = \"\"\"You are a SAP ABAP expert. Provide a summary of the following SAP ABAP program and write output as bullets. \\n\"\"\"\n",
    "\n",
    "root_path = Path(ROOT_PATH)\n",
    "program_list = list(root_path.rglob('*.[tT][xX][tT]'))\n",
    "program_list = [[file.parent, file.name, str(file)] for file in program_list]\n",
    "program_list_df = pd.DataFrame(program_list, columns =['File_Path', 'File_Name', 'Full_File_Name'])\n",
    "program_list_df.head()"
   ]
  },
  {
   "cell_type": "code",
   "execution_count": 12,
   "id": "11b1c15d-3a77-4f09-b320-d864a02e3ce9",
   "metadata": {},
   "outputs": [],
   "source": [
    "def summarize_code_chat(full_file_name, model=MODEL, max_output_tokens= 1024, temperature = 0.3):\n",
    "\n",
    "    parameters = {\n",
    "            \"temperature\": temperature,  # Temperature controls the degree of randomness in token selection.\n",
    "            \"max_output_tokens\": max_output_tokens,  # Token limit determines the maximum amount of text output.\n",
    "        }\n",
    "\n",
    "    code_chat_model = CodeChatModel.from_pretrained(model)\n",
    "    chat = code_chat_model.start_chat()\n",
    "    # Using this line to grab only the first 2000 lines of each file and test summarizing all the files available\n",
    "    abap_code = ''.join(Path(full_file_name).read_text().splitlines(True)[:2000])\n",
    "    \n",
    "    # Below line reads the file without triming\n",
    "    # abap_code = Path(full_file_name).read_text()\n",
    "    prompt = f\"{PROMPT}{abap_code}\"\n",
    "    response = chat.send_message(\n",
    "        prompt, **parameters\n",
    "    )\n",
    "\n",
    "    return response"
   ]
  },
  {
   "cell_type": "code",
   "execution_count": 15,
   "id": "b656edb4-43c6-4fce-95f8-fa19a1ca4976",
   "metadata": {},
   "outputs": [
    {
     "name": "stdout",
     "output_type": "stream",
     "text": [
      "\n",
      " ************************ New file ******************* \n",
      "Program summarized is: ../sap_customer_programs/Small/ZUTMZCPO/ZUTMZCPO.txt \n",
      "Summary is:\n",
      "\n",
      " **Summary of the SAP ABAP program:**\n",
      "\n",
      "This SAP ABAP program, named \"ZUTMZCPO\", is designed to automate a series of tasks related to the processing of outbound deliveries and related documents. It focuses specifically on handling the following steps:\n",
      "\n",
      "1. **Checking the Status:** The program begins by checking the status of a given delivery document (identified by its unique identifier \"w_ibdeliv\") to ensure that it's not already being processed or completed. If the status check passes, the program proceeds with subsequent steps.\n",
      "\n",
      "2. **Data Retrieval:** The program retrieves relevant data from various SAP tables to gather information about the delivery document, purchase orders, and material documents associated with it. This data includes details such as material numbers, quantities, plants, storage locations, and more.\n",
      "\n",
      "3. **Goods Receipt (GR) Creation:** The program creates a goods receipt (GR) document for the materials listed in the delivery document. It determines the appropriate movement type based on specific conditions and creates the GR using the BAPI_GOODSMVT_CREATE function module.\n",
      "\n",
      "4. **GR Posting and Follow-up Actions:** After successfully creating the GR document, the program posts it and performs subsequent tasks. These tasks include updating the status of the delivery document, sending notifications, and initiating the creation of subsequent documents such as outbound deliveries and picking lists.\n",
      "\n",
      "5. **Error Handling and Reporting:** Throughout the execution of the program, it continuously checks for errors and exceptions. If any errors occur, the program captures the error details and updates an internal error table. It also generates appropriate system messages and sends email notifications to designated recipients.\n",
      "\n",
      "6. **Additional Processing:** The program performs additional tasks such as checking for Advanced Shipping Notification (ASN) data, updating delivery-related status fields, and creating records in the ZTSHPMTRACKER table for shipment tracking purposes.\n",
      "\n",
      "7. **Final Steps:** Finally, the program commits all changes to the database and provides feedback to the user through system messages, indicating the success or failure of the overall process.\n",
      "\n",
      "This program serves as a comprehensive tool for automating the processing of outbound deliveries, ensuring efficient and accurate handling of goods receipt, delivery creation, and related tasks within the SAP system.\n",
      "\n",
      " ************************ New file ******************* \n",
      "Program summarized is: ../sap_customer_programs/Small/zutv_upd_gtsblk_status/zutv_upd_gtsblk_status.txt \n",
      "Summary is:\n",
      "\n",
      " **Summary of the SAP ABAP program:**\n",
      "\n",
      "This ABAP program is designed to modify select options, retrieve and process data, and update ECC tables based on user inputs and selection criteria. It includes methods for modifying select options, getting blocked records, processing data, displaying an ALV report, updating ECC tables, and performing various validations and checks.\n",
      "\n",
      "**Key features and functionalities of the program:**\n",
      "\n",
      "1. **Modifying Select Options (MODIFY_SELECT_OPTION method):**\n",
      "   - Sets up restrictions and conditions for select options to filter data based on specific criteria.\n",
      "\n",
      "2. **Retrieving Data (GET_DATA method):**\n",
      "   - Fetches data from the ZTG_GTS_LINESTAT table based on selection criteria and sorts the results.\n",
      "   - Calls the GET_BLOCKED_RECORDS method to identify blocked records.\n",
      "\n",
      "3. **Processing Data (PROCESS_DATA method):**\n",
      "   - Processes the retrieved data and performs various checks and calculations.\n",
      "   - Fills header information and partner data for each record.\n",
      "   - Calls external functions to convert data and perform additional processing.\n",
      "\n",
      "4. **Displaying ALV Report (DISPLAY_ALV_REPORT method):**\n",
      "   - Generates an ALV report to display the processed data in a user-friendly format.\n",
      "\n",
      "5. **Updating ECC Tables (UPDATE_ECC_TABLES method):**\n",
      "   - Updates the ZTG_EXP_DATA_LINE and ZTG_GTS_LINESTAT tables with the processed data.\n",
      "\n",
      "6. **Getting Blocked Records (GET_BLOCKED_RECORDS method):**\n",
      "   - Identifies blocked records based on specific status codes and filters them out from the data.\n",
      "\n",
      "7. **Additional Methods:**\n",
      "   - GET_POSNR: Determines the position number for a given item status.\n",
      "   - FILL_HEADER: Populates header information for each record.\n",
      "   - DATA_VALIDATION: Performs data validation and checks for user inputs.\n",
      "   - BUILD_CAT: Sets up field catalog and event handlers for the ALV report.\n",
      "   - FOC_ORDERS: Submits a report to distribute FOC orders.\n",
      "\n",
      "This program provides a comprehensive set of functionalities to retrieve, process, and update data related to sales orders, contracts, and purchase orders in the SAP system. It ensures data accuracy and integrity while providing users with relevant information through the ALV report.\n",
      "completed in 16.221690893173218 seconds\n"
     ]
    }
   ],
   "source": [
    "import concurrent.futures\n",
    "import urllib.request\n",
    "import time\n",
    "\n",
    "# This line filters only programs in the Small folder\n",
    "full_file_names = program_list_df.Full_File_Name[program_list_df['Full_File_Name'].str.contains(\"Small\")].to_list()\n",
    "\n",
    "# full_file_names = program_list_df.Full_File_Name.to_list()\n",
    "\n",
    "curr_time = time.time()\n",
    "with concurrent.futures.ThreadPoolExecutor(max_workers=cores_available) as executor:\n",
    "    # Start the operations \n",
    "    future_to_summarize = {executor.submit(summarize_code_chat, full_file_name): full_file_name for full_file_name in full_file_names}\n",
    "\n",
    "    for future in concurrent.futures.as_completed(future_to_summarize):\n",
    "        program = future_to_summarize[future]\n",
    "        try:\n",
    "            data = future.result()\n",
    "        except Exception as exc:\n",
    "            print('\\n\\n %r generated an exception: %s' % (full_file_names, exc))\n",
    "        else:\n",
    "            print(f'\\n ************************ New file ******************* \\nProgram summarized is: {program} \\nSummary is:\\n\\n{data.text[:]}')\n",
    "print(f\"completed in {time.time() - curr_time} seconds\")"
   ]
  },
  {
   "cell_type": "code",
   "execution_count": null,
   "id": "828442f7-526d-4227-9539-39eaa23860d2",
   "metadata": {},
   "outputs": [],
   "source": []
  }
 ],
 "metadata": {
  "kernelspec": {
   "display_name": "Python 3 (ipykernel)",
   "language": "python",
   "name": "python3"
  },
  "language_info": {
   "codemirror_mode": {
    "name": "ipython",
    "version": 3
   },
   "file_extension": ".py",
   "mimetype": "text/x-python",
   "name": "python",
   "nbconvert_exporter": "python",
   "pygments_lexer": "ipython3",
   "version": "3.10.10"
  }
 },
 "nbformat": 4,
 "nbformat_minor": 5
}

{
 "cells": [
  {
   "cell_type": "markdown",
   "id": "6e1f3416-5d15-404c-9f50-8f998c073ca5",
   "metadata": {},
   "source": [
    "# Using Codey to summarize SAP ABAP files"
   ]
  },
  {
   "cell_type": "code",
   "execution_count": 10,
   "id": "1393b98a-63e5-4d3f-8a1a-ab4755da2a55",
   "metadata": {},
   "outputs": [
    {
     "name": "stdout",
     "output_type": "stream",
     "text": [
      "/Users/pemelend/local_jupyter_lab/GCP-genAI-kickstart\n"
     ]
    }
   ],
   "source": [
    "!pwd"
   ]
  },
  {
   "cell_type": "code",
   "execution_count": 1,
   "id": "458dd4a4-403c-49a1-9019-34b44522401c",
   "metadata": {},
   "outputs": [],
   "source": [
    "# Authenticate (This should trigger oAuth to authenticate with end user's credentials using Appleconnect)\n",
    "!gcloud auth application-default login"
   ]
  },
  {
   "cell_type": "code",
   "execution_count": 2,
   "id": "eb69a585-f64a-4fd0-b049-c889022651a4",
   "metadata": {},
   "outputs": [
    {
     "name": "stdout",
     "output_type": "stream",
     "text": [
      "Using project ID: multi-tenancy-dataproc\n"
     ]
    }
   ],
   "source": [
    "# Import libraries and initialize Vertex AI client\n",
    "import vertexai\n",
    "import google.auth\n",
    "from vertexai.language_models import TextGenerationModel, CodeChatModel\n",
    "from pathlib import Path\n",
    "import pandas as pd\n",
    "import pickle5 as pickle\n",
    "import multiprocessing\n",
    "cores_available = multiprocessing.cpu_count()\n",
    "\n",
    "# Initialize Vertexai client\n",
    "## To fill out by user\n",
    "PROJECT_ID = 'multi-tenancy-dataproc' # @param {type:\"string\"}\n",
    "\n",
    "if PROJECT_ID == \"\":\n",
    "    PROJECT_ID = input(\"Enter your value: \")\n",
    "LOCATION = 'us-central1'  # @param {type:\"string\"}\n",
    "\n",
    "creds, _ = google.auth.default(quota_project_id=PROJECT_ID)\n",
    "vertexai.init(project=PROJECT_ID, location=LOCATION, credentials=creds)\n",
    "\n",
    "print(f'Using project ID: {PROJECT_ID}')"
   ]
  },
  {
   "cell_type": "code",
   "execution_count": 13,
   "id": "4cb665d0-4543-46cc-a7d6-e74dfef9b655",
   "metadata": {},
   "outputs": [
    {
     "data": {
      "text/html": [
       "<div>\n",
       "<style scoped>\n",
       "    .dataframe tbody tr th:only-of-type {\n",
       "        vertical-align: middle;\n",
       "    }\n",
       "\n",
       "    .dataframe tbody tr th {\n",
       "        vertical-align: top;\n",
       "    }\n",
       "\n",
       "    .dataframe thead th {\n",
       "        text-align: right;\n",
       "    }\n",
       "</style>\n",
       "<table border=\"1\" class=\"dataframe\">\n",
       "  <thead>\n",
       "    <tr style=\"text-align: right;\">\n",
       "      <th></th>\n",
       "      <th>File_Path</th>\n",
       "      <th>File_Name</th>\n",
       "      <th>Full_File_Name</th>\n",
       "    </tr>\n",
       "  </thead>\n",
       "  <tbody>\n",
       "    <tr>\n",
       "      <th>0</th>\n",
       "      <td>../sap_customer_programs/Large/Z_IDOC_OUTPUT_C...</td>\n",
       "      <td>Z_IDOC_OUTPUT_CARR_TO_SAP_RU.TXT</td>\n",
       "      <td>../sap_customer_programs/Large/Z_IDOC_OUTPUT_C...</td>\n",
       "    </tr>\n",
       "    <tr>\n",
       "      <th>1</th>\n",
       "      <td>../sap_customer_programs/Large/ZRPV0404</td>\n",
       "      <td>ZRPV0404.txt</td>\n",
       "      <td>../sap_customer_programs/Large/ZRPV0404/ZRPV04...</td>\n",
       "    </tr>\n",
       "    <tr>\n",
       "      <th>2</th>\n",
       "      <td>../sap_customer_programs/Medium/ZFV45VFZY01 So...</td>\n",
       "      <td>ZFV45VFZY01 Source Code.TXT</td>\n",
       "      <td>../sap_customer_programs/Medium/ZFV45VFZY01 So...</td>\n",
       "    </tr>\n",
       "    <tr>\n",
       "      <th>3</th>\n",
       "      <td>../sap_customer_programs/Medium/ZRPF_FA_SUBLEDGER</td>\n",
       "      <td>ZRPF_FA_SUBLEDGER.TXT</td>\n",
       "      <td>../sap_customer_programs/Medium/ZRPF_FA_SUBLED...</td>\n",
       "    </tr>\n",
       "    <tr>\n",
       "      <th>4</th>\n",
       "      <td>../sap_customer_programs/Medium/ZRPF_FA_SUBLED...</td>\n",
       "      <td>ZRPF_FA_SUBLEDGER-checkpoint.TXT</td>\n",
       "      <td>../sap_customer_programs/Medium/ZRPF_FA_SUBLED...</td>\n",
       "    </tr>\n",
       "  </tbody>\n",
       "</table>\n",
       "</div>"
      ],
      "text/plain": [
       "                                           File_Path  \\\n",
       "0  ../sap_customer_programs/Large/Z_IDOC_OUTPUT_C...   \n",
       "1            ../sap_customer_programs/Large/ZRPV0404   \n",
       "2  ../sap_customer_programs/Medium/ZFV45VFZY01 So...   \n",
       "3  ../sap_customer_programs/Medium/ZRPF_FA_SUBLEDGER   \n",
       "4  ../sap_customer_programs/Medium/ZRPF_FA_SUBLED...   \n",
       "\n",
       "                          File_Name  \\\n",
       "0  Z_IDOC_OUTPUT_CARR_TO_SAP_RU.TXT   \n",
       "1                      ZRPV0404.txt   \n",
       "2       ZFV45VFZY01 Source Code.TXT   \n",
       "3             ZRPF_FA_SUBLEDGER.TXT   \n",
       "4  ZRPF_FA_SUBLEDGER-checkpoint.TXT   \n",
       "\n",
       "                                      Full_File_Name  \n",
       "0  ../sap_customer_programs/Large/Z_IDOC_OUTPUT_C...  \n",
       "1  ../sap_customer_programs/Large/ZRPV0404/ZRPV04...  \n",
       "2  ../sap_customer_programs/Medium/ZFV45VFZY01 So...  \n",
       "3  ../sap_customer_programs/Medium/ZRPF_FA_SUBLED...  \n",
       "4  ../sap_customer_programs/Medium/ZRPF_FA_SUBLED...  "
      ]
     },
     "execution_count": 13,
     "metadata": {},
     "output_type": "execute_result"
    }
   ],
   "source": [
    "# Files path Variables\n",
    "cores_available = multiprocessing.cpu_count()\n",
    "\n",
    "ROOT_PATH = \"../sap_customer_programs\"\n",
    "MODEL = \"codechat-bison-32k@002\"\n",
    "PROMPT = \"\"\"You are a SAP ABAP expert. Provide a summary of the following SAP ABAP program and write output as bullets. \\n\"\"\"\n",
    "\n",
    "root_path = Path(ROOT_PATH)\n",
    "program_list = list(root_path.rglob('*.[tT][xX][tT]'))\n",
    "program_list = [[file.parent, file.name, str(file)] for file in program_list]\n",
    "program_list_df = pd.DataFrame(program_list, columns =['File_Path', 'File_Name', 'Full_File_Name'])\n",
    "program_list_df.head()"
   ]
  },
  {
   "cell_type": "code",
   "execution_count": 12,
   "id": "11b1c15d-3a77-4f09-b320-d864a02e3ce9",
   "metadata": {},
   "outputs": [],
   "source": [
    "def summarize_code_chat(full_file_name, model=MODEL, max_output_tokens= 1024, temperature = 0.3):\n",
    "\n",
    "    parameters = {\n",
    "            \"temperature\": temperature,  # Temperature controls the degree of randomness in token selection.\n",
    "            \"max_output_tokens\": max_output_tokens,  # Token limit determines the maximum amount of text output.\n",
    "        }\n",
    "\n",
    "    code_chat_model = CodeChatModel.from_pretrained(model)\n",
    "    chat = code_chat_model.start_chat()\n",
    "    \n",
    "    # Using this line to grab only the first 2000 lines of each file and test summarizing all the files available\n",
    "    abap_code = ''.join(Path(full_file_name).read_text().splitlines(True)[:2000])\n",
    "    \n",
    "\n",
    "    prompt = f\"{PROMPT}{abap_code}\"\n",
    "    response = chat.send_message(\n",
    "        prompt, **parameters\n",
    "    )\n",
    "\n",
    "    return response\n",
    "\n",
    "\n",
    "from langchain_core.prompts import ChatPromptTemplate\n",
    "from langchain_google_vertexai import ChatVertexAI\n",
    "# small_abap_pgm = Path(\"../sap_customer_programs/Small/zutv_upd_gtsblk_status/zutv_upd_gtsblk_status.txt\").read_text()\n",
    "small_abap_pgm = ''.join(Path(\"../sap_customer_programs/Large/ZRPV0404/ZRPV0404.txt\").read_text().splitlines(True)[:2262])\n",
    "\n",
    "chat = ChatVertexAI(\n",
    "    model_name=\"codechat-bison-32k\", max_output_tokens=1000, temperature=0.3\n",
    ")\n",
    "\n",
    "message = chat.invoke(f\"{PROMPT}{small_abap_pgm}\")\n",
    "print(message.content)"
   ]
  },
  {
   "cell_type": "code",
   "execution_count": 15,
   "id": "b656edb4-43c6-4fce-95f8-fa19a1ca4976",
   "metadata": {
    "scrolled": true
   },
   "outputs": [
    {
     "name": "stdout",
     "output_type": "stream",
     "text": [
      "\n",
      " ************************ New file ******************* \n",
      "Program summarized is: ../sap_customer_programs/Small/ZUTMZCPO/ZUTMZCPO.txt \n",
      "Summary is:\n",
      "\n",
      " **Summary of the SAP ABAP program:**\n",
      "\n",
      "This SAP ABAP program, named \"ZUTMZCPO\", is designed to automate a series of tasks related to the processing of outbound deliveries and related documents. It focuses specifically on handling the following steps:\n",
      "\n",
      "1. **Checking the Status:** The program begins by checking the status of a given delivery document (identified by its unique identifier \"w_ibdeliv\") to ensure that it's not already being processed or completed. If the status check passes, the program proceeds with subsequent steps.\n",
      "\n",
      "2. **Data Retrieval:** The program retrieves relevant data from various SAP tables to gather information about the delivery document, purchase orders, and material documents associated with it. This data includes details such as material numbers, quantities, plants, storage locations, and more.\n",
      "\n",
      "3. **Goods Receipt (GR) Creation:** The program creates a goods receipt (GR) document for the materials listed in the delivery document. It determines the appropriate movement type based on specific conditions and creates the GR using the BAPI_GOODSMVT_CREATE function module.\n",
      "\n",
      "4. **GR Posting and Follow-up Actions:** After successfully creating the GR document, the program posts it and performs subsequent tasks. These tasks include updating the status of the delivery document, sending notifications, and initiating the creation of subsequent documents such as outbound deliveries and picking lists.\n",
      "\n",
      "5. **Error Handling and Reporting:** Throughout the execution of the program, it continuously checks for errors and exceptions. If any errors occur, the program captures the error details and updates an internal error table. It also generates appropriate system messages and sends email notifications to designated recipients.\n",
      "\n",
      "6. **Additional Processing:** The program performs additional tasks such as checking for Advanced Shipping Notification (ASN) data, updating delivery-related status fields, and creating records in the ZTSHPMTRACKER table for shipment tracking purposes.\n",
      "\n",
      "7. **Final Steps:** Finally, the program commits all changes to the database and provides feedback to the user through system messages, indicating the success or failure of the overall process.\n",
      "\n",
      "This program serves as a comprehensive tool for automating the processing of outbound deliveries, ensuring efficient and accurate handling of goods receipt, delivery creation, and related tasks within the SAP system.\n",
      "\n",
      " ************************ New file ******************* \n",
      "Program summarized is: ../sap_customer_programs/Small/zutv_upd_gtsblk_status/zutv_upd_gtsblk_status.txt \n",
      "Summary is:\n",
      "\n",
      " **Summary of the SAP ABAP program:**\n",
      "\n",
      "This ABAP program is designed to modify select options, retrieve and process data, and update ECC tables based on user inputs and selection criteria. It includes methods for modifying select options, getting blocked records, processing data, displaying an ALV report, updating ECC tables, and performing various validations and checks.\n",
      "\n",
      "**Key features and functionalities of the program:**\n",
      "\n",
      "1. **Modifying Select Options (MODIFY_SELECT_OPTION method):**\n",
      "   - Sets up restrictions and conditions for select options to filter data based on specific criteria.\n",
      "\n",
      "2. **Retrieving Data (GET_DATA method):**\n",
      "   - Fetches data from the ZTG_GTS_LINESTAT table based on selection criteria and sorts the results.\n",
      "   - Calls the GET_BLOCKED_RECORDS method to identify blocked records.\n",
      "\n",
      "3. **Processing Data (PROCESS_DATA method):**\n",
      "   - Processes the retrieved data and performs various checks and calculations.\n",
      "   - Fills header information and partner data for each record.\n",
      "   - Calls external functions to convert data and perform additional processing.\n",
      "\n",
      "4. **Displaying ALV Report (DISPLAY_ALV_REPORT method):**\n",
      "   - Generates an ALV report to display the processed data in a user-friendly format.\n",
      "\n",
      "5. **Updating ECC Tables (UPDATE_ECC_TABLES method):**\n",
      "   - Updates the ZTG_EXP_DATA_LINE and ZTG_GTS_LINESTAT tables with the processed data.\n",
      "\n",
      "6. **Getting Blocked Records (GET_BLOCKED_RECORDS method):**\n",
      "   - Identifies blocked records based on specific status codes and filters them out from the data.\n",
      "\n",
      "7. **Additional Methods:**\n",
      "   - GET_POSNR: Determines the position number for a given item status.\n",
      "   - FILL_HEADER: Populates header information for each record.\n",
      "   - DATA_VALIDATION: Performs data validation and checks for user inputs.\n",
      "   - BUILD_CAT: Sets up field catalog and event handlers for the ALV report.\n",
      "   - FOC_ORDERS: Submits a report to distribute FOC orders.\n",
      "\n",
      "This program provides a comprehensive set of functionalities to retrieve, process, and update data related to sales orders, contracts, and purchase orders in the SAP system. It ensures data accuracy and integrity while providing users with relevant information through the ALV report.\n",
      "completed in 16.221690893173218 seconds\n"
     ]
    }
   ],
   "source": [
    "import concurrent.futures\n",
    "import urllib.request\n",
    "import time\n",
    "\n",
    "# This line filters only programs in the Small folder\n",
    "full_file_names = program_list_df.Full_File_Name[program_list_df['Full_File_Name'].str.contains(\"Small\")].to_list()\n",
    "\n",
    "# full_file_names = program_list_df.Full_File_Name.to_list()\n",
    "\n",
    "curr_time = time.time()\n",
    "with concurrent.futures.ThreadPoolExecutor(max_workers=cores_available) as executor:\n",
    "    # Start the operations \n",
    "    future_to_summarize = {executor.submit(summarize_code_chat, full_file_name): full_file_name for full_file_name in full_file_names}\n",
    "\n",
    "    for future in concurrent.futures.as_completed(future_to_summarize):\n",
    "        program = future_to_summarize[future]\n",
    "        try:\n",
    "            data = future.result()\n",
    "        except Exception as exc:\n",
    "            print('\\n\\n %r generated an exception: %s' % (full_file_names, exc))\n",
    "        else:\n",
    "            print(f'\\n ************************ New file ******************* \\nProgram summarized is: {program} \\nSummary is:\\n\\n{data.text[:]}')\n",
    "print(f\"\\n Summarization completed in {time.time() - curr_time} seconds\")"
   ]
  },
  {
   "cell_type": "code",
   "execution_count": 3,
   "id": "1d5bb404-2c5d-4b59-96ff-e037a21a2a4b",
   "metadata": {},
   "outputs": [
    {
     "name": "stdout",
     "output_type": "stream",
     "text": [
      "A Record :  34.218.62.116\n"
     ]
    },
    {
     "name": "stderr",
     "output_type": "stream",
     "text": [
      "/var/folders/ny/mh9psmys4xsfh16x4b7c7jlw00ll23/T/ipykernel_8837/728754193.py:5: DeprecationWarning: please use dns.resolver.resolve() instead\n",
      "  result = dns.resolver.query('geeksforgeeks.org', 'A')\n"
     ]
    }
   ],
   "source": [
    "# Import libraries \n",
    "import dns.resolver \n",
    "  \n",
    "# Finding A record \n",
    "result = dns.resolver.query('geeksforgeeks.org', 'A') \n",
    "  \n",
    "# Printing record \n",
    "for val in result: \n",
    "    print('A Record : ', val.to_text())"
   ]
  },
  {
   "cell_type": "code",
   "execution_count": 1,
   "id": "be1113b6-b3c6-408d-b5c5-b35e8101c293",
   "metadata": {},
   "outputs": [
    {
     "ename": "ModuleNotFoundError",
     "evalue": "No module named 'dnspython'",
     "output_type": "error",
     "traceback": [
      "\u001b[0;31m---------------------------------------------------------------------------\u001b[0m",
      "\u001b[0;31mModuleNotFoundError\u001b[0m                       Traceback (most recent call last)",
      "Cell \u001b[0;32mIn[1], line 1\u001b[0m\n\u001b[0;32m----> 1\u001b[0m \u001b[38;5;28;01mimport\u001b[39;00m \u001b[38;5;21;01mdnspython\u001b[39;00m \u001b[38;5;28;01mas\u001b[39;00m \u001b[38;5;21;01mdns\u001b[39;00m\n\u001b[1;32m      2\u001b[0m \u001b[38;5;28;01mimport\u001b[39;00m \u001b[38;5;21;01mdns\u001b[39;00m\u001b[38;5;21;01m.\u001b[39;00m\u001b[38;5;21;01mresolver\u001b[39;00m\n\u001b[1;32m      4\u001b[0m result \u001b[38;5;241m=\u001b[39m dns\u001b[38;5;241m.\u001b[39mresolver\u001b[38;5;241m.\u001b[39mquery(\u001b[38;5;124m'\u001b[39m\u001b[38;5;124mtutorialspoint.com\u001b[39m\u001b[38;5;124m'\u001b[39m, \u001b[38;5;124m'\u001b[39m\u001b[38;5;124mA\u001b[39m\u001b[38;5;124m'\u001b[39m)\n",
      "\u001b[0;31mModuleNotFoundError\u001b[0m: No module named 'dnspython'"
     ]
    }
   ],
   "source": [
    "import dnspython as dns\n",
    "import dns.resolver\n",
    "\n",
    "result = dns.resolver.query('tutorialspoint.com', 'A')\n",
    "for ipval in result:\n",
    "    print('IP', ipval.to_text())"
   ]
  },
  {
   "cell_type": "code",
   "execution_count": 2,
   "id": "4400a313-15ce-4cd6-bdfd-aaf4603d8ca7",
   "metadata": {},
   "outputs": [
    {
     "name": "stdout",
     "output_type": "stream",
     "text": [
      "ping 'google.com' ... 16ms\n",
      "ping 'google.com' ... 16ms\n",
      "ping 'google.com' ... 14ms\n",
      "ping 'google.com' ... 17ms\n"
     ]
    }
   ],
   "source": [
    "from ping3 import ping, verbose_ping\n",
    "verbose_ping('google.com')  # Returns delay in seconds.\n"
   ]
  },
  {
   "cell_type": "markdown",
   "id": "58081094-c109-415c-b746-40246cad6e67",
   "metadata": {},
   "source": [
    "# Langchain\n"
   ]
  },
  {
   "cell_type": "markdown",
   "id": "6379ef48-307b-46f9-a02f-54b4e3accfc1",
   "metadata": {},
   "source": [
    "### Using Langchain to summarize a single file with codechat-bison-32k"
   ]
  },
  {
   "cell_type": "code",
   "execution_count": 144,
   "id": "fd653c2c-09c1-4a2b-ae17-848b744d80e1",
   "metadata": {},
   "outputs": [
    {
     "name": "stdout",
     "output_type": "stream",
     "text": [
      " The code you provided is an ABAP program that performs a series of tasks related to the processing and matching of sales orders and purchase orders in SAP. Here's a summary of what the code does:\n",
      "\n",
      "**Initialization and Data Retrieval**:\n",
      "- The program starts by initializing various internal tables and data structures.\n",
      "- It then retrieves data from custom tables and SAP standard tables related to sales orders, purchase orders, and open sales orders.\n",
      "\n",
      "**Matching Process**:\n",
      "- The program attempts to match cancelled sales orders (with CIDs) with open sales orders based on various criteria such as material number, plant, storage location, and sales organization.\n",
      "- It uses a series of loops and comparisons to find potential matches.\n",
      "\n",
      "**Processing Matched Orders**:\n",
      "- For each matched order, the program performs various actions:\n",
      "  - It updates the custom table with the matched order information.\n",
      "  - It closes the purchase requisition for the new order line item.\n",
      "  - It performs stock movement from the cancelled order to the matched order.\n",
      "  - It creates a delivery for the matched order.\n",
      "  - It adds a text to the new sales order line item indicating the match.\n",
      "  - It updates the status of the matched order in the custom table.\n",
      "\n",
      "**Error Handling**:\n",
      "- The program checks for errors during the processing and updates the custom table with error messages if any occur.\n",
      "\n",
      "**Reporting**:\n",
      "- Finally, the program generates a report that includes details of the matched orders, errors encountered, and statistics related to the matching process.\n",
      "\n",
      "This code is specific to SAP and is designed to automate certain tasks related to order processing and matching within the SAP system. It involves complex data manipulation, table updates, and interactions with various SAP transactions.\n"
     ]
    }
   ],
   "source": [
    "# Using Langchain to summarize a single file with codechat-bison-32k\n",
    "from langchain_core.prompts import ChatPromptTemplate\n",
    "from langchain_google_vertexai import ChatVertexAI\n",
    "# small_abap_pgm = Path(\"../sap_customer_programs/Small/zutv_upd_gtsblk_status/zutv_upd_gtsblk_status.txt\").read_text()\n",
    "\n",
    "small_abap_pgm = ''.join(Path(\"../sap_customer_programs/Large/ZRPV0404/ZRPV0404.txt\").read_text().splitlines(True)[:2306])\n",
    "\n",
    "chat = ChatVertexAI(\n",
    "    model_name=\"codechat-bison-32k\", max_output_tokens=1000, temperature=0.3\n",
    ")\n",
    "\n",
    "message = chat.invoke(f\"{PROMPT}{small_abap_pgm}\")\n",
    "print(message.content)"
   ]
  },
  {
   "cell_type": "markdown",
   "id": "4b84fce3-91d9-40c2-894e-2fdbdb3ab48b",
   "metadata": {},
   "source": [
    "### Langchain using map and reduce chain breaking down a bigger ABAP file"
   ]
  },
  {
   "cell_type": "code",
   "execution_count": 145,
   "id": "9e460327-6057-44f5-8e26-d9d49ff67355",
   "metadata": {},
   "outputs": [
    {
     "name": "stdout",
     "output_type": "stream",
     "text": [
      " **Merged Summary**\n",
      "\n",
      "The SAP ABAP program performs various tasks related to sales orders, purchase orders, and production orders. It includes functions for adjusting quantities, finding open records, retrieving data from related tables, calculating differences, creating and modifying purchase orders, reprocessing failed orders, creating deliveries, adding text to documents, updating audit tables, checking for matched orders, closing production orders, filtering matched orders, deleting production orders, getting customer groups, checking plant authorization, performing sales order authorization, and updating the status of records.\n",
      "\n",
      "The program updates the ZT426 table with adjusted quantities, new records, and status changes. It creates or modifies purchase orders, creates deliveries, adds text to documents, updates audit tables with information about actions performed and errors encountered, filters and deletes matched orders based on criteria, performs authorization checks for plants and sales orders, and updates the status of matched orders. The specific output depends on the input data and actions performed by the program.\n",
      "\n",
      "**Forms:**\n",
      "\n",
      "**MATCH_LESSQTY**: Compares two fields, sets status, updates records, writes audit records, and updates the ZT426 table.\n",
      "\n",
      "**ADJUST_ZT426**: Updates the ZT426 table with adjusted quantities, dates, times, and usernames.\n",
      "\n",
      "**GET_ZRITM**: Selects a single record from the ZRITM table based on specified fields.\n",
      "\n",
      "**GET_DIFF**: Calculates the difference between two values.\n"
     ]
    }
   ],
   "source": [
    "from langchain.chains.combine_documents.stuff import StuffDocumentsChain\n",
    "from langchain.chains import MapReduceDocumentsChain, ReduceDocumentsChain\n",
    "from langchain.chains.llm import LLMChain\n",
    "from langchain.prompts import PromptTemplate\n",
    "from langchain.text_splitter import CharacterTextSplitter, RecursiveCharacterTextSplitter\n",
    "from langchain_google_vertexai import VertexAI as Lang_VertexAI\n",
    "\n",
    "# This is a long document we need to split up in chunks.\n",
    "abap_pgm_large = Path(\"../sap_customer_programs/Large/ZRPV0404/ZRPV0404.txt\").read_text()\n",
    "# abap_pgm_large = ''.join(Path(\"../sap_customer_programs/Large/ZRPV0404/ZRPV0404.txt\").read_text().splitlines(True)[:2300])\n",
    "\n",
    "\n",
    "\n",
    "# The splitter needed to be specifically after finding this separator\n",
    "text_splitter = RecursiveCharacterTextSplitter(\n",
    "    separators=[\"*&---------------------------------------------------------------------*\"],\n",
    "    chunk_size=80000,\n",
    "    chunk_overlap=0,\n",
    "    length_function=len,\n",
    "    is_separator_regex=False\n",
    ")\n",
    "\n",
    "pgm_chunks = text_splitter.create_documents([abap_pgm_large])\n",
    "\n",
    "\n",
    "\n",
    "# Map\n",
    "map_template = \"\"\"You are a SAP ABAP expert. The following are sections of an SAP ABAP program, \n",
    "provide a summary and write output as bullets: {docs} \"\"\"\n",
    "map_prompt = PromptTemplate.from_template(map_template)\n",
    "\n",
    "# Map chain with codechat-bison\n",
    "chat_llm = ChatVertexAI(\n",
    "    model_name=\"codechat-bison-32k\", max_output_tokens=1024, temperature=0.3\n",
    ")\n",
    "map_chain = LLMChain(llm=chat, prompt=map_prompt)\n",
    "\n",
    "\n",
    "# Reduce\n",
    "reduce_template = \"\"\"\n",
    "Merge the following summaries of an SAP ABAP program: {docs} \n",
    "\"\"\"\n",
    "reduce_prompt = PromptTemplate.from_template(reduce_template)\n",
    "\n",
    "\n",
    "# Reduce chain with text-bison\n",
    "# text_llm = Lang_VertexAI(model_name=\"text-bison-32k@002\", temperature=0.2)\n",
    "\n",
    "reduce_chain = LLMChain(llm=chat_llm, prompt=reduce_prompt)\n",
    "\n",
    "# Takes a list of documents, combines them into a single string, and passes this to an LLMChain\n",
    "combine_documents_chain = StuffDocumentsChain(\n",
    "    llm_chain=reduce_chain, document_variable_name=\"docs\"\n",
    ")\n",
    "\n",
    "# Combines and iteratively reduces the mapped documents\n",
    "reduce_documents_chain = ReduceDocumentsChain(\n",
    "    # This is final chain that is called.\n",
    "    combine_documents_chain=combine_documents_chain,\n",
    "    # If documents exceed context for `StuffDocumentsChain`\n",
    "    collapse_documents_chain=combine_documents_chain,\n",
    "    # The maximum number of tokens to group documents into.\n",
    "    token_max=1024,\n",
    ")\n",
    "\n",
    "\n",
    "# Combining documents by mapping a chain over them, then combining results\n",
    "map_reduce_chain = MapReduceDocumentsChain(\n",
    "    # Map chain\n",
    "    llm_chain=map_chain,\n",
    "    # Reduce chain\n",
    "    reduce_documents_chain=reduce_documents_chain,\n",
    "    # The variable name in the llm_chain to put the documents in\n",
    "    document_variable_name=\"docs\",\n",
    "    # Return the results of the map steps in the output\n",
    "    return_intermediate_steps=False,\n",
    ")\n",
    "\n",
    "chain_run = map_reduce_chain.run(pgm_chunks)\n",
    "print(chain_run)\n"
   ]
  },
  {
   "cell_type": "code",
   "execution_count": 146,
   "id": "b17c371a-64dd-4d6d-8c81-e5c476e44dd4",
   "metadata": {},
   "outputs": [
    {
     "data": {
      "text/plain": [
       "3"
      ]
     },
     "execution_count": 146,
     "metadata": {},
     "output_type": "execute_result"
    }
   ],
   "source": [
    "len(pgm_chunks)"
   ]
  },
  {
   "cell_type": "code",
   "execution_count": null,
   "id": "dd009776-7da1-419b-936f-d062e7d9ba17",
   "metadata": {},
   "outputs": [],
   "source": []
  }
 ],
 "metadata": {
  "kernelspec": {
   "display_name": "Python 3 (ipykernel)",
   "language": "python",
   "name": "python3"
  },
  "language_info": {
   "codemirror_mode": {
    "name": "ipython",
    "version": 3
   },
   "file_extension": ".py",
   "mimetype": "text/x-python",
   "name": "python",
   "nbconvert_exporter": "python",
   "pygments_lexer": "ipython3",
   "version": "3.10.10"
  }
 },
 "nbformat": 4,
 "nbformat_minor": 5
}
